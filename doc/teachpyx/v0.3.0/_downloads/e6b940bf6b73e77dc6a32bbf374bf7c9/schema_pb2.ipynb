{
  "cells": [
    {
      "cell_type": "markdown",
      "metadata": {},
      "source": [
        "Generated protocol buffer code.\n"
      ]
    },
    {
      "cell_type": "code",
      "execution_count": null,
      "metadata": {
        "collapsed": false
      },
      "outputs": [],
      "source": [
        "from google.protobuf.internal import builder as _builder\nfrom google.protobuf import descriptor as _descriptor\nfrom google.protobuf import descriptor_pool as _descriptor_pool\nfrom google.protobuf import symbol_database as _symbol_database\n# @@protoc_insertion_point(imports)\n\n_sym_db = _symbol_database.Default()\n\n\n\n\nDESCRIPTOR = _descriptor_pool.Default().AddSerializedFile(b'\\n\\x0cschema.proto\\x12\\x08tutorial\\\"\\xdb\\x01\\n\\x06Person\\x12\\x0c\\n\\x04name\\x18\\x01 \\x01(\\t\\x12\\n\\n\\x02id\\x18\\x02 \\x01(\\x05\\x12\\r\\n\\x05\\x65mail\\x18\\x03 \\x01(\\t\\x12,\\n\\x06phones\\x18\\x04 \\x03(\\x0b\\x32\\x1c.tutorial.Person.PhoneNumber\\x1aM\\n\\x0bPhoneNumber\\x12\\x0e\\n\\x06number\\x18\\x01 \\x01(\\t\\x12.\\n\\x04type\\x18\\x02 \\x01(\\x0e\\x32\\x1a.tutorial.Person.PhoneType:\\x04HOME\\\"+\\n\\tPhoneType\\x12\\n\\n\\x06MOBILE\\x10\\x00\\x12\\x08\\n\\x04HOME\\x10\\x01\\x12\\x08\\n\\x04WORK\\x10\\x02\\\"/\\n\\x0b\\x41\\x64\\x64ressBook\\x12 \\n\\x06people\\x18\\x01 \\x03(\\x0b\\x32\\x10.tutorial.Person')\n\n_globals = globals()\n_builder.BuildMessageAndEnumDescriptors(DESCRIPTOR, _globals)\n_builder.BuildTopDescriptorsAndMessages(DESCRIPTOR, 'schema_pb2', _globals)\nif _descriptor._USE_C_DESCRIPTORS == False:\n\n  DESCRIPTOR._options = None\n  _globals['_PERSON']._serialized_start=27\n  _globals['_PERSON']._serialized_end=246\n  _globals['_PERSON_PHONENUMBER']._serialized_start=124\n  _globals['_PERSON_PHONENUMBER']._serialized_end=201\n  _globals['_PERSON_PHONETYPE']._serialized_start=203\n  _globals['_PERSON_PHONETYPE']._serialized_end=246\n  _globals['_ADDRESSBOOK']._serialized_start=248\n  _globals['_ADDRESSBOOK']._serialized_end=295\n# @@protoc_insertion_point(module_scope)"
      ]
    }
  ],
  "metadata": {
    "kernelspec": {
      "display_name": "Python 3",
      "language": "python",
      "name": "python3"
    },
    "language_info": {
      "codemirror_mode": {
        "name": "ipython",
        "version": 3
      },
      "file_extension": ".py",
      "mimetype": "text/x-python",
      "name": "python",
      "nbconvert_exporter": "python",
      "pygments_lexer": "ipython3",
      "version": "3.10.6"
    }
  },
  "nbformat": 4,
  "nbformat_minor": 0
}