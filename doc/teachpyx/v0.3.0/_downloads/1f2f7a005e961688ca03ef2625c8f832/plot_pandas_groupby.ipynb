{
  "cells": [
    {
      "cell_type": "markdown",
      "metadata": {},
      "source": [
        "\n# Pandas et groupby\n \nPetit tour de passe passe autour d'un :meth:`pandas.DataFrame.groupby`\net des valeurs manquantes qui ne sont plus prises en compte\ndepuis les derni\u00e8res versions.\n\n## groupby et valeur manquantes\n"
      ]
    },
    {
      "cell_type": "code",
      "execution_count": null,
      "metadata": {
        "collapsed": false
      },
      "outputs": [],
      "source": [
        "import pandas\n\n\ndata = [{\"a\": 1, \"b\": 2}, {\"a\": 10, \"b\": 20}, {\"b\": 3}, {\"b\": 4}]\ndf = pandas.DataFrame(data)\ndf"
      ]
    },
    {
      "cell_type": "code",
      "execution_count": null,
      "metadata": {
        "collapsed": false
      },
      "outputs": [],
      "source": [
        "df.groupby(\"a\").sum()"
      ]
    },
    {
      "cell_type": "markdown",
      "metadata": {},
      "source": [
        "Les valeurs manquantes ont disparu et c'est le comportement attendu\nIl est possible de corriger le tir avec l'argument `dropna`.\n\n"
      ]
    },
    {
      "cell_type": "code",
      "execution_count": null,
      "metadata": {
        "collapsed": false
      },
      "outputs": [],
      "source": [
        "df.groupby(\"a\", dropna=False).sum()"
      ]
    }
  ],
  "metadata": {
    "kernelspec": {
      "display_name": "Python 3",
      "language": "python",
      "name": "python3"
    },
    "language_info": {
      "codemirror_mode": {
        "name": "ipython",
        "version": 3
      },
      "file_extension": ".py",
      "mimetype": "text/x-python",
      "name": "python",
      "nbconvert_exporter": "python",
      "pygments_lexer": "ipython3",
      "version": "3.10.6"
    }
  },
  "nbformat": 4,
  "nbformat_minor": 0
}