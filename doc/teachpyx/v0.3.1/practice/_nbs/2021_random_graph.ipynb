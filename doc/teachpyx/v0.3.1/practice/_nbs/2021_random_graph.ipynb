{
 "cells": [
  {
   "cell_type": "markdown",
   "id": "69e1b7d3",
   "metadata": {},
   "source": [
    "# Algo - graphes aléatoires\n",
    "\n",
    "Comment générer un graphe aléatoire... Générer une séquence de nombres aléatoires indépendants est un problème connu et plutôt bien résolu. Générer une structure aléatoire comme une graphe est aussi facile. En revanche, générer un graphe aléatoire vérifiant une propriété - la distribution des degrés - n'est pas aussi simple qu'anticipé."
   ]
  },
  {
   "cell_type": "code",
   "execution_count": 1,
   "id": "72d61704",
   "metadata": {},
   "outputs": [
    {
     "data": {
      "text/html": [
       "<div id=\"my_id_menu_nb\">run previous cell, wait for 2 seconds</div>\n",
       "<script>\n",
       "function repeat_indent_string(n){\n",
       "    var a = \"\" ;\n",
       "    for ( ; n > 0 ; --n)\n",
       "        a += \"    \";\n",
       "    return a;\n",
       "}\n",
       "// look up into all sections and builds an automated menu //\n",
       "var update_menu_string = function(begin, lfirst, llast, sformat, send, keep_item, begin_format, end_format) {\n",
       "    var anchors = document.getElementsByClassName(\"section\");\n",
       "    if (anchors.length == 0) {\n",
       "        anchors = document.getElementsByClassName(\"text_cell_render rendered_html\");\n",
       "    }\n",
       "    var i,t;\n",
       "    var text_menu = begin;\n",
       "    var text_memo = \"<pre>\\nlength:\" + anchors.length + \"\\n\";\n",
       "    var ind = \"\";\n",
       "    var memo_level = 1;\n",
       "    var href;\n",
       "    var tags = [];\n",
       "    var main_item = 0;\n",
       "    var format_open = 0;\n",
       "    for (i = 0; i <= llast; i++)\n",
       "        tags.push(\"h\" + i);\n",
       "\n",
       "    for (i = 0; i < anchors.length; i++) {\n",
       "        text_memo += \"**\" + anchors[i].id + \"--\\n\";\n",
       "\n",
       "        var child = null;\n",
       "        for(t = 0; t < tags.length; t++) {\n",
       "            var r = anchors[i].getElementsByTagName(tags[t]);\n",
       "            if (r.length > 0) {\n",
       "child = r[0];\n",
       "break;\n",
       "            }\n",
       "        }\n",
       "        if (child == null) {\n",
       "            text_memo += \"null\\n\";\n",
       "            continue;\n",
       "        }\n",
       "        if (anchors[i].hasAttribute(\"id\")) {\n",
       "            // when converted in RST\n",
       "            href = anchors[i].id;\n",
       "            text_memo += \"#1-\" + href;\n",
       "            // passer à child suivant (le chercher)\n",
       "        }\n",
       "        else if (child.hasAttribute(\"id\")) {\n",
       "            // in a notebook\n",
       "            href = child.id;\n",
       "            text_memo += \"#2-\" + href;\n",
       "        }\n",
       "        else {\n",
       "            text_memo += \"#3-\" + \"*\" + \"\\n\";\n",
       "            continue;\n",
       "        }\n",
       "        var title = child.textContent;\n",
       "        var level = parseInt(child.tagName.substring(1,2));\n",
       "\n",
       "        text_memo += \"--\" + level + \"?\" + lfirst + \"--\" + title + \"\\n\";\n",
       "\n",
       "        if ((level < lfirst) || (level > llast)) {\n",
       "            continue ;\n",
       "        }\n",
       "        if (title.endsWith('¶')) {\n",
       "            title = title.substring(0,title.length-1).replace(\"<\", \"&lt;\")\n",
       "         .replace(\">\", \"&gt;\").replace(\"&\", \"&amp;\");\n",
       "        }\n",
       "        if (title.length == 0) {\n",
       "            continue;\n",
       "        }\n",
       "\n",
       "        while (level < memo_level) {\n",
       "            text_menu += end_format + \"</ul>\\n\";\n",
       "            format_open -= 1;\n",
       "            memo_level -= 1;\n",
       "        }\n",
       "        if (level == lfirst) {\n",
       "            main_item += 1;\n",
       "        }\n",
       "        if (keep_item != -1 && main_item != keep_item + 1) {\n",
       "            // alert(main_item + \" - \" + level + \" - \" + keep_item);\n",
       "            continue;\n",
       "        }\n",
       "        while (level > memo_level) {\n",
       "            text_menu += \"<ul>\\n\";\n",
       "            memo_level += 1;\n",
       "        }\n",
       "        text_menu += repeat_indent_string(level-2);\n",
       "        text_menu += begin_format + sformat.replace(\"__HREF__\", href).replace(\"__TITLE__\", title);\n",
       "        format_open += 1;\n",
       "    }\n",
       "    while (1 < memo_level) {\n",
       "        text_menu += end_format + \"</ul>\\n\";\n",
       "        memo_level -= 1;\n",
       "        format_open -= 1;\n",
       "    }\n",
       "    text_menu += send;\n",
       "    //text_menu += \"\\n\" + text_memo;\n",
       "\n",
       "    while (format_open > 0) {\n",
       "        text_menu += end_format;\n",
       "        format_open -= 1;\n",
       "    }\n",
       "    return text_menu;\n",
       "};\n",
       "var update_menu = function() {\n",
       "    var sbegin = \"\";\n",
       "    var sformat = '<a href=\"#__HREF__\">__TITLE__</a>';\n",
       "    var send = \"\";\n",
       "    var begin_format = '<li>';\n",
       "    var end_format = '</li>';\n",
       "    var keep_item = -1;\n",
       "    var text_menu = update_menu_string(sbegin, 2, 4, sformat, send, keep_item,\n",
       "       begin_format, end_format);\n",
       "    var menu = document.getElementById(\"my_id_menu_nb\");\n",
       "    menu.innerHTML=text_menu;\n",
       "};\n",
       "window.setTimeout(update_menu,2000);\n",
       "            </script>"
      ],
      "text/plain": [
       "<IPython.core.display.HTML object>"
      ]
     },
     "execution_count": 2,
     "metadata": {},
     "output_type": "execute_result"
    }
   ],
   "source": [
    "from jyquickhelper import add_notebook_menu\n",
    "\n",
    "add_notebook_menu()"
   ]
  },
  {
   "cell_type": "code",
   "execution_count": 2,
   "id": "2078981b",
   "metadata": {},
   "outputs": [],
   "source": [
    "%matplotlib inline"
   ]
  },
  {
   "cell_type": "markdown",
   "id": "c1b0c638",
   "metadata": {},
   "source": [
    "## Graphe aléatoire - matrice d'adjacence aléatoire\n",
    "\n",
    "L'existence de chaque arc est défini par une variable binomiale de paramètre $p$."
   ]
  },
  {
   "cell_type": "code",
   "execution_count": 3,
   "id": "d076b8b7",
   "metadata": {},
   "outputs": [
    {
     "data": {
      "text/plain": [
       "array([[0, 0, 1, 0, 0, 0, 0, 0, 0, 0, 0, 0, 0, 0, 0],\n",
       "       [0, 0, 0, 0, 0, 0, 0, 0, 0, 1, 0, 0, 0, 0, 0],\n",
       "       [1, 0, 0, 0, 0, 1, 0, 0, 0, 0, 1, 0, 0, 1, 0],\n",
       "       [0, 0, 0, 0, 0, 0, 1, 0, 0, 0, 0, 0, 0, 0, 0],\n",
       "       [0, 0, 0, 0, 0, 0, 0, 1, 0, 0, 1, 0, 0, 1, 0],\n",
       "       [0, 0, 1, 0, 0, 0, 0, 0, 0, 0, 0, 0, 0, 0, 0],\n",
       "       [0, 0, 0, 1, 0, 0, 0, 0, 0, 0, 0, 0, 0, 1, 0],\n",
       "       [0, 0, 0, 0, 1, 0, 0, 0, 0, 1, 0, 0, 0, 1, 1],\n",
       "       [0, 0, 0, 0, 0, 0, 0, 0, 0, 0, 1, 0, 0, 0, 1],\n",
       "       [0, 1, 0, 0, 0, 0, 0, 1, 0, 0, 0, 0, 1, 0, 0],\n",
       "       [0, 0, 1, 0, 1, 0, 0, 0, 1, 0, 0, 0, 0, 1, 0],\n",
       "       [0, 0, 0, 0, 0, 0, 0, 0, 0, 0, 0, 0, 0, 0, 0],\n",
       "       [0, 0, 0, 0, 0, 0, 0, 0, 0, 1, 0, 0, 0, 0, 0],\n",
       "       [0, 0, 1, 0, 1, 0, 1, 1, 0, 0, 1, 0, 0, 0, 0],\n",
       "       [0, 0, 0, 0, 0, 0, 0, 1, 1, 0, 0, 0, 0, 0, 0]])"
      ]
     },
     "execution_count": 4,
     "metadata": {},
     "output_type": "execute_result"
    }
   ],
   "source": [
    "import numpy\n",
    "\n",
    "mat = numpy.random.random((15, 15))\n",
    "mat = mat + mat.T\n",
    "adja = (mat >= 1.4).astype(int)\n",
    "for i in range(adja.shape[0]):\n",
    "    adja[i, i] = 0\n",
    "adja"
   ]
  },
  {
   "cell_type": "markdown",
   "id": "0f9d2c1a",
   "metadata": {},
   "source": [
    "En le visualisant..."
   ]
  },
  {
   "cell_type": "code",
   "execution_count": 4,
   "id": "f448c29a",
   "metadata": {},
   "outputs": [
    {
     "data": {
      "image/png": "[encoded data removed]",
      "text/plain": [
       "<Figure size 288x288 with 1 Axes>"
      ]
     },
     "metadata": {},
     "output_type": "display_data"
    }
   ],
   "source": [
    "import networkx\n",
    "import matplotlib.pyplot as plt\n",
    "\n",
    "fix, ax = plt.subplots(1, 1, figsize=(4, 4))\n",
    "G = networkx.from_numpy_matrix(adja)\n",
    "networkx.draw(G, with_labels=True, ax=ax)"
   ]
  },
  {
   "cell_type": "code",
   "execution_count": 5,
   "id": "b256dd97",
   "metadata": {},
   "outputs": [
    {
     "data": {
      "text/plain": [
       "array([1, 1, 4, 1, 3, 1, 2, 4, 2, 3, 4, 0, 1, 5, 2])"
      ]
     },
     "execution_count": 6,
     "metadata": {},
     "output_type": "execute_result"
    }
   ],
   "source": [
    "degres = adja.sum(axis=1)\n",
    "degres"
   ]
  },
  {
   "cell_type": "code",
   "execution_count": 6,
   "id": "50cdcd35",
   "metadata": {},
   "outputs": [
    {
     "data": {
      "text/plain": [
       "{1: 5, 4: 3, 3: 2, 2: 3, 0: 1, 5: 1}"
      ]
     },
     "execution_count": 7,
     "metadata": {},
     "output_type": "execute_result"
    }
   ],
   "source": [
    "distrib = {}\n",
    "for d in degres:\n",
    "    if d in distrib:\n",
    "        distrib[d] += 1\n",
    "    else:\n",
    "        distrib[d] = 1\n",
    "distrib"
   ]
  },
  {
   "cell_type": "markdown",
   "id": "4d008768",
   "metadata": {},
   "source": [
    "## Vocabulaire lié aux graphes\n",
    "\n",
    "* **arc (ou edge en anglais)** : lien liant deux noeuds, il peut être **orienté** ou non, s'il est orienté, les deux extrémités ne jouent pas le même rôle, l'arc ne peut être \"parcouru\" que de la première extrémité vers la seconde.\n",
    "* **noeud (vertex en anglais)** : élément du graphe\n",
    "* **graphe** : un graphe est défini par un ensemble de noeuds et un ensemble d'arcs\n",
    "* **matrice d'adjacence** : matrice binaire de dimension $N \\times N$, $A=(a_{ij})_{ij}$ et $a_{ij} = 1$ s'il existe un arc reliant le noeud *i* à *j*, 0 sinon.\n",
    "* **chemin** : séquence de noeuds et d'arcs appartenant au graphe\n",
    "* **prédécesseur et successeur** : si un arc orienté relie les noeuds *i* à *j*, *i* est le prédecesseur de *j*, *j* est le successeur de *i*. Par extension, si *i* apparaît toujours avec *j* dans tous les chemins possibles du graphes, *i* est un prédecesseur de *j*.\n",
    "* **arbre** : cas particulier des graphes orientés, il existe un unique prédecesseur à tous les noeuds nommés la racine, un noeud sans successeur est appelé **feuille (ou leaf en anglais)**. Dans un arbre binaire, chaque noeud n'a que deux successeurs directs.\n",
    "* **degré d'un noeud** : nombre d'arcs connectés à un noeud, on peut distinguer pour les graphes orientés le fait que les arcs partent ou arrivent à un noeud\n",
    "* **Composante connexe** : au sein d'une composante connexe, il existe toujours un chemin reliant n'importe quelle paire de noeuds.\n",
    "\n",
    "Quelques propriétés de la matrice d'adjacence :\n",
    "\n",
    "* Pour un graphe non orienté, la matrice d'adjacence est symétrique.\n",
    "* La somme sur la ligne *i* est égale au degré du noeud *i*.\n",
    "* La matrice d'adjacence est triangulaire supérieue dans le cas d'un arbre dont les noeuds sont numérotés en largeur d'abord (un noeud a toujours un numéro supérieur à tous des niveaux moins profonds)."
   ]
  },
  {
   "cell_type": "markdown",
   "id": "a1527b71",
   "metadata": {},
   "source": [
    "## Aparté : matrice d'adjacence à la puissance n\n",
    "\n",
    "Si $A$ est une matrice d'adjacence, $a^2_{ik}$ et un coefficient de cette matrice. $a^2_{ik} \\sum_j a_{ij} a_{jk}$. Comme $a_{pq} \\in \\{0, 1\\}$, $a^2_{ik} > 0$ s'il existe un $j$ tel que $ a_{ij} = a_{jk} = 1$. Autrement dit, les noeuds $i j, k$ sont reliés. Si $a^2_{ik} > 0$, alors il existe un chemin de longueur 2 entre les noeuds $i, k$. Par récurrent, $A^3_{pq}$ est positif s'il existe un chemin de longueur 3 reliant les noeuds $p, q$."
   ]
  },
  {
   "cell_type": "markdown",
   "id": "d3a9f780",
   "metadata": {},
   "source": [
    "On calcule $\\sum{A}=A + A^2 + A^3 + ... + A^n$ où n est la dimension de la matrice."
   ]
  },
  {
   "cell_type": "code",
   "execution_count": 7,
   "id": "cb764aad",
   "metadata": {},
   "outputs": [
    {
     "data": {
      "text/plain": [
       "array([[1, 1, 1, 1, 1, 1, 1, 1, 1, 1, 1, 0, 1, 1, 1],\n",
       "       [1, 1, 1, 1, 1, 1, 1, 1, 1, 1, 1, 0, 1, 1, 1],\n",
       "       [1, 1, 1, 1, 1, 1, 1, 1, 1, 1, 1, 0, 1, 1, 1],\n",
       "       [1, 1, 1, 1, 1, 1, 1, 1, 1, 1, 1, 0, 1, 1, 1],\n",
       "       [1, 1, 1, 1, 1, 1, 1, 1, 1, 1, 1, 0, 1, 1, 1],\n",
       "       [1, 1, 1, 1, 1, 1, 1, 1, 1, 1, 1, 0, 1, 1, 1],\n",
       "       [1, 1, 1, 1, 1, 1, 1, 1, 1, 1, 1, 0, 1, 1, 1],\n",
       "       [1, 1, 1, 1, 1, 1, 1, 1, 1, 1, 1, 0, 1, 1, 1],\n",
       "       [1, 1, 1, 1, 1, 1, 1, 1, 1, 1, 1, 0, 1, 1, 1],\n",
       "       [1, 1, 1, 1, 1, 1, 1, 1, 1, 1, 1, 0, 1, 1, 1],\n",
       "       [1, 1, 1, 1, 1, 1, 1, 1, 1, 1, 1, 0, 1, 1, 1],\n",
       "       [0, 0, 0, 0, 0, 0, 0, 0, 0, 0, 0, 0, 0, 0, 0],\n",
       "       [1, 1, 1, 1, 1, 1, 1, 1, 1, 1, 1, 0, 1, 1, 1],\n",
       "       [1, 1, 1, 1, 1, 1, 1, 1, 1, 1, 1, 0, 1, 1, 1],\n",
       "       [1, 1, 1, 1, 1, 1, 1, 1, 1, 1, 1, 0, 1, 1, 1]])"
      ]
     },
     "execution_count": 8,
     "metadata": {},
     "output_type": "execute_result"
    }
   ],
   "source": [
    "adjan = adja.copy()\n",
    "conne = numpy.zeros(adja.shape)\n",
    "for i in range(1, adja.shape[0]):\n",
    "    conne += adjan\n",
    "    adjan = adjan @ adja\n",
    "(conne > 0).astype(int)"
   ]
  },
  {
   "cell_type": "markdown",
   "id": "d068e893",
   "metadata": {},
   "source": [
    "D'après les remarques précédentes, $\\sum A_{pq} > 0$ s'il existe un chemin reliant les noeuds $p, q$, donc s'il font partie de la même composante connexe. Et 0 si les deux noeuds font partie de deux composantes connexes distinctes."
   ]
  },
  {
   "cell_type": "markdown",
   "id": "426ca456",
   "metadata": {},
   "source": [
    "## Trouver le nombre de composantes connexes\n",
    "\n",
    "On s'inspire d'un algorithme de coloriage. Au début, chaque noeud appartient à sa propre composante connexe noté $c_i$. Pour chaque arc reliant deux noeuds *i* et *j*, on associe aux deux noeuds à la composante $\\min(c_i, c_j)$. On continue tant qu'un noeud change de composante connexe."
   ]
  },
  {
   "cell_type": "code",
   "execution_count": 8,
   "id": "664bb7e8",
   "metadata": {},
   "outputs": [
    {
     "data": {
      "image/png": "[encoded data removed]",
      "text/plain": [
       "<Figure size 288x288 with 1 Axes>"
      ]
     },
     "metadata": {},
     "output_type": "display_data"
    }
   ],
   "source": [
    "mat = numpy.random.random((15, 15))\n",
    "mat = mat + mat.T\n",
    "adja = (mat >= 1.45).astype(int)\n",
    "for i in range(adja.shape[0]):\n",
    "    adja[i, i] = 0\n",
    "\n",
    "fix, ax = plt.subplots(1, 1, figsize=(4, 4))\n",
    "G = networkx.from_numpy_matrix(adja)\n",
    "networkx.draw(G, with_labels=True, ax=ax)"
   ]
  },
  {
   "cell_type": "code",
   "execution_count": 9,
   "id": "a2c8b379",
   "metadata": {},
   "outputs": [
    {
     "data": {
      "text/plain": [
       "array([0, 0, 2, 0, 0, 0, 0, 0, 8, 0, 0, 0, 0, 0, 0])"
      ]
     },
     "execution_count": 10,
     "metadata": {},
     "output_type": "execute_result"
    }
   ],
   "source": [
    "C = numpy.arange(adja.shape[0])\n",
    "maj = 1\n",
    "while maj > 0:\n",
    "    maj = 0\n",
    "    for i in range(adja.shape[0]):\n",
    "        for j in range(i + 1, adja.shape[1]):\n",
    "            if adja[i, j] > 0 and C[i] != C[j]:\n",
    "                maj += 1\n",
    "                C[i] = C[j] = min(C[i], C[j])\n",
    "\n",
    "C"
   ]
  },
  {
   "cell_type": "code",
   "execution_count": 10,
   "id": "b93983d7",
   "metadata": {},
   "outputs": [
    {
     "data": {
      "text/plain": [
       "{0, 2, 8}"
      ]
     },
     "execution_count": 11,
     "metadata": {},
     "output_type": "execute_result"
    }
   ],
   "source": [
    "set(C)"
   ]
  },
  {
   "cell_type": "code",
   "execution_count": 11,
   "id": "4dfba86b",
   "metadata": {},
   "outputs": [
    {
     "name": "stdout",
     "output_type": "stream",
     "text": [
      "Il y a 3 composantes connexes.\n"
     ]
    }
   ],
   "source": [
    "print(\"Il y a %r composantes connexes.\" % len(set(C)))"
   ]
  },
  {
   "cell_type": "markdown",
   "id": "e33f65b2",
   "metadata": {},
   "source": [
    "## Génération d'un graphe aléatoire\n",
    "\n",
    "Les graphes issues de réseaux sociaux ont souvent des propriétés statistiques particulières. La distribution des degrés des noeuds suit souvent une loi à queue épaisse. C'est dans cette catégorie qu'on range les lois qui admettent une espérance mais pas de variance.\n",
    "\n",
    "Donc on ne veut pas générer n'importe quel graphe aléatoire, on veut générer un graphe aléatoire dont la distribution des degrés des noeuds est connue.\n",
    "\n",
    "On s'inspire de [algorithme graphe aléatoire](http://www.proba.jussieu.fr/pageperso/rebafka/BookGraphes/graphes-scale-free.html).\n",
    "\n",
    "**Etape 1 :** transformer une distribution des degrés des noeuds en une liste de degré souhaité pour chaque noeud."
   ]
  },
  {
   "cell_type": "code",
   "execution_count": 12,
   "id": "36b79e8c",
   "metadata": {},
   "outputs": [
    {
     "data": {
      "text/plain": [
       "array([1, 1, 1, 1, 2, 2, 2, 3, 3])"
      ]
     },
     "execution_count": 13,
     "metadata": {},
     "output_type": "execute_result"
    }
   ],
   "source": [
    "def distribution_to_degree_list(hist):\n",
    "    N = int(hist.sum())\n",
    "    deg = numpy.zeros(N, dtype=numpy.int32)\n",
    "    p = 0\n",
    "    for i, nh in enumerate(hist):\n",
    "        for n in range(nh):\n",
    "            deg[p] = i\n",
    "            p += 1\n",
    "    return deg\n",
    "\n",
    "\n",
    "dist = numpy.array(numpy.array([0, 4, 3, 2]))\n",
    "distribution_to_degree_list(dist)"
   ]
  },
  {
   "cell_type": "markdown",
   "id": "7ba2df37",
   "metadata": {},
   "source": [
    "**Etape 2 :** on part d'un tableau de même dimension qui représente les degrés du graphe en cours de construction. Il est nul au départ. On tire des noeuds de façon aléatoire tant que ce degré est inférieur au degré souhaité. On l'incrémente à chaque fois qu'un arc est créé."
   ]
  },
  {
   "cell_type": "markdown",
   "id": "9bb9741a",
   "metadata": {},
   "source": [
    "### Version 1"
   ]
  },
  {
   "cell_type": "code",
   "execution_count": 13,
   "id": "922a80cf",
   "metadata": {},
   "outputs": [
    {
     "name": "stderr",
     "output_type": "stream",
     "text": [
      "sum=14 expected=17: 100%|██████████| 85/85 [00:00<00:00, 804.03it/s]\n",
      "<ipython-input-13-a15e00332861>:42: UserWarning: Graphe incomplet\n",
      "degrees=array([1, 1, 1, 1, 1, 2, 2, 2, 3, 3])\n",
      "current=array([1, 1, 1, 1, 1, 2, 2, 1, 1, 3])\n",
      "  warnings.warn(\"Graphe incomplet\\ndegrees=%r\\ncurrent=%r\" % (degrees, current))\n"
     ]
    },
    {
     "data": {
      "text/plain": [
       "array([[0, 1, 0, 0, 0, 0, 0, 0, 0, 0],\n",
       "       [1, 0, 0, 0, 0, 0, 0, 0, 0, 0],\n",
       "       [0, 0, 0, 0, 0, 0, 1, 0, 0, 0],\n",
       "       [0, 0, 0, 0, 0, 0, 0, 0, 0, 1],\n",
       "       [0, 0, 0, 0, 0, 0, 0, 0, 0, 1],\n",
       "       [0, 0, 0, 0, 0, 0, 0, 1, 0, 1],\n",
       "       [0, 0, 1, 0, 0, 0, 0, 0, 1, 0],\n",
       "       [0, 0, 0, 0, 0, 1, 0, 0, 0, 0],\n",
       "       [0, 0, 0, 0, 0, 0, 1, 0, 0, 0],\n",
       "       [0, 0, 0, 1, 1, 1, 0, 0, 0, 0]])"
      ]
     },
     "execution_count": 14,
     "metadata": {},
     "output_type": "execute_result"
    }
   ],
   "source": [
    "import warnings\n",
    "from tqdm import tqdm  # pour visualiser la progression de l'algorithme\n",
    "\n",
    "\n",
    "def random_graph(distribution_degree):\n",
    "    degrees = distribution_to_degree_list(distribution_degree)\n",
    "    current = numpy.zeros(degrees.shape[0], dtype=numpy.int32)\n",
    "    expected = degrees.sum()\n",
    "    adja = numpy.zeros((degrees.shape[0], degrees.shape[0]), dtype=numpy.int32)\n",
    "    nb = 0\n",
    "\n",
    "    # tqdm: une boucle qui affiche l'avancement dans un notebook\n",
    "    # on évite la boucle infinie en limitant le nombre d'itération\n",
    "    loop = tqdm(range(expected * 5))\n",
    "    for n_iter in loop:\n",
    "        loop.set_description(\"sum=%r expected=%r\" % (nb, expected))\n",
    "        nodes = [i for i, (c, d) in enumerate(zip(current, degrees)) if c < d]\n",
    "        if len(nodes) == 1:\n",
    "            i, j = 0, 0\n",
    "        elif len(nodes) == 2:\n",
    "            di, dj = 0, 0\n",
    "            i, j = nodes[di], nodes[dj]\n",
    "        else:\n",
    "            di, dj = numpy.random.randint(0, len(nodes), 2)\n",
    "            i, j = nodes[di], nodes[dj]\n",
    "        if i == j or adja[i, j] == 1:\n",
    "            # arc déjà créé ou impossible\n",
    "            continue\n",
    "        current[i] += 1\n",
    "        current[j] += 1\n",
    "        adja[i, j] = 1\n",
    "        adja[j, i] = 1\n",
    "        nb += 2\n",
    "\n",
    "        if nb >= expected:\n",
    "            # Tous les noeuds ont le degré souhaité.\n",
    "            loop.set_description(\"sum=%r expected=%r\" % (nb, expected))\n",
    "            break\n",
    "\n",
    "    if nb < expected:\n",
    "        warnings.warn(\"Graphe incomplet\\ndegrees=%r\\ncurrent=%r\" % (degrees, current))\n",
    "    return adja\n",
    "\n",
    "\n",
    "adja = random_graph(numpy.array([0, 5, 3, 2]))\n",
    "adja"
   ]
  },
  {
   "cell_type": "markdown",
   "id": "d7926547",
   "metadata": {},
   "source": [
    "On remarque que la somme des degrés ne peut être impaire car chaque arc est connecté à deux noeuds."
   ]
  },
  {
   "cell_type": "code",
   "execution_count": 14,
   "id": "d46d210d",
   "metadata": {},
   "outputs": [
    {
     "name": "stderr",
     "output_type": "stream",
     "text": [
      "sum=12 expected=16: 100%|██████████| 80/80 [00:00<00:00, 1145.86it/s]\n",
      "<ipython-input-13-a15e00332861>:42: UserWarning: Graphe incomplet\n",
      "degrees=array([1, 1, 1, 1, 2, 2, 2, 3, 3])\n",
      "current=array([1, 1, 1, 1, 2, 1, 2, 3, 0])\n",
      "  warnings.warn(\"Graphe incomplet\\ndegrees=%r\\ncurrent=%r\" % (degrees, current))\n"
     ]
    },
    {
     "data": {
      "text/plain": [
       "array([[0, 0, 0, 0, 1, 0, 0, 0, 0],\n",
       "       [0, 0, 0, 0, 0, 0, 1, 0, 0],\n",
       "       [0, 0, 0, 0, 0, 0, 0, 1, 0],\n",
       "       [0, 0, 0, 0, 1, 0, 0, 0, 0],\n",
       "       [1, 0, 0, 1, 0, 0, 0, 0, 0],\n",
       "       [0, 0, 0, 0, 0, 0, 0, 1, 0],\n",
       "       [0, 1, 0, 0, 0, 0, 0, 1, 0],\n",
       "       [0, 0, 1, 0, 0, 1, 1, 0, 0],\n",
       "       [0, 0, 0, 0, 0, 0, 0, 0, 0]])"
      ]
     },
     "execution_count": 15,
     "metadata": {},
     "output_type": "execute_result"
    }
   ],
   "source": [
    "adja = random_graph(numpy.array([0, 4, 3, 2]))\n",
    "adja"
   ]
  },
  {
   "cell_type": "markdown",
   "id": "645aecbb",
   "metadata": {},
   "source": [
    "On regarde la distribution des degrés :"
   ]
  },
  {
   "cell_type": "code",
   "execution_count": 15,
   "id": "82caa1bd",
   "metadata": {},
   "outputs": [
    {
     "data": {
      "text/plain": [
       "array([1, 1, 1, 1, 2, 1, 2, 3, 0])"
      ]
     },
     "execution_count": 16,
     "metadata": {},
     "output_type": "execute_result"
    }
   ],
   "source": [
    "adja.sum(axis=1)"
   ]
  },
  {
   "cell_type": "code",
   "execution_count": 16,
   "id": "ed7d190c",
   "metadata": {},
   "outputs": [
    {
     "data": {
      "text/plain": [
       "Counter({1: 5, 2: 2, 3: 1, 0: 1})"
      ]
     },
     "execution_count": 17,
     "metadata": {},
     "output_type": "execute_result"
    }
   ],
   "source": [
    "from collections import Counter\n",
    "\n",
    "Counter(adja.sum(axis=1))"
   ]
  },
  {
   "cell_type": "markdown",
   "id": "280ea232",
   "metadata": {},
   "source": [
    "L'algorithme ne semble pas aboutir à un graphe qui répond au critère souhaité. Il existe deux cas pour lesquels l'algorithme reste bloqué. On note $A_t$ l'ensemble des noeuds à l'itération *t* dont les degrés sont inférieurs au degré souhaité.\n",
    "\n",
    "* Tous les noeuds dans l'ensemble $A_t$ sont déjà reliés entre eux.\n",
    "* La seule option possible est de créer un arc entre un noeud et lui-même.\n",
    "\n",
    "Pour éviter cela, on choisit après 5 tirages ne donnant lieu à aucune création d'arc d'en supprimer quelques-uns. L'algorithme qui suit n'est pas le plus efficace mais voyons déjà s'il marche avant de nous pencher sur un autre."
   ]
  },
  {
   "cell_type": "markdown",
   "id": "7d329116",
   "metadata": {},
   "source": [
    "### Version 2"
   ]
  },
  {
   "cell_type": "code",
   "execution_count": 17,
   "id": "542f9359",
   "metadata": {
    "scrolled": false
   },
   "outputs": [
    {
     "name": "stderr",
     "output_type": "stream",
     "text": [
      "sum=16 expected=16 n_removed=0:   9%|▉         | 7/80 [00:00<00:00, 638.07it/s]\n"
     ]
    },
    {
     "data": {
      "text/plain": [
       "array([[0, 0, 0, 0, 0, 0, 0, 0, 1],\n",
       "       [0, 0, 0, 0, 1, 0, 0, 0, 0],\n",
       "       [0, 0, 0, 1, 0, 0, 0, 0, 0],\n",
       "       [0, 0, 1, 0, 0, 0, 0, 0, 0],\n",
       "       [0, 1, 0, 0, 0, 1, 0, 0, 0],\n",
       "       [0, 0, 0, 0, 1, 0, 0, 1, 0],\n",
       "       [0, 0, 0, 0, 0, 0, 0, 1, 1],\n",
       "       [0, 0, 0, 0, 0, 1, 1, 0, 1],\n",
       "       [1, 0, 0, 0, 0, 0, 1, 1, 0]])"
      ]
     },
     "execution_count": 18,
     "metadata": {},
     "output_type": "execute_result"
    }
   ],
   "source": [
    "def random_graph_remove(distribution_degree):\n",
    "    degrees = distribution_to_degree_list(distribution_degree)\n",
    "    current = numpy.zeros(degrees.shape[0], dtype=numpy.int32)\n",
    "    expected = degrees.sum()\n",
    "    adja = numpy.zeros((degrees.shape[0], degrees.shape[0]), dtype=numpy.int32)\n",
    "    nb = 0\n",
    "\n",
    "    loop = tqdm(range(expected * 5))\n",
    "    last_added = 0\n",
    "    n_removed = 0\n",
    "    edges = {i: [] for i in range(current.shape[0])}\n",
    "    for n_iter in loop:\n",
    "        loop.set_description(\n",
    "            \"sum=%r expected=%r n_removed=%r\" % (nb, expected, n_removed)\n",
    "        )\n",
    "        nodes = [i for i, (c, d) in enumerate(zip(current, degrees)) if c < d]\n",
    "        if len(nodes) > 1:\n",
    "            di, dj = numpy.random.randint(0, len(nodes), 2)\n",
    "            i, j = nodes[di], nodes[dj]\n",
    "        else:\n",
    "            i = j = 0\n",
    "\n",
    "        if i == j or adja[i, j] == 1:\n",
    "            if last_added + 5 < n_iter:\n",
    "                # on supprime un arc\n",
    "                nodes = [i for i, c in enumerate(current) if c > 0]\n",
    "                di = 0 if len(nodes) <= 1 else numpy.random.randint(0, len(nodes))\n",
    "                i = nodes[di]\n",
    "                dh = 0 if len(edges[i]) <= 1 else numpy.random.randint(0, len(edges[i]))\n",
    "                j = edges[i][dh]\n",
    "\n",
    "                adja[i, j] = 0\n",
    "                adja[j, i] = 0\n",
    "                edges[i].remove(j)\n",
    "                edges[j].remove(i)\n",
    "                current[i] -= 1\n",
    "                current[j] -= 1\n",
    "                nb -= 2\n",
    "                n_removed += 2\n",
    "            continue\n",
    "\n",
    "        current[i] += 1\n",
    "        current[j] += 1\n",
    "        adja[i, j] = 1\n",
    "        adja[j, i] = 1\n",
    "        nb += 2\n",
    "        last_added = n_iter\n",
    "        edges[i].append(j)\n",
    "        edges[j].append(i)\n",
    "\n",
    "        if nb >= expected:\n",
    "            # Tous les noeuds ont le degré souhaité.\n",
    "            loop.set_description(\n",
    "                \"sum=%r expected=%r n_removed=%r\" % (nb, expected, n_removed)\n",
    "            )\n",
    "            break\n",
    "\n",
    "    if nb < expected:\n",
    "        warnings.warn(\"Graphe incomplet\\ndegrees=%r\\ncurrent=%r\" % (degrees, current))\n",
    "    return adja\n",
    "\n",
    "\n",
    "adja = random_graph_remove(numpy.array([0, 4, 3, 2]))\n",
    "adja"
   ]
  },
  {
   "cell_type": "code",
   "execution_count": 18,
   "id": "a3b6a407",
   "metadata": {},
   "outputs": [
    {
     "data": {
      "text/plain": [
       "Counter({1: 4, 2: 3, 3: 2})"
      ]
     },
     "execution_count": 19,
     "metadata": {},
     "output_type": "execute_result"
    }
   ],
   "source": [
    "Counter(adja.sum(axis=1))"
   ]
  },
  {
   "cell_type": "markdown",
   "id": "71890aae",
   "metadata": {},
   "source": [
    "Il est possible que cet algorithme aboutisse au résultat souhaité même avec beaucoup de temps. Est-ce la stratégie ou le fait que la distribution des noeuds ne soit pas [réalisable](http://www.proba.jussieu.fr/pageperso/rebafka/BookGraphes/graphes-scale-free.html#suite-de-degr%C3%A9s-r%C3%A9alisable)."
   ]
  },
  {
   "cell_type": "code",
   "execution_count": 19,
   "id": "c939dcf0",
   "metadata": {},
   "outputs": [
    {
     "data": {
      "text/plain": [
       "False"
      ]
     },
     "execution_count": 20,
     "metadata": {},
     "output_type": "execute_result"
    }
   ],
   "source": [
    "def distribution_degree_realisable(distribution):\n",
    "    degrees = -numpy.array(sorted(-distribution_to_degree_list(distribution)))\n",
    "    if degrees.sum() % 2 != 0:\n",
    "        return False\n",
    "    sumdi = 0\n",
    "    for i in range(degrees.shape[0] - 1):\n",
    "        sumdi += degrees[i]\n",
    "        mindi = numpy.minimum(degrees[i + 1 :], i + 1).sum()\n",
    "        if sumdi >= i * (i + 1) + mindi:\n",
    "            return False\n",
    "    return True\n",
    "\n",
    "\n",
    "distribution_degree_realisable(numpy.array([0, 2, 0, 0, 0, 0, 0, 0, 0, 1]))"
   ]
  },
  {
   "cell_type": "code",
   "execution_count": 20,
   "id": "11176a52",
   "metadata": {},
   "outputs": [
    {
     "data": {
      "text/plain": [
       "True"
      ]
     },
     "execution_count": 21,
     "metadata": {},
     "output_type": "execute_result"
    }
   ],
   "source": [
    "distribution_degree_realisable(numpy.array([0, 4, 3, 2]))"
   ]
  },
  {
   "cell_type": "code",
   "execution_count": 21,
   "id": "419c31ad",
   "metadata": {},
   "outputs": [
    {
     "data": {
      "image/png": "[encoded data removed]",
      "text/plain": [
       "<Figure size 288x288 with 1 Axes>"
      ]
     },
     "metadata": {},
     "output_type": "display_data"
    }
   ],
   "source": [
    "fix, ax = plt.subplots(1, 1, figsize=(4, 4))\n",
    "G = networkx.from_numpy_matrix(adja)\n",
    "networkx.draw(G, with_labels=True, ax=ax)"
   ]
  },
  {
   "cell_type": "markdown",
   "id": "c1bf97f2",
   "metadata": {},
   "source": [
    "Pour ce type de structure, la génération aléatoire est d'autant plus rapide qu'il y a peu de tirages rejetés."
   ]
  },
  {
   "cell_type": "code",
   "execution_count": 22,
   "id": "9ba97dcb",
   "metadata": {},
   "outputs": [],
   "source": []
  }
 ],
 "metadata": {
  "kernelspec": {
   "display_name": "Python 3",
   "language": "python",
   "name": "python3"
  },
  "language_info": {
   "codemirror_mode": {
    "name": "ipython",
    "version": 3
   },
   "file_extension": ".py",
   "mimetype": "text/x-python",
   "name": "python",
   "nbconvert_exporter": "python",
   "pygments_lexer": "ipython3",
   "version": "3.9.5"
  }
 },
 "nbformat": 4,
 "nbformat_minor": 5
}
