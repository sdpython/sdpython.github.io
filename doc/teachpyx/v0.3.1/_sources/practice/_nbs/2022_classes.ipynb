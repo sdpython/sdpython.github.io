{
 "cells": [
  {
   "cell_type": "markdown",
   "id": "b2799b1a",
   "metadata": {},
   "source": [
    "# Un bref aperçu des classes\n",
    "\n",
    "Les classes ou la programmation objet est une façon différente d'écrire et d'organiser un programme informatique. Cela ne permet rien de plus que les fonctions mais ça permet de le faire souvent de façon plus élégante."
   ]
  },
  {
   "cell_type": "code",
   "execution_count": 1,
   "id": "034b7c6b",
   "metadata": {},
   "outputs": [
    {
     "data": {
      "text/html": [
       "<div id=\"my_id_menu_nb\">run previous cell, wait for 2 seconds</div>\n",
       "<script>\n",
       "function repeat_indent_string(n){\n",
       "    var a = \"\" ;\n",
       "    for ( ; n > 0 ; --n)\n",
       "        a += \"    \";\n",
       "    return a;\n",
       "}\n",
       "// look up into all sections and builds an automated menu //\n",
       "var update_menu_string = function(begin, lfirst, llast, sformat, send, keep_item, begin_format, end_format) {\n",
       "    var anchors = document.getElementsByClassName(\"section\");\n",
       "    if (anchors.length == 0) {\n",
       "        anchors = document.getElementsByClassName(\"text_cell_render rendered_html\");\n",
       "    }\n",
       "    var i,t;\n",
       "    var text_menu = begin;\n",
       "    var text_memo = \"<pre>\\nlength:\" + anchors.length + \"\\n\";\n",
       "    var ind = \"\";\n",
       "    var memo_level = 1;\n",
       "    var href;\n",
       "    var tags = [];\n",
       "    var main_item = 0;\n",
       "    var format_open = 0;\n",
       "    for (i = 0; i <= llast; i++)\n",
       "        tags.push(\"h\" + i);\n",
       "\n",
       "    for (i = 0; i < anchors.length; i++) {\n",
       "        text_memo += \"**\" + anchors[i].id + \"--\\n\";\n",
       "\n",
       "        var child = null;\n",
       "        for(t = 0; t < tags.length; t++) {\n",
       "            var r = anchors[i].getElementsByTagName(tags[t]);\n",
       "            if (r.length > 0) {\n",
       "child = r[0];\n",
       "break;\n",
       "            }\n",
       "        }\n",
       "        if (child == null) {\n",
       "            text_memo += \"null\\n\";\n",
       "            continue;\n",
       "        }\n",
       "        if (anchors[i].hasAttribute(\"id\")) {\n",
       "            // when converted in RST\n",
       "            href = anchors[i].id;\n",
       "            text_memo += \"#1-\" + href;\n",
       "            // passer à child suivant (le chercher)\n",
       "        }\n",
       "        else if (child.hasAttribute(\"id\")) {\n",
       "            // in a notebook\n",
       "            href = child.id;\n",
       "            text_memo += \"#2-\" + href;\n",
       "        }\n",
       "        else {\n",
       "            text_memo += \"#3-\" + \"*\" + \"\\n\";\n",
       "            continue;\n",
       "        }\n",
       "        var title = child.textContent;\n",
       "        var level = parseInt(child.tagName.substring(1,2));\n",
       "\n",
       "        text_memo += \"--\" + level + \"?\" + lfirst + \"--\" + title + \"\\n\";\n",
       "\n",
       "        if ((level < lfirst) || (level > llast)) {\n",
       "            continue ;\n",
       "        }\n",
       "        if (title.endsWith('¶')) {\n",
       "            title = title.substring(0,title.length-1).replace(\"<\", \"&lt;\")\n",
       "         .replace(\">\", \"&gt;\").replace(\"&\", \"&amp;\");\n",
       "        }\n",
       "        if (title.length == 0) {\n",
       "            continue;\n",
       "        }\n",
       "\n",
       "        while (level < memo_level) {\n",
       "            text_menu += end_format + \"</ul>\\n\";\n",
       "            format_open -= 1;\n",
       "            memo_level -= 1;\n",
       "        }\n",
       "        if (level == lfirst) {\n",
       "            main_item += 1;\n",
       "        }\n",
       "        if (keep_item != -1 && main_item != keep_item + 1) {\n",
       "            // alert(main_item + \" - \" + level + \" - \" + keep_item);\n",
       "            continue;\n",
       "        }\n",
       "        while (level > memo_level) {\n",
       "            text_menu += \"<ul>\\n\";\n",
       "            memo_level += 1;\n",
       "        }\n",
       "        text_menu += repeat_indent_string(level-2);\n",
       "        text_menu += begin_format + sformat.replace(\"__HREF__\", href).replace(\"__TITLE__\", title);\n",
       "        format_open += 1;\n",
       "    }\n",
       "    while (1 < memo_level) {\n",
       "        text_menu += end_format + \"</ul>\\n\";\n",
       "        memo_level -= 1;\n",
       "        format_open -= 1;\n",
       "    }\n",
       "    text_menu += send;\n",
       "    //text_menu += \"\\n\" + text_memo;\n",
       "\n",
       "    while (format_open > 0) {\n",
       "        text_menu += end_format;\n",
       "        format_open -= 1;\n",
       "    }\n",
       "    return text_menu;\n",
       "};\n",
       "var update_menu = function() {\n",
       "    var sbegin = \"\";\n",
       "    var sformat = '<a href=\"#__HREF__\">__TITLE__</a>';\n",
       "    var send = \"\";\n",
       "    var begin_format = '<li>';\n",
       "    var end_format = '</li>';\n",
       "    var keep_item = -1;\n",
       "    var text_menu = update_menu_string(sbegin, 2, 4, sformat, send, keep_item,\n",
       "       begin_format, end_format);\n",
       "    var menu = document.getElementById(\"my_id_menu_nb\");\n",
       "    menu.innerHTML=text_menu;\n",
       "};\n",
       "window.setTimeout(update_menu,2000);\n",
       "            </script>"
      ],
      "text/plain": [
       "<IPython.core.display.HTML object>"
      ]
     },
     "execution_count": 2,
     "metadata": {},
     "output_type": "execute_result"
    }
   ],
   "source": [
    "from jyquickhelper import add_notebook_menu\n",
    "\n",
    "add_notebook_menu()"
   ]
  },
  {
   "cell_type": "markdown",
   "id": "c5d41751",
   "metadata": {},
   "source": [
    "## Une station de métro\n",
    "\n",
    "Une station de métro est définie par son nom et sa position. Un dictionnairre peut suffire."
   ]
  },
  {
   "cell_type": "code",
   "execution_count": 2,
   "id": "abdebcd5",
   "metadata": {},
   "outputs": [],
   "source": [
    "station = {\"name\": \"Charles Michels\", \"lat\": 48.846651, \"lng\": 2.285811}"
   ]
  },
  {
   "cell_type": "markdown",
   "id": "202c7ef9",
   "metadata": {},
   "source": [
    "L'inconvénient de cette écriture est qu'il faut toujours bien orthographier le nom des clés du dictionnaire. La moindre erreur empêche le programme de fonctionner. La seconde écriture avec des classes ne simplifie pas la tâche à première vue. Mais..."
   ]
  },
  {
   "cell_type": "code",
   "execution_count": 3,
   "id": "ca64e293",
   "metadata": {},
   "outputs": [],
   "source": [
    "class Station:\n",
    "    def __init__(self, name, lat, lng):\n",
    "        self.name = name\n",
    "        self.lng = lng\n",
    "        self.lat = lat\n",
    "\n",
    "\n",
    "station = Station(\"Charles Michels\", 48.846651, 2.285811)"
   ]
  },
  {
   "cell_type": "markdown",
   "id": "9bf88310",
   "metadata": {},
   "source": [
    "Lorsqu'on écrit ce qui suit, l'autocomplétion du notebook montre les différentes possibilités."
   ]
  },
  {
   "cell_type": "code",
   "execution_count": 4,
   "id": "4fea076f",
   "metadata": {},
   "outputs": [
    {
     "data": {
      "text/plain": [
       "'Charles Michels'"
      ]
     },
     "execution_count": 5,
     "metadata": {},
     "output_type": "execute_result"
    }
   ],
   "source": [
    "station.name"
   ]
  },
  {
   "cell_type": "markdown",
   "id": "ce328462",
   "metadata": {},
   "source": [
    "Les classes permettent de définir de nouveau type de données. Ici, une station, avec trois attributs, `name`, `lng`, `lat`."
   ]
  },
  {
   "cell_type": "markdown",
   "id": "1764eb4a",
   "metadata": {},
   "source": [
    "## Une distance"
   ]
  },
  {
   "cell_type": "code",
   "execution_count": 5,
   "id": "c3f1dff0",
   "metadata": {},
   "outputs": [
    {
     "data": {
      "text/plain": [
       "0.6928550943713419"
      ]
     },
     "execution_count": 6,
     "metadata": {},
     "output_type": "execute_result"
    }
   ],
   "source": [
    "import math\n",
    "\n",
    "\n",
    "def distance_haversine(s1, s2):\n",
    "    radius = 6371\n",
    "    lat1 = s1[\"lat\"]\n",
    "    lat2 = s2[\"lat\"]\n",
    "    lng1 = s1[\"lng\"]\n",
    "    lng2 = s2[\"lng\"]\n",
    "    dlat = math.radians(lat2 - lat1)\n",
    "    dlon = math.radians(lng2 - lng1)\n",
    "    a = math.sin(dlat / 2) * math.sin(dlat / 2) + math.cos(\n",
    "        math.radians(lat1)\n",
    "    ) * math.cos(math.radians(lat2)) * math.sin(dlon / 2) * math.sin(dlon / 2)\n",
    "    c = 2 * math.atan2(math.sqrt(a), math.sqrt(1 - a))\n",
    "    d = radius * c\n",
    "    return d\n",
    "\n",
    "\n",
    "station1 = {\"name\": \"Charles Michels\", \"lat\": 48.846651, \"lng\": 2.285811}\n",
    "station2 = {\"name\": \"Emile Zola\", \"lat\": 48.847030, \"lng\": 2.295262}\n",
    "distance_haversine(station1, station2)"
   ]
  },
  {
   "cell_type": "markdown",
   "id": "8b4c80a1",
   "metadata": {},
   "source": [
    "La même écriture avec des classes."
   ]
  },
  {
   "cell_type": "code",
   "execution_count": 6,
   "id": "dba991cf",
   "metadata": {},
   "outputs": [
    {
     "data": {
      "text/plain": [
       "0.6928550943713419"
      ]
     },
     "execution_count": 7,
     "metadata": {},
     "output_type": "execute_result"
    }
   ],
   "source": [
    "def distance_haversine(s1, s2):\n",
    "    radius = 6371\n",
    "    lat1 = s1.lat\n",
    "    lat2 = s2.lat\n",
    "    lng1 = s1.lng\n",
    "    lng2 = s2.lng\n",
    "    dlat = math.radians(lat2 - lat1)\n",
    "    dlon = math.radians(lng2 - lng1)\n",
    "    a = math.sin(dlat / 2) * math.sin(dlat / 2) + math.cos(\n",
    "        math.radians(lat1)\n",
    "    ) * math.cos(math.radians(lat2)) * math.sin(dlon / 2) * math.sin(dlon / 2)\n",
    "    c = 2 * math.atan2(math.sqrt(a), math.sqrt(1 - a))\n",
    "    d = radius * c\n",
    "    return d\n",
    "\n",
    "\n",
    "station1 = Station(\"Charles Michels\", 48.846651, 2.285811)\n",
    "station2 = Station(\"Emile Zola\", 48.847030, 2.295262)\n",
    "distance_haversine(station1, station2)"
   ]
  },
  {
   "cell_type": "markdown",
   "id": "813b7d15",
   "metadata": {},
   "source": [
    "## Méthode\n",
    "\n",
    "Et comme cette fonction ne s'applique qu'aux stations de métro, on peut la définir en tant que fonction appartenant à la classe ou **méthode**."
   ]
  },
  {
   "cell_type": "code",
   "execution_count": 7,
   "id": "c9fc57e3",
   "metadata": {},
   "outputs": [
    {
     "data": {
      "text/plain": [
       "0.6928550943713419"
      ]
     },
     "execution_count": 8,
     "metadata": {},
     "output_type": "execute_result"
    }
   ],
   "source": [
    "class Station:\n",
    "    def __init__(self, name, lat, lng):\n",
    "        self.name = name\n",
    "        self.lng = lng\n",
    "        self.lat = lat\n",
    "\n",
    "    def distance_haversine(s1, s2):\n",
    "        radius = 6371\n",
    "        lat1 = s1.lat\n",
    "        lat2 = s2.lat\n",
    "        lng1 = s1.lng\n",
    "        lng2 = s2.lng\n",
    "        dlat = math.radians(lat2 - lat1)\n",
    "        dlon = math.radians(lng2 - lng1)\n",
    "        a = math.sin(dlat / 2) * math.sin(dlat / 2) + math.cos(\n",
    "            math.radians(lat1)\n",
    "        ) * math.cos(math.radians(lat2)) * math.sin(dlon / 2) * math.sin(dlon / 2)\n",
    "        c = 2 * math.atan2(math.sqrt(a), math.sqrt(1 - a))\n",
    "        d = radius * c\n",
    "        return d\n",
    "\n",
    "\n",
    "station1 = Station(\"Charles Michels\", 48.846651, 2.285811)\n",
    "station2 = Station(\"Emile Zola\", 48.847030, 2.295262)\n",
    "station1.distance_haversine(station2)"
   ]
  },
  {
   "cell_type": "markdown",
   "id": "825fd178",
   "metadata": {},
   "source": [
    "Une méthode de la classe `Station` prend toujours comme premier paramètre une variable de type `Station` (ou **instance**). On le distingue en l'appelant `self`. En python, c'est une convention, pas une obligation mais l'écriture est plus rigide dans d'autres langages."
   ]
  },
  {
   "cell_type": "code",
   "execution_count": 8,
   "id": "a05fefff",
   "metadata": {},
   "outputs": [
    {
     "data": {
      "text/plain": [
       "0.6928550943713419"
      ]
     },
     "execution_count": 9,
     "metadata": {},
     "output_type": "execute_result"
    }
   ],
   "source": [
    "class Station:\n",
    "    def __init__(self, name, lat, lng):\n",
    "        self.name = name\n",
    "        self.lng = lng\n",
    "        self.lat = lat\n",
    "\n",
    "    def distance_haversine(self, s2):\n",
    "        radius = 6371\n",
    "        lat1 = self.lat\n",
    "        lat2 = s2.lat\n",
    "        lng1 = self.lng\n",
    "        lng2 = s2.lng\n",
    "        dlat = math.radians(lat2 - lat1)\n",
    "        dlon = math.radians(lng2 - lng1)\n",
    "        a = math.sin(dlat / 2) * math.sin(dlat / 2) + math.cos(\n",
    "            math.radians(lat1)\n",
    "        ) * math.cos(math.radians(lat2)) * math.sin(dlon / 2) * math.sin(dlon / 2)\n",
    "        c = 2 * math.atan2(math.sqrt(a), math.sqrt(1 - a))\n",
    "        d = radius * c\n",
    "        return d\n",
    "\n",
    "\n",
    "station1 = Station(\"Charles Michels\", 48.846651, 2.285811)\n",
    "station2 = Station(\"Emile Zola\", 48.847030, 2.295262)\n",
    "station1.distance_haversine(station2)"
   ]
  },
  {
   "cell_type": "markdown",
   "id": "5a58cfdb",
   "metadata": {},
   "source": [
    "Ca fait la même chose mais cela s'écrit différemment."
   ]
  },
  {
   "cell_type": "markdown",
   "id": "cd49246a",
   "metadata": {},
   "source": [
    "## Opérateurs\n",
    "\n",
    "Les classes permettent également de définir des opérations."
   ]
  },
  {
   "cell_type": "code",
   "execution_count": 9,
   "id": "3b063d2b",
   "metadata": {},
   "outputs": [
    {
     "data": {
      "text/plain": [
       "0.6928550943713419"
      ]
     },
     "execution_count": 10,
     "metadata": {},
     "output_type": "execute_result"
    }
   ],
   "source": [
    "class Station:\n",
    "    def __init__(self, name, lat, lng):\n",
    "        self.name = name\n",
    "        self.lng = lng\n",
    "        self.lat = lat\n",
    "\n",
    "    def distance_haversine(self, s2):\n",
    "        radius = 6371\n",
    "        lat1 = self.lat\n",
    "        lat2 = s2.lat\n",
    "        lng1 = self.lng\n",
    "        lng2 = s2.lng\n",
    "        dlat = math.radians(lat2 - lat1)\n",
    "        dlon = math.radians(lng2 - lng1)\n",
    "        a = math.sin(dlat / 2) * math.sin(dlat / 2) + math.cos(\n",
    "            math.radians(lat1)\n",
    "        ) * math.cos(math.radians(lat2)) * math.sin(dlon / 2) * math.sin(dlon / 2)\n",
    "        c = 2 * math.atan2(math.sqrt(a), math.sqrt(1 - a))\n",
    "        d = radius * c\n",
    "        return d\n",
    "\n",
    "    def __rshift__(self, s2):\n",
    "        return self.distance_haversine(s2)\n",
    "\n",
    "\n",
    "station1 = Station(\"Charles Michels\", 48.846651, 2.285811)\n",
    "station2 = Station(\"Emile Zola\", 48.847030, 2.295262)\n",
    "station1 >> station2"
   ]
  },
  {
   "cell_type": "code",
   "execution_count": 10,
   "id": "f91c7347",
   "metadata": {},
   "outputs": [],
   "source": []
  }
 ],
 "metadata": {
  "kernelspec": {
   "display_name": "Python 3 (ipykernel)",
   "language": "python",
   "name": "python3"
  },
  "language_info": {
   "codemirror_mode": {
    "name": "ipython",
    "version": 3
   },
   "file_extension": ".py",
   "mimetype": "text/x-python",
   "name": "python",
   "nbconvert_exporter": "python",
   "pygments_lexer": "ipython3",
   "version": "3.10.5"
  }
 },
 "nbformat": 4,
 "nbformat_minor": 5
}