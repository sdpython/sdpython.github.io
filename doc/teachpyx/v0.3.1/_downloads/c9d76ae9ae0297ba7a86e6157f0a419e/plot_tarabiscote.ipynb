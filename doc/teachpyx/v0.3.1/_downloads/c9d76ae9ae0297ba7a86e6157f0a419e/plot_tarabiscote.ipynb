{
 "cells": [
  {
   "cell_type": "markdown",
   "metadata": {},
   "source": [
    "\n",
    "\n",
    "# Exercices expliqués de programmation\n",
    "\n",
    "Quelques exercices autour de la copie de liste, du temps de calcul, de l'héritage.\n",
    "\n",
    "## Copie de listes\n",
    "\n",
    "La fonction ``somme`` est censée faire la concaténation de toutes les\n",
    "listes contenues dans ``ens``. Le résultat retourné est effectivement \n",
    "celui désiré mais la fonction modifie également la liste ``ens``, pourquoi ?\n"
   ]
  },
  {
   "cell_type": "code",
   "execution_count": null,
   "metadata": {
    "collapsed": false
   },
   "outputs": [],
   "source": [
    "import math\n",
    "import copy\n",
    "import numpy\n",
    "\n",
    "\n",
    "def somme(tab):\n",
    "    li = tab[0]\n",
    "    for i in range(1, len(tab)):\n",
    "        li += tab[i]\n",
    "    return li\n",
    "\n",
    "\n",
    "ens = [[0, 1], [2, 3]]\n",
    "print(somme(ens))\n",
    "print(ens)"
   ]
  },
  {
   "cell_type": "markdown",
   "metadata": {},
   "source": [
    "Le problème vient du fait qu'une affectation en *python*\n",
    "(seconde ligne de la fonction ``somme`` ne fait pas une copie\n",
    "mais crée un second identificateur pour désigner la même chose.\n",
    "Ici, ``l`` et ``tab[0]`` désignent la même liste, modifier l'une\n",
    "modifie l'autre. Ceci explique le résultat. Pour corriger,\n",
    "il fallait faire une copie explicite de ``tab[0]`` :\n",
    "\n"
   ]
  },
  {
   "cell_type": "code",
   "execution_count": null,
   "metadata": {
    "collapsed": false
   },
   "outputs": [],
   "source": [
    "def somme(tab):\n",
    "    li = copy.copy(tab[0])  ###### ligne modifiée\n",
    "    for i in range(1, len(tab)):\n",
    "        li += tab[i]\n",
    "    return li\n",
    "\n",
    "\n",
    "ens = [[0, 1], [2, 3]]\n",
    "print(somme(ens))\n",
    "print(ens)"
   ]
  },
  {
   "cell_type": "markdown",
   "metadata": {},
   "source": [
    "Il était possible, dans ce cas, de se passer de copie en écrivant :\n",
    "\n"
   ]
  },
  {
   "cell_type": "code",
   "execution_count": null,
   "metadata": {
    "collapsed": false
   },
   "outputs": [],
   "source": [
    "def somme(tab):\n",
    "    li = []  ###### ligne modifiée\n",
    "    for i in range(0, len(tab)):  ###### ligne modifiée\n",
    "        li += tab[i]\n",
    "    return li\n",
    "\n",
    "\n",
    "ens = [[0, 1], [2, 3]]\n",
    "print(somme(ens))\n",
    "print(ens)"
   ]
  },
  {
   "cell_type": "markdown",
   "metadata": {},
   "source": [
    "## Erreur de logique\n",
    "\n",
    "Le programme suivant fonctionne mais le résultat n'est pas celui escompté.\n",
    "\n"
   ]
  },
  {
   "cell_type": "code",
   "execution_count": null,
   "metadata": {
    "collapsed": false
   },
   "outputs": [],
   "source": [
    "li = [\"un\", \"deux\", \"trois\", \"quatre\", \"cinq\"]\n",
    "\n",
    "for i in range(0, len(li)):\n",
    "    mi = i\n",
    "    for j in range(i, len(li)):\n",
    "        if li[mi] < li[j]:\n",
    "            mi = j\n",
    "    e = li[i]\n",
    "    li[mi] = li[i]\n",
    "    li[i] = e\n",
    "\n",
    "li"
   ]
  },
  {
   "cell_type": "markdown",
   "metadata": {},
   "source": [
    "Ce programme est censé effectuer un tri par ordre alphabétique\n",
    "**décroissant**. Le problème intervient lors de la permutation de\n",
    "l'élément ``l[i]`` avec l'élément ``l[mi]``. Il faut donc écrire :\n",
    "\n"
   ]
  },
  {
   "cell_type": "code",
   "execution_count": null,
   "metadata": {
    "collapsed": false
   },
   "outputs": [],
   "source": [
    "li = [\"un\", \"deux\", \"trois\", \"quatre\", \"cinq\"]\n",
    "for i in range(0, len(li)):\n",
    "    mi = i\n",
    "    for j in range(i, len(li)):\n",
    "        if li[mi] < li[j]:\n",
    "            mi = j\n",
    "    e = li[mi]  ######## ligne modifiée\n",
    "    li[mi] = li[i]\n",
    "    li[i] = e\n",
    "\n",
    "li"
   ]
  },
  {
   "cell_type": "markdown",
   "metadata": {},
   "source": [
    "## Coût d'un algorithme\n",
    "\n",
    "Le coût d'un algorithme ou d'un programme est le nombre d'opérations\n",
    "(additions, multiplications, tests, ...) qu'il effectue. Il s'exprime\n",
    "comme un multiple d'une fonction de la dimension des données que\n",
    "le programme manipule. Par exemple : $O(n)$,\n",
    "$O(n^2)$, $O(n\\ln n)$, ...\n",
    "\n"
   ]
  },
  {
   "cell_type": "code",
   "execution_count": null,
   "metadata": {
    "collapsed": false
   },
   "outputs": [],
   "source": [
    "def moyenne(tab):\n",
    "    s = 0.0\n",
    "    for x in tab:\n",
    "        s += x\n",
    "    return s / len(tab)\n",
    "\n",
    "\n",
    "def variance(tab):\n",
    "    s = 0.0\n",
    "    for x in tab:\n",
    "        t = x - moyenne(tab)\n",
    "        s += t * t\n",
    "    return s / len(tab)\n",
    "\n",
    "\n",
    "li = [0, 1, 2, 2, 3, 1, 3, 0]\n",
    "print(moyenne(li))\n",
    "print(variance(li))"
   ]
  },
  {
   "cell_type": "markdown",
   "metadata": {},
   "source": [
    "Tout d'abord, le coût d'un algorithme est très souvent exprimé comme un\n",
    "multiple de la dimension des données qu'il traite. Ici, la dimension\n",
    "est la taille du tableau ``tab``. Par exemple, si on note ``n = len(tab)``,\n",
    "alors le coût de la fonction ``moyenne`` s'écrit $O(n)$ car cette\n",
    "fonction fait la somme des *n* éléments du tableau.\n",
    "\n",
    "La fonction ``variance`` contient quant à elle un petit piège. Si elle\n",
    "contient elle aussi une boucle, chacun des $n$ passages dans cette boucle\n",
    "fait appel à la fonction ``moyenne``. Le coût de la fonction ``variance`` est donc\n",
    "$O(n^2)$.\n",
    "\n",
    "Il est possible d'accélérer le programme car la fonction ``moyenne``\n",
    "retourne le même résultat à chaque passage dans la boucle.\n",
    "Il suffit de mémoriser son résultat dans une variable avant d'entrer\n",
    "dans la boucle comme suit :\n",
    "\n"
   ]
  },
  {
   "cell_type": "code",
   "execution_count": null,
   "metadata": {
    "collapsed": false
   },
   "outputs": [],
   "source": [
    "def variance(tab):\n",
    "    s = 0.0\n",
    "    m = moyenne(tab)\n",
    "    for x in tab:\n",
    "        t = x - m\n",
    "        s += t * t\n",
    "    return s / len(tab)\n",
    "\n",
    "\n",
    "variance(li)"
   ]
  },
  {
   "cell_type": "markdown",
   "metadata": {},
   "source": [
    "Le coût de la fonction ``variance`` est alors $O(n)$.\n",
    "\n",
    "Le coût d'un algorithme peut être évalué de manière plus précise et\n",
    "nécessiter un résultat comme $n^2 + 3n + 2$ mais cette exigence est\n",
    "rarement utile pour des langages comme *python*. L'expression\n",
    "``for x in tab:`` cache nécessairement un test qu'il faudrait prendre en\n",
    "compte si plus de précision était exigée. Il faudrait également se\n",
    "tourner vers un autre langage de programmation, plus précis dans sa syntaxe.\n",
    "Par exemple, lorsqu'on conçoit un programme avec le langage C ou C++,\n",
    "à partir du même code informatique, on peut construire deux programmes\n",
    "exécutables. Le premier (ou version *debug*), lent, sert à la mise au point :\n",
    "il inclut des tests supplémentaires permettant de vérifier à chaque étape\n",
    "qu'il n'y a pas eu d'erreur (une division par zéro par exemple).\n",
    "Lorsqu'on est sûr que le programme marche, on construit la seconde version\n",
    "(ou *release*), plus rapide, dont ont été ôtés tous ces tests de\n",
    "conception devenus inutiles.\n",
    "\n",
    "*python* aboutit à un programme lent qui inclut une quantité de tests\n",
    "invisibles pour celui qui programme mais qui détecte les erreurs plus vite\n",
    "et favorise une conception rapide. Il n'est pas adapté au traitement\n",
    "d'information en grand nombre et fait une multitude d'opérations cachées.\n",
    "\n",
    "## Héritage double\n",
    "\n",
    "On a besoin dans un programme de créer une classe ``carre`` et une classe\n",
    "``rectangle``. Mais on ne sait pas quelle classe doit hériter de l'autre.\n",
    "Dans le premier programme, ``rectangle`` hérite de ``carre``.\n",
    "\n"
   ]
  },
  {
   "cell_type": "code",
   "execution_count": null,
   "metadata": {
    "collapsed": false
   },
   "outputs": [],
   "source": [
    "class carre:\n",
    "    def __init__(self, a):\n",
    "        self.a = a\n",
    "\n",
    "    def surface(self):\n",
    "        return self.a**2\n",
    "\n",
    "\n",
    "class rectangle(carre):\n",
    "    def __init__(self, a, b):\n",
    "        carre.__init__(self, a)\n",
    "        self.b = b\n",
    "\n",
    "    def surface(self):\n",
    "        return self.a * self.b\n",
    "\n",
    "\n",
    "rectangle(3, 4).surface()"
   ]
  },
  {
   "cell_type": "markdown",
   "metadata": {},
   "source": [
    "Dans le second programme, c'est la classe ``carre``\n",
    "qui hérite de la classe ``rectangle``.\n",
    "\n"
   ]
  },
  {
   "cell_type": "code",
   "execution_count": null,
   "metadata": {
    "collapsed": false
   },
   "outputs": [],
   "source": [
    "class rectangle:\n",
    "    def __init__(self, a, b):\n",
    "        self.a = a\n",
    "        self.b = b\n",
    "\n",
    "    def surface(self):\n",
    "        return self.a * self.b\n",
    "\n",
    "\n",
    "class carre(rectangle):\n",
    "    def __init__(self, a):\n",
    "        rectangle.__init__(self, a, a)\n",
    "\n",
    "    def surface(self):\n",
    "        return self.a**2\n",
    "\n",
    "\n",
    "carre(3).surface()"
   ]
  },
  {
   "cell_type": "markdown",
   "metadata": {},
   "source": [
    "* Dans le second programme, est-il nécessaire de redéfinir\n",
    "  la méthode ``surface`` dans la classe ``carre`` ?\n",
    "* Quel est le sens d'héritage qui vous paraît le plus censé,\n",
    "  ``class  rectangle(carre)`` ou ``class  carre(rectangle)`` ?\n",
    "* On désire ajouter la classe ``losange``. Est-il plus simple que\n",
    "  ``rectangle`` hérite de la classe ``carre`` ou l'inverse pour introduire\n",
    "  la classe ``losange`` ? Quel ou quels attributs supplémentaires\n",
    "  faut-il introduire dans la classe ``losange`` ?\n",
    "\n"
   ]
  },
  {
   "cell_type": "code",
   "execution_count": null,
   "metadata": {
    "collapsed": false
   },
   "outputs": [],
   "source": [
    "# Le principe de l'héritage est qu'une classe ``carre`` héritant de la classe\n",
    "# ``rectangle`` hérite de ses attributs et méthodes. L'aire d'un carré est\n",
    "# égale à celle d'un rectangle dont les côtés sont égaux, par conséquent,\n",
    "# la méthode ``surface`` de la classe retourne la même valeur que celle de\n",
    "# la classe ``rectangle``. Il n'est donc pas nécessaire de la redéfinir.\n",
    "#\n",
    "# * D'après la réponse de la première question, il paraît plus logique de\n",
    "#   considérer que ``carre`` hérite de ``rectangle``.\n",
    "# * Un losange est défini par un côté et un angle ou un côté et la longueur\n",
    "#   d'une de ses diagonales, soit dans les deux cas, deux paramètres.\n",
    "#   Dans la première question, il paraissait plus logique que la classe\n",
    "#   la plus spécifique hérite de la classe la plus générale afin de bénéficier\n",
    "#   de ses méthodes. Pour introduire le losange, il paraît plus logique de\n",
    "#   partir du plus spécifique pour aller au plus général afin que chaque\n",
    "#   classe ne contienne que les informations qui lui sont nécessaires.\n",
    "\n",
    "\n",
    "class carre:\n",
    "    def __init__(self, a):\n",
    "        self.a = a\n",
    "\n",
    "    def surface(self):\n",
    "        return self.a**2\n",
    "\n",
    "\n",
    "class rectangle(carre):\n",
    "    def __init__(self, a, b):\n",
    "        carre.__init__(self, a)\n",
    "        self.b = b\n",
    "\n",
    "    def surface(self):\n",
    "        return self.a * self.b\n",
    "\n",
    "\n",
    "class losange(carre):\n",
    "    def __init__(self, a, theta):\n",
    "        carre.__init__(self, a)\n",
    "        self.theta = theta\n",
    "\n",
    "    def surface(self):\n",
    "        return self.a * math.cos(self.theta) * self.a * math.sin(self.theta) * 2\n",
    "\n",
    "\n",
    "losange(3, 1).surface()"
   ]
  },
  {
   "cell_type": "markdown",
   "metadata": {},
   "source": [
    "Le sens de l'héritage dépend de vos besoins. Si l'héritage porte principalement\n",
    "sur les méthodes, il est préférable de partir du plus général pour aller\n",
    "au plus spécifique. La première classe sert d'interface pour toutes ses filles.\n",
    "Si l'héritage porte principalement sur les attributs, il est préférable de\n",
    "partir du plus spécifique au plus général. Dans le cas général, il n'y a pas\n",
    "d'héritage plus sensé qu'un autre mais pour un problème donné,\n",
    "il y a souvent un héritage plus sensé qu'un autre.\n",
    "\n",
    "## Précision des calculs\n",
    "\n",
    "Voici un aperçu de la précision des calculs pour le calcul $1 - 10^{-n}$.\n",
    "L'exercice a pour but de montrer que l'ordinateur ne fait que des calculs approchés\n",
    "et que la précision du résultat dépend de la méthode numérique employée.\n",
    "\n"
   ]
  },
  {
   "cell_type": "code",
   "execution_count": null,
   "metadata": {
    "collapsed": false
   },
   "outputs": [],
   "source": [
    "x = 1.0\n",
    "for i in range(0, 19):\n",
    "    x = x / 10\n",
    "    print(i, \"\\t\", 1.0 - x, \"\\t\", x, \"\\t\", x ** (0.5))"
   ]
  },
  {
   "cell_type": "markdown",
   "metadata": {},
   "source": [
    "Le programme montre que l'ordinateur affiche ``1``\n",
    "lorsqu'il calcule $1-10^{-17}$.\n",
    "Cela signifie que la précision des calculs en *python*\n",
    "est au mieux de $10^{-16}$.\n",
    "C'est encore moins bon dans le cas de *float* ou\n",
    "réel simple précision codé sur\n",
    "4 octets au lieu de 8 pour les *double*.\n",
    "\n"
   ]
  },
  {
   "cell_type": "code",
   "execution_count": null,
   "metadata": {
    "collapsed": false
   },
   "outputs": [],
   "source": [
    "x = numpy.float32(1.0)\n",
    "for i in range(0, 19):\n",
    "    x = x / numpy.float32(10)\n",
    "    print(i, \"\\t\", 1.0 - x, \"\\t\", x, \"\\t\", x ** (0.5))"
   ]
  },
  {
   "cell_type": "markdown",
   "metadata": {},
   "source": [
    "On écrit une classe ``matrice_carree_2``\n",
    "qui représente une matrice carrée de dimension 2.\n",
    "\n"
   ]
  },
  {
   "cell_type": "code",
   "execution_count": null,
   "metadata": {
    "collapsed": false
   },
   "outputs": [],
   "source": [
    "class matrice_carree_2:\n",
    "    def __init__(self, a, b, c, d):\n",
    "        self.a, self.b, self.c, self.d = a, b, c, d\n",
    "\n",
    "    def determinant(self):\n",
    "        return self.a * self.d - self.b * self.c\n",
    "\n",
    "\n",
    "m1 = matrice_carree_2(1.0, 1e-6, 1e-6, 1.0)\n",
    "m2 = matrice_carree_2(1.0, 1e-9, 1e-9, 1.0)\n",
    "print(m1.determinant())\n",
    "print(m2.determinant())"
   ]
  },
  {
   "cell_type": "markdown",
   "metadata": {},
   "source": [
    "La seconde valeur est donc fausse. On considère maintenant la matrice\n",
    "$M = \\left(\\begin{array}{cc} 1 & 10^{-9} \\\\  10^{-9} & 1 \\end{array} \\right)$.\n",
    "\n",
    "On pose $D = \\det(M) = 1 - 10^{-18}$ et $T = tr(M) = 2$. $\\Delta$\n",
    "est le déterminant de *M* et *T* sa trace. On sait que les valeurs propres de\n",
    "*M* notées $\\lambda_1$, $\\lambda_2$ vérifient :\n",
    "\n",
    "\\begin{align}\\begin{array}{lll}\n",
    "      D &=& \\lambda_1 \\lambda_2 \\\\\n",
    "      T &=& \\lambda_1 + \\lambda_2\n",
    "      \\end{array}\\end{align}\n",
    "\n",
    "On vérifie que $(x - \\lambda_1)(x - \\lambda_2) = x^2 - x\n",
    "(\\lambda_1 + \\lambda_2) + \\lambda_1 \\lambda_2$.\n",
    "Les valeurs propres de $M$ sont donc solutions de l'équation :\n",
    "$x^2 - T x + D = 0$.\n",
    "\n",
    "Le discriminant de ce polynôme est $\\Delta = T^2 - 4 D$.\n",
    "On peut donc exprimer les valeurs propres de la matrice *M* par :\n",
    "\n",
    "\\begin{align}\\begin{array}{lll}\n",
    "      \\lambda_1 &=& \\frac{T - \\sqrt{\\Delta}}{2} \\\\\n",
    "      \\lambda_2 &=& \\frac{T + \\sqrt{\\Delta}}{2}\n",
    "      \\end{array}\\end{align}\n",
    "\n",
    "On ajoute donc la méthode suivante à la classe ``matrice_carree_2`` :\n",
    "\n"
   ]
  },
  {
   "cell_type": "code",
   "execution_count": null,
   "metadata": {
    "collapsed": false
   },
   "outputs": [],
   "source": [
    "class matrice_carree_2:\n",
    "    def __init__(self, a, b, c, d):\n",
    "        self.a, self.b, self.c, self.d = a, b, c, d\n",
    "\n",
    "    def determinant(self):\n",
    "        return self.a * self.d - self.b * self.c\n",
    "\n",
    "    def valeurs_propres(self):\n",
    "        det = self.determinant()\n",
    "        trace = self.a + self.d\n",
    "        delta = trace**2 - 4 * det\n",
    "        l1 = 0.5 * (trace - (delta ** (0.5)))\n",
    "        l2 = 0.5 * (trace + (delta ** (0.5)))\n",
    "        return l1, l2\n",
    "\n",
    "\n",
    "m1 = matrice_carree_2(1.0, 1e-6, 1e-6, 1.0)\n",
    "m2 = matrice_carree_2(1.0, 1e-9, 1e-9, 1.0)\n",
    "print(m1.valeurs_propres())\n",
    "print(m2.valeurs_propres())"
   ]
  },
  {
   "cell_type": "markdown",
   "metadata": {},
   "source": [
    "D'après l'énoncé, les valeurs propres de la matrice $M_2$ sont les\n",
    "sommes de celles de la matrice *I* et de la matrice $M'_2$.\n",
    "Par conséquent, ce second calcul mène au résultat suivant :\n",
    "\n",
    "::\n",
    "\n",
    "      l1    = 1-1e-9  = 0.99999999900000002828\n",
    "      l2    = 1+ 1e-9 = 1.000000001\n",
    "\n",
    "La précision des calculs prend sont importance ici. On décompose la matrice\n",
    "$M =  \\left(\\begin{array}{cc} 1 & 0 \\\\  0 & 1 \\end{array}\\right) +\n",
    "\\left(\\begin{array}{cc} 0 & 10^{-9} \\\\  10^{-9} & 0 \\end{array}\\right) = I + M'$.\n",
    "\n",
    "On peut démontrer que si $\\lambda$ est une valeur propre de $M'$,\n",
    "alors $1 + \\lambda$ est une valeur propre de *M*.\n",
    "Que donne le calcul des valeurs propres de $M'$ si on utilise la méthode\n",
    "``valeurs_propres`` pour ces deux matrices ?\n",
    "\n",
    "On considère maintenant la matrice\n",
    "$M'' = \\left(\\begin{array}{cc} 1 & 10^{-9} \\\\  -10^{-9} & 1 \\end{array}\\right)$.\n",
    "En décomposant la matrice $M''$ de la même manière qu'à la question 4,\n",
    "quelles sont les valeurs propres retournées par le programme pour la matrice\n",
    "$M''$ ? Quelles sont ses vraies valeurs propres ?\n",
    "\n",
    "La matrice $M''$ n'est en fait pas diagonalisable, c'est-à-dire que\n",
    "$tr(M'')^2 - 4 \\det{M''} = 4 - 4 (1 + 10^{-18}) < 0$.\n",
    "Or le calcul proposé par la question 3 aboutit au même résultat faux que pour\n",
    "la matrice $M_2$, les deux valeurs propres trouvées seront égales à 1.\n",
    "Si on applique la décomposition proposée :\n",
    "$M'' = I + \\left(\\begin{array}{cc}0&-10^{-9}\\\\\n",
    "10^{-9}&0\\end{array}\\right) = I + N''$.\n",
    "Le programme calcule sans erreur le discriminant négatif de la matrice $N''$\n",
    "qui n'est pas diagonalisable. Il est donc impossible d'obtenir des valeurs\n",
    "propres réelles pour la matrice $M''$ avec cette seconde méthode.\n",
    "Cette question montre qu'une erreur d'approximation peut rendre une\n",
    "matrice diagonalisable alors qu'elle ne l'est pas. Il faut bien choisir\n",
    "cette précision en fonction de la destination des calculs.\n",
    "\n"
   ]
  }
 ],
 "metadata": {
  "kernelspec": {
   "display_name": "Python 3",
   "language": "python",
   "name": "python3"
  },
  "language_info": {
   "codemirror_mode": {
    "name": "ipython",
    "version": 3
   },
   "file_extension": ".py",
   "mimetype": "text/x-python",
   "name": "python",
   "nbconvert_exporter": "python",
   "pygments_lexer": "ipython3",
   "version": "3.10.6"
  }
 },
 "nbformat": 4,
 "nbformat_minor": 0
}
