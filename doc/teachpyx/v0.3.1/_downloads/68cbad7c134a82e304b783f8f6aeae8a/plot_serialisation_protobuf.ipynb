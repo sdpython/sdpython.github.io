{
 "cells": [
  {
   "cell_type": "markdown",
   "metadata": {},
   "source": [
    "\n",
    "\n",
    "# Sérialisation avec protobuf\n",
    "\n",
    ":epkg:`protobuf` optimise la sérialisation de deux façons.\n",
    "Elle accélère l'écriture et la lecture des données et permet aussi\n",
    "un accès rapide à une information précise dans désérialiser\n",
    "les autres. Elle réalise cela en imposant un schéma strict de données.\n",
    "\n",
    "L'exemple fonctionne si l'exécutable `protoc` et le package `protobuf`\n",
    "ont des versions compatibles. Un message apparaîtra dans le cas contraire.\n",
    "\n",
    "::\n",
    "\n",
    "    protoc --version\n",
    "    python -c \"import google.protobuf as gp;print(gp.__version__)\"\n",
    "\n",
    "## Schéma\n",
    "\n",
    "On récupère l'exemple du [tutorial](https://developers.google.com/protocol-buffers/docs/pythontutorial).\n"
   ]
  },
  {
   "cell_type": "code",
   "execution_count": null,
   "metadata": {
    "collapsed": false
   },
   "outputs": [],
   "source": [
    "import os\n",
    "import sys\n",
    "import timeit\n",
    "import struct\n",
    "from io import BytesIO\n",
    "from sphinx_runpython.runpython import run_cmd\n",
    "import google.protobuf as gp\n",
    "from google.protobuf.json_format import MessageToJson, Parse as ParseJson\n",
    "\n",
    "schema = \"\"\"\n",
    "syntax = \"proto2\";\n",
    "\n",
    "package tutorial;\n",
    "\n",
    "message Person {\n",
    "  optional string name = 1;\n",
    "  optional int32 id = 2;\n",
    "  optional string email = 3;\n",
    "\n",
    "  enum PhoneType {\n",
    "    MOBILE = 0;\n",
    "    HOME = 1;\n",
    "    WORK = 2;\n",
    "  }\n",
    "\n",
    "  message PhoneNumber {\n",
    "    optional string number = 1;\n",
    "    optional PhoneType type = 2 [default = HOME];\n",
    "  }\n",
    "\n",
    "  repeated PhoneNumber phones = 4;\n",
    "}\n",
    "\n",
    "message AddressBook {\n",
    "  repeated Person people = 1;\n",
    "}\n",
    "\"\"\""
   ]
  },
  {
   "cell_type": "markdown",
   "metadata": {},
   "source": [
    "## Compilation\n",
    "\n",
    "Il faut d'abord récupérer le compilateur. Cela peut se faire depuis\n",
    "le site de :epkg:`protobuf` ou sur Linux (Ubuntu/Debian)\n",
    "``apt-get install protobuf-compiler`` pour obtenir le programme ``protoc``.\n",
    "\n"
   ]
  },
  {
   "cell_type": "code",
   "execution_count": null,
   "metadata": {
    "collapsed": false
   },
   "outputs": [],
   "source": [
    "version = gp.__version__\n",
    "version"
   ]
  },
  {
   "cell_type": "code",
   "execution_count": null,
   "metadata": {
    "collapsed": false
   },
   "outputs": [],
   "source": [
    "with open(\"schema.proto\", \"w\") as f:\n",
    "    f.write(schema)\n",
    "\n",
    "\n",
    "# Et on peut compiler.\n",
    "\n",
    "# In[8]:\n",
    "\n",
    "\n",
    "cmd = \"protoc --python_out=. schema.proto\"\n",
    "out, err = run_cmd(cmd=cmd, wait=True)\n",
    "print(out)\n",
    "print(err)"
   ]
  },
  {
   "cell_type": "markdown",
   "metadata": {},
   "source": [
    "Un fichier a été généré.\n",
    "\n"
   ]
  },
  {
   "cell_type": "code",
   "execution_count": null,
   "metadata": {
    "collapsed": false
   },
   "outputs": [],
   "source": [
    "[_ for _ in os.listdir(\".\") if \".py\" in _]"
   ]
  },
  {
   "cell_type": "code",
   "execution_count": null,
   "metadata": {
    "collapsed": false
   },
   "outputs": [],
   "source": [
    "with open(\"schema_pb2.py\", \"r\") as f:\n",
    "    content = f.read()\n",
    "print(content[:1000])"
   ]
  },
  {
   "cell_type": "markdown",
   "metadata": {},
   "source": [
    "## Import du module créé\n",
    "\n",
    "Pour utliser *protobuf*, il faut importer le module créé.\n",
    "\n"
   ]
  },
  {
   "cell_type": "code",
   "execution_count": null,
   "metadata": {
    "collapsed": false
   },
   "outputs": [],
   "source": [
    "sys.path.append(\".\")\n",
    "import schema_pb2  # noqa: E402"
   ]
  },
  {
   "cell_type": "markdown",
   "metadata": {},
   "source": [
    "On créé un enregistrement.\n",
    "\n"
   ]
  },
  {
   "cell_type": "code",
   "execution_count": null,
   "metadata": {
    "collapsed": false
   },
   "outputs": [],
   "source": [
    "person = schema_pb2.Person()\n",
    "person.id = 1234\n",
    "person.name = \"John Doe\"\n",
    "person.email = \"jdoe@example.com\"\n",
    "phone = person.phones.add()\n",
    "phone.number = \"555-4321\"\n",
    "phone.type = schema_pb2.Person.HOME"
   ]
  },
  {
   "cell_type": "code",
   "execution_count": null,
   "metadata": {
    "collapsed": false
   },
   "outputs": [],
   "source": [
    "person"
   ]
  },
  {
   "cell_type": "markdown",
   "metadata": {},
   "source": [
    "## Sérialisation en chaîne de caractères\n",
    "\n"
   ]
  },
  {
   "cell_type": "code",
   "execution_count": null,
   "metadata": {
    "collapsed": false
   },
   "outputs": [],
   "source": [
    "res = person.SerializeToString()\n",
    "type(res), res"
   ]
  },
  {
   "cell_type": "code",
   "execution_count": null,
   "metadata": {
    "collapsed": false
   },
   "outputs": [],
   "source": [
    "timeit.timeit(\"person.SerializeToString()\", globals=globals(), number=100)"
   ]
  },
  {
   "cell_type": "code",
   "execution_count": null,
   "metadata": {
    "collapsed": false
   },
   "outputs": [],
   "source": [
    "pers = schema_pb2.Person.FromString(res)\n",
    "pers"
   ]
  },
  {
   "cell_type": "code",
   "execution_count": null,
   "metadata": {
    "collapsed": false
   },
   "outputs": [],
   "source": [
    "pers = schema_pb2.Person()\n",
    "pers.ParseFromString(res)\n",
    "pers"
   ]
  },
  {
   "cell_type": "code",
   "execution_count": null,
   "metadata": {
    "collapsed": false
   },
   "outputs": [],
   "source": [
    "timeit.timeit(\"schema_pb2.Person.FromString(res)\", globals=globals(), number=100)"
   ]
  },
  {
   "cell_type": "code",
   "execution_count": null,
   "metadata": {
    "collapsed": false
   },
   "outputs": [],
   "source": [
    "timeit.timeit(\"pers.ParseFromString(res)\", globals=globals(), number=100)"
   ]
  },
  {
   "cell_type": "markdown",
   "metadata": {},
   "source": [
    "## Plusieurs chaînes de caractères\n",
    "\n"
   ]
  },
  {
   "cell_type": "code",
   "execution_count": null,
   "metadata": {
    "collapsed": false
   },
   "outputs": [],
   "source": [
    "db = []\n",
    "\n",
    "person = schema_pb2.Person()\n",
    "person.id = 1234\n",
    "person.name = \"John Doe\"\n",
    "person.email = \"jdoe@example.com\"\n",
    "phone = person.phones.add()\n",
    "phone.number = \"555-4321\"\n",
    "phone.type = schema_pb2.Person.HOME\n",
    "db.append(person)\n",
    "\n",
    "person = schema_pb2.Person()\n",
    "person.id = 5678\n",
    "person.name = \"Johnette Doette\"\n",
    "person.email = \"jtdoet@example2.com\"\n",
    "phone = person.phones.add()\n",
    "phone.number = \"777-1234\"\n",
    "phone.type = schema_pb2.Person.MOBILE\n",
    "db.append(person)"
   ]
  },
  {
   "cell_type": "code",
   "execution_count": null,
   "metadata": {
    "collapsed": false
   },
   "outputs": [],
   "source": [
    "buffer = BytesIO()\n",
    "for p in db:\n",
    "    size = p.ByteSize()\n",
    "    buffer.write(struct.pack(\"i\", size))\n",
    "    buffer.write(p.SerializeToString())\n",
    "res = buffer.getvalue()\n",
    "res"
   ]
  },
  {
   "cell_type": "code",
   "execution_count": null,
   "metadata": {
    "collapsed": false
   },
   "outputs": [],
   "source": [
    "db2 = []\n",
    "buffer = BytesIO(res)\n",
    "n = 0\n",
    "while True:\n",
    "    bsize = buffer.read(4)\n",
    "    if len(bsize) == 0:\n",
    "        # C'est fini.\n",
    "        break\n",
    "    size = struct.unpack(\"i\", bsize)[0]\n",
    "    data = buffer.read(size)\n",
    "    p = schema_pb2.Person.FromString(data)\n",
    "    db2.append(p)"
   ]
  },
  {
   "cell_type": "code",
   "execution_count": null,
   "metadata": {
    "collapsed": false
   },
   "outputs": [],
   "source": [
    "db2[0], db2[1]"
   ]
  },
  {
   "cell_type": "markdown",
   "metadata": {},
   "source": [
    "## Sérialisation JSON\n",
    "\n"
   ]
  },
  {
   "cell_type": "code",
   "execution_count": null,
   "metadata": {
    "collapsed": false
   },
   "outputs": [],
   "source": [
    "print(MessageToJson(pers))"
   ]
  },
  {
   "cell_type": "code",
   "execution_count": null,
   "metadata": {
    "collapsed": false
   },
   "outputs": [],
   "source": [
    "timeit.timeit(\"MessageToJson(pers)\", globals=globals(), number=100)"
   ]
  },
  {
   "cell_type": "code",
   "execution_count": null,
   "metadata": {
    "collapsed": false
   },
   "outputs": [],
   "source": [
    "js = MessageToJson(pers)\n",
    "res = ParseJson(js, message=schema_pb2.Person())\n",
    "res"
   ]
  },
  {
   "cell_type": "code",
   "execution_count": null,
   "metadata": {
    "collapsed": false
   },
   "outputs": [],
   "source": [
    "timeit.timeit(\n",
    "    \"ParseJson(js, message=schema_pb2.Person())\", globals=globals(), number=100\n",
    ")"
   ]
  }
 ],
 "metadata": {
  "kernelspec": {
   "display_name": "Python 3",
   "language": "python",
   "name": "python3"
  },
  "language_info": {
   "codemirror_mode": {
    "name": "ipython",
    "version": 3
   },
   "file_extension": ".py",
   "mimetype": "text/x-python",
   "name": "python",
   "nbconvert_exporter": "python",
   "pygments_lexer": "ipython3",
   "version": "3.10.6"
  }
 },
 "nbformat": 4,
 "nbformat_minor": 0
}
