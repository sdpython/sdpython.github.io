{
  "cells": [
    {
      "cell_type": "markdown",
      "metadata": {},
      "source": [
        "\n\n# Hypercube et autres exercices\n\nExercices autour de tableaux en plusieurs dimensions et autres exercices.\n\n## Q1 - triple r\u00e9cursivit\u00e9\n\nR\u00e9\u00e9crire la fonction ``u`` de fa\u00e7on \u00e0 ce qu'elle ne soit plus r\u00e9currente.\n"
      ]
    },
    {
      "cell_type": "code",
      "execution_count": null,
      "metadata": {
        "collapsed": false
      },
      "outputs": [],
      "source": [
        "def u(n):\n    if n <= 2:\n        return 1\n    else:\n        return u(n - 1) + u(n - 2) + u(n - 3)\n\n\nu(5)"
      ]
    },
    {
      "cell_type": "markdown",
      "metadata": {},
      "source": [
        "Le probl\u00e8me de cette \u00e9criture est que la fonction est triplement\nr\u00e9cursive et que son co\u00fbt est aussi grand que la fonction elle-m\u00eame. V\u00e9rifions.\n\n"
      ]
    },
    {
      "cell_type": "code",
      "execution_count": null,
      "metadata": {
        "collapsed": false
      },
      "outputs": [],
      "source": [
        "compteur = []\n\n\ndef u_st(n):\n    global compteur\n    compteur.append(n)\n    if n <= 2:\n        return 1\n    else:\n        return u_st(n - 1) + u_st(n - 2) + u_st(n - 3)\n\n\nu_st(5), compteur"
      ]
    },
    {
      "cell_type": "markdown",
      "metadata": {},
      "source": [
        "La seconde liste retourne tous les *n* pour lesquels la fonction\n``u_st`` a \u00e9t\u00e9 appel\u00e9e.\n\n"
      ]
    },
    {
      "cell_type": "code",
      "execution_count": null,
      "metadata": {
        "collapsed": false
      },
      "outputs": [],
      "source": [
        "def u_non_recursif(n):\n    if n <= 2:\n        return 1\n    u0 = 1\n    u1 = 1\n    u2 = 1\n    i = 3\n    while i <= n:\n        u = u0 + u1 + u2\n        u0 = u1\n        u1 = u2\n        u2 = u\n        i += 1\n    return u\n\n\nu_non_recursif(5)"
      ]
    },
    {
      "cell_type": "markdown",
      "metadata": {},
      "source": [
        "## Q2 - comparaison de listes\n\nOn consid\u00e8re deux listes d'entiers. La premi\u00e8re est inf\u00e9rieure \u00e0 la seconde\nsi l'une des deux conditions suivantes est v\u00e9rifi\u00e9e :\n\n* les *n* premiers nombres sont \u00e9gaux mais la premi\u00e8re liste ne contient que\n  *n* \u00e9l\u00e9ments tandis que la seconde est plus longue,\n* les *n* premiers nombres sont \u00e9gaux mais que le $n+1^{\\text{\u00e8me}}$ de la\n  premi\u00e8re liste est inf\u00e9rieur au $n+1^{\\text{\u00e8me}}$ de la seconde liste\n\nPar cons\u00e9quent, si *l* est la longueur de la liste la plus courte,\ncomparer ces deux listes d'entiers revient \u00e0 parcourir tous les indices\ndepuis 0 jusqu'\u00e0 *l* exclu et \u00e0 s'arr\u00eater sur la premi\u00e8re diff\u00e9rence qui\nd\u00e9termine le r\u00e9sultat. S'il n'y pas de diff\u00e9rence, alors la liste la\nplus courte est la premi\u00e8re. Il faut \u00e9crire une fonction\n``compare_liste(p,q)`` qui impl\u00e9mente cet algorithme.\n\n"
      ]
    },
    {
      "cell_type": "code",
      "execution_count": null,
      "metadata": {
        "collapsed": false
      },
      "outputs": [],
      "source": [
        "def compare_liste(p, q):\n    i = 0\n    while i < len(p) and i < len(q):\n        if p[i] < q[i]:\n            return -1  # on peut d\u00e9cider\n        elif p[i] > q[i]:\n            return 1  # on peut d\u00e9cider\n        i += 1  # on ne peut pas d\u00e9cider\n    # fin de la boucle, il faut d\u00e9cider \u00e0 partir des longueurs des listes\n    if len(p) < len(q):\n        return -1\n    elif len(p) > len(q):\n        return 1\n    else:\n        return 0\n\n\ncompare_liste([0, 1], [0, 1, 2])"
      ]
    },
    {
      "cell_type": "code",
      "execution_count": null,
      "metadata": {
        "collapsed": false
      },
      "outputs": [],
      "source": [
        "compare_liste([0, 1, 3], [0, 1, 2])"
      ]
    },
    {
      "cell_type": "code",
      "execution_count": null,
      "metadata": {
        "collapsed": false
      },
      "outputs": [],
      "source": [
        "compare_liste([0, 1, 2], [0, 1, 2])"
      ]
    },
    {
      "cell_type": "code",
      "execution_count": null,
      "metadata": {
        "collapsed": false
      },
      "outputs": [],
      "source": [
        "compare_liste([0, 1, 2, 4], [0, 1, 2])"
      ]
    },
    {
      "cell_type": "markdown",
      "metadata": {},
      "source": [
        "## Q3 - pr\u00e9cision des calculs\n\nOn cherche \u00e0 calculer la somme des termes d'une suite g\u00e9om\u00e9triques\nde raison $\\frac{1}{2}$. On d\u00e9finit $r=\\frac{1}{2}$, on cherche donc\n\u00e0 calculer $\\sum_{i=0}^{\\infty} r^i$ qui une somme convergente mais infinie.\nLe programme suivant permet d'en calculer une valeur approch\u00e9e.\nIl retourne, outre le r\u00e9sultat, le nombre d'it\u00e9rations\nqui ont permis d'estimer le r\u00e9sultat.\n\n"
      ]
    },
    {
      "cell_type": "code",
      "execution_count": null,
      "metadata": {
        "collapsed": false
      },
      "outputs": [],
      "source": [
        "def suite_geometrique_1(r):\n    x = 1.0\n    y = 0.0\n    n = 0\n    while x > 0:\n        y += x\n        x *= r\n        n += 1\n    return y, n\n\n\nprint(suite_geometrique_1(0.5))"
      ]
    },
    {
      "cell_type": "markdown",
      "metadata": {},
      "source": [
        "Un informaticien plus exp\u00e9riment\u00e9 a \u00e9crit le programme suivant qui\nretourne le m\u00eame r\u00e9sultat mais avec un nombre d'it\u00e9rations beaucoup plus petit.\n\n"
      ]
    },
    {
      "cell_type": "code",
      "execution_count": null,
      "metadata": {
        "collapsed": false
      },
      "outputs": [],
      "source": [
        "def suite_geometrique_2(r):\n    x = 1.0\n    y = 0.0\n    n = 0\n    yold = y + 1\n    while abs(yold - y) > 0:\n        yold = y\n        y += x\n        x *= r\n        n += 1\n    return y, n\n\n\nprint(suite_geometrique_2(0.5))"
      ]
    },
    {
      "cell_type": "markdown",
      "metadata": {},
      "source": [
        "Expliquez pourquoi le second programme est plus rapide tout en\nretournant le m\u00eame r\u00e9sultat. Rep\u00e8re num\u00e9rique : $2^{-55} \\sim 2,8.10^{-17}$.\n\nTout d'abord le second programme est plus rapide car il effectue moins\nd'it\u00e9rations, 55 au lieu de 1075. Maintenant, il s'agit de savoir pourquoi\nle second programme retourne le m\u00eame r\u00e9sultat que le premier mais plus\nrapidement. L'ordinateur ne peut pas calculer num\u00e9riquement une somme infinie,\nil s'agit toujours d'une valeur approch\u00e9e. L'approximation d\u00e9pend de la\npr\u00e9cision des calculs, environ 14 chiffres pour *python*. Dans le premier programme,\non s'arr\u00eate lorsque $r^n$ devient nul, autrement dit, on\ns'arr\u00eate lorsque *x* est si petit que *python* ne peut plus le\nrepr\u00e9senter autrement que par 0,\nc'est-\u00e0-dire qu'il n'est pas possible de repr\u00e9senter un nombre dans l'intervalle\n$[0,2^{-1055}]$.\n\nToutefois, il n'est pas indispensable d'aller aussi loin car\nl'ordinateur n'est de toute fa\u00e7on pas capable d'ajouter un nombre\naussi petit \u00e0 un nombre plus grand que 1. Par exemple,\n$1 + 10^{17} = 1,000\\, 000\\, 000\\, 000\\, 000\\, 01$.\nComme la pr\u00e9cision des calculs n'est que de 15 chiffres,\npour *python*, $1 + 10^{17} = 1$.\nLe second programme s'inspire de cette remarque : le calcul s'arr\u00eate\nlorsque le r\u00e9sultat de la somme n'\u00e9volue plus car il additionne des\nnombres trop petits \u00e0 un nombre trop grand. L'id\u00e9e est donc de comparer\nla somme d'une it\u00e9ration \u00e0 l'autre et de s'arr\u00eater lorsqu'elle n'\u00e9volue plus.\n\nCe raisonnement n'est pas toujours applicable. Il est valide dans ce cas\ncar la s\u00e9rie $s_n = \\sum_{i=0}^{n} r^i$ est croissante et positive.\nIl est valide pour une s\u00e9rie convergente de la forme $s_n = \\sum_{i=0}^{n} u_i$\net une suite $u_n$ de module d\u00e9croissant.\n\n## Q4 - hypercube\n\nUn chercheur cherche \u00e0 v\u00e9rifier qu'une suite de 0 et de 1 est al\u00e9atoire.\nPour cela, il souhaite compter le nombre de s\u00e9quences de *n* nombres successifs.\nPar exemple, pour la suite 01100111 et $n=3$, les triplets sont\n011, 110, 100, 001, 011, 111. Le triplet 011 appara\u00eet deux fois,\nles autres une fois. Si la suite est al\u00e9atoire, les occurrences de chaque\ntriplet sont en nombres \u00e9quivalents.\n\n"
      ]
    },
    {
      "cell_type": "code",
      "execution_count": null,
      "metadata": {
        "collapsed": false
      },
      "outputs": [],
      "source": [
        "def hyper_cube_liste(n, m=None):\n    if m is None:\n        m = [0, 0]\n    if n > 1:\n        m[0] = [0, 0]\n        m[1] = [0, 0]\n        m[0] = hyper_cube_liste(n - 1, m[0])\n        m[1] = hyper_cube_liste(n - 1, m[1])\n    return m\n\n\nhyper_cube_liste(3)"
      ]
    },
    {
      "cell_type": "markdown",
      "metadata": {},
      "source": [
        "La seconde \u00e0 base de dictionnaire (plus facile \u00e0 manipuler) :\n\n"
      ]
    },
    {
      "cell_type": "code",
      "execution_count": null,
      "metadata": {
        "collapsed": false
      },
      "outputs": [],
      "source": [
        "def hyper_cube_dico(n):\n    r = {}\n    ind = [0 for i in range(n)]\n    while ind[0] <= 1:\n        cle = tuple(ind)  # conversion d'une liste en tuple\n        r[cle] = 0\n        ind[-1] += 1\n        k = len(ind) - 1\n        while ind[k] == 2 and k > 0:\n            ind[k] = 0\n            ind[k - 1] += 1\n            k -= 1\n    return r\n\n\nhyper_cube_dico(3)"
      ]
    },
    {
      "cell_type": "markdown",
      "metadata": {},
      "source": [
        "Le chercheur a commenc\u00e9 \u00e0 \u00e9crire son programme :\n\n"
      ]
    },
    {
      "cell_type": "code",
      "execution_count": null,
      "metadata": {
        "collapsed": false
      },
      "outputs": [],
      "source": [
        "def occurrence(li, n):\n    # d = ....... # choix d'un hyper_cube (n)\n    # .....\n    # return d\n    pass\n\n\nsuite = [0, 1, 0, 1, 1, 0, 1, 0, 0, 0, 1, 1, 0, 1, 1, 1, 0, 0, 1, 1]\nh = occurrence(suite, 3)\nh"
      ]
    },
    {
      "cell_type": "markdown",
      "metadata": {},
      "source": [
        "Sur quelle structure se porte votre choix (a priori celle avec dictionnaire),\ncompl\u00e9ter la fonction ``occurrence``.\n\n"
      ]
    },
    {
      "cell_type": "code",
      "execution_count": null,
      "metadata": {
        "collapsed": false
      },
      "outputs": [],
      "source": [
        "def occurrence(tu, n):\n    d = hyper_cube_dico(n)\n    for i in range(len(tu) - n):\n        cle = tu[i : i + n]\n        d[cle] += 1\n    return d\n\n\noccurrence((1, 0, 1, 1, 0, 1, 0), 3)"
      ]
    },
    {
      "cell_type": "markdown",
      "metadata": {},
      "source": [
        "Il est m\u00eame possible de se passer de la fonction ``hyper_cube_dico`` :\n\n"
      ]
    },
    {
      "cell_type": "code",
      "execution_count": null,
      "metadata": {
        "collapsed": false
      },
      "outputs": [],
      "source": [
        "def occurrence2(tu, n):\n    d = {}\n    for i in range(len(tu) - n):\n        cle = tu[i : i + n]\n        if cle not in d:\n            d[cle] = 0\n        d[cle] += 1\n    return d\n\n\noccurrence2((1, 0, 1, 1, 0, 1, 0), 3)"
      ]
    },
    {
      "cell_type": "markdown",
      "metadata": {},
      "source": [
        "La seule diff\u00e9rence appara\u00eet lorsqu'un n-uplet n'appara\u00eet pas dans\nla liste. Avec la fonction ``hyper_cube_dico``, ce n-uplet recevra la\nfr\u00e9quence 0, sans cette fonction, ce n-uplet ne sera pas pr\u00e9sent\ndans le dictionnaire ``d``. Le m\u00eame programme avec la structure matricielle\nest plus une curiosit\u00e9 qu'un cas utile.\n\n"
      ]
    },
    {
      "cell_type": "code",
      "execution_count": null,
      "metadata": {
        "collapsed": false
      },
      "outputs": [],
      "source": [
        "def occurrence3(li, n):\n    d = hyper_cube_liste(n)\n    for i in range(len(li) - n):\n        cle = li[i : i + n]\n        t = d  #\n        for k in range(n - 1):  # point cl\u00e9 de la fonction :\n            t = t[cle[k]]  #                acc\u00e8s \u00e0 un \u00e9l\u00e9ment\n        t[cle[n - 1]] += 1\n    return d\n\n\noccurrence3((1, 0, 1, 1, 0, 1, 0), 3)"
      ]
    },
    {
      "cell_type": "markdown",
      "metadata": {},
      "source": [
        "Une autre \u00e9criture...\n\n"
      ]
    },
    {
      "cell_type": "code",
      "execution_count": null,
      "metadata": {
        "collapsed": false
      },
      "outputs": [],
      "source": [
        "def hyper_cube_liste2(n, m=[0, 0], m2=[0, 0]):  # noqa: B006\n    if n > 1:\n        m[0] = list(m2)\n        m[1] = list(m2)\n        m[0] = hyper_cube_liste2(n - 1, m[0])\n        m[1] = hyper_cube_liste2(n - 1, m[1])\n    return m\n\n\ndef occurrence4(li, n):\n    d = hyper_cube_liste2(n)  # * remarque voir plus bas\n    for i in range(len(li) - n):\n        cle = li[i : i + n]\n        t = d  #\n        for k in range(n - 1):  # point cl\u00e9 de la fonction :\n            t = t[cle[k]]  # acc\u00e8s \u00e0 un \u00e9l\u00e9ment\n        t[cle[n - 1]] += 1\n    return d\n\n\noccurrence4((1, 0, 1, 1, 0, 1, 0), 3)"
      ]
    },
    {
      "cell_type": "markdown",
      "metadata": {},
      "source": [
        "Et si on remplace ``list(m2)`` par ``m2``.\n\n"
      ]
    },
    {
      "cell_type": "code",
      "execution_count": null,
      "metadata": {
        "collapsed": false
      },
      "outputs": [],
      "source": [
        "def hyper_cube_liste3(n, m=[0, 0], m2=[0, 0]):  # noqa: B006\n    if n > 1:\n        m[0] = m2\n        m[1] = m2\n        m[0] = hyper_cube_liste3(n - 1, m[0])\n        m[1] = hyper_cube_liste3(n - 1, m[1])\n    return m\n\n\ndef occurrence5(li, n):\n    d = hyper_cube_liste3(n)  # * remarque voir plus bas\n    for i in range(len(li) - n):\n        cle = li[i : i + n]\n        t = d  #\n        for k in range(n - 1):  # point cl\u00e9 de la fonction :\n            t = t[cle[k]]  # acc\u00e8s \u00e0 un \u00e9l\u00e9ment\n        t[cle[n - 1]] += 1\n    return d\n\n\ntry:\n    occurrence5((1, 0, 1, 1, 0, 1, 0), 3)\nexcept Exception as e:\n    print(e)"
      ]
    },
    {
      "cell_type": "markdown",
      "metadata": {},
      "source": [
        "Int\u00e9ressant...\n\n"
      ]
    }
  ],
  "metadata": {
    "kernelspec": {
      "display_name": "Python 3",
      "language": "python",
      "name": "python3"
    },
    "language_info": {
      "codemirror_mode": {
        "name": "ipython",
        "version": 3
      },
      "file_extension": ".py",
      "mimetype": "text/x-python",
      "name": "python",
      "nbconvert_exporter": "python",
      "pygments_lexer": "ipython3",
      "version": "3.10.12"
    }
  },
  "nbformat": 4,
  "nbformat_minor": 0
}