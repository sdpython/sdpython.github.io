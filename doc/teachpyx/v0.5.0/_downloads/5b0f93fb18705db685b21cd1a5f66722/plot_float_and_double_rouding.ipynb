{
  "cells": [
    {
      "cell_type": "markdown",
      "metadata": {},
      "source": [
        "\n# Float Conversion\n\nI came up with the following question\n$(float64)x < (float64)y \\Longrightarrow (float32) x < (float32)y$?\nWhat is the probability this holds?\n\n## Probability (float64)x == (float32)x\n\nLet's evaluate how many time we draw a random double\nnumber equal to its float conversion.\n"
      ]
    },
    {
      "cell_type": "code",
      "execution_count": null,
      "metadata": {
        "collapsed": false
      },
      "outputs": [],
      "source": [
        "import random\nimport numpy\nimport pandas\nimport matplotlib.pyplot as plt\n\n\nrnd = numpy.random.random(100000000)\nrnd.shape, rnd.dtype"
      ]
    },
    {
      "cell_type": "code",
      "execution_count": null,
      "metadata": {
        "collapsed": false
      },
      "outputs": [],
      "source": [
        "rnd32 = rnd.astype(numpy.float32).astype(numpy.float64)\nequal = (rnd == rnd32).sum()\nequal"
      ]
    },
    {
      "cell_type": "markdown",
      "metadata": {},
      "source": [
        "It is very low. Let's check the reverse is true.\n\n"
      ]
    },
    {
      "cell_type": "code",
      "execution_count": null,
      "metadata": {
        "collapsed": false
      },
      "outputs": [],
      "source": [
        "rnd32b = rnd32.astype(numpy.float64).astype(numpy.float32)\nequal = (rnd32b == rnd32).sum()\nequal"
      ]
    },
    {
      "cell_type": "markdown",
      "metadata": {},
      "source": [
        "Let's study the distribution of the difference.\n\n"
      ]
    },
    {
      "cell_type": "code",
      "execution_count": null,
      "metadata": {
        "collapsed": false
      },
      "outputs": [],
      "source": [
        "delta = rnd - rnd32\nnumpy.min(delta), numpy.max(delta)"
      ]
    },
    {
      "cell_type": "code",
      "execution_count": null,
      "metadata": {
        "collapsed": false
      },
      "outputs": [],
      "source": [
        "numpy.min(rnd), numpy.max(rnd)"
      ]
    },
    {
      "cell_type": "code",
      "execution_count": null,
      "metadata": {
        "collapsed": false
      },
      "outputs": [],
      "source": [
        "plt.hist(delta, bins=1000)"
      ]
    },
    {
      "cell_type": "markdown",
      "metadata": {},
      "source": [
        "We finally check that double operations between float numpers remain floats.\n\n"
      ]
    },
    {
      "cell_type": "code",
      "execution_count": null,
      "metadata": {
        "collapsed": false
      },
      "outputs": [],
      "source": [
        "for i in range(100000):\n    i, j = random.randint(0, len(rnd32) - 1), random.randint(0, len(rnd32) - 1)\n    d32 = numpy.float64(rnd32[i] * rnd32[j])\n    d64 = numpy.float64(rnd32[i]) * numpy.float64(rnd32[j])\n    if d32 != d64:\n        raise AssertionError(\n            \"Issue with somme={0} = {1} + {2}\".format(\n                rnd32[i] + rnd32[j], rnd32[i], rnd32[j]\n            )\n        )"
      ]
    },
    {
      "cell_type": "markdown",
      "metadata": {},
      "source": [
        "## Interval length distribution\n\nLet's imagine now we want to define an intervalle in which a\ndouble is converted to the same float. Let's find out about it length.\n\n"
      ]
    },
    {
      "cell_type": "code",
      "execution_count": null,
      "metadata": {
        "collapsed": false
      },
      "outputs": [],
      "source": [
        "def find_interval(x):\n    dx = numpy.abs(x - numpy.float32(x))  # usually not zero\n    dx /= 100\n    f = numpy.float32(x)\n    x1 = x\n    while numpy.float32(x1) == f:\n        x1 -= dx\n    x2 = x\n    while numpy.float32(x2) == f:\n        x2 += dx\n    return x1 + dx, x2 - dx\n\n\nlength = numpy.zeros((2000,))\nfor i in range(length.shape[0]):\n    x = rnd[i]\n    x1, x2 = find_interval(x)\n    length[i] = x2 - x1\n\nmin(length), max(length)"
      ]
    },
    {
      "cell_type": "code",
      "execution_count": null,
      "metadata": {
        "collapsed": false
      },
      "outputs": [],
      "source": [
        "plt.hist(length, bins=50)"
      ]
    },
    {
      "cell_type": "markdown",
      "metadata": {},
      "source": [
        "So we can approximate this interval by something like this:\n\n"
      ]
    },
    {
      "cell_type": "code",
      "execution_count": null,
      "metadata": {
        "collapsed": false
      },
      "outputs": [],
      "source": [
        "ql = numpy.sort(length)[int(length.shape[0] * 0.8)]\nql"
      ]
    },
    {
      "cell_type": "markdown",
      "metadata": {},
      "source": [
        "## An answer to the initial question\n\nLet's estimate\n$\\mathbb{P}\\left(x_{64} < y_{64} \\Longrightarrow x_{32}\n< y_{32} \\; | \\; |x-y| \\leqslant d\\right)$ ?\n\n"
      ]
    },
    {
      "cell_type": "code",
      "execution_count": null,
      "metadata": {
        "collapsed": false
      },
      "outputs": [],
      "source": [
        "def inf_strict(x, y):\n    f1 = x < y\n    f2 = numpy.float32(x) < numpy.float32(y)\n    return f1, f2\n\n\ndef count_events(fct):\n    rows = []\n    for di in range(1, 1001):\n        d = di * ql / 100\n        total = 0\n        ok = 0\n        rnd = numpy.random.random((2000 * 3,))\n        for i in range(0, rnd.shape[0], 3):\n            s = -1 if rnd[i + 2] < 0.5 else 1\n            x, y = rnd[i], rnd[i] + rnd[i + 1] * d * s\n            f1, f2 = fct(x, y)\n            if f1:\n                total += 1\n                if f2:\n                    ok += 1\n        if (di + 10) % 100 == 0:\n            print(di, d, \":\", ok, total)\n        rows.append(dict(d=d, ratio=ok * 1.0 / total, total=total))\n\n    return pandas.DataFrame(rows)\n\n\ndf = count_events(inf_strict)\ndf.head()"
      ]
    },
    {
      "cell_type": "code",
      "execution_count": null,
      "metadata": {
        "collapsed": false
      },
      "outputs": [],
      "source": [
        "df.plot(x=\"d\", y=\"ratio\")"
      ]
    },
    {
      "cell_type": "code",
      "execution_count": null,
      "metadata": {
        "collapsed": false
      },
      "outputs": [],
      "source": [
        "df.plot(x=\"d\", y=\"ratio\", logx=True)"
      ]
    },
    {
      "cell_type": "markdown",
      "metadata": {},
      "source": [
        "## An answer to a similar question: what about not strict comparison?\n\nLet's estimate\n$\\mathbb{P}\\left(x_{64} \\leqslant y_{64} \\Longrightarrow x_{32}\n\\leqslant y_{32} \\; | \\; |x-y| \\leqslant d\\right)$ ?\n\n"
      ]
    },
    {
      "cell_type": "code",
      "execution_count": null,
      "metadata": {
        "collapsed": false
      },
      "outputs": [],
      "source": [
        "def inf_equal(x, y):\n    f1 = x <= y\n    f2 = numpy.float32(x) <= numpy.float32(y)\n    return f1, f2\n\n\ndf2 = count_events(inf_equal)\ndf2.head()"
      ]
    },
    {
      "cell_type": "code",
      "execution_count": null,
      "metadata": {
        "collapsed": false
      },
      "outputs": [],
      "source": [
        "ax = df.plot(x=\"d\", y=\"ratio\", logx=True, label=\"<\")\ndf2.plot(x=\"d\", y=\"ratio\", logx=True, label=\"<=\", ax=ax)"
      ]
    },
    {
      "cell_type": "code",
      "execution_count": null,
      "metadata": {
        "collapsed": false
      },
      "outputs": [],
      "source": [
        "def sup_strict(x, y):\n    f1 = x > y\n    f2 = numpy.float32(x) > numpy.float32(y)\n    return f1, f2\n\n\ndf3 = count_events(sup_strict)\ndf3.head()"
      ]
    },
    {
      "cell_type": "code",
      "execution_count": null,
      "metadata": {
        "collapsed": false
      },
      "outputs": [],
      "source": [
        "ax = df.plot(x=\"d\", y=\"ratio\", logx=True, label=\"<\")\ndf2.plot(x=\"d\", y=\"ratio\", logx=True, label=\"<=\", ax=ax)\ndf3.plot(x=\"d\", y=\"ratio\", logx=True, label=\">\", ax=ax)"
      ]
    },
    {
      "cell_type": "code",
      "execution_count": null,
      "metadata": {
        "collapsed": false
      },
      "outputs": [],
      "source": [
        "def sup_equal(x, y):\n    f1 = x >= y\n    f2 = numpy.float32(x) >= numpy.float32(y)\n    return f1, f2\n\n\ndf4 = count_events(sup_equal)\ndf4.head()"
      ]
    },
    {
      "cell_type": "code",
      "execution_count": null,
      "metadata": {
        "collapsed": false
      },
      "outputs": [],
      "source": [
        "ax = df.plot(x=\"d\", y=\"ratio\", logx=True, label=\"<\")\ndf2.plot(x=\"d\", y=\"ratio\", logx=True, label=\"<=\", ax=ax)\ndf3.plot(x=\"d\", y=\"ratio\", logx=True, label=\">\", ax=ax)\ndf4.plot(x=\"d\", y=\"ratio\", logx=True, label=\">=\", ax=ax)"
      ]
    },
    {
      "cell_type": "code",
      "execution_count": null,
      "metadata": {
        "collapsed": false
      },
      "outputs": [],
      "source": [
        "def inf_strict_neg(x, y):\n    f1 = (-x) >= (-y)\n    f2 = (-numpy.float32(x)) >= (-numpy.float32(y))\n    return f1, f2\n\n\ndfn = count_events(inf_strict_neg)\ndfn.head()"
      ]
    },
    {
      "cell_type": "code",
      "execution_count": null,
      "metadata": {
        "collapsed": false
      },
      "outputs": [],
      "source": [
        "ax = df.plot(x=\"d\", y=\"ratio\", logx=True, label=\"<\")\ndfn.plot(x=\"d\", y=\"ratio\", logx=True, label=\"-1 x >=\", ax=ax)"
      ]
    },
    {
      "cell_type": "markdown",
      "metadata": {},
      "source": [
        "## Conclusion\n\nThe result is expected. As soon as two float are rounded to the same value,\nthe strict inequality no longer holds. However, if you need to write a\ncode which has to handle double and float (in a template for example),\nyou should use not strict inequalities. It is easier to compare the results\nbut you should read some article like [Is]( faster than <=?\n<https://stackoverflow.com/questions/12135518/is-faster-than).\nAccording to\n[Processing costs of non-strict versus strict comparison](http://www.crcummins.com/CRCProcessing.pdf), ``<`` is 5-10% faster than ``<=``.\n\n"
      ]
    }
  ],
  "metadata": {
    "kernelspec": {
      "display_name": "Python 3",
      "language": "python",
      "name": "python3"
    },
    "language_info": {
      "codemirror_mode": {
        "name": "ipython",
        "version": 3
      },
      "file_extension": ".py",
      "mimetype": "text/x-python",
      "name": "python",
      "nbconvert_exporter": "python",
      "pygments_lexer": "ipython3",
      "version": "3.12.3"
    }
  },
  "nbformat": 4,
  "nbformat_minor": 0
}