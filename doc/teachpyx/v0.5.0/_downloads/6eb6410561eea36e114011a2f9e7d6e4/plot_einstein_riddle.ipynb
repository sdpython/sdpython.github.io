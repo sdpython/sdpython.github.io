{
  "cells": [
    {
      "cell_type": "markdown",
      "metadata": {},
      "source": [
        "\n\n# L'\u00e9nigme d'Einstein et sa r\u00e9solution\n\nR\u00e9solution de l'\u00e9nigme [L'\u00e9nigme d'Einstein](https://fr.wikipedia.org/wiki/%C3%89nigme_d'Einstein)).\nImpl\u00e9mentatin d'une solution \u00e0 base de r\u00e8gles.\n\nJe la reproduis ici :\n \nIl y a cinq maisons de cinq couleurs diff\u00e9rentes. Dans chacune de ces maisons, \nvit une personne de nationalit\u00e9 diff\u00e9rente. \nChacune de ces personnes boit une boisson diff\u00e9rente,\nfume un cigare diff\u00e9rent et a un animal domestique diff\u00e9rent.\n \n1. L'Anglais vit dans la maison rouge.\n2. Le Su\u00e9dois a des chiens.\n3. Le Danois boit du th\u00e9.\n4. La maison verte est \u00e0 gauche de la maison blanche.\n5. Le propri\u00e9taire de la maison verte boit du caf\u00e9.\n6. La personne qui fume des Pall Mall a des oiseaux.\n7. Le propri\u00e9taire de la maison jaune fume des Dunhill.\n8. La personne qui vit dans la maison du centre boit du lait.\n9. Le Norv\u00e9gien habite dans la premi\u00e8re maison.\n10. L'homme qui fume des Blend vit \u00e0 c\u00f4t\u00e9 de celui qui a des chats.\n11. L'homme qui a un cheval est le voisin de celui qui fume des Dunhill.\n12. Le propri\u00e9taire qui fume des Blue Master boit de la bi\u00e8re.\n13. L'Allemand fume des prince.\n14. Le Norv\u00e9gien vit juste \u00e0 c\u00f4t\u00e9 de la maison bleue.\n15. L'homme qui fume des Blend a un voisin qui boit de l'eau.\n \n**Question : Qui a le poisson ?**\n \nApr\u00e8s quelques essais, une bonne feuille de papier, on arrive \u00e0\nreconstituer la solution apr\u00e8s de nombreuses d\u00e9ductions logiques \net quelques essais. On peut voir aussi ce jeu comme un puzzle :\nchaque configuration est un pi\u00e8ce du puzzle dont la forme des bords\nest d\u00e9finie par toutes ces r\u00e8gles. Il faut trouver le seul embo\u00eetement\npossible sachant que parfois, une pi\u00e8ce peut s'embo\u00eeter avec plusieurs \nmais qu'il n'existe qu'une fa\u00e7on de les embo\u00eeter toutes ensemble.\nEcrire un programme qui r\u00e9soud ce probl\u00e8me revient \u00e0 s'int\u00e9resser \u00e0 deux probl\u00e8mes :\n \n1. Comment d\u00e9finir une pi\u00e8ce du puzzle ?\n2. Comment parcourir toutes les combinaisons possibles ?\n \nChaque r\u00e8gle ou pi\u00e8ce de puzzle peut \u00eatre exprimer comme une\n[clause](https://fr.wikipedia.org/wiki/Clause_de_Horn)).\nPour notre probl\u00e8me, chaque pi\u00e8ce du puzzle est simplement d\u00e9crite par \nun attribut (rouge, norv\u00e9gien) et un num\u00e9ro de maisons (1 \u00e0 5).\nLes r\u00e8gles d\u00e9finissent la compatibilit\u00e9 de deux pi\u00e8ces. On peut\nregrouper ces r\u00e8gles en cinq cat\u00e9gories :\n \n1. Un attribut est \u00e0 la position p (r\u00e8gle 9).\n2. Deux attributs sont \u00e9quivalents (r\u00e8gle 1).\n3. Deux attributs sont voisins (r\u00e8gle 11).\n4. Deux attributs sont ordonn\u00e9s par rapport aux positions (r\u00e8gle 4).\n5. Deux attributs font partie du m\u00eame ensemble et sont exclusives :\n   on ne peut pas \u00eatre l'un et l'autre \u00e0 la fois (rouge et jaune par exemple).\n \nUne fois que chaque r\u00e8gle a \u00e9t\u00e9 exprim\u00e9e dans une de ces cinq cat\u00e9gories, \nil faut d\u00e9finir l'association de deux r\u00e8gles (ou clause) pour\nformer une clause plus complexe. Trois cas possibles :\n \n1. Deux clauses sont compatibles : on peut avoir l'une et l'autre.\n2. Deux clauses sont incompatibles : on ne peut avoir l'une et l'autre.\n \nDans le premier cas, la clause r\u00e9sultante est simplement qu'on peut la clause A \net la clause B : :math:*A* et *B*. Dans le second cas, il existe deux\npossibilit\u00e9s, on peut avoir l'une et l'oppos\u00e9 de l'autre ou l'inverse :\n$(A \\, et\\, non \\, B) \\, ou\\, (non \\, A \\, et\\, B)$.\n\nAvec cette description, il est plus facile d'exprimer le probl\u00e8me avec des \nobjets informatiques ce que fait le programme suivant. Il explicite ensuite\ntoutes les configurations compatibles avec une r\u00e8gle donn\u00e9e\n(mais pas toutes ensembles).\n \n<div class=\"alert alert-info\"><h4>Note</h4><p>L'\u00e9nigme d'Einstein est une \u00e9nigme comme celle que r\u00e9soud\n    Hermionne dans le premier tome de Harry Potter\n    (voir `l-enigme-hermionne`).</p></div>\n\nOn commence par la fonction `permutation`:\nqui \u00e9num\u00e8re les permutations d'un ensemble :\n"
      ]
    },
    {
      "cell_type": "code",
      "execution_count": null,
      "metadata": {
        "collapsed": false
      },
      "outputs": [],
      "source": [
        "import copy\nfrom io import StringIO\nimport pandas"
      ]
    },
    {
      "cell_type": "markdown",
      "metadata": {},
      "source": [
        "## Fonction permutation\n\n"
      ]
    },
    {
      "cell_type": "code",
      "execution_count": null,
      "metadata": {
        "collapsed": false
      },
      "outputs": [],
      "source": [
        "def permutation(nb):\n    per = []\n    p = [i for i in range(0, nb)]\n    while p[0] < nb:\n        cont = False\n        for i in range(1, nb):\n            if p[i] in p[0:i]:\n                cont = True\n                break\n\n        if not cont:\n            per.append(copy.copy(p))\n\n        p[nb - 1] += 1\n        for j in range(nb - 1, 0, -1):\n            if p[j] >= nb:\n                p[j] = 0\n                p[j - 1] += 1\n\n    return per"
      ]
    },
    {
      "cell_type": "markdown",
      "metadata": {},
      "source": [
        "## La classe Rule\n\n"
      ]
    },
    {
      "cell_type": "code",
      "execution_count": null,
      "metadata": {
        "collapsed": false
      },
      "outputs": [],
      "source": [
        "class Rule:\n    \"\"\"\n    This class defines a constraint of the problem or a clause.\n\n    There are 5 different types of clauses described by Einstein's enigma\n    each of them is described by a different class.\n    \"\"\"\n\n    def __init__(self):\n        # name of the rule\n        self.name = None\n        # set of clauses\n        self.set = None\n\n    def genere(self):\n        \"\"\"\n        Generates all possible clauses (list of lists)\n        (`l[0][0]` et `l[0][1]`) ou (`l[1][0]` et `l[1][1]`),\n        a clause is a triplet of\n        `(person, (property, category))`.\n        \"\"\"\n        return None\n\n    def __str__(self):\n        \"\"\"\n        display\n        \"\"\"\n        if self.name is not None:\n            if \"clauses\" not in self.__dict__:\n                s = self.name + \" \\t: \"\n                a = self.genere()\n                for al in a:\n                    st = \"\\n       ou  \" + str(al)\n                    if len(st) > 260:\n                        st = st[:260] + \"...\"\n                    s += st\n                    if len(s) > 1000:\n                        break\n                return s\n            else:\n                s = self.name + \" \\t: \" + str(self.set)\n                for al in self.clauses:\n                    st = \"\\n       ou   \" + str(al)\n                    if len(st) > 260:\n                        st = st[:260] + \"...\"\n                    s += st\n                    if len(s) > 1000:\n                        break\n                return s\n        return \"None\"\n\n    def combine(self, cl1, cl2):\n        \"\"\"\n        Combines two clauses, two cases:\n\n        1. nothing in common or everything in common --> concatenation of clauses\n        2. a position or a property in common --> null clause\n\n        :param cl1: clause 1\n        :param cl2: clause 2\n        :return: the new clause\n\n        A clause is a `Rule`.\n        \"\"\"\n        # incompatibility\n        for p1 in cl1:\n            for p2 in cl2:\n                if p1[1][0] == p2[1][0]:  # same property\n                    if p1[0] != p2[0]:  # but different positions\n                        return None\n                if p1[0] == p2[0]:  # same person\n                    if p1[1][1] == p2[1][1] and p1[1][0] != p2[1][0]:\n                        # same category but different properties\n                        return None\n        # compatibility\n        r = copy.deepcopy(cl1)\n        for c in cl2:\n            if c not in r:\n                r.append(c)\n        return r\n\n    def combine_cross_sets(self, set1, set2):\n        \"\"\"\n        Combines two sets of clauses.\n\n        :param set1: set of clauses 1\n        :param set2: set of clauses 2\n        :return: combination\n        \"\"\"\n        if len(set1) == 0:\n            return copy.deepcopy(set2)\n        if len(set2) == 0:\n            return copy.deepcopy(set1)\n        res = []\n        for cl1 in set1:\n            for cl2 in set2:\n                r = self.combine(cl1, cl2)\n                if r is not None:\n                    res.append(r)\n        return res"
      ]
    },
    {
      "cell_type": "markdown",
      "metadata": {},
      "source": [
        "## Explicit rules\n\n"
      ]
    },
    {
      "cell_type": "code",
      "execution_count": null,
      "metadata": {
        "collapsed": false
      },
      "outputs": [],
      "source": [
        "class RulePosition(Rule):\n    \"\"\"\n    p1 at position\n    \"\"\"\n\n    def __init__(self, p1, pos):\n        self.set = [p1]\n        self.name = \"position\"\n        self.position = pos\n\n    def genere(self):\n        \"\"\"\n        overrides method ``genere``\n        \"\"\"\n        return [[(self.position, self.set[0])]]\n\n\nclass RuleEquivalence(Rule):\n    \"\"\"\n    p1 equivalent to p2\n    \"\"\"\n\n    def __init__(self, p1, p2):\n        self.set = [p1, p2]\n        self.name = \"equivalence\"\n\n    def genere(self):\n        \"\"\"\n        overrides method ``genere``\n        \"\"\"\n        li = []\n        for i in range(0, 5):\n            li.append([(i, self.set[0]), (i, self.set[1])])\n        return li\n\n\nclass RuleVoisin(Rule):\n    \"\"\"\n    p1 and p2 are neighbors\n    \"\"\"\n\n    def __init__(self, p1, p2):\n        self.set = [p1, p2]\n        self.name = \"voisin\"\n\n    def genere(self):\n        \"\"\"\n        overrides method ``genere``\n        \"\"\"\n        li = []\n        for i in range(0, 4):\n            li.append([(i, self.set[0]), (i + 1, self.set[1])])\n            li.append([(i + 1, self.set[0]), (i, self.set[1])])\n        return li\n\n\nclass RuleAvant(Rule):\n    \"\"\"\n    p1 before p2\n    \"\"\"\n\n    def __init__(self, p1, p2):\n        self.set = [p1, p2]\n        self.name = \"avant\"\n\n    def genere(self):\n        \"\"\"\n        overrides method ``genere``\n        \"\"\"\n        li = []\n        for j in range(1, 5):\n            for i in range(0, j):\n                li.append([(i, self.set[0]), (j, self.set[1])])\n        return li\n\n\nclass RuleEnsemble(Rule):\n    \"\"\"\n    permutation of the elements of a category\n    \"\"\"\n\n    def __init__(self, set, categorie):\n        self.set = [(s, categorie) for s in set]\n        self.name = \"ensemble\"\n\n    def genere(self):\n        \"\"\"\n        overrides method ``genere``\n        \"\"\"\n        li = []\n        per = permutation(5)\n        for p in per:\n            tl = []\n            for i in range(0, len(p)):\n                tl.append((i, self.set[p[i]]))\n            li.append(tl)\n        return li"
      ]
    },
    {
      "cell_type": "markdown",
      "metadata": {},
      "source": [
        "## Description du probl\u00e8me avec ce code\n\n"
      ]
    },
    {
      "cell_type": "code",
      "execution_count": null,
      "metadata": {
        "collapsed": false
      },
      "outputs": [],
      "source": [
        "def find(p):\n    for i in range(0, len(ensemble)):\n        if p in ensemble[i]:\n            return (p, i)\n    return None\n\n\nttcouleur = [\"jaune\", \"bleu\", \"rouge\", \"blanc\", \"vert\"]\nttnationalite = [\"danois\", \"norvegien\", \"anglais\", \"allemand\", \"suedois\"]\nttboisson = [\"eau\", \"the\", \"lait\", \"cafe\", \"biere\"]\nttcigare = [\"Dunhill\", \"Blend\", \"Pall Mall\", \"Prince\", \"Bluemaster\"]\nttanimal = [\"chats\", \"cheval\", \"oiseaux\", \"poisson\", \"chiens\"]\nensemble = [ttcouleur, ttnationalite, ttboisson, ttcigare, ttanimal]"
      ]
    },
    {
      "cell_type": "markdown",
      "metadata": {},
      "source": [
        "Les r\u00e8gles.\n\n"
      ]
    },
    {
      "cell_type": "code",
      "execution_count": null,
      "metadata": {
        "collapsed": false
      },
      "outputs": [],
      "source": [
        "regle = []\n\nregle.append(RulePosition(find(\"lait\"), 2))\nregle.append(RulePosition(find(\"norvegien\"), 0))\n\nregle.append(RuleEquivalence(find(\"Pall Mall\"), find(\"oiseaux\")))\nregle.append(RuleEquivalence(find(\"anglais\"), find(\"rouge\")))\nregle.append(RuleEquivalence(find(\"suedois\"), find(\"chiens\")))\nregle.append(RuleEquivalence(find(\"danois\"), find(\"the\")))\nregle.append(RuleEquivalence(find(\"vert\"), find(\"cafe\")))\nregle.append(RuleEquivalence(find(\"jaune\"), find(\"Dunhill\")))\nregle.append(RuleEquivalence(find(\"biere\"), find(\"Bluemaster\")))\nregle.append(RuleEquivalence(find(\"allemand\"), find(\"Prince\")))\n\nregle.append(RuleVoisin(find(\"Dunhill\"), find(\"cheval\")))\nregle.append(RuleVoisin(find(\"norvegien\"), find(\"bleu\")))\nregle.append(RuleVoisin(find(\"Blend\"), find(\"eau\")))\nregle.append(RuleVoisin(find(\"Blend\"), find(\"chats\")))\n\nregle.append(RuleAvant(find(\"vert\"), find(\"blanc\")))\n\nregle.append(RuleEnsemble(ttcouleur, 0))\nregle.append(RuleEnsemble(ttnationalite, 1))\nregle.append(RuleEnsemble(ttboisson, 2))\nregle.append(RuleEnsemble(ttcigare, 3))\nregle.append(RuleEnsemble(ttanimal, 4))\n\n\nfor r in regle:\n    print(r)"
      ]
    },
    {
      "cell_type": "markdown",
      "metadata": {},
      "source": [
        "Parmi tous ces cas possibles, beaucoup sont incompatibles.\nL'objectif est d'\u00e9liminer tous ceux qui sont incompatibles pour ne\ngarer que les 25 qui constituent la solution. L'algorithme est inspir\u00e9 de la\n[logique des pr\u00e9dicats](https://fr.wikipedia.org/wiki/Calcul_des_pr%C3%A9dicats))`.\nDe mani\u00e8re r\u00e9cursive, la fonction ``solve`` combine\nles clauses jusqu'\u00e0 ce qu'il ne puisse plus continuer :\n\n1. Soit le m\u00eame attribut appara\u00eet \u00e0 deux positions diff\u00e9rentes : incompatibilit\u00e9.\n2. Soit deux attributs apparaissent \u00e0 la m\u00eame position : incompatibilit\u00e9.\n3. Soit il ne reste plus qu'une seule clause : c'est la solution.\n\n"
      ]
    },
    {
      "cell_type": "code",
      "execution_count": null,
      "metadata": {
        "collapsed": false
      },
      "outputs": [],
      "source": [
        "class Enigma:\n    \"\"\"\n    This class solves the enigma.\n    We describe the enigma using the classes we defined above.\n\n    :param display: if True, use print to print some information\n    \"\"\"\n\n    def __init__(self, display=True):\n        self.regle = []\n\n        self.regle.append(RulePosition(self.find(\"lait\"), 2))\n        self.regle.append(RulePosition(self.find(\"norvegien\"), 0))\n\n        self.regle.append(RuleEquivalence(self.find(\"Pall Mall\"), self.find(\"oiseaux\")))\n        self.regle.append(RuleEquivalence(self.find(\"anglais\"), self.find(\"rouge\")))\n        self.regle.append(RuleEquivalence(self.find(\"suedois\"), self.find(\"chiens\")))\n        self.regle.append(RuleEquivalence(self.find(\"danois\"), self.find(\"the\")))\n        self.regle.append(RuleEquivalence(self.find(\"vert\"), self.find(\"cafe\")))\n        self.regle.append(RuleEquivalence(self.find(\"jaune\"), self.find(\"Dunhill\")))\n        self.regle.append(RuleEquivalence(self.find(\"biere\"), self.find(\"Bluemaster\")))\n        self.regle.append(RuleEquivalence(self.find(\"allemand\"), self.find(\"Prince\")))\n\n        self.regle.append(RuleVoisin(self.find(\"Dunhill\"), self.find(\"cheval\")))\n        self.regle.append(RuleVoisin(self.find(\"norvegien\"), self.find(\"bleu\")))\n        self.regle.append(RuleVoisin(self.find(\"Blend\"), self.find(\"eau\")))\n        self.regle.append(RuleVoisin(self.find(\"Blend\"), self.find(\"chats\")))\n\n        self.regle.append(RuleAvant(self.find(\"vert\"), self.find(\"blanc\")))\n\n        self.regle.append(RuleEnsemble(ttcouleur, 0))\n        self.regle.append(RuleEnsemble(ttnationalite, 1))\n        self.regle.append(RuleEnsemble(ttboisson, 2))\n        self.regle.append(RuleEnsemble(ttcigare, 3))\n        self.regle.append(RuleEnsemble(ttanimal, 4))\n\n        for r in self.regle:\n            r.clauses = r.genere()\n            r.utilise = False\n\n        self.count = 0\n\n    def find(self, p):\n        \"\"\"\n        Finds a clause in the different sets of clause (houses, colors, ...).\n\n        :param p: clause\n        :return: tuple (clause, position)\n        \"\"\"\n        for i in range(0, len(ensemble)):\n            if p in ensemble[i]:\n                return (p, i)\n        return None\n\n    def to_dataframe(self):\n        sr = []\n        matrix = [list(\" \" * 5) for _ in range(0, 5)]\n        for row in self.solution:\n            i = row[0]\n            j = row[1][1]\n            s = row[1][0]\n            matrix[i][j] = s\n        for row in matrix:\n            sr.append(\", \".join(row))\n        text = \"\\n\".join(sr)\n        return pandas.read_csv(StringIO(text), header=None)\n\n    def solve(self, solution=[], logf=print):  # solution = [ ]) :\n        \"\"\"\n        Solves the enigma by eploring in deepness,\n        the method is recursive\n\n        :param solution: `[]` empty at the beginning, recursively used then\n        :return: solution\n        \"\"\"\n\n        self.count += 1\n        if self.count % 10 == 0:\n            logf(\"*\", self.count, \" - properties in place : \", len(solution) - 1)\n\n        if len(solution) == 25:\n            # we know the solution must contain 25 clauses,\n            # if are here than the problem is solved unless some incompatibility\n            for r in self.regle:\n                cl = r.combine_cross_sets([solution], r.clauses)\n                if cl is None or len(cl) == 0:\n                    # the solution is incompatible with a solution\n                    return None\n            self.solution = solution\n            return solution\n\n        # we are looking for the rule which generates the least possible clauses\n        # in order to reduce the number of possibilities as much as possible\n        # the research could be represented as a tree, we avoid creating two many paths\n        best = None\n        rule = None\n\n        for r in self.regle:\n            cl = r.combine_cross_sets([solution], r.clauses)\n\n            if cl is None:\n                # the solution is incompatible with a solution\n                return None\n\n            # we check rule r is bringing back some results\n            for c in cl:\n                if len(c) > len(solution):\n                    break\n            else:\n                cl = None\n\n            if cl is not None and (best is None or len(best) > len(cl)):\n                best = cl\n                rule = r\n\n        if best is None:\n            # the solution is incompatible with a solution\n            return None\n\n        rule.utilise = True\n\n        # we test all clauses\n        for c in best:\n            r = self.solve(c, logf=logf)\n            if r is not None:\n                # we found\n                return r\n\n        rule.utilise = False  # impossible\n        return None\n\n\nen = Enigma()\nen.solve()\nprint(en.to_dataframe())"
      ]
    }
  ],
  "metadata": {
    "kernelspec": {
      "display_name": "Python 3",
      "language": "python",
      "name": "python3"
    },
    "language_info": {
      "codemirror_mode": {
        "name": "ipython",
        "version": 3
      },
      "file_extension": ".py",
      "mimetype": "text/x-python",
      "name": "python",
      "nbconvert_exporter": "python",
      "pygments_lexer": "ipython3",
      "version": "3.10.12"
    }
  },
  "nbformat": 4,
  "nbformat_minor": 0
}