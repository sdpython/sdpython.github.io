{
  "cells": [
    {
      "cell_type": "markdown",
      "metadata": {},
      "source": [
        "\n\n# Parties de dames\n\nExercice de programmation sur les tableaux.\n\n## Q1\n\nUne partie de dames met en jeu quarante pions, vingt noirs, vingt blancs,\nchacun sur des cases diff\u00e9rentes. L'objectif est de savoir si un pion est\nen mesure d'en prendre un autre. On ne traitera pas le cas des dames.\nChaque pion est d\u00e9fini par :\n\n* deux coordonn\u00e9es enti\u00e8res, chacune comprise entre 1 et 10\n* une couleur, noir ou blanc\n\nOn propose deux repr\u00e9sentations de l'ensemble de pions :\n\n* Un tableau de 40 pions indic\u00e9s de 0 \u00e0 39 inclus, chaque pion \u00e9tant d\u00e9fini par :\n    * deux coordonn\u00e9es comprises entre 1 et 10, ou (0,0)\n      si le pion n'est plus sur le damier\n    * un entier qui vaut 1 pour blanc, 2 pour noir\n* Un tableau d'entiers \u00e0 deux dimensions, chaque case contient :\n    * soit 0 s'il n'y a pas de pion\n    * soit 1 si la case contient un pion blanc\n    * soit 2 si la case contient un pion noir\n\nY a-t-il d'autres repr\u00e9sentations de ces informations ? Si on consid\u00e8re\nque l'efficacit\u00e9 d'une m\u00e9thode est reli\u00e9e \u00e0 sa vitesse - autrement dit aux\nco\u00fbts des algorithmes qu'elles utilisent -, parmi ces deux repr\u00e9sentations,\nquelle est celle qui semble la plus efficace pour savoir si un pion donn\u00e9\ndu damier est en mesure d'en prendre un autre ?\n\n**r\u00e9ponse**\n\nLa seconde repr\u00e9sentation sous forme de tableau \u00e0 deux dimensions est\nplus pratique pour effectuer les tests de voisinages. Chaque case a\nquatre voisines aux quatre coins, il est ensuite facile de d\u00e9terminer\nsi ces quatre voisines sont libres ou si elles contiennent un pion.\nOn sait rapidement le contenu d'une case.\n\nAvec la premi\u00e8re repr\u00e9sentation - le tableau des pions - pour savoir\ns'il existe un pion dans une case voisine, il faut passer en revue\ntous les pions pour savoir si l'un d'eux occupe ou non cette case.\nAvec la seconde repr\u00e9sentation - le tableau \u00e0 deux dimensions -\non acc\u00e8de directement \u00e0 cette information sans avoir \u00e0 la rechercher.\nOn \u00e9vite une boucle sur les pions avec la seconde repr\u00e9sentation.\n\n## Q2\n\nComment repr\u00e9senter un tableau d'entiers \u00e0 deux dimensions en\nlangage python \u00e0 l'aide des types standards qu'il propose,\n\u00e0 savoir t-uple, liste ou dictionnaire ?\n\n**r\u00e9ponse**\n\nPour repr\u00e9senter le tableau en deux dimensions, il existe trois solutions :\n\n* Une liste de listes, chaque ligne est repr\u00e9sent\u00e9e par une liste.\n  Toutes ces listes sont elles-m\u00eames assembl\u00e9es dans une liste globale.\n* Une seule liste, il suffit de num\u00e9roter les cases du damier de 0 \u00e0 99,\n  en utilisant comme indice pour la case $(i,j)$ : $k = 10*i+j$.\n  R\u00e9ciproquement, la case d'indice $k$ aura pour coordonn\u00e9es\n  $(k / 10, \\, k \\% 10)$.\n* Un dictionnaire dont la cl\u00e9 est un couple d'entiers.\n\n## Q3\n\nOn cherche \u00e0 \u00e9crire l'algorithme qui permet de savoir si un pion donn\u00e9\nest un mesure de prendre un pion. Quels sont les param\u00e8tres\nd'entr\u00e9es et les r\u00e9sultats de cet algorithme ?\n\n**r\u00e9ponse**\n\nOn d\u00e9sire savoir si le pion de la case $(i,j)$\npeut en prendre un autre. On suppose que le tableau \u00e0 deux dimensions\nest une liste de dix listes appel\u00e9e ``damier``. ``damier[i][j]``\nest donc la couleur du pion de la case $(i,j)$,\n\u00e0 savoir 0 si la case est vide, 1 si le pion est blanc, 2 si le pion est noir.\nPour ces deux derniers cas, la couleur des pions de l'adversaire sera donc\n``3 - damier[i][j]``. Les entr\u00e9es de la fonctions sont donc les indices\n``i``, ``j`` et le damier ``damier``. La sortie est une variable bool\u00e9enne qui\nindique la possibilit\u00e9 ou non de prendre. On ne souhaite pas d\u00e9placer les pions.\n\n## Q4\n\nIl ne reste plus qu'\u00e0 \u00e9crire cet algorithme.\n"
      ]
    },
    {
      "cell_type": "code",
      "execution_count": null,
      "metadata": {
        "collapsed": false
      },
      "outputs": [],
      "source": [
        "def pion_prendre(i, j, damier):\n    c = damier[i][j]\n    if c == 0:\n        return False  # case vide, impossible de prendre\n    c = 3 - c  # couleur de l'adversaire\n\n    if damier[i - 1][j - 1] == c:  # s'il y a un pion adverse en haut \u00e0 gauche\n        if damier[i - 2][j - 2] == 0:  # si la case d'apr\u00e8s en diagonale est vide\n            return True  # on peut prendre\n\n    # on r\u00e9p\u00e8te ce test pour les trois autres cases\n    if damier[i - 1][j + 1] == c and damier[i - 2][j + 2] == 0:\n        return True\n    if damier[i + 1][j - 1] == c and damier[i + 2][j - 2] == 0:\n        return True\n    if damier[i + 1][j + 1] == c and damier[i + 2][j + 2] == 0:\n        return True\n\n    # si tous les tests ont \u00e9chou\u00e9, on ne peut pas prendre\n    return False\n\n\ndamier = [\n    [0, 0, 1, 0, 0],\n    [0, 1, 0, 1, 0],\n    [0, 0, 2, 0, 2],\n    [0, 0, 0, 2, 0],\n    [0, 0, 0, 0, 0],\n]\n\npion_prendre(2, 2, damier)"
      ]
    },
    {
      "cell_type": "markdown",
      "metadata": {},
      "source": [
        "Voici une fonction \u00e9quivalente lorsque le damier est un dictionnaire\ndont la cl\u00e9 est un couple d'entiers.\n\n"
      ]
    },
    {
      "cell_type": "code",
      "execution_count": null,
      "metadata": {
        "collapsed": false
      },
      "outputs": [],
      "source": [
        "def pion_prendre_dict(i, j, damier):\n    c = damier[(i, j)]  # ou encore damier [i,j]\n    if c == 0:\n        return False  # case vide, impossible de prendre\n    c = 3 - c  # couleur de l'adversaire\n\n    # test pour une prise du pion dans les quatre cases voisines\n    if damier[i - 1, j - 1] == c and damier[i - 2, j - 2] == 0:\n        return True\n    if damier[i - 1, j + 1] == c and damier[i - 2, j + 2] == 0:\n        return True\n    if damier[i + 1, j - 1] == c and damier[i + 2, j - 2] == 0:\n        return True\n    if damier[i + 1, j + 1] == c and damier[i + 2, j + 2] == 0:\n        return True\n\n    # si tous les tests ont \u00e9chou\u00e9, on ne peut pas prendre\n    return False\n\n\ndamier_dict = {(i, j): damier[i][j] for i in range(4) for j in range(4)}\n\nprint(damier_dict)\n\npion_prendre_dict(2, 2, damier_dict)"
      ]
    },
    {
      "cell_type": "code",
      "execution_count": null,
      "metadata": {
        "collapsed": false
      },
      "outputs": [],
      "source": [
        "try:\n    pion_prendre_dict(1, 3, damier_dict)\nexcept Exception as e:\n    print(e)"
      ]
    },
    {
      "cell_type": "markdown",
      "metadata": {},
      "source": [
        "Cela ne marche pas tr\u00e8s bien, cela laisse supposer que la fonction\npr\u00e9c\u00e9dente n'est pas tr\u00e8s fonctionnelle non plus. Il manque le fait de\nv\u00e9rifier que les coordonn\u00e9es test\u00e9es restent dans l'\u00e9chiquier.\nLa m\u00eame fonction lorsque le damier est repr\u00e9sent\u00e9 par une seule liste.\n\n"
      ]
    },
    {
      "cell_type": "code",
      "execution_count": null,
      "metadata": {
        "collapsed": false
      },
      "outputs": [],
      "source": [
        "def pion_prendre_list(i, j, damier):\n    n = int(len(damier) ** 0.5)  # on suppose que le damier est carr\u00e9\n    c = damier[n * i + j]\n    if c == 0:\n        return False  # case vide, impossible de prendre\n    c = 3 - c  # couleur de l'adversaire\n\n    # test pour une prise du pion dans les quatre cases voisines\n    if damier[n * (i - 1) + j - 1] == c and damier[n * (i - 2) + j - 2] == 0:\n        return True\n    if damier[n * (i - 1) + j + 1] == c and damier[n * (i - 2) + j + 2] == 0:\n        return True\n    if damier[n * (i + 1) + j - 1] == c and damier[n * (i + 2) + j - 2] == 0:\n        return True\n    if damier[n * (i + 1) + j + 1] == c and damier[n * (i + 2) + j + 2] == 0:\n        return True\n\n    return False\n\n\ndamier_list = []\nfor row in damier:\n    damier_list.extend(row)\n\nprint(damier_list)\n\npion_prendre_list(2, 2, damier_list)"
      ]
    },
    {
      "cell_type": "markdown",
      "metadata": {},
      "source": [
        "Pour ces trois cas, aucun effet de bord n'a \u00e9t\u00e9 envisag\u00e9.\nSi la case est trop pr\u00e8s d'un des bords, un des indices\n$i,\\;j,\\;i-1,\\;j-1,\\;i+1,\\;j+1,\\;i-2,\\;j-2,\\;i+2,\\;j+2$\nd\u00e9signera une case hors du damier. Le code de la fonction\n``pion_prendre`` devra donc v\u00e9rifier que chaque case dont elle\nv\u00e9rifie le contenu appartient au damier.\n\n"
      ]
    },
    {
      "cell_type": "code",
      "execution_count": null,
      "metadata": {
        "collapsed": false
      },
      "outputs": [],
      "source": [
        "def pion_prendre_bord(i, j, damier):\n    c = damier[i][j]\n    if c == 0:\n        return False  # case vide, impossible de prendre\n    c = 3 - c  # couleur de l'adversaire\n\n    # on r\u00e9p\u00e8te ce test pour les trois autres cases\n    if i >= 2 and j >= 2 and damier[i - 1][j - 1] == c and damier[i - 2][j - 2] == 0:\n        return True\n    if (\n        i >= 2\n        and j < len(damier) - 2\n        and damier[i - 1][j + 1] == c\n        and damier[i - 2][j + 2] == 0\n    ):\n        return True\n\n    if (\n        i < len(damier) - 2\n        and j >= 2\n        and damier[i + 1][j - 1] == c\n        and damier[i + 2][j - 2] == 0\n    ):\n        return True\n\n    if (\n        i < len(damier) - 2\n        and j < len(damier) - 2\n        and damier[i + 1][j + 1] == c\n        and damier[i + 2][j + 2] == 0\n    ):\n        return True\n\n    return False\n\n\npion_prendre_bord(2, 2, damier)"
      ]
    },
    {
      "cell_type": "code",
      "execution_count": null,
      "metadata": {
        "collapsed": false
      },
      "outputs": [],
      "source": [
        "pion_prendre_bord(1, 3, damier)"
      ]
    },
    {
      "cell_type": "markdown",
      "metadata": {},
      "source": [
        "La fonction ``pion_prendre(1, 3, damier)`` fonctionne parce que le\nlangage python accepte indices n\u00e9gatifs : ``damier[-1][-1]``\nmais le r\u00e9sultat n'est pas n\u00e9cessairement celui souhait\u00e9.\n\n"
      ]
    }
  ],
  "metadata": {
    "kernelspec": {
      "display_name": "Python 3",
      "language": "python",
      "name": "python3"
    },
    "language_info": {
      "codemirror_mode": {
        "name": "ipython",
        "version": 3
      },
      "file_extension": ".py",
      "mimetype": "text/x-python",
      "name": "python",
      "nbconvert_exporter": "python",
      "pygments_lexer": "ipython3",
      "version": "3.12.3"
    }
  },
  "nbformat": 4,
  "nbformat_minor": 0
}