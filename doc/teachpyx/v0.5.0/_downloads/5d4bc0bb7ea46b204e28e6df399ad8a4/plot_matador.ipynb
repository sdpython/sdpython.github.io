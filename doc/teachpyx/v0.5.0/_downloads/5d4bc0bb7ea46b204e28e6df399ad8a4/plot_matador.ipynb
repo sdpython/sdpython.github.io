{
  "cells": [
    {
      "cell_type": "markdown",
      "metadata": {},
      "source": [
        "\n\n# Mathador, \u00e9nigme \u00e0 4 op\u00e9rations\n\nUn petit probl\u00e8me de chiffre, le\n[mathador](https://maitressedelaforet.fr/le-mathador-rituel-de-calcul-mental/)\nconsiste \u00e0 trouver un montant \u00e0 partir de 5 nombres et 4 op\u00e9rations.\n\nExample : composer 28 avec 17, 12, 3, 2, 1 et les op\u00e9rations `*`, `+`, `/`, `-`.\n\nIl faut tout utiliser.\n\nC'est plus simple avec un programme, non ?\n\nJ'ai fait \u00e7a tr\u00e8s vite. Il y a sans doute mieux.\n"
      ]
    },
    {
      "cell_type": "code",
      "execution_count": null,
      "metadata": {
        "collapsed": false
      },
      "outputs": [],
      "source": [
        "from itertools import permutations\n\nnombres = [17, 12, 3, 2, 1]\nops = [\"+\", \"-\", \"/\", \"*\"]\ntotal = 28\n\nsolution = []\nparentheses = [(i, j) for i in range(3) for j in range(i + 1, 4)]\n\n# permutations sur les nombres\nfor pn in permutations(nombres):\n    # permutations sur les op\u00e9rations\n    for po in permutations(ops):\n        exp = []\n        for d, o in zip(pn, po):\n            exp.append(str(d))\n            exp.append(str(o))\n        exp.append(str(pn[-1]))\n\n        # 0 parenth\u00e8se\n        text = \"\".join(exp)\n        res = eval(text)\n        if res == 28:\n            print(res)\n            solution.append(res)\n\n        # 2 parenth\u00e8ses\n        for i, j in parentheses:\n            exp[i * 2] = \"(\" + exp[i * 2]\n            exp[j * 2] = exp[j * 2] + \")\"\n            text = \"\".join(exp)\n            try:\n                res = eval(text)\n                if res == 28:\n                    print(res, text)\n                    solution.append(res)\n            except ZeroDivisionError:\n                pass\n            exp[i * 2] = exp[i * 2][1:]\n            exp[j * 2] = exp[j * 2][:-1]\n\n        # 4 parenth\u00e8ses\n        for a, b in parentheses:\n            exp[a * 2] = \"(\" + exp[a * 2]\n            exp[b * 2] = exp[b * 2] + \")\"\n            for c, d in parentheses:\n                exp[c * 2] = \"(\" + exp[c * 2]\n                exp[d * 2] = exp[d * 2] + \")\"\n                text = \"\".join(exp)\n                try:\n                    res = eval(text)\n                    if res == 28:\n                        print(res, text)\n                        solution.append(res)\n                except ZeroDivisionError:\n                    pass\n                exp[c * 2] = exp[c * 2][1:]\n                exp[d * 2] = exp[d * 2][:-1]\n            exp[a * 2] = exp[a * 2][1:]\n            exp[b * 2] = exp[b * 2][:-1]\n\n        # 6 parenth\u00e8ses..."
      ]
    }
  ],
  "metadata": {
    "kernelspec": {
      "display_name": "Python 3",
      "language": "python",
      "name": "python3"
    },
    "language_info": {
      "codemirror_mode": {
        "name": "ipython",
        "version": 3
      },
      "file_extension": ".py",
      "mimetype": "text/x-python",
      "name": "python",
      "nbconvert_exporter": "python",
      "pygments_lexer": "ipython3",
      "version": "3.12.8"
    }
  },
  "nbformat": 4,
  "nbformat_minor": 0
}