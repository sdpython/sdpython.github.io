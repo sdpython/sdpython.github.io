{
  "cells": [
    {
      "cell_type": "markdown",
      "metadata": {},
      "source": [
        "\n# Astuces avec les lambda functions\n\nLes [lambda](https://docs.python.org/fr/3/reference/\nexpressions.html?highlight=lambda#lambda)\nfonctions ont :epkg:`Python` sont assez\nplut\u00f4t esth\u00e9tiques si ce n'est le mot-cl\u00e9 ``lambda``\nassez long \u00e0 \u00e9crire. A priori l'\u00e9crire est \u00e9quivalent\n\u00e0 celle avec le mot-cl\u00e9 ``def``. On s'en sert parfois aussi\npour r\u00e9duire le nombre d'arguments d'une fonction pour\nen fixer un.\n"
      ]
    },
    {
      "cell_type": "code",
      "execution_count": null,
      "metadata": {
        "collapsed": false
      },
      "outputs": [],
      "source": [
        "def twoargs(a, b):\n    return a + b\n\n\ndef oneargs(x):\n    return twoargs(x, 5)\n\n\nprint(oneargs(1))\n\n################\n# Et dans une liste, cela donne ce qui suit.\n\nprint([oneargs(a) for a in range(3)])"
      ]
    },
    {
      "cell_type": "markdown",
      "metadata": {},
      "source": [
        "Dans le cas pr\u00e9sent, cela revient \u00e0 \u00e9crire cela\nce qui est quand m\u00eame plus simple.\n\n"
      ]
    },
    {
      "cell_type": "code",
      "execution_count": null,
      "metadata": {
        "collapsed": false
      },
      "outputs": [],
      "source": [
        "fcts = [a + 5 for a in range(3)]\nprint(fcts)"
      ]
    },
    {
      "cell_type": "markdown",
      "metadata": {},
      "source": [
        "Ou encore...\n\n"
      ]
    },
    {
      "cell_type": "code",
      "execution_count": null,
      "metadata": {
        "collapsed": false
      },
      "outputs": [],
      "source": [
        "fcts = [oneargs(a) for a in range(3)]\nprint(fcts)"
      ]
    },
    {
      "cell_type": "markdown",
      "metadata": {},
      "source": [
        "Les lambdas fonctions sont aussi utilis\u00e9es pour\nretarder l'ex\u00e9cution d'un calcul.\nLa premi\u00e8re liste d\u00e9finit le calcul dans des\nlambda fonctions. La seconde les ex\u00e9cute.\n\n"
      ]
    },
    {
      "cell_type": "code",
      "execution_count": null,
      "metadata": {
        "collapsed": false
      },
      "outputs": [],
      "source": [
        "fcts_a = [lambda: oneargs(a) for a in range(3)]  # noqa: B023\nfcts_b = [f() for f in fcts_a]\nprint(fcts_b)"
      ]
    },
    {
      "cell_type": "markdown",
      "metadata": {},
      "source": [
        "Le r\u00e9sultat est constant ce qui n'est pas\ncelui souhait\u00e9. Les valeurs sont constante.\nLes fonctions sont ex\u00e9cut\u00e9es mais l'argument\nest le m\u00eame pour tous car elles partagent les\nm\u00eames variables locales. Au moment de leur\nex\u00e9cution, la variable a ne change plus de valeur.\nUne solution consiste \u00e0 conserver chaque valeur\ndistincte de a dans une valeur par d\u00e9faut.\n\n"
      ]
    },
    {
      "cell_type": "code",
      "execution_count": null,
      "metadata": {
        "collapsed": false
      },
      "outputs": [],
      "source": [
        "fcts_a = [lambda a=a: oneargs(a) for a in range(3)]\nfcts_b = [f() for f in fcts_a]\nprint(fcts_b)"
      ]
    }
  ],
  "metadata": {
    "kernelspec": {
      "display_name": "Python 3",
      "language": "python",
      "name": "python3"
    },
    "language_info": {
      "codemirror_mode": {
        "name": "ipython",
        "version": 3
      },
      "file_extension": ".py",
      "mimetype": "text/x-python",
      "name": "python",
      "nbconvert_exporter": "python",
      "pygments_lexer": "ipython3",
      "version": "3.12.3"
    }
  },
  "nbformat": 4,
  "nbformat_minor": 0
}