{
 "cells": [
  {
   "cell_type": "markdown",
   "metadata": {},
   "source": [
    "\n",
    "\n",
    "# Parties de dames\n",
    "\n",
    "Exercice de programmation sur les tableaux.\n",
    "\n",
    "## Q1 \n",
    " \n",
    "Une partie de dames met en jeu quarante pions, vingt noirs, vingt blancs, \n",
    "chacun sur des cases différentes. L'objectif est de savoir si un pion est\n",
    "en mesure d'en prendre un autre. On ne traitera pas le cas des dames.\n",
    "Chaque pion est défini par :\n",
    " \n",
    "* deux coordonnées entières, chacune comprise entre 1 et 10\n",
    "* une couleur, noir ou blanc\n",
    "\n",
    "On propose deux représentations de l'ensemble de pions :\n",
    " \n",
    "* Un tableau de 40 pions indicés de 0 à 39 inclus, chaque pion étant défini par :\n",
    "    * deux coordonnées comprises entre 1 et 10, ou (0,0)\n",
    "      si le pion n'est plus sur le damier\n",
    "    * un entier qui vaut 1 pour blanc, 2 pour noir\n",
    "* Un tableau d'entiers à deux dimensions, chaque case contient :\n",
    "    * soit 0 s'il n'y a pas de pion\n",
    "    * soit 1 si la case contient un pion blanc\n",
    "    * soit 2 si la case contient un pion noir\n",
    "\n",
    "Y a-t-il d'autres représentations de ces informations ? Si on considère \n",
    "que l'efficacité d'une méthode est reliée à sa vitesse - autrement dit aux\n",
    "coûts des algorithmes qu'elles utilisent -, parmi ces deux représentations,\n",
    "quelle est celle qui semble la plus efficace pour savoir si un pion donné\n",
    "du damier est en mesure d'en prendre un autre ?\n",
    "\n",
    "**réponse**\n",
    "\n",
    "La seconde représentation sous forme de tableau à deux dimensions est\n",
    "plus pratique pour effectuer les tests de voisinages. Chaque case a\n",
    "quatre voisines aux quatre coins, il est ensuite facile de déterminer \n",
    "si ces quatre voisines sont libres ou si elles contiennent un pion.\n",
    "On sait rapidement le contenu d'une case.\n",
    " \n",
    "Avec la première représentation - le tableau des pions - pour savoir\n",
    "s'il existe un pion dans une case voisine, il faut passer en revue\n",
    "tous les pions pour savoir si l'un d'eux occupe ou non cette case.\n",
    "Avec la seconde représentation - le tableau à deux dimensions - \n",
    "on accède directement à cette information sans avoir à la rechercher. \n",
    "On évite une boucle sur les pions avec la seconde représentation.\n",
    "\n",
    "## Q2\n",
    "\n",
    "Comment représenter un tableau d'entiers à deux dimensions en\n",
    "langage python à l'aide des types standards qu'il propose, \n",
    "à savoir t-uple, liste ou dictionnaire ?\n",
    "\n",
    "**réponse**\n",
    "\n",
    "Pour représenter le tableau en deux dimensions, il existe trois solutions :\n",
    "\n",
    "* Une liste de listes, chaque ligne est représentée par une liste. \n",
    "  Toutes ces listes sont elles-mêmes assemblées dans une liste globale.\n",
    "* Une seule liste, il suffit de numéroter les cases du damier de 0 à 99,\n",
    "  en utilisant comme indice pour la case $(i,j)$ : $k = 10*i+j$.\n",
    "  Réciproquement, la case d'indice $k$ aura pour coordonnées \n",
    "  $(k / 10, \\, k \\% 10)$.\n",
    "* Un dictionnaire dont la clé est un couple d'entiers.\n",
    "\n",
    "## Q3\n",
    "\n",
    "On cherche à écrire l'algorithme qui permet de savoir si un pion donné\n",
    "est un mesure de prendre un pion. Quels sont les paramètres\n",
    "d'entrées et les résultats de cet algorithme ? \n",
    "\n",
    "**réponse**\n",
    "\n",
    "On désire savoir si le pion de la case $(i,j)$\n",
    "peut en prendre un autre. On suppose que le tableau à deux dimensions \n",
    "est une liste de dix listes appelée ``damier``. ``damier[i][j]``\n",
    "est donc la couleur du pion de la case $(i,j)$, \n",
    "à savoir 0 si la case est vide, 1 si le pion est blanc, 2 si le pion est noir.\n",
    "Pour ces deux derniers cas, la couleur des pions de l'adversaire sera donc \n",
    "``3 - damier[i][j]``. Les entrées de la fonctions sont donc les indices \n",
    "``i``, ``j`` et le damier ``damier``. La sortie est une variable booléenne qui\n",
    "indique la possibilité ou non de prendre. On ne souhaite pas déplacer les pions.\n",
    "\n",
    "## Q4\n",
    "\n",
    "Il ne reste plus qu'à écrire cet algorithme.\n"
   ]
  },
  {
   "cell_type": "code",
   "execution_count": null,
   "metadata": {
    "collapsed": false
   },
   "outputs": [],
   "source": [
    "def pion_prendre(i, j, damier):\n",
    "    c = damier[i][j]\n",
    "    if c == 0:\n",
    "        return False  # case vide, impossible de prendre\n",
    "    c = 3 - c  # couleur de l'adversaire\n",
    "\n",
    "    if damier[i - 1][j - 1] == c:  # s'il y a un pion adverse en haut à gauche\n",
    "        if damier[i - 2][j - 2] == 0:  # si la case d'après en diagonale est vide\n",
    "            return True  # on peut prendre\n",
    "\n",
    "    # on répète ce test pour les trois autres cases\n",
    "    if damier[i - 1][j + 1] == c and damier[i - 2][j + 2] == 0:\n",
    "        return True\n",
    "    if damier[i + 1][j - 1] == c and damier[i + 2][j - 2] == 0:\n",
    "        return True\n",
    "    if damier[i + 1][j + 1] == c and damier[i + 2][j + 2] == 0:\n",
    "        return True\n",
    "\n",
    "    # si tous les tests ont échoué, on ne peut pas prendre\n",
    "    return False\n",
    "\n",
    "\n",
    "damier = [\n",
    "    [0, 0, 1, 0, 0],\n",
    "    [0, 1, 0, 1, 0],\n",
    "    [0, 0, 2, 0, 2],\n",
    "    [0, 0, 0, 2, 0],\n",
    "    [0, 0, 0, 0, 0],\n",
    "]\n",
    "\n",
    "pion_prendre(2, 2, damier)"
   ]
  },
  {
   "cell_type": "markdown",
   "metadata": {},
   "source": [
    "Voici une fonction équivalente lorsque le damier est un dictionnaire\n",
    "dont la clé est un couple d'entiers.\n",
    "\n"
   ]
  },
  {
   "cell_type": "code",
   "execution_count": null,
   "metadata": {
    "collapsed": false
   },
   "outputs": [],
   "source": [
    "def pion_prendre_dict(i, j, damier):\n",
    "    c = damier[(i, j)]  # ou encore damier [i,j]\n",
    "    if c == 0:\n",
    "        return False  # case vide, impossible de prendre\n",
    "    c = 3 - c  # couleur de l'adversaire\n",
    "\n",
    "    # test pour une prise du pion dans les quatre cases voisines\n",
    "    if damier[i - 1, j - 1] == c and damier[i - 2, j - 2] == 0:\n",
    "        return True\n",
    "    if damier[i - 1, j + 1] == c and damier[i - 2, j + 2] == 0:\n",
    "        return True\n",
    "    if damier[i + 1, j - 1] == c and damier[i + 2, j - 2] == 0:\n",
    "        return True\n",
    "    if damier[i + 1, j + 1] == c and damier[i + 2, j + 2] == 0:\n",
    "        return True\n",
    "\n",
    "    # si tous les tests ont échoué, on ne peut pas prendre\n",
    "    return False\n",
    "\n",
    "\n",
    "damier_dict = {(i, j): damier[i][j] for i in range(4) for j in range(4)}\n",
    "\n",
    "print(damier_dict)\n",
    "\n",
    "pion_prendre_dict(2, 2, damier_dict)"
   ]
  },
  {
   "cell_type": "code",
   "execution_count": null,
   "metadata": {
    "collapsed": false
   },
   "outputs": [],
   "source": [
    "try:\n",
    "    pion_prendre_dict(1, 3, damier_dict)\n",
    "except Exception as e:\n",
    "    print(e)"
   ]
  },
  {
   "cell_type": "markdown",
   "metadata": {},
   "source": [
    "Cela ne marche pas très bien, cela laisse supposer que la fonction\n",
    "précédente n'est pas très fonctionnelle non plus. Il manque le fait de\n",
    "vérifier que les coordonnées testées restent dans l'échiquier.\n",
    "La même fonction lorsque le damier est représenté par une seule liste.\n",
    "\n"
   ]
  },
  {
   "cell_type": "code",
   "execution_count": null,
   "metadata": {
    "collapsed": false
   },
   "outputs": [],
   "source": [
    "def pion_prendre_list(i, j, damier):\n",
    "    n = int(len(damier) ** 0.5)  # on suppose que le damier est carré\n",
    "    c = damier[n * i + j]\n",
    "    if c == 0:\n",
    "        return False  # case vide, impossible de prendre\n",
    "    c = 3 - c  # couleur de l'adversaire\n",
    "\n",
    "    # test pour une prise du pion dans les quatre cases voisines\n",
    "    if damier[n * (i - 1) + j - 1] == c and damier[n * (i - 2) + j - 2] == 0:\n",
    "        return True\n",
    "    if damier[n * (i - 1) + j + 1] == c and damier[n * (i - 2) + j + 2] == 0:\n",
    "        return True\n",
    "    if damier[n * (i + 1) + j - 1] == c and damier[n * (i + 2) + j - 2] == 0:\n",
    "        return True\n",
    "    if damier[n * (i + 1) + j + 1] == c and damier[n * (i + 2) + j + 2] == 0:\n",
    "        return True\n",
    "\n",
    "    return False\n",
    "\n",
    "\n",
    "damier_list = []\n",
    "for row in damier:\n",
    "    damier_list.extend(row)\n",
    "\n",
    "print(damier_list)\n",
    "\n",
    "pion_prendre_list(2, 2, damier_list)"
   ]
  },
  {
   "cell_type": "markdown",
   "metadata": {},
   "source": [
    "Pour ces trois cas, aucun effet de bord n'a été envisagé.\n",
    "Si la case est trop près d'un des bords, un des indices\n",
    "$i,\\;j,\\;i-1,\\;j-1,\\;i+1,\\;j+1,\\;i-2,\\;j-2,\\;i+2,\\;j+2$\n",
    "désignera une case hors du damier. Le code de la fonction\n",
    "``pion_prendre`` devra donc vérifier que chaque case dont elle\n",
    "vérifie le contenu appartient au damier.\n",
    "\n"
   ]
  },
  {
   "cell_type": "code",
   "execution_count": null,
   "metadata": {
    "collapsed": false
   },
   "outputs": [],
   "source": [
    "def pion_prendre_bord(i, j, damier):\n",
    "    c = damier[i][j]\n",
    "    if c == 0:\n",
    "        return False  # case vide, impossible de prendre\n",
    "    c = 3 - c  # couleur de l'adversaire\n",
    "\n",
    "    # on répète ce test pour les trois autres cases\n",
    "    if i >= 2 and j >= 2 and damier[i - 1][j - 1] == c and damier[i - 2][j - 2] == 0:\n",
    "        return True\n",
    "    if (\n",
    "        i >= 2\n",
    "        and j < len(damier) - 2\n",
    "        and damier[i - 1][j + 1] == c\n",
    "        and damier[i - 2][j + 2] == 0\n",
    "    ):\n",
    "        return True\n",
    "\n",
    "    if (\n",
    "        i < len(damier) - 2\n",
    "        and j >= 2\n",
    "        and damier[i + 1][j - 1] == c\n",
    "        and damier[i + 2][j - 2] == 0\n",
    "    ):\n",
    "        return True\n",
    "\n",
    "    if (\n",
    "        i < len(damier) - 2\n",
    "        and j < len(damier) - 2\n",
    "        and damier[i + 1][j + 1] == c\n",
    "        and damier[i + 2][j + 2] == 0\n",
    "    ):\n",
    "        return True\n",
    "\n",
    "    return False\n",
    "\n",
    "\n",
    "pion_prendre_bord(2, 2, damier)"
   ]
  },
  {
   "cell_type": "code",
   "execution_count": null,
   "metadata": {
    "collapsed": false
   },
   "outputs": [],
   "source": [
    "pion_prendre_bord(1, 3, damier)"
   ]
  },
  {
   "cell_type": "markdown",
   "metadata": {},
   "source": [
    "La fonction ``pion_prendre(1, 3, damier)`` fonctionne parce que le\n",
    "langage python accepte indices négatifs : ``damier[-1][-1]``\n",
    "mais le résultat n'est pas nécessairement celui souhaité.\n",
    "\n"
   ]
  }
 ],
 "metadata": {
  "kernelspec": {
   "display_name": "Python 3",
   "language": "python",
   "name": "python3"
  },
  "language_info": {
   "codemirror_mode": {
    "name": "ipython",
    "version": 3
   },
   "file_extension": ".py",
   "mimetype": "text/x-python",
   "name": "python",
   "nbconvert_exporter": "python",
   "pygments_lexer": "ipython3",
   "version": "3.10.6"
  }
 },
 "nbformat": 4,
 "nbformat_minor": 0
}
