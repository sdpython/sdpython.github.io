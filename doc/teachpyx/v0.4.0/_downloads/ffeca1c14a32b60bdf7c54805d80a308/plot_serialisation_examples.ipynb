{
 "cells": [
  {
   "cell_type": "markdown",
   "metadata": {},
   "source": [
    "\n",
    "# Sérialisation\n",
    "\n",
    "Le notebook explore différentes façons de sérialiser des données et leurs limites.\n",
    "\n",
    "## JSON\n",
    "\n",
    "Le format :epkg:`JSON` est le format le plus utilisé sur internet\n",
    "notemmant via les :epkg:`API REST`.\n",
    "\n",
    "### Ecriture (json)\n"
   ]
  },
  {
   "cell_type": "code",
   "execution_count": null,
   "metadata": {
    "collapsed": false
   },
   "outputs": [],
   "source": [
    "from io import StringIO, BytesIO\n",
    "import timeit\n",
    "import json\n",
    "import numpy\n",
    "import ujson\n",
    "import cloudpickle\n",
    "import pickle\n",
    "\n",
    "\n",
    "data = {\n",
    "    \"records\": [\n",
    "        {\n",
    "            \"nom\": \"Xavier\",\n",
    "            \"prénom\": \"Xavier\",\n",
    "            \"langages\": [{\"nom\": \"C++\", \"age\": 40}, {\"nom\": \"Python\", \"age\": 20}],\n",
    "        }\n",
    "    ]\n",
    "}"
   ]
  },
  {
   "cell_type": "code",
   "execution_count": null,
   "metadata": {
    "collapsed": false
   },
   "outputs": [],
   "source": [
    "buffer = StringIO()\n",
    "res = json.dump(data, buffer)  # 1\n",
    "seq = buffer.getvalue()\n",
    "seq"
   ]
  },
  {
   "cell_type": "markdown",
   "metadata": {},
   "source": [
    "### Lecture (json)\n",
    "\n"
   ]
  },
  {
   "cell_type": "code",
   "execution_count": null,
   "metadata": {
    "collapsed": false
   },
   "outputs": [],
   "source": [
    "buffer = StringIO(seq)\n",
    "read = json.load(buffer)\n",
    "read"
   ]
  },
  {
   "cell_type": "markdown",
   "metadata": {},
   "source": [
    "### Limite\n",
    "\n",
    "Les matrices :epkg:`numpy` ne sont pas sérialisables facilement.\n",
    "\n"
   ]
  },
  {
   "cell_type": "code",
   "execution_count": null,
   "metadata": {
    "collapsed": false
   },
   "outputs": [],
   "source": [
    "data = {\"mat\": numpy.array([0, 1])}\n",
    "\n",
    "buffer = StringIO()\n",
    "try:\n",
    "    json.dump(data, buffer)\n",
    "except Exception as e:\n",
    "    print(e)"
   ]
  },
  {
   "cell_type": "markdown",
   "metadata": {},
   "source": [
    "Les classes ne sont pas sérialisables non plus facilement.\n",
    "\n"
   ]
  },
  {
   "cell_type": "code",
   "execution_count": null,
   "metadata": {
    "collapsed": false
   },
   "outputs": [],
   "source": [
    "class A:\n",
    "    def __init__(self, att):\n",
    "        self.att = att\n",
    "\n",
    "\n",
    "data = A(\"e\")\n",
    "buffer = StringIO()\n",
    "try:\n",
    "    json.dump(data, buffer)\n",
    "except Exception as e:\n",
    "    print(e)"
   ]
  },
  {
   "cell_type": "markdown",
   "metadata": {},
   "source": [
    "Pour ce faire, il faut indiquer au module :mod:`json`\n",
    "comment convertir la classe en un ensemble de listes et dictionnaires et\n",
    "la classe :class:`json.JSONEncoder`.\n",
    "\n"
   ]
  },
  {
   "cell_type": "code",
   "execution_count": null,
   "metadata": {
    "collapsed": false
   },
   "outputs": [],
   "source": [
    "class MyEncoder(json.JSONEncoder):\n",
    "    def default(self, o):\n",
    "        return {\"classname\": o.__class__.__name__, \"data\": o.__dict__}\n",
    "\n",
    "\n",
    "data = A(\"e\")\n",
    "buffer = StringIO()\n",
    "res = json.dump(data, buffer, cls=MyEncoder)\n",
    "res = buffer.getvalue()\n",
    "res"
   ]
  },
  {
   "cell_type": "markdown",
   "metadata": {},
   "source": [
    "Et la relecture avec la classe :class:`json.JSONDecoder`.\n",
    "\n"
   ]
  },
  {
   "cell_type": "code",
   "execution_count": null,
   "metadata": {
    "collapsed": false
   },
   "outputs": [],
   "source": [
    "class MyDecoder(json.JSONDecoder):\n",
    "    def decode(self, o):\n",
    "        dec = json.JSONDecoder.decode(self, o)\n",
    "        if isinstance(dec, dict) and dec.get(\"classname\") == \"A\":\n",
    "            return A(dec[\"data\"][\"att\"])\n",
    "        else:\n",
    "            return dec\n",
    "\n",
    "\n",
    "buffer = StringIO(res)\n",
    "obj = json.load(buffer, cls=MyDecoder)\n",
    "obj"
   ]
  },
  {
   "cell_type": "markdown",
   "metadata": {},
   "source": [
    "### Sérialisation rapide\n",
    "\n",
    "Le module :mod:`json` est la librairie standard de Python mais comme\n",
    "la sérialisation au format *JSON* est un besoin très fréquent,\n",
    "il existe des alternative plus rapide comme :epkg:`ujson`.\n",
    "\n"
   ]
  },
  {
   "cell_type": "code",
   "execution_count": null,
   "metadata": {
    "collapsed": false
   },
   "outputs": [],
   "source": [
    "data = {\n",
    "    \"records\": [\n",
    "        {\n",
    "            \"nom\": \"Xavier\",\n",
    "            \"prénom\": \"Xavier\",\n",
    "            \"langages\": [{\"nom\": \"C++\", \"age\": 40}, {\"nom\": \"Python\", \"age\": 20}],\n",
    "        }\n",
    "    ]\n",
    "}"
   ]
  },
  {
   "cell_type": "code",
   "execution_count": null,
   "metadata": {
    "collapsed": false
   },
   "outputs": [],
   "source": [
    "timeit.timeit(\"json.dump(data, StringIO())\", globals=globals(), number=100)"
   ]
  },
  {
   "cell_type": "code",
   "execution_count": null,
   "metadata": {
    "collapsed": false
   },
   "outputs": [],
   "source": [
    "timeit.timeit(\"ujson.dump(data, StringIO())\", globals=globals(), number=100)"
   ]
  },
  {
   "cell_type": "markdown",
   "metadata": {},
   "source": [
    "Ces deux lignes mesures l'écriture au format JSON\n",
    "mais il faut aussi mesurer la lecture.\n",
    "\n"
   ]
  },
  {
   "cell_type": "code",
   "execution_count": null,
   "metadata": {
    "collapsed": false
   },
   "outputs": [],
   "source": [
    "buffer = StringIO()\n",
    "ujson.dump(data, buffer)\n",
    "res = buffer.getvalue()\n",
    "timeit.timeit(\"json.load(StringIO(res))\", globals=globals(), number=100)"
   ]
  },
  {
   "cell_type": "code",
   "execution_count": null,
   "metadata": {
    "collapsed": false
   },
   "outputs": [],
   "source": [
    "timeit.timeit(\"ujson.load(StringIO(res))\", globals=globals(), number=100)"
   ]
  },
  {
   "cell_type": "markdown",
   "metadata": {},
   "source": [
    "On enlève le temps passé dans la creation du buffer.\n",
    "\n"
   ]
  },
  {
   "cell_type": "code",
   "execution_count": null,
   "metadata": {
    "collapsed": false
   },
   "outputs": [],
   "source": [
    "timeit.timeit(\"StringIO(res)\", globals=globals(), number=100)"
   ]
  },
  {
   "cell_type": "markdown",
   "metadata": {},
   "source": [
    "## Pickle\n",
    "\n",
    "Le module :mod:`pickle` effectue la même chose mais au format binaire.\n",
    "Celui-ci est propre à *Python* et ne peut être lu d'autres langages,\n",
    "voire parfois par d'autres versions de *Python*.\n",
    "\n",
    "### Ecriture (pickle)\n",
    "\n"
   ]
  },
  {
   "cell_type": "code",
   "execution_count": null,
   "metadata": {
    "collapsed": false
   },
   "outputs": [],
   "source": [
    "data = {\n",
    "    \"records\": [\n",
    "        {\n",
    "            \"nom\": \"Xavier\",\n",
    "            \"prénom\": \"Xavier\",\n",
    "            \"langages\": [{\"nom\": \"C++\", \"age\": 40}, {\"nom\": \"Python\", \"age\": 20}],\n",
    "        }\n",
    "    ]\n",
    "}"
   ]
  },
  {
   "cell_type": "code",
   "execution_count": null,
   "metadata": {
    "collapsed": false
   },
   "outputs": [],
   "source": [
    "buffer = BytesIO()\n",
    "res = pickle.dump(data, buffer)\n",
    "seq = buffer.getvalue()\n",
    "seq"
   ]
  },
  {
   "cell_type": "markdown",
   "metadata": {},
   "source": [
    "### Lecture (pickle)\n",
    "\n"
   ]
  },
  {
   "cell_type": "code",
   "execution_count": null,
   "metadata": {
    "collapsed": false
   },
   "outputs": [],
   "source": [
    "buffer = BytesIO(seq)\n",
    "read = pickle.load(buffer)\n",
    "read"
   ]
  },
  {
   "cell_type": "markdown",
   "metadata": {},
   "source": [
    "### Les classes\n",
    "\n",
    "A l'inverse du format *JSON*, les classes sont sérialisables avec\n",
    ":mod:`pickle` parce que le langage utilise un format très proche\n",
    "de ce qu'il a en mémoire. Il n'a pas besoin de conversion supplémentaire.\n",
    "\n"
   ]
  },
  {
   "cell_type": "code",
   "execution_count": null,
   "metadata": {
    "collapsed": false
   },
   "outputs": [],
   "source": [
    "data = A(\"r\")\n",
    "buffer = BytesIO()\n",
    "res = pickle.dump(data, buffer)\n",
    "seq = buffer.getvalue()\n",
    "seq"
   ]
  },
  {
   "cell_type": "code",
   "execution_count": null,
   "metadata": {
    "collapsed": false
   },
   "outputs": [],
   "source": [
    "buffer = BytesIO(seq)\n",
    "read = pickle.load(buffer)\n",
    "read"
   ]
  },
  {
   "cell_type": "markdown",
   "metadata": {},
   "source": [
    "### Réduire la taille\n",
    "\n",
    "Certaines informations sont duppliquées et il est préférable de ne pas\n",
    "les sérialiser deux fois surtout si elles sont voluminueuses.\n",
    "\n"
   ]
  },
  {
   "cell_type": "code",
   "execution_count": null,
   "metadata": {
    "collapsed": false
   },
   "outputs": [],
   "source": [
    "class B:\n",
    "    def __init__(self, att):\n",
    "        self.att1 = att\n",
    "        self.att2 = att"
   ]
  },
  {
   "cell_type": "code",
   "execution_count": null,
   "metadata": {
    "collapsed": false
   },
   "outputs": [],
   "source": [
    "data = B(\"r\")\n",
    "buffer = BytesIO()\n",
    "res = pickle.dump(data, buffer)\n",
    "seq = buffer.getvalue()\n",
    "seq"
   ]
  },
  {
   "cell_type": "markdown",
   "metadata": {},
   "source": [
    "Evitons maintenant de stocker deux fois le même attribut.\n",
    "\n"
   ]
  },
  {
   "cell_type": "code",
   "execution_count": null,
   "metadata": {
    "collapsed": false
   },
   "outputs": [],
   "source": [
    "class B:\n",
    "    def __init__(self, att):\n",
    "        self.att1 = att\n",
    "        self.att2 = att\n",
    "\n",
    "    def __getstate__(self):\n",
    "        return dict(att=self.att1)\n",
    "\n",
    "\n",
    "data = B(\"r\")\n",
    "buffer = BytesIO()\n",
    "res = pickle.dump(data, buffer)\n",
    "seq = buffer.getvalue()\n",
    "seq"
   ]
  },
  {
   "cell_type": "markdown",
   "metadata": {},
   "source": [
    "C'est plus court mais il faut inclure maintenant la relecture.\n",
    "\n"
   ]
  },
  {
   "cell_type": "code",
   "execution_count": null,
   "metadata": {
    "collapsed": false
   },
   "outputs": [],
   "source": [
    "class B:\n",
    "    def __init__(self, att):\n",
    "        self.att1 = att\n",
    "        self.att2 = att\n",
    "\n",
    "    def __getstate__(self):\n",
    "        return dict(att=self.att1)\n",
    "\n",
    "    def __setstate__(self, state):\n",
    "        setattr(self, \"att1\", state[\"att\"])\n",
    "        setattr(self, \"att2\", state[\"att\"])\n",
    "\n",
    "\n",
    "buffer = BytesIO(seq)\n",
    "read = pickle.load(buffer)\n",
    "read"
   ]
  },
  {
   "cell_type": "code",
   "execution_count": null,
   "metadata": {
    "collapsed": false
   },
   "outputs": [],
   "source": [
    "read.att1, read.att2"
   ]
  },
  {
   "cell_type": "code",
   "execution_count": null,
   "metadata": {
    "collapsed": false
   },
   "outputs": [],
   "source": [
    "data = B(\"r\")\n",
    "timeit.timeit(\"pickle.dump(data, BytesIO())\", globals=globals(), number=100)"
   ]
  },
  {
   "cell_type": "code",
   "execution_count": null,
   "metadata": {
    "collapsed": false
   },
   "outputs": [],
   "source": [
    "timeit.timeit(\"pickle.load(BytesIO(seq))\", globals=globals(), number=100)"
   ]
  },
  {
   "cell_type": "markdown",
   "metadata": {},
   "source": [
    "La sérialisation binaire est habituellement plus rapide dans les langages\n",
    "bas niveau comme C++. La même comparaison pour un langage haut niveau\n",
    "tel que Python n'est pas toujours prévisible.\n",
    "Il est possible d'accélérer un peu les choses.\n",
    "\n"
   ]
  },
  {
   "cell_type": "code",
   "execution_count": null,
   "metadata": {
    "collapsed": false
   },
   "outputs": [],
   "source": [
    "timeit.timeit(\n",
    "    \"pickle.dump(data, BytesIO(), protocol=pickle.HIGHEST_PROTOCOL)\",\n",
    "    globals=globals(),\n",
    "    number=100,\n",
    ")"
   ]
  },
  {
   "cell_type": "markdown",
   "metadata": {},
   "source": [
    "## Cas des fonctions\n",
    "\n",
    "La sérialisation s'applique à des données et non à du code mais le\n",
    "fait de sérialiser des fonctions est tout de même tentant.\n",
    "La sérialisation binaire fonctionne même avec les fonctions.\n",
    "\n",
    "### Binaire\n",
    "\n"
   ]
  },
  {
   "cell_type": "code",
   "execution_count": null,
   "metadata": {
    "collapsed": false
   },
   "outputs": [],
   "source": [
    "def myfunc(x):\n",
    "    return x + 1\n",
    "\n",
    "\n",
    "data = {\"x\": 5, \"f\": myfunc}\n",
    "\n",
    "\n",
    "buffer = BytesIO()\n",
    "res = pickle.dump(data, buffer)\n",
    "buffer.getvalue()"
   ]
  },
  {
   "cell_type": "code",
   "execution_count": null,
   "metadata": {
    "collapsed": false
   },
   "outputs": [],
   "source": [
    "res = pickle.load(BytesIO(buffer.getvalue()))\n",
    "res"
   ]
  },
  {
   "cell_type": "code",
   "execution_count": null,
   "metadata": {
    "collapsed": false
   },
   "outputs": [],
   "source": [
    "res[\"f\"](res[\"x\"])"
   ]
  },
  {
   "cell_type": "markdown",
   "metadata": {},
   "source": [
    "La sérialisation ne conserve pas le code de la fonction, juste son nom.\n",
    "Cela veut dire que si elle n'est pas disponible lorsqu'elle est appelée,\n",
    "il sera impossible de s'en servir.\n",
    "\n"
   ]
  },
  {
   "cell_type": "code",
   "execution_count": null,
   "metadata": {
    "collapsed": false
   },
   "outputs": [],
   "source": [
    "del myfunc\n",
    "\n",
    "\n",
    "try:\n",
    "    pickle.load(BytesIO(buffer.getvalue()))\n",
    "except Exception as e:\n",
    "    print(e)"
   ]
  },
  {
   "cell_type": "markdown",
   "metadata": {},
   "source": [
    "Il est possible de contourner l'obstacle en utilisant le module\n",
    ":epkg:`cloudpickle` qui stocke le code de la fonction.\n",
    "\n"
   ]
  },
  {
   "cell_type": "code",
   "execution_count": null,
   "metadata": {
    "collapsed": false
   },
   "outputs": [],
   "source": [
    "def myfunc(x):\n",
    "    return x + 1\n",
    "\n",
    "\n",
    "data = {\"x\": 5, \"f\": myfunc}\n",
    "\n",
    "\n",
    "buffer = BytesIO()\n",
    "res = cloudpickle.dump(data, buffer)\n",
    "buffer.getvalue()"
   ]
  },
  {
   "cell_type": "code",
   "execution_count": null,
   "metadata": {
    "collapsed": false
   },
   "outputs": [],
   "source": [
    "del myfunc\n",
    "\n",
    "\n",
    "res = cloudpickle.load(BytesIO(buffer.getvalue()))\n",
    "res"
   ]
  },
  {
   "cell_type": "code",
   "execution_count": null,
   "metadata": {
    "collapsed": false
   },
   "outputs": [],
   "source": [
    "res[\"f\"](res[\"x\"])"
   ]
  },
  {
   "cell_type": "markdown",
   "metadata": {},
   "source": [
    "### Fonction et JSON\n",
    "\n",
    "La sérialisation d'une fonction au format JSON ne\n",
    "fonctionne pas avec le module standard.\n",
    "\n"
   ]
  },
  {
   "cell_type": "code",
   "execution_count": null,
   "metadata": {
    "collapsed": false
   },
   "outputs": [],
   "source": [
    "buffer = StringIO()\n",
    "try:\n",
    "    json.dump(data, buffer)  # 2\n",
    "except Exception as e:\n",
    "    print(e)"
   ]
  },
  {
   "cell_type": "markdown",
   "metadata": {},
   "source": [
    "La sérialisation avec :epkg:`ujson` ne fonctionne pas non plus\n",
    "même si elle ne produit pas toujours d'erreur.\n",
    "\n"
   ]
  },
  {
   "cell_type": "code",
   "execution_count": null,
   "metadata": {
    "collapsed": false
   },
   "outputs": [],
   "source": [
    "buffer = StringIO()\n",
    "try:\n",
    "    res = ujson.dump(data, buffer)  # 3\n",
    "except TypeError as e:\n",
    "    print(e)\n",
    "buffer.getvalue()"
   ]
  },
  {
   "cell_type": "markdown",
   "metadata": {},
   "source": [
    "## Cas des itérateurs\n",
    "\n",
    "Les itérateurs fonctionnent avec la sérialisation binaire mais ceci\n",
    "implique de stocker l'ensemble que l'itérateur parcourt.\n",
    "\n"
   ]
  },
  {
   "cell_type": "code",
   "execution_count": null,
   "metadata": {
    "collapsed": false
   },
   "outputs": [],
   "source": [
    "ens = [1, 2]\n",
    "\n",
    "data = {\"x\": 5, \"it\": iter(ens)}\n",
    "\n",
    "\n",
    "buffer = BytesIO()\n",
    "res = pickle.dump(data, buffer)  # 4\n",
    "buffer.getvalue()"
   ]
  },
  {
   "cell_type": "code",
   "execution_count": null,
   "metadata": {
    "collapsed": false
   },
   "outputs": [],
   "source": [
    "del ens\n",
    "\n",
    "res = pickle.load(BytesIO(buffer.getvalue()))\n",
    "res"
   ]
  },
  {
   "cell_type": "code",
   "execution_count": null,
   "metadata": {
    "collapsed": false
   },
   "outputs": [],
   "source": [
    "list(res[\"it\"])"
   ]
  },
  {
   "cell_type": "code",
   "execution_count": null,
   "metadata": {
    "collapsed": false
   },
   "outputs": [],
   "source": [
    "list(res[\"it\"])"
   ]
  },
  {
   "cell_type": "markdown",
   "metadata": {},
   "source": [
    "## Cas des générateurs\n",
    "\n",
    "Ils ne peuvent être sérialisés car le langage n'a pas accès à l'ensemble\n",
    "des éléments que le générateur parcourt. Il n'y a aucun moyen de\n",
    "sérialiser un générateur mais on peut sérialiser la fonction qui crée le générateur.\n",
    "\n"
   ]
  },
  {
   "cell_type": "code",
   "execution_count": null,
   "metadata": {
    "collapsed": false
   },
   "outputs": [],
   "source": [
    "def ensgen():\n",
    "    yield 1\n",
    "    yield 2\n",
    "\n",
    "\n",
    "data = {\"x\": 5, \"it\": ensgen()}\n",
    "\n",
    "\n",
    "buffer = BytesIO()\n",
    "try:\n",
    "    pickle.dump(data, buffer)\n",
    "except Exception as e:\n",
    "    print(e)"
   ]
  }
 ],
 "metadata": {
  "kernelspec": {
   "display_name": "Python 3",
   "language": "python",
   "name": "python3"
  },
  "language_info": {
   "codemirror_mode": {
    "name": "ipython",
    "version": 3
   },
   "file_extension": ".py",
   "mimetype": "text/x-python",
   "name": "python",
   "nbconvert_exporter": "python",
   "pygments_lexer": "ipython3",
   "version": "3.10.6"
  }
 },
 "nbformat": 4,
 "nbformat_minor": 0
}
