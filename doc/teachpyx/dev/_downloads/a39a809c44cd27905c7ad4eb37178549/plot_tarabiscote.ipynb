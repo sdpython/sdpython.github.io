{
  "cells": [
    {
      "cell_type": "markdown",
      "metadata": {},
      "source": [
        "\n\n# Exercices expliqu\u00e9s de programmation\n\nQuelques exercices autour de la copie de liste, du temps de calcul, de l'h\u00e9ritage.\n\n## Copie de listes\n\nLa fonction ``somme`` est cens\u00e9e faire la concat\u00e9nation de toutes les\nlistes contenues dans ``ens``. Le r\u00e9sultat retourn\u00e9 est effectivement\ncelui d\u00e9sir\u00e9 mais la fonction modifie \u00e9galement la liste ``ens``, pourquoi ?\n"
      ]
    },
    {
      "cell_type": "code",
      "execution_count": null,
      "metadata": {
        "collapsed": false
      },
      "outputs": [],
      "source": [
        "import math\nimport copy\nimport numpy\n\n\ndef somme(tab):\n    li = tab[0]\n    for i in range(1, len(tab)):\n        li += tab[i]\n    return li\n\n\nens = [[0, 1], [2, 3]]\nprint(somme(ens))\nprint(ens)"
      ]
    },
    {
      "cell_type": "markdown",
      "metadata": {},
      "source": [
        "Le probl\u00e8me vient du fait qu'une affectation en *python*\n(seconde ligne de la fonction ``somme`` ne fait pas une copie\nmais cr\u00e9e un second identificateur pour d\u00e9signer la m\u00eame chose.\nIci, ``l`` et ``tab[0]`` d\u00e9signent la m\u00eame liste, modifier l'une\nmodifie l'autre. Ceci explique le r\u00e9sultat. Pour corriger,\nil fallait faire une copie explicite de ``tab[0]`` :\n\n"
      ]
    },
    {
      "cell_type": "code",
      "execution_count": null,
      "metadata": {
        "collapsed": false
      },
      "outputs": [],
      "source": [
        "def somme(tab):\n    li = copy.copy(tab[0])  ###### ligne modifi\u00e9e\n    for i in range(1, len(tab)):\n        li += tab[i]\n    return li\n\n\nens = [[0, 1], [2, 3]]\nprint(somme(ens))\nprint(ens)"
      ]
    },
    {
      "cell_type": "markdown",
      "metadata": {},
      "source": [
        "Il \u00e9tait possible, dans ce cas, de se passer de copie en \u00e9crivant :\n\n"
      ]
    },
    {
      "cell_type": "code",
      "execution_count": null,
      "metadata": {
        "collapsed": false
      },
      "outputs": [],
      "source": [
        "def somme(tab):\n    li = []  ###### ligne modifi\u00e9e\n    for i in range(len(tab)):  ###### ligne modifi\u00e9e\n        li += tab[i]\n    return li\n\n\nens = [[0, 1], [2, 3]]\nprint(somme(ens))\nprint(ens)"
      ]
    },
    {
      "cell_type": "markdown",
      "metadata": {},
      "source": [
        "## Erreur de logique\n\nLe programme suivant fonctionne mais le r\u00e9sultat n'est pas celui escompt\u00e9.\n\n"
      ]
    },
    {
      "cell_type": "code",
      "execution_count": null,
      "metadata": {
        "collapsed": false
      },
      "outputs": [],
      "source": [
        "li = [\"un\", \"deux\", \"trois\", \"quatre\", \"cinq\"]\n\nfor i in range(len(li)):\n    mi = i\n    for j in range(i, len(li)):\n        if li[mi] < li[j]:\n            mi = j\n    e = li[i]\n    li[mi] = li[i]\n    li[i] = e\n\nli"
      ]
    },
    {
      "cell_type": "markdown",
      "metadata": {},
      "source": [
        "Ce programme est cens\u00e9 effectuer un tri par ordre alphab\u00e9tique\n**d\u00e9croissant**. Le probl\u00e8me intervient lors de la permutation de\nl'\u00e9l\u00e9ment ``l[i]`` avec l'\u00e9l\u00e9ment ``l[mi]``. Il faut donc \u00e9crire :\n\n"
      ]
    },
    {
      "cell_type": "code",
      "execution_count": null,
      "metadata": {
        "collapsed": false
      },
      "outputs": [],
      "source": [
        "li = [\"un\", \"deux\", \"trois\", \"quatre\", \"cinq\"]\nfor i in range(len(li)):\n    mi = i\n    for j in range(i, len(li)):\n        if li[mi] < li[j]:\n            mi = j\n    e = li[mi]  ######## ligne modifi\u00e9e\n    li[mi] = li[i]\n    li[i] = e\n\nli"
      ]
    },
    {
      "cell_type": "markdown",
      "metadata": {},
      "source": [
        "## Co\u00fbt d'un algorithme\n\nLe co\u00fbt d'un algorithme ou d'un programme est le nombre d'op\u00e9rations\n(additions, multiplications, tests, ...) qu'il effectue. Il s'exprime\ncomme un multiple d'une fonction de la dimension des donn\u00e9es que\nle programme manipule. Par exemple : $O(n)$,\n$O(n^2)$, $O(n\\ln n)$, ...\n\n"
      ]
    },
    {
      "cell_type": "code",
      "execution_count": null,
      "metadata": {
        "collapsed": false
      },
      "outputs": [],
      "source": [
        "def moyenne(tab):\n    s = 0.0\n    for x in tab:\n        s += x\n    return s / len(tab)\n\n\ndef variance(tab):\n    s = 0.0\n    for x in tab:\n        t = x - moyenne(tab)\n        s += t * t\n    return s / len(tab)\n\n\nli = [0, 1, 2, 2, 3, 1, 3, 0]\nprint(moyenne(li))\nprint(variance(li))"
      ]
    },
    {
      "cell_type": "markdown",
      "metadata": {},
      "source": [
        "Tout d'abord, le co\u00fbt d'un algorithme est tr\u00e8s souvent exprim\u00e9 comme un\nmultiple de la dimension des donn\u00e9es qu'il traite. Ici, la dimension\nest la taille du tableau ``tab``. Par exemple, si on note ``n = len(tab)``,\nalors le co\u00fbt de la fonction ``moyenne`` s'\u00e9crit $O(n)$ car cette\nfonction fait la somme des *n* \u00e9l\u00e9ments du tableau.\n\nLa fonction ``variance`` contient quant \u00e0 elle un petit pi\u00e8ge. Si elle\ncontient elle aussi une boucle, chacun des $n$ passages dans cette boucle\nfait appel \u00e0 la fonction ``moyenne``. Le co\u00fbt de la fonction ``variance`` est donc\n$O(n^2)$.\n\nIl est possible d'acc\u00e9l\u00e9rer le programme car la fonction ``moyenne``\nretourne le m\u00eame r\u00e9sultat \u00e0 chaque passage dans la boucle.\nIl suffit de m\u00e9moriser son r\u00e9sultat dans une variable avant d'entrer\ndans la boucle comme suit :\n\n"
      ]
    },
    {
      "cell_type": "code",
      "execution_count": null,
      "metadata": {
        "collapsed": false
      },
      "outputs": [],
      "source": [
        "def variance(tab):\n    s = 0.0\n    m = moyenne(tab)\n    for x in tab:\n        t = x - m\n        s += t * t\n    return s / len(tab)\n\n\nvariance(li)"
      ]
    },
    {
      "cell_type": "markdown",
      "metadata": {},
      "source": [
        "Le co\u00fbt de la fonction ``variance`` est alors $O(n)$.\n\nLe co\u00fbt d'un algorithme peut \u00eatre \u00e9valu\u00e9 de mani\u00e8re plus pr\u00e9cise et\nn\u00e9cessiter un r\u00e9sultat comme $n^2 + 3n + 2$ mais cette exigence est\nrarement utile pour des langages comme *python*. L'expression\n``for x in tab:`` cache n\u00e9cessairement un test qu'il faudrait prendre en\ncompte si plus de pr\u00e9cision \u00e9tait exig\u00e9e. Il faudrait \u00e9galement se\ntourner vers un autre langage de programmation, plus pr\u00e9cis dans sa syntaxe.\nPar exemple, lorsqu'on con\u00e7oit un programme avec le langage C ou C++,\n\u00e0 partir du m\u00eame code informatique, on peut construire deux programmes\nex\u00e9cutables. Le premier (ou version *debug*), lent, sert \u00e0 la mise au point :\nil inclut des tests suppl\u00e9mentaires permettant de v\u00e9rifier \u00e0 chaque \u00e9tape\nqu'il n'y a pas eu d'erreur (une division par z\u00e9ro par exemple).\nLorsqu'on est s\u00fbr que le programme marche, on construit la seconde version\n(ou *release*), plus rapide, dont ont \u00e9t\u00e9 \u00f4t\u00e9s tous ces tests de\nconception devenus inutiles.\n\n*python* aboutit \u00e0 un programme lent qui inclut une quantit\u00e9 de tests\ninvisibles pour celui qui programme mais qui d\u00e9tecte les erreurs plus vite\net favorise une conception rapide. Il n'est pas adapt\u00e9 au traitement\nd'information en grand nombre et fait une multitude d'op\u00e9rations cach\u00e9es.\n\n## H\u00e9ritage double\n\nOn a besoin dans un programme de cr\u00e9er une classe ``carre`` et une classe\n``rectangle``. Mais on ne sait pas quelle classe doit h\u00e9riter de l'autre.\nDans le premier programme, ``rectangle`` h\u00e9rite de ``carre``.\n\n"
      ]
    },
    {
      "cell_type": "code",
      "execution_count": null,
      "metadata": {
        "collapsed": false
      },
      "outputs": [],
      "source": [
        "class carre:\n    def __init__(self, a):\n        self.a = a\n\n    def surface(self):\n        return self.a**2\n\n\nclass rectangle(carre):\n    def __init__(self, a, b):\n        carre.__init__(self, a)\n        self.b = b\n\n    def surface(self):\n        return self.a * self.b\n\n\nrectangle(3, 4).surface()"
      ]
    },
    {
      "cell_type": "markdown",
      "metadata": {},
      "source": [
        "Dans le second programme, c'est la classe ``carre``\nqui h\u00e9rite de la classe ``rectangle``.\n\n"
      ]
    },
    {
      "cell_type": "code",
      "execution_count": null,
      "metadata": {
        "collapsed": false
      },
      "outputs": [],
      "source": [
        "class rectangle:\n    def __init__(self, a, b):\n        self.a = a\n        self.b = b\n\n    def surface(self):\n        return self.a * self.b\n\n\nclass carre(rectangle):\n    def __init__(self, a):\n        rectangle.__init__(self, a, a)\n\n    def surface(self):\n        return self.a**2\n\n\ncarre(3).surface()"
      ]
    },
    {
      "cell_type": "markdown",
      "metadata": {},
      "source": [
        "* Dans le second programme, est-il n\u00e9cessaire de red\u00e9finir\n  la m\u00e9thode ``surface`` dans la classe ``carre`` ?\n* Quel est le sens d'h\u00e9ritage qui vous para\u00eet le plus cens\u00e9,\n  ``class  rectangle(carre)`` ou ``class  carre(rectangle)`` ?\n* On d\u00e9sire ajouter la classe ``losange``. Est-il plus simple que\n  ``rectangle`` h\u00e9rite de la classe ``carre`` ou l'inverse pour introduire\n  la classe ``losange`` ? Quel ou quels attributs suppl\u00e9mentaires\n  faut-il introduire dans la classe ``losange`` ?\n\n"
      ]
    },
    {
      "cell_type": "code",
      "execution_count": null,
      "metadata": {
        "collapsed": false
      },
      "outputs": [],
      "source": [
        "# Le principe de l'h\u00e9ritage est qu'une classe ``carre`` h\u00e9ritant de la classe\n# ``rectangle`` h\u00e9rite de ses attributs et m\u00e9thodes. L'aire d'un carr\u00e9 est\n# \u00e9gale \u00e0 celle d'un rectangle dont les c\u00f4t\u00e9s sont \u00e9gaux, par cons\u00e9quent,\n# la m\u00e9thode ``surface`` de la classe retourne la m\u00eame valeur que celle de\n# la classe ``rectangle``. Il n'est donc pas n\u00e9cessaire de la red\u00e9finir.\n#\n# * D'apr\u00e8s la r\u00e9ponse de la premi\u00e8re question, il para\u00eet plus logique de\n#   consid\u00e9rer que ``carre`` h\u00e9rite de ``rectangle``.\n# * Un losange est d\u00e9fini par un c\u00f4t\u00e9 et un angle ou un c\u00f4t\u00e9 et la longueur\n#   d'une de ses diagonales, soit dans les deux cas, deux param\u00e8tres.\n#   Dans la premi\u00e8re question, il paraissait plus logique que la classe\n#   la plus sp\u00e9cifique h\u00e9rite de la classe la plus g\u00e9n\u00e9rale afin de b\u00e9n\u00e9ficier\n#   de ses m\u00e9thodes. Pour introduire le losange, il para\u00eet plus logique de\n#   partir du plus sp\u00e9cifique pour aller au plus g\u00e9n\u00e9ral afin que chaque\n#   classe ne contienne que les informations qui lui sont n\u00e9cessaires.\n\n\nclass carre:\n    def __init__(self, a):\n        self.a = a\n\n    def surface(self):\n        return self.a**2\n\n\nclass rectangle(carre):\n    def __init__(self, a, b):\n        carre.__init__(self, a)\n        self.b = b\n\n    def surface(self):\n        return self.a * self.b\n\n\nclass losange(carre):\n    def __init__(self, a, theta):\n        carre.__init__(self, a)\n        self.theta = theta\n\n    def surface(self):\n        return self.a * math.cos(self.theta) * self.a * math.sin(self.theta) * 2\n\n\nlosange(3, 1).surface()"
      ]
    },
    {
      "cell_type": "markdown",
      "metadata": {},
      "source": [
        "Le sens de l'h\u00e9ritage d\u00e9pend de vos besoins. Si l'h\u00e9ritage porte principalement\nsur les m\u00e9thodes, il est pr\u00e9f\u00e9rable de partir du plus g\u00e9n\u00e9ral pour aller\nau plus sp\u00e9cifique. La premi\u00e8re classe sert d'interface pour toutes ses filles.\nSi l'h\u00e9ritage porte principalement sur les attributs, il est pr\u00e9f\u00e9rable de\npartir du plus sp\u00e9cifique au plus g\u00e9n\u00e9ral. Dans le cas g\u00e9n\u00e9ral, il n'y a pas\nd'h\u00e9ritage plus sens\u00e9 qu'un autre mais pour un probl\u00e8me donn\u00e9,\nil y a souvent un h\u00e9ritage plus sens\u00e9 qu'un autre.\n\n## Pr\u00e9cision des calculs\n\nVoici un aper\u00e7u de la pr\u00e9cision des calculs pour le calcul $1 - 10^{-n}$.\nL'exercice a pour but de montrer que l'ordinateur ne fait que des calculs approch\u00e9s\net que la pr\u00e9cision du r\u00e9sultat d\u00e9pend de la m\u00e9thode num\u00e9rique employ\u00e9e.\n\n"
      ]
    },
    {
      "cell_type": "code",
      "execution_count": null,
      "metadata": {
        "collapsed": false
      },
      "outputs": [],
      "source": [
        "x = 1.0\nfor i in range(19):\n    x = x / 10\n    print(i, \"\\t\", 1.0 - x, \"\\t\", x, \"\\t\", x ** (0.5))"
      ]
    },
    {
      "cell_type": "markdown",
      "metadata": {},
      "source": [
        "Le programme montre que l'ordinateur affiche ``1``\nlorsqu'il calcule $1-10^{-17}$.\nCela signifie que la pr\u00e9cision des calculs en *python*\nest au mieux de $10^{-16}$.\nC'est encore moins bon dans le cas de *float* ou\nr\u00e9el simple pr\u00e9cision cod\u00e9 sur\n4 octets au lieu de 8 pour les *double*.\n\n"
      ]
    },
    {
      "cell_type": "code",
      "execution_count": null,
      "metadata": {
        "collapsed": false
      },
      "outputs": [],
      "source": [
        "x = numpy.float32(1.0)\nfor i in range(19):\n    x = x / numpy.float32(10)\n    print(i, \"\\t\", 1.0 - x, \"\\t\", x, \"\\t\", x ** (0.5))"
      ]
    },
    {
      "cell_type": "markdown",
      "metadata": {},
      "source": [
        "On \u00e9crit une classe ``matrice_carree_2``\nqui repr\u00e9sente une matrice carr\u00e9e de dimension 2.\n\n"
      ]
    },
    {
      "cell_type": "code",
      "execution_count": null,
      "metadata": {
        "collapsed": false
      },
      "outputs": [],
      "source": [
        "class matrice_carree_2:\n    def __init__(self, a, b, c, d):\n        self.a, self.b, self.c, self.d = a, b, c, d\n\n    def determinant(self):\n        return self.a * self.d - self.b * self.c\n\n\nm1 = matrice_carree_2(1.0, 1e-6, 1e-6, 1.0)\nm2 = matrice_carree_2(1.0, 1e-9, 1e-9, 1.0)\nprint(m1.determinant())\nprint(m2.determinant())"
      ]
    },
    {
      "cell_type": "markdown",
      "metadata": {},
      "source": [
        "La seconde valeur est donc fausse. On consid\u00e8re maintenant la matrice\n$M = \\left(\\begin{array}{cc} 1 & 10^{-9} \\\\  10^{-9} & 1 \\end{array} \\right)$.\n\nOn pose $D = \\det(M) = 1 - 10^{-18}$ et $T = tr(M) = 2$. $\\Delta$\nest le d\u00e9terminant de *M* et *T* sa trace. On sait que les valeurs propres de\n*M* not\u00e9es $\\lambda_1$, $\\lambda_2$ v\u00e9rifient :\n\n\\begin{align}\\begin{array}{lll}\n      D &=& \\lambda_1 \\lambda_2 \\\\\n      T &=& \\lambda_1 + \\lambda_2\n      \\end{array}\\end{align}\n\nOn v\u00e9rifie que $(x - \\lambda_1)(x - \\lambda_2) = x^2 - x\n(\\lambda_1 + \\lambda_2) + \\lambda_1 \\lambda_2$.\nLes valeurs propres de $M$ sont donc solutions de l'\u00e9quation :\n$x^2 - T x + D = 0$.\n\nLe discriminant de ce polyn\u00f4me est $\\Delta = T^2 - 4 D$.\nOn peut donc exprimer les valeurs propres de la matrice *M* par :\n\n\\begin{align}\\begin{array}{lll}\n      \\lambda_1 &=& \\frac{T - \\sqrt{\\Delta}}{2} \\\\\n      \\lambda_2 &=& \\frac{T + \\sqrt{\\Delta}}{2}\n      \\end{array}\\end{align}\n\nOn ajoute donc la m\u00e9thode suivante \u00e0 la classe ``matrice_carree_2`` :\n\n"
      ]
    },
    {
      "cell_type": "code",
      "execution_count": null,
      "metadata": {
        "collapsed": false
      },
      "outputs": [],
      "source": [
        "class matrice_carree_2:\n    def __init__(self, a, b, c, d):\n        self.a, self.b, self.c, self.d = a, b, c, d\n\n    def determinant(self):\n        return self.a * self.d - self.b * self.c\n\n    def valeurs_propres(self):\n        det = self.determinant()\n        trace = self.a + self.d\n        delta = trace**2 - 4 * det\n        l1 = 0.5 * (trace - (delta ** (0.5)))\n        l2 = 0.5 * (trace + (delta ** (0.5)))\n        return l1, l2\n\n\nm1 = matrice_carree_2(1.0, 1e-6, 1e-6, 1.0)\nm2 = matrice_carree_2(1.0, 1e-9, 1e-9, 1.0)\nprint(m1.valeurs_propres())\nprint(m2.valeurs_propres())"
      ]
    },
    {
      "cell_type": "markdown",
      "metadata": {},
      "source": [
        "D'apr\u00e8s l'\u00e9nonc\u00e9, les valeurs propres de la matrice $M_2$ sont les\nsommes de celles de la matrice *I* et de la matrice $M'_2$.\nPar cons\u00e9quent, ce second calcul m\u00e8ne au r\u00e9sultat suivant :\n\n::\n\n      l1    = 1-1e-9  = 0.99999999900000002828\n      l2    = 1+ 1e-9 = 1.000000001\n\nLa pr\u00e9cision des calculs prend sont importance ici. On d\u00e9compose la matrice\n$M =  \\left(\\begin{array}{cc} 1 & 0 \\\\  0 & 1 \\end{array}\\right) +\n\\left(\\begin{array}{cc} 0 & 10^{-9} \\\\  10^{-9} & 0 \\end{array}\\right) = I + M'$.\n\nOn peut d\u00e9montrer que si $\\lambda$ est une valeur propre de $M'$,\nalors $1 + \\lambda$ est une valeur propre de *M*.\nQue donne le calcul des valeurs propres de $M'$ si on utilise la m\u00e9thode\n``valeurs_propres`` pour ces deux matrices ?\n\nOn consid\u00e8re maintenant la matrice\n$M'' = \\left(\\begin{array}{cc} 1 & 10^{-9} \\\\  -10^{-9} & 1 \\end{array}\\right)$.\nEn d\u00e9composant la matrice $M''$ de la m\u00eame mani\u00e8re qu'\u00e0 la question 4,\nquelles sont les valeurs propres retourn\u00e9es par le programme pour la matrice\n$M''$ ? Quelles sont ses vraies valeurs propres ?\n\nLa matrice $M''$ n'est en fait pas diagonalisable, c'est-\u00e0-dire que\n$tr(M'')^2 - 4 \\det{M''} = 4 - 4 (1 + 10^{-18}) < 0$.\nOr le calcul propos\u00e9 par la question 3 aboutit au m\u00eame r\u00e9sultat faux que pour\nla matrice $M_2$, les deux valeurs propres trouv\u00e9es seront \u00e9gales \u00e0 1.\nSi on applique la d\u00e9composition propos\u00e9e :\n$M'' = I + \\left(\\begin{array}{cc}0&-10^{-9}\\\\\n10^{-9}&0\\end{array}\\right) = I + N''$.\nLe programme calcule sans erreur le discriminant n\u00e9gatif de la matrice $N''$\nqui n'est pas diagonalisable. Il est donc impossible d'obtenir des valeurs\npropres r\u00e9elles pour la matrice $M''$ avec cette seconde m\u00e9thode.\nCette question montre qu'une erreur d'approximation peut rendre une\nmatrice diagonalisable alors qu'elle ne l'est pas. Il faut bien choisir\ncette pr\u00e9cision en fonction de la destination des calculs.\n\n"
      ]
    }
  ],
  "metadata": {
    "kernelspec": {
      "display_name": "Python 3",
      "language": "python",
      "name": "python3"
    },
    "language_info": {
      "codemirror_mode": {
        "name": "ipython",
        "version": 3
      },
      "file_extension": ".py",
      "mimetype": "text/x-python",
      "name": "python",
      "nbconvert_exporter": "python",
      "pygments_lexer": "ipython3",
      "version": "3.12.3"
    }
  },
  "nbformat": 4,
  "nbformat_minor": 0
}