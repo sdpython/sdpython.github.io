{
  "cells": [
    {
      "cell_type": "markdown",
      "metadata": {},
      "source": [
        "\n# R\u00e9flexions autour du voyage de commerce (TSP)\n\nLe [probl\u00e8me du voyageur de commerce](https://fr.wikipedia.org/wiki/Probl%C3%A8me_du_voyageur_de_commerce))\nconsiste \u00e0 trouver le plus court chemin passant par toutes les villes.\nOn parle aussi de [circuit hamiltonien](https://en.wikipedia.org/wiki/Hamiltonian_path))\nqui consiste \u00e0 trouver le plus court chemin passant par tous les noeuds d'un graphe.\nCe programme explore quelques solutions approch\u00e9es et intuitives.\n\nCe probl\u00e8me est :epkg:`NP-complet`\n\u00e0 savoir qu'il n'existe pas d'algorithme qui permette de trouver la solution avec un\nco\u00fbt polyn\u00f4mial. C'est aussi un probl\u00e8me diff\u00e9rent du [plus court chemin dans un graphe](https://fr.wikipedia.org/wiki/Probl%C3%A8mes_de_cheminement))\nqui consiste \u00e0 trouver le plus court chemin reliant deux noeuds d'un graphe\n(mais pas forc\u00e9ment tous les noeuds de ce graphe).\n\n## Des villes tir\u00e9es au hasard\n"
      ]
    },
    {
      "cell_type": "code",
      "execution_count": null,
      "metadata": {
        "collapsed": false
      },
      "outputs": [],
      "source": [
        "import random\nimport matplotlib.pyplot as plt\n\nn = 30\nx = [random.random() for _ in range(n)]\ny = [random.random() for _ in range(n)]\n\nplt.plot(x, y, \"o\")"
      ]
    },
    {
      "cell_type": "markdown",
      "metadata": {},
      "source": [
        "Un parcours al\u00e9atoire de tous les noeuds de graphe\ndonnera quelque chose de tr\u00e8s \u00e9loign\u00e9 de la solution optimale :\n\n"
      ]
    },
    {
      "cell_type": "code",
      "execution_count": null,
      "metadata": {
        "collapsed": false
      },
      "outputs": [],
      "source": [
        "plt.plot([*x, x[0]], [*y, y[0]], \"o-\")"
      ]
    },
    {
      "cell_type": "markdown",
      "metadata": {},
      "source": [
        "## Croisements\n\nLa premi\u00e8re constation est que le chemin ne peut pas \u00eatre optimal\ncar des arcs se croisent. On en d\u00e9duit qu'une fa\u00e7on d'am\u00e9liorer ce\nchemin est de *d\u00e9croiser* certaines parties. On peut par exemple\nchoisir deux points au hasard, retourner la partie du chemin au milieu\nde ces deux points et voir si la longueur du chemin s'en trouve diminu\u00e9e.\nOn peut \u00e9galement parcourir toutes les paires de noeuds possibles.\nC'est ce qui est impl\u00e9ment\u00e9 ci-dessous.\n\n"
      ]
    },
    {
      "cell_type": "code",
      "execution_count": null,
      "metadata": {
        "collapsed": false
      },
      "outputs": [],
      "source": [
        "def longueur(x, y, ordre):\n    i = ordre[-1]\n    x0, y0 = x[i], y[i]\n    d = 0\n    for o in ordre:\n        x1, y1 = x[o], y[o]\n        d += (x0 - x1) ** 2 + (y0 - y1) ** 2\n        x0, y0 = x1, y1\n    return d\n\n\nordre = list(range(len(x)))\nprint(\"longueur initiale\", longueur(x, y, ordre))"
      ]
    },
    {
      "cell_type": "markdown",
      "metadata": {},
      "source": [
        "Permutations.\n\n"
      ]
    },
    {
      "cell_type": "code",
      "execution_count": null,
      "metadata": {
        "collapsed": false
      },
      "outputs": [],
      "source": [
        "def permutation(x, y, ordre):\n    d = longueur(x, y, ordre)\n    d0 = d + 1\n    it = 1\n    while d < d0:\n        it += 1\n        print(\"iteration\", it, \"d=\", d)\n        d0 = d\n        for i in range(len(ordre) - 1):\n            for j in range(i + 2, len(ordre)):\n                r = ordre[i:j].copy()\n                r.reverse()\n                ordre2 = ordre[:i] + r + ordre[j:]\n                t = longueur(x, y, ordre2)\n                if t < d:\n                    d = t\n                    ordre = ordre2\n    return ordre\n\n\nordre = permutation(x, y, list(range(len(x))))\nprint(\"longueur min\", longueur(x, y, ordre))\nxo = [x[o] for o in [*ordre, ordre[0]]]\nyo = [y[o] for o in [*ordre, ordre[0]]]\nplt.plot(xo, yo, \"o-\")"
      ]
    },
    {
      "cell_type": "markdown",
      "metadata": {},
      "source": [
        "Voil\u00e0 qui est mieux. Maintenant, supposons que nous faisons une\nerreur lors du calcul de la distance : nous oublions le dernier\narc qui boucle le chemin du dernier noeud au premier.\n\n"
      ]
    },
    {
      "cell_type": "code",
      "execution_count": null,
      "metadata": {
        "collapsed": false
      },
      "outputs": [],
      "source": [
        "def longueur(x, y, ordre):\n    # on change cette fonction\n    d = 0\n    for i in range(1, len(ordre)):\n        n = ordre[i - 1]\n        o = ordre[i]\n        x0, y0 = x[n], y[n]\n        x1, y1 = x[o], y[o]\n        d += (x0 - x1) ** 2 + (y0 - y1) ** 2\n    return d\n\n\nordre = list(range(len(x)))\nprint(\"longueur initiale\", longueur(x, y, ordre))"
      ]
    },
    {
      "cell_type": "markdown",
      "metadata": {},
      "source": [
        "Et graphiquement.\n\n"
      ]
    },
    {
      "cell_type": "code",
      "execution_count": null,
      "metadata": {
        "collapsed": false
      },
      "outputs": [],
      "source": [
        "ordre = permutation(x, y, list(range(len(x))))\nprint(\"longueur min\", longueur(x, y, ordre))\nxo = [x[o] for o in ordre]\nyo = [y[o] for o in ordre]\nplt.plot(xo, yo, \"o-\")"
      ]
    },
    {
      "cell_type": "markdown",
      "metadata": {},
      "source": [
        "## Noeud de d\u00e9part constant\n\nJusque ici, tout concorde. Le chemin est plus court en ce sens qu'il\noublie d\u00e9lib\u00e9r\u00e9ment l'arc de bouclage que l'algorithme a tendance \u00e0\nchoisir grand. Pour gagner du temps de calcul, un d\u00e9veloppeur se dit\nque le noeud de d\u00e9part peut \u00eatre constant. Apr\u00e8s tout, le chemin est\nune boucle, elle passera toujours par le premier noeud. Qu'il soit en\npremi\u00e8re position ne change rien et puis inverser une moiti\u00e9, c'est\n\u00e9quivalent \u00e0 inverser l'autre moiti\u00e9. On fait donc juste une modification :\n\n"
      ]
    },
    {
      "cell_type": "code",
      "execution_count": null,
      "metadata": {
        "collapsed": false
      },
      "outputs": [],
      "source": [
        "def longueur(x, y, ordre):\n    i = ordre[-1]\n    x0, y0 = x[i], y[i]\n    d = 0\n    for o in ordre:\n        x1, y1 = x[o], y[o]\n        d += (x0 - x1) ** 2 + (y0 - y1) ** 2\n        x0, y0 = x1, y1\n    return d\n\n\nordre = list(range(len(x)))\nprint(\"longueur initiale\", longueur(x, y, ordre))\n\n\ndef permutation(x, y, ordre):\n    d = longueur(x, y, ordre)\n    d0 = d + 1\n    it = 1\n    while d < d0:\n        it += 1\n        print(\"iteration\", it, \"d=\", d, \"ordre[0]\", ordre[0])\n        d0 = d\n        for i in range(\n            1, len(ordre) - 1\n        ):  # on part de 1 et plus de 0, on est s\u00fbr que le premier noeud ne bouge pas\n            for j in range(i + 2, len(ordre)):\n                r = ordre[i:j].copy()\n                r.reverse()\n                ordre2 = ordre[:i] + r + ordre[j:]\n                t = longueur(x, y, ordre2)\n                if t < d:\n                    d = t\n                    ordre = ordre2\n    return ordre\n\n\nordre = permutation(x, y, list(range(len(x))))\nprint(\"longueur min\", longueur(x, y, ordre))\nxo = [x[o] for o in [*ordre, ordre[0]]]\nyo = [y[o] for o in [*ordre, ordre[0]]]\nplt.plot(xo, yo, \"o-\")\nplt.text(xo[0], yo[0], \"0\", color=\"r\", weight=\"bold\", size=\"x-large\")\nplt.text(xo[-2], yo[-2], \"N-1\", color=\"r\", weight=\"bold\", size=\"x-large\")"
      ]
    },
    {
      "cell_type": "markdown",
      "metadata": {},
      "source": [
        "Le r\u00e9sultat attendu n'est pas celui qu'on observe.\nEst-ce une erreur d'impl\u00e9mentation ou\nune erreur de raisonnement ? J'\u00e9tais pourtant s\u00fbr que mon raisonnement \u00e9tait correct\net j'aurais tort d'en douter. C'est une erreur d'impl\u00e9mentation.\nLorsqu'on``for j in range(i+2,len(ordre)):`` et  ``r = ordre[i:j].copy()``,\non \u00e9crit que ``j`` va de ``i+2`` inclus \u00e0 ``len(ordre)`` exclu. Puis\nlorsqu'on \u00e9crit ``ordre[i:j]``, l'indice ``j`` est exclu ! Autrement dit,\ndans cette impl\u00e9mentation, le premier noeud et le dernier noeud ne bougeront\njamais ! On s'empresse de corriger cela.\n\n"
      ]
    },
    {
      "cell_type": "code",
      "execution_count": null,
      "metadata": {
        "collapsed": false
      },
      "outputs": [],
      "source": [
        "ordre = list(range(len(x)))\nprint(\"longueur initiale\", longueur(x, y, ordre))\n\n\ndef permutation(x, y, ordre):\n    d = longueur(x, y, ordre)\n    d0 = d + 1\n    it = 1\n    while d < d0:\n        it += 1\n        print(\"iteration\", it, \"d=\", d, \"ordre[0]\", ordre[0])\n        d0 = d\n        for i in range(\n            1, len(ordre) - 1\n        ):  # on part de 1 et plus de 0, on est s\u00fbr que le premier noeud ne bouge pas\n            for j in range(i + 2, len(ordre) + 1):  # correction !\n                r = ordre[i:j].copy()\n                r.reverse()\n                ordre2 = ordre[:i] + r + ordre[j:]\n                t = longueur(x, y, ordre2)\n                if t < d:\n                    d = t\n                    ordre = ordre2\n    return ordre\n\n\nordre = permutation(x, y, list(range(len(x))))\nprint(\"longueur min\", longueur(x, y, ordre))\nxo = [x[o] for o in [*ordre, ordre[0]]]\nyo = [y[o] for o in [*ordre, ordre[0]]]\nplt.plot(xo, yo, \"o-\")\nplt.text(xo[0], yo[0], \"0\", color=\"r\", weight=\"bold\", size=\"x-large\")\nplt.text(xo[-2], yo[-2], \"N-1\", color=\"r\", weight=\"bold\", size=\"x-large\")"
      ]
    },
    {
      "cell_type": "markdown",
      "metadata": {},
      "source": [
        "Pas parfait mais conforme \u00e0 nos attentes (les miennes en tout cas) !\nSoit dit en passant, la premi\u00e8re version de l'algorithme\nlaissait d\u00e9j\u00e0 le dernier noeud inchang\u00e9.\n\n## Un peu d'al\u00e9atoire en plus\n\nLa solution n'est pas parfaite en ce sens que visuellement, on voit que certaines\nparties du chemin pourraient \u00eatre facilement am\u00e9lior\u00e9es. Mais si la solution\n\u00e9tait parfaite en toute circonstance, nous aurions\ntrouv\u00e9 un algorithme \u00e0 temps polyn\u00f4mial ce qui est\nimpossible. Dans notre cas, l'algorithme produit toujours la m\u00eame\nsolution car il parcourt les noeuds toujours dans le m\u00eame sens.\nUn peu d'al\u00e9a devrait l'aider \u00e0 trouver de meilleures solutions apr\u00e8s quelques essais.\n\n"
      ]
    },
    {
      "cell_type": "code",
      "execution_count": null,
      "metadata": {
        "collapsed": false
      },
      "outputs": [],
      "source": [
        "# In[8]:\n\n\nordre = list(range(len(x)))\nprint(\"longueur initiale\", longueur(x, y, ordre))\n\n\ndef permutation_rnd(x, y, ordre):\n    d = longueur(x, y, ordre)\n    d0 = d + 1\n    it = 1\n    while d < d0:\n        it += 1\n        print(\"iteration\", it, \"d=\", d, \"ordre[0]\", ordre[0])\n        d0 = d\n        for i in range(1, len(ordre) - 1):\n            for _j in range(i + 2, len(ordre) + 1):\n                ik = random.randint(1, len(ordre) - 1)\n                il = random.randint(ik + 1, len(ordre))\n                r = ordre[ik:il].copy()\n                r.reverse()\n                ordre2 = ordre[:ik] + r + ordre[il:]\n                t = longueur(x, y, ordre2)\n                if t < d:\n                    d = t\n                    ordre = ordre2\n    return ordre\n\n\nordre = permutation_rnd(x, y, list(range(len(x))))\nprint(\"longueur min\", longueur(x, y, ordre))\nxo = [x[o] for o in [*ordre, ordre[0]]]\nyo = [y[o] for o in [*ordre, ordre[0]]]\nplt.plot(xo, yo, \"o-\")\nplt.text(xo[0], yo[0], \"0\", color=\"r\", weight=\"bold\", size=\"x-large\")\nplt.text(xo[-2], yo[-2], \"N-1\", color=\"r\", weight=\"bold\", size=\"x-large\")"
      ]
    },
    {
      "cell_type": "markdown",
      "metadata": {},
      "source": [
        "Ca a l'air de marcher un peu mieux mais quelques aberrations car\nl'al\u00e9atoire n'est pas un parcours syst\u00e9matique de toutes les pairs.\nPar cons\u00e9quent, il peut rester des croisements :\n\n"
      ]
    },
    {
      "cell_type": "code",
      "execution_count": null,
      "metadata": {
        "collapsed": false
      },
      "outputs": [],
      "source": [
        "ordre = permutation_rnd(x, y, list(range(len(x))))\nprint(\"longueur min\", longueur(x, y, ordre))\nxo = [x[o] for o in [*ordre, ordre[0]]]\nyo = [y[o] for o in [*ordre, ordre[0]]]\nplt.plot(xo, yo, \"o-\")\nplt.text(xo[0], yo[0], \"0\", color=\"r\", weight=\"bold\", size=\"x-large\")\nplt.text(xo[-2], yo[-2], \"N-1\", color=\"r\", weight=\"bold\", size=\"x-large\")"
      ]
    },
    {
      "cell_type": "markdown",
      "metadata": {},
      "source": [
        "Pour \u00e9viter cela, on peut imposer un nombre d'it\u00e9rations minimum\net recommencer plusieurs \u00e0 partir d'ordre initiaux al\u00e9atoires :\n\n"
      ]
    },
    {
      "cell_type": "code",
      "execution_count": null,
      "metadata": {
        "collapsed": false
      },
      "outputs": [],
      "source": [
        "def permutation_rnd(x, y, ordre, miniter):\n    d = longueur(x, y, ordre)\n    d0 = d + 1\n    it = 1\n    while d < d0 or it < miniter:\n        it += 1\n        d0 = d\n        for i in range(1, len(ordre) - 1):\n            for _j in range(i + 2, len(ordre) + 1):\n                ik = random.randint(1, len(ordre) - 1)\n                il = random.randint(ik + 1, len(ordre))\n                r = ordre[ik:il].copy()\n                r.reverse()\n                ordre2 = ordre[:ik] + r + ordre[il:]\n                t = longueur(x, y, ordre2)\n                if t < d:\n                    d = t\n                    ordre = ordre2\n    return ordre\n\n\ndef n_permutation(x, y, miniter):\n    ordre = list(range(len(x)))\n    bordre = ordre.copy()\n    d0 = longueur(x, y, ordre)\n    for i in range(20):\n        print(\"iteration\", i, \"d=\", d0)\n        random.shuffle(ordre)\n        ordre = permutation_rnd(x, y, ordre, 20)\n        d = longueur(x, y, ordre)\n        if d < d0:\n            d0 = d\n            bordre = ordre.copy()\n    return bordre"
      ]
    },
    {
      "cell_type": "markdown",
      "metadata": {},
      "source": [
        "La distance initiale.\n\n"
      ]
    },
    {
      "cell_type": "code",
      "execution_count": null,
      "metadata": {
        "collapsed": false
      },
      "outputs": [],
      "source": [
        "ordre = list(range(len(x)))\nprint(\"longueur initiale\", longueur(x, y, ordre))"
      ]
    },
    {
      "cell_type": "markdown",
      "metadata": {},
      "source": [
        "La longueur obtenue.\n\n"
      ]
    },
    {
      "cell_type": "code",
      "execution_count": null,
      "metadata": {
        "collapsed": false
      },
      "outputs": [],
      "source": [
        "ordre = n_permutation(x, y, 20)\nprint(\"longueur min\", longueur(x, y, ordre))\nxo = [x[o] for o in [*ordre, ordre[0]]]\nyo = [y[o] for o in [*ordre, ordre[0]]]\nplt.plot(xo, yo, \"o-\")\nplt.text(xo[0], yo[0], \"0\", color=\"r\", weight=\"bold\", size=\"x-large\")\nplt.text(xo[-2], yo[-2], \"N-1\", color=\"r\", weight=\"bold\", size=\"x-large\")\n\n\n# C'est mieux."
      ]
    }
  ],
  "metadata": {
    "kernelspec": {
      "display_name": "Python 3",
      "language": "python",
      "name": "python3"
    },
    "language_info": {
      "codemirror_mode": {
        "name": "ipython",
        "version": 3
      },
      "file_extension": ".py",
      "mimetype": "text/x-python",
      "name": "python",
      "nbconvert_exporter": "python",
      "pygments_lexer": "ipython3",
      "version": "3.12.3"
    }
  },
  "nbformat": 4,
  "nbformat_minor": 0
}