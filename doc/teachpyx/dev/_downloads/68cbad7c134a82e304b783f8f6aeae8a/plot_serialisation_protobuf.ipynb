{
  "cells": [
    {
      "cell_type": "markdown",
      "metadata": {},
      "source": [
        "\n\n# S\u00e9rialisation avec protobuf\n\n:epkg:`protobuf` optimise la s\u00e9rialisation de deux fa\u00e7ons.\nElle acc\u00e9l\u00e8re l'\u00e9criture et la lecture des donn\u00e9es et permet aussi\nun acc\u00e8s rapide \u00e0 une information pr\u00e9cise dans d\u00e9s\u00e9rialiser\nles autres. Elle r\u00e9alise cela en imposant un sch\u00e9ma strict de donn\u00e9es.\n\nL'exemple fonctionne si l'ex\u00e9cutable `protoc` et le package `protobuf`\nont des versions compatibles. Un message appara\u00eetra dans le cas contraire.\n\n::\n\n    protoc --version\n    python -c \"import google.protobuf as gp;print(gp.__version__)\"\n\n## Sch\u00e9ma\n\nOn r\u00e9cup\u00e8re l'exemple du [tutorial](https://developers.google.com/protocol-buffers/docs/pythontutorial).\n"
      ]
    },
    {
      "cell_type": "code",
      "execution_count": null,
      "metadata": {
        "collapsed": false
      },
      "outputs": [],
      "source": [
        "import os\nimport sys\nimport timeit\nimport struct\nfrom io import BytesIO\nfrom sphinx_runpython.runpython import run_cmd\nimport google.protobuf as gp\nfrom google.protobuf.json_format import MessageToJson, Parse as ParseJson\n\nschema = \"\"\"\nsyntax = \"proto2\";\n\npackage tutorial;\n\nmessage Person {\n  optional string name = 1;\n  optional int32 id = 2;\n  optional string email = 3;\n\n  enum PhoneType {\n    MOBILE = 0;\n    HOME = 1;\n    WORK = 2;\n  }\n\n  message PhoneNumber {\n    optional string number = 1;\n    optional PhoneType type = 2 [default = HOME];\n  }\n\n  repeated PhoneNumber phones = 4;\n}\n\nmessage AddressBook {\n  repeated Person people = 1;\n}\n\"\"\""
      ]
    },
    {
      "cell_type": "markdown",
      "metadata": {},
      "source": [
        "## Compilation\n\nIl faut d'abord r\u00e9cup\u00e9rer le compilateur. Cela peut se faire depuis\nle site de :epkg:`protobuf` ou sur Linux (Ubuntu/Debian)\n``apt-get install protobuf-compiler`` pour obtenir le programme ``protoc``.\n\n"
      ]
    },
    {
      "cell_type": "code",
      "execution_count": null,
      "metadata": {
        "collapsed": false
      },
      "outputs": [],
      "source": [
        "version = gp.__version__\nversion"
      ]
    },
    {
      "cell_type": "code",
      "execution_count": null,
      "metadata": {
        "collapsed": false
      },
      "outputs": [],
      "source": [
        "with open(\"schema.proto\", \"w\") as f:\n    f.write(schema)\n\n\n# Et on peut compiler.\n\n# In[8]:\n\n\ncmd = \"protoc --python_out=. schema.proto\"\nout, err = run_cmd(cmd=cmd, wait=True)\nprint(out)\nprint(err)"
      ]
    },
    {
      "cell_type": "markdown",
      "metadata": {},
      "source": [
        "Un fichier a \u00e9t\u00e9 g\u00e9n\u00e9r\u00e9.\n\n"
      ]
    },
    {
      "cell_type": "code",
      "execution_count": null,
      "metadata": {
        "collapsed": false
      },
      "outputs": [],
      "source": [
        "[_ for _ in os.listdir(\".\") if \".py\" in _]"
      ]
    },
    {
      "cell_type": "code",
      "execution_count": null,
      "metadata": {
        "collapsed": false
      },
      "outputs": [],
      "source": [
        "with open(\"schema_pb2.py\", \"r\") as f:\n    content = f.read()\nprint(content[:1000])"
      ]
    },
    {
      "cell_type": "markdown",
      "metadata": {},
      "source": [
        "## Import du module cr\u00e9\u00e9\n\nPour utliser *protobuf*, il faut importer le module cr\u00e9\u00e9.\n\n"
      ]
    },
    {
      "cell_type": "code",
      "execution_count": null,
      "metadata": {
        "collapsed": false
      },
      "outputs": [],
      "source": [
        "sys.path.append(\".\")\nimport schema_pb2  # noqa: E402"
      ]
    },
    {
      "cell_type": "markdown",
      "metadata": {},
      "source": [
        "On cr\u00e9\u00e9 un enregistrement.\n\n"
      ]
    },
    {
      "cell_type": "code",
      "execution_count": null,
      "metadata": {
        "collapsed": false
      },
      "outputs": [],
      "source": [
        "person = schema_pb2.Person()\nperson.id = 1234\nperson.name = \"John Doe\"\nperson.email = \"jdoe@example.com\"\nphone = person.phones.add()\nphone.number = \"555-4321\"\nphone.type = schema_pb2.Person.HOME"
      ]
    },
    {
      "cell_type": "code",
      "execution_count": null,
      "metadata": {
        "collapsed": false
      },
      "outputs": [],
      "source": [
        "person"
      ]
    },
    {
      "cell_type": "markdown",
      "metadata": {},
      "source": [
        "## S\u00e9rialisation en cha\u00eene de caract\u00e8res\n\n"
      ]
    },
    {
      "cell_type": "code",
      "execution_count": null,
      "metadata": {
        "collapsed": false
      },
      "outputs": [],
      "source": [
        "res = person.SerializeToString()\ntype(res), res"
      ]
    },
    {
      "cell_type": "code",
      "execution_count": null,
      "metadata": {
        "collapsed": false
      },
      "outputs": [],
      "source": [
        "timeit.timeit(\"person.SerializeToString()\", globals=globals(), number=100)"
      ]
    },
    {
      "cell_type": "code",
      "execution_count": null,
      "metadata": {
        "collapsed": false
      },
      "outputs": [],
      "source": [
        "pers = schema_pb2.Person.FromString(res)\npers"
      ]
    },
    {
      "cell_type": "code",
      "execution_count": null,
      "metadata": {
        "collapsed": false
      },
      "outputs": [],
      "source": [
        "pers = schema_pb2.Person()\npers.ParseFromString(res)\npers"
      ]
    },
    {
      "cell_type": "code",
      "execution_count": null,
      "metadata": {
        "collapsed": false
      },
      "outputs": [],
      "source": [
        "timeit.timeit(\"schema_pb2.Person.FromString(res)\", globals=globals(), number=100)"
      ]
    },
    {
      "cell_type": "code",
      "execution_count": null,
      "metadata": {
        "collapsed": false
      },
      "outputs": [],
      "source": [
        "timeit.timeit(\"pers.ParseFromString(res)\", globals=globals(), number=100)"
      ]
    },
    {
      "cell_type": "markdown",
      "metadata": {},
      "source": [
        "## Plusieurs cha\u00eenes de caract\u00e8res\n\n"
      ]
    },
    {
      "cell_type": "code",
      "execution_count": null,
      "metadata": {
        "collapsed": false
      },
      "outputs": [],
      "source": [
        "db = []\n\nperson = schema_pb2.Person()\nperson.id = 1234\nperson.name = \"John Doe\"\nperson.email = \"jdoe@example.com\"\nphone = person.phones.add()\nphone.number = \"555-4321\"\nphone.type = schema_pb2.Person.HOME\ndb.append(person)\n\nperson = schema_pb2.Person()\nperson.id = 5678\nperson.name = \"Johnette Doette\"\nperson.email = \"jtdoet@example2.com\"\nphone = person.phones.add()\nphone.number = \"777-1234\"\nphone.type = schema_pb2.Person.MOBILE\ndb.append(person)"
      ]
    },
    {
      "cell_type": "code",
      "execution_count": null,
      "metadata": {
        "collapsed": false
      },
      "outputs": [],
      "source": [
        "buffer = BytesIO()\nfor p in db:\n    size = p.ByteSize()\n    buffer.write(struct.pack(\"i\", size))\n    buffer.write(p.SerializeToString())\nres = buffer.getvalue()\nres"
      ]
    },
    {
      "cell_type": "code",
      "execution_count": null,
      "metadata": {
        "collapsed": false
      },
      "outputs": [],
      "source": [
        "db2 = []\nbuffer = BytesIO(res)\nn = 0\nwhile True:\n    bsize = buffer.read(4)\n    if len(bsize) == 0:\n        # C'est fini.\n        break\n    size = struct.unpack(\"i\", bsize)[0]\n    data = buffer.read(size)\n    p = schema_pb2.Person.FromString(data)\n    db2.append(p)"
      ]
    },
    {
      "cell_type": "code",
      "execution_count": null,
      "metadata": {
        "collapsed": false
      },
      "outputs": [],
      "source": [
        "db2[0], db2[1]"
      ]
    },
    {
      "cell_type": "markdown",
      "metadata": {},
      "source": [
        "## S\u00e9rialisation JSON\n\n"
      ]
    },
    {
      "cell_type": "code",
      "execution_count": null,
      "metadata": {
        "collapsed": false
      },
      "outputs": [],
      "source": [
        "print(MessageToJson(pers))"
      ]
    },
    {
      "cell_type": "code",
      "execution_count": null,
      "metadata": {
        "collapsed": false
      },
      "outputs": [],
      "source": [
        "timeit.timeit(\"MessageToJson(pers)\", globals=globals(), number=100)"
      ]
    },
    {
      "cell_type": "code",
      "execution_count": null,
      "metadata": {
        "collapsed": false
      },
      "outputs": [],
      "source": [
        "js = MessageToJson(pers)\nres = ParseJson(js, message=schema_pb2.Person())\nres"
      ]
    },
    {
      "cell_type": "code",
      "execution_count": null,
      "metadata": {
        "collapsed": false
      },
      "outputs": [],
      "source": [
        "timeit.timeit(\n    \"ParseJson(js, message=schema_pb2.Person())\", globals=globals(), number=100\n)"
      ]
    }
  ],
  "metadata": {
    "kernelspec": {
      "display_name": "Python 3",
      "language": "python",
      "name": "python3"
    },
    "language_info": {
      "codemirror_mode": {
        "name": "ipython",
        "version": 3
      },
      "file_extension": ".py",
      "mimetype": "text/x-python",
      "name": "python",
      "nbconvert_exporter": "python",
      "pygments_lexer": "ipython3",
      "version": "3.10.6"
    }
  },
  "nbformat": 4,
  "nbformat_minor": 0
}