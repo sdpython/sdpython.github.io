{
  "cells": [
    {
      "cell_type": "markdown",
      "metadata": {},
      "source": [
        "\n\n# Transform\u00e9e de Burrows Wheeler\n\nLa transform\u00e9e de [Burrows-Wheeler](https://fr.wikipedia.org/wiki/Transform%C3%A9e_de_Burrows-Wheeler)\ntransforme un mot en un autre mot compos\u00e9e des m\u00eames lettres\nmais aux propri\u00e9t\u00e9s statistiques diff\u00e9rentes.\nLes deux fonctions qui suivent impl\u00e9mentent les algorithmes\nd\u00e9crits sur la page Wikipedia.\n\n## Codage\n"
      ]
    },
    {
      "cell_type": "code",
      "execution_count": null,
      "metadata": {
        "collapsed": false
      },
      "outputs": [],
      "source": [
        "def code_burrows(text: str) -> str:\n    # \u00e9tape 1: matrice d\u00e9cal\u00e9e\n    decalages = [\"\".join(text[i:] + text[:i]) for i in range(len(text))]\n    # \u00e9tape 2: tri\n    decalages.sort()\n    # on cherche la position du mot initial\n    pos = decalages.index(text)\n    # fin\n    return pos, \"\".join(decalages[i][-1] for i in range(len(text)))\n\n\nprint(code_burrows(\"ENSAE\"))"
      ]
    },
    {
      "cell_type": "markdown",
      "metadata": {},
      "source": [
        "## D\u00e9codage\n\n"
      ]
    },
    {
      "cell_type": "code",
      "execution_count": null,
      "metadata": {
        "collapsed": false
      },
      "outputs": [],
      "source": [
        "def decode_burrows(pos, last_col):\n    first_col = sorted(last_col)\n    two_cols = list(zip(last_col, first_col))\n    for _i in range(2, len(last_col)):\n        two_cols.sort()\n        two_cols = [(c, *t) for c, t in zip(last_col, two_cols)]\n    two_cols.sort()\n    return \"\".join(two_cols[pos])\n\n\nprint(decode_burrows(2, \"SAEEN\"))"
      ]
    },
    {
      "cell_type": "markdown",
      "metadata": {},
      "source": [
        "On v\u00e9rifie que le code v\u00e9rifie des tests unitaires simples.\n\n"
      ]
    },
    {
      "cell_type": "code",
      "execution_count": null,
      "metadata": {
        "collapsed": false
      },
      "outputs": [],
      "source": [
        "def test_burrows():\n    for mot in [\"AA\", \"AB\", \"BA\", \"ABC\", \"ACB\", \"BCA\", \"BAC\", \"ENSAE\"]:\n        pos, code = code_burrows(mot)\n        decode = decode_burrows(pos, code)\n        assert (\n            decode == mot\n        ), f\"probl\u00e8me avec {mot}, decode={decode}, pos={pos}, code={code}\"\n\n\ntest_burrows()"
      ]
    }
  ],
  "metadata": {
    "kernelspec": {
      "display_name": "Python 3",
      "language": "python",
      "name": "python3"
    },
    "language_info": {
      "codemirror_mode": {
        "name": "ipython",
        "version": 3
      },
      "file_extension": ".py",
      "mimetype": "text/x-python",
      "name": "python",
      "nbconvert_exporter": "python",
      "pygments_lexer": "ipython3",
      "version": "3.10.12"
    }
  },
  "nbformat": 4,
  "nbformat_minor": 0
}