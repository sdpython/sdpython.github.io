{
  "cells": [
    {
      "cell_type": "markdown",
      "metadata": {},
      "source": [
        "\n\n======\nLe GIL\n====== \n\nLe GIL ou [Global Interpreter Lock](https://en.wikipedia.org/wiki/Global_interpreter_lock)\nest un verrou unique auquel l'interpr\u00e9teur Python fait appel constamment \npour prot\u00e9ger tous les objets qu'il manipule contre des acc\u00e8s concurrentiels.\n\n# Deux listes en parallel\n \nOn mesure le temps n\u00e9cessaire pour cr\u00e9er deux liste et comparer ce\ntemps avec celui que cela prendrait en parall\u00e8le.\n"
      ]
    },
    {
      "cell_type": "code",
      "execution_count": null,
      "metadata": {
        "collapsed": false
      },
      "outputs": [],
      "source": [
        "import timeit\nimport time\nfrom concurrent.futures import ThreadPoolExecutor\n\n\ndef create_list(n):\n    res = []\n    for i in range(n):\n        res.append(i)\n    return res\n\n\ntimeit.timeit(\"create_list(100000)\", globals=globals(), number=100)"
      ]
    },
    {
      "cell_type": "markdown",
      "metadata": {},
      "source": [
        "En parall\u00e8le avec le module [concurrent.futures](https://docs.python.org/3/library/concurrent.futures.html)\net deux appels \u00e0 la m\u00eame fonction.\n\n"
      ]
    },
    {
      "cell_type": "code",
      "execution_count": null,
      "metadata": {
        "collapsed": false
      },
      "outputs": [],
      "source": [
        "def run2(nb):\n    with ThreadPoolExecutor(max_workers=2) as executor:\n        for res in executor.map(create_list, [nb, nb + 1]):\n            pass\n\n\ntimeit.timeit(\"run2(100000)\", globals=globals(), number=100)"
      ]
    },
    {
      "cell_type": "markdown",
      "metadata": {},
      "source": [
        "C'est plus long que si les calculs \u00e9taient lanc\u00e9s les uns apr\u00e8s les autres.\nCe temps est perdu \u00e0 synchroniser les deux threads bien que les\ndeux boucles n'aient rien \u00e0 \u00e9changer. Chaque thread passe son\ntemps \u00e0 attendre que l'autre ait termin\u00e9 de mettre \u00e0 jour sa\nliste et le *GIL* impose que ces mises \u00e0 jour aient lieu une apr\u00e8s l'autre.\n\n# Un autre sc\u00e9nario\n\nAu lieu de mettre \u00e0 jour une liste, on va lancer un thread\nqui ne fait rien qu'attendre. Donc le *GIL* n'est pas impliqu\u00e9.\n\n"
      ]
    },
    {
      "cell_type": "code",
      "execution_count": null,
      "metadata": {
        "collapsed": false
      },
      "outputs": [],
      "source": [
        "def attendre(t=0.009):\n    time.sleep(t)\n    return None\n\n\ntimeit.timeit(\"attendre()\", globals=globals(), number=100)"
      ]
    },
    {
      "cell_type": "code",
      "execution_count": null,
      "metadata": {
        "collapsed": false
      },
      "outputs": [],
      "source": [
        "def run3(t):\n    with ThreadPoolExecutor(max_workers=2) as executor:\n        for res in executor.map(attendre, [t, t + 0.001]):\n            pass\n\n\ntimeit.timeit(\"run3(0.009)\", globals=globals(), number=100)"
      ]
    },
    {
      "cell_type": "markdown",
      "metadata": {},
      "source": [
        "Les deux attentes se font en parall\u00e8le car le temps moyen est\nsignificativement inf\u00e9rieur \u00e0 la somme des deux attentes.\n\n"
      ]
    }
  ],
  "metadata": {
    "kernelspec": {
      "display_name": "Python 3",
      "language": "python",
      "name": "python3"
    },
    "language_info": {
      "codemirror_mode": {
        "name": "ipython",
        "version": 3
      },
      "file_extension": ".py",
      "mimetype": "text/x-python",
      "name": "python",
      "nbconvert_exporter": "python",
      "pygments_lexer": "ipython3",
      "version": "3.10.6"
    }
  },
  "nbformat": 4,
  "nbformat_minor": 0
}