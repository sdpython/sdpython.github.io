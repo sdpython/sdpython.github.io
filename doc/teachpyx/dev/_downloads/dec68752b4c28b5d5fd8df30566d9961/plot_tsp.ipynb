{
 "cells": [
  {
   "cell_type": "markdown",
   "metadata": {},
   "source": [
    "\n",
    "# Réflexions autour du voyage de commerce (TSP)\n",
    "\n",
    "Le [problème du voyageur de commerce](https://fr.wikipedia.org/wiki/Probl%C3%A8me_du_voyageur_de_commerce))\n",
    "consiste à trouver le plus court chemin passant par toutes les villes.\n",
    "On parle aussi de [circuit hamiltonien](https://en.wikipedia.org/wiki/Hamiltonian_path))\n",
    "qui consiste à trouver le plus court chemin passant par tous les noeuds d'un graphe.\n",
    "Ce programme explore quelques solutions approchées et intuitives.\n",
    "\n",
    "Ce problème est [NP-complet](http://fr.wikipedia.org/wiki/Probl%C3%A8me_NP-complet))\n",
    "à savoir qu'il n'existe pas d'algorithme qui permette de trouver la solution avec un\n",
    "coût polynômial. C'est aussi un problème différent du [plus court chemin dans un graphe](https://fr.wikipedia.org/wiki/Probl%C3%A8mes_de_cheminement))\n",
    "qui consiste à trouver le plus court chemin reliant deux noeuds d'un graphe\n",
    "(mais pas forcément tous les noeuds de ce graphe).\n",
    "\n",
    "## Des villes tirées au hasard\n"
   ]
  },
  {
   "cell_type": "code",
   "execution_count": null,
   "metadata": {
    "collapsed": false
   },
   "outputs": [],
   "source": [
    "import random\n",
    "import matplotlib.pyplot as plt\n",
    "\n",
    "n = 30\n",
    "x = [random.random() for _ in range(n)]\n",
    "y = [random.random() for _ in range(n)]\n",
    "\n",
    "plt.plot(x, y, \"o\")"
   ]
  },
  {
   "cell_type": "markdown",
   "metadata": {},
   "source": [
    "Un parcours aléatoire de tous les noeuds de graphe\n",
    "donnera quelque chose de très éloigné de la solution optimale :\n",
    "\n"
   ]
  },
  {
   "cell_type": "code",
   "execution_count": null,
   "metadata": {
    "collapsed": false
   },
   "outputs": [],
   "source": [
    "plt.plot(x + [x[0]], y + [y[0]], \"o-\")"
   ]
  },
  {
   "cell_type": "markdown",
   "metadata": {},
   "source": [
    "## Croisements\n",
    "\n",
    "La première constation est que le chemin ne peut pas être optimal\n",
    "car des arcs se croisent. On en déduit qu'une façon d'améliorer ce\n",
    "chemin est de *décroiser* certaines parties. On peut par exemple\n",
    "choisir deux points au hasard, retourner la partie du chemin au milieu\n",
    "de ces deux points et voir si la longueur du chemin s'en trouve diminuée.\n",
    "On peut également parcourir toutes les paires de noeuds possibles.\n",
    "C'est ce qui est implémenté ci-dessous.\n",
    "\n"
   ]
  },
  {
   "cell_type": "code",
   "execution_count": null,
   "metadata": {
    "collapsed": false
   },
   "outputs": [],
   "source": [
    "def longueur(x, y, ordre):\n",
    "    i = ordre[-1]\n",
    "    x0, y0 = x[i], y[i]\n",
    "    d = 0\n",
    "    for o in ordre:\n",
    "        x1, y1 = x[o], y[o]\n",
    "        d += (x0 - x1) ** 2 + (y0 - y1) ** 2\n",
    "        x0, y0 = x1, y1\n",
    "    return d\n",
    "\n",
    "\n",
    "ordre = list(range(len(x)))\n",
    "print(\"longueur initiale\", longueur(x, y, ordre))"
   ]
  },
  {
   "cell_type": "markdown",
   "metadata": {},
   "source": [
    "Permutations.\n",
    "\n"
   ]
  },
  {
   "cell_type": "code",
   "execution_count": null,
   "metadata": {
    "collapsed": false
   },
   "outputs": [],
   "source": [
    "def permutation(x, y, ordre):\n",
    "    d = longueur(x, y, ordre)\n",
    "    d0 = d + 1\n",
    "    it = 1\n",
    "    while d < d0:\n",
    "        it += 1\n",
    "        print(\"iteration\", it, \"d=\", d)\n",
    "        d0 = d\n",
    "        for i in range(0, len(ordre) - 1):\n",
    "            for j in range(i + 2, len(ordre)):\n",
    "                r = ordre[i:j].copy()\n",
    "                r.reverse()\n",
    "                ordre2 = ordre[:i] + r + ordre[j:]\n",
    "                t = longueur(x, y, ordre2)\n",
    "                if t < d:\n",
    "                    d = t\n",
    "                    ordre = ordre2\n",
    "    return ordre\n",
    "\n",
    "\n",
    "ordre = permutation(x, y, list(range(len(x))))\n",
    "print(\"longueur min\", longueur(x, y, ordre))\n",
    "xo = [x[o] for o in ordre + [ordre[0]]]\n",
    "yo = [y[o] for o in ordre + [ordre[0]]]\n",
    "plt.plot(xo, yo, \"o-\")"
   ]
  },
  {
   "cell_type": "markdown",
   "metadata": {},
   "source": [
    "Voilà qui est mieux. Maintenant, supposons que nous faisons une\n",
    "erreur lors du calcul de la distance : nous oublions le dernier\n",
    "arc qui boucle le chemin du dernier noeud au premier.\n",
    "\n"
   ]
  },
  {
   "cell_type": "code",
   "execution_count": null,
   "metadata": {
    "collapsed": false
   },
   "outputs": [],
   "source": [
    "def longueur(x, y, ordre):\n",
    "    # on change cette fonction\n",
    "    d = 0\n",
    "    for i in range(1, len(ordre)):\n",
    "        n = ordre[i - 1]\n",
    "        o = ordre[i]\n",
    "        x0, y0 = x[n], y[n]\n",
    "        x1, y1 = x[o], y[o]\n",
    "        d += (x0 - x1) ** 2 + (y0 - y1) ** 2\n",
    "    return d\n",
    "\n",
    "\n",
    "ordre = list(range(len(x)))\n",
    "print(\"longueur initiale\", longueur(x, y, ordre))"
   ]
  },
  {
   "cell_type": "markdown",
   "metadata": {},
   "source": [
    "Et graphiquement.\n",
    "\n"
   ]
  },
  {
   "cell_type": "code",
   "execution_count": null,
   "metadata": {
    "collapsed": false
   },
   "outputs": [],
   "source": [
    "ordre = permutation(x, y, list(range(len(x))))\n",
    "print(\"longueur min\", longueur(x, y, ordre))\n",
    "xo = [x[o] for o in ordre]\n",
    "yo = [y[o] for o in ordre]\n",
    "plt.plot(xo, yo, \"o-\")"
   ]
  },
  {
   "cell_type": "markdown",
   "metadata": {},
   "source": [
    "## Noeud de départ constant\n",
    "\n",
    "Jusque ici, tout concorde. Le chemin est plus court en ce sens qu'il\n",
    "oublie délibérément l'arc de bouclage que l'algorithme a tendance à\n",
    "choisir grand. Pour gagner du temps de calcul, un développeur se dit\n",
    "que le noeud de départ peut être constant. Après tout, le chemin est\n",
    "une boucle, elle passera toujours par le premier noeud. Qu'il soit en\n",
    "première position ne change rien et puis inverser une moitié, c'est\n",
    "équivalent à inverser l'autre moitié. On fait donc juste une modification :\n",
    "\n"
   ]
  },
  {
   "cell_type": "code",
   "execution_count": null,
   "metadata": {
    "collapsed": false
   },
   "outputs": [],
   "source": [
    "def longueur(x, y, ordre):\n",
    "    i = ordre[-1]\n",
    "    x0, y0 = x[i], y[i]\n",
    "    d = 0\n",
    "    for o in ordre:\n",
    "        x1, y1 = x[o], y[o]\n",
    "        d += (x0 - x1) ** 2 + (y0 - y1) ** 2\n",
    "        x0, y0 = x1, y1\n",
    "    return d\n",
    "\n",
    "\n",
    "ordre = list(range(len(x)))\n",
    "print(\"longueur initiale\", longueur(x, y, ordre))\n",
    "\n",
    "\n",
    "def permutation(x, y, ordre):\n",
    "    d = longueur(x, y, ordre)\n",
    "    d0 = d + 1\n",
    "    it = 1\n",
    "    while d < d0:\n",
    "        it += 1\n",
    "        print(\"iteration\", it, \"d=\", d, \"ordre[0]\", ordre[0])\n",
    "        d0 = d\n",
    "        for i in range(\n",
    "            1, len(ordre) - 1\n",
    "        ):  # on part de 1 et plus de 0, on est sûr que le premier noeud ne bouge pas\n",
    "            for j in range(i + 2, len(ordre)):\n",
    "                r = ordre[i:j].copy()\n",
    "                r.reverse()\n",
    "                ordre2 = ordre[:i] + r + ordre[j:]\n",
    "                t = longueur(x, y, ordre2)\n",
    "                if t < d:\n",
    "                    d = t\n",
    "                    ordre = ordre2\n",
    "    return ordre\n",
    "\n",
    "\n",
    "ordre = permutation(x, y, list(range(len(x))))\n",
    "print(\"longueur min\", longueur(x, y, ordre))\n",
    "xo = [x[o] for o in ordre + [ordre[0]]]\n",
    "yo = [y[o] for o in ordre + [ordre[0]]]\n",
    "plt.plot(xo, yo, \"o-\")\n",
    "plt.text(xo[0], yo[0], \"0\", color=\"r\", weight=\"bold\", size=\"x-large\")\n",
    "plt.text(xo[-2], yo[-2], \"N-1\", color=\"r\", weight=\"bold\", size=\"x-large\")"
   ]
  },
  {
   "cell_type": "markdown",
   "metadata": {},
   "source": [
    "Le résultat attendu n'est pas celui qu'on observe.\n",
    "Est-ce une erreur d'implémentation ou\n",
    "une erreur de raisonnement ? J'étais pourtant sûr que mon raisonnement était correct\n",
    "et j'aurais tort d'en douter. C'est une erreur d'implémentation.\n",
    "Lorsqu'on``for j in range(i+2,len(ordre)):`` et  ``r = ordre[i:j].copy()``,\n",
    "on écrit que ``j`` va de ``i+2`` inclus à ``len(ordre)`` exclu. Puis\n",
    "lorsqu'on écrit ``ordre[i:j]``, l'indice ``j`` est exclu ! Autrement dit,\n",
    "dans cette implémentation, le premier noeud et le dernier noeud ne bougeront\n",
    "jamais ! On s'empresse de corriger cela.\n",
    "\n"
   ]
  },
  {
   "cell_type": "code",
   "execution_count": null,
   "metadata": {
    "collapsed": false
   },
   "outputs": [],
   "source": [
    "ordre = list(range(len(x)))\n",
    "print(\"longueur initiale\", longueur(x, y, ordre))\n",
    "\n",
    "\n",
    "def permutation(x, y, ordre):\n",
    "    d = longueur(x, y, ordre)\n",
    "    d0 = d + 1\n",
    "    it = 1\n",
    "    while d < d0:\n",
    "        it += 1\n",
    "        print(\"iteration\", it, \"d=\", d, \"ordre[0]\", ordre[0])\n",
    "        d0 = d\n",
    "        for i in range(\n",
    "            1, len(ordre) - 1\n",
    "        ):  # on part de 1 et plus de 0, on est sûr que le premier noeud ne bouge pas\n",
    "            for j in range(i + 2, len(ordre) + 1):  # correction !\n",
    "                r = ordre[i:j].copy()\n",
    "                r.reverse()\n",
    "                ordre2 = ordre[:i] + r + ordre[j:]\n",
    "                t = longueur(x, y, ordre2)\n",
    "                if t < d:\n",
    "                    d = t\n",
    "                    ordre = ordre2\n",
    "    return ordre\n",
    "\n",
    "\n",
    "ordre = permutation(x, y, list(range(len(x))))\n",
    "print(\"longueur min\", longueur(x, y, ordre))\n",
    "xo = [x[o] for o in ordre + [ordre[0]]]\n",
    "yo = [y[o] for o in ordre + [ordre[0]]]\n",
    "plt.plot(xo, yo, \"o-\")\n",
    "plt.text(xo[0], yo[0], \"0\", color=\"r\", weight=\"bold\", size=\"x-large\")\n",
    "plt.text(xo[-2], yo[-2], \"N-1\", color=\"r\", weight=\"bold\", size=\"x-large\")"
   ]
  },
  {
   "cell_type": "markdown",
   "metadata": {},
   "source": [
    "Pas parfait mais conforme à nos attentes (les miennes en tout cas) !\n",
    "Soit dit en passant, la première version de l'algorithme\n",
    "laissait déjà le dernier noeud inchangé.\n",
    "\n",
    "## Un peu d'aléatoire en plus\n",
    "\n",
    "La solution n'est pas parfaite en ce sens que visuellement, on voit que certaines\n",
    "parties du chemin pourraient être facilement améliorées. Mais si la solution\n",
    "était parfaite en toute circonstance, nous aurions\n",
    "trouvé un algorithme à temps polynômial ce qui est\n",
    "impossible. Dans notre cas, l'algorithme produit toujours la même\n",
    "solution car il parcourt les noeuds toujours dans le même sens.\n",
    "Un peu d'aléa devrait l'aider à trouver de meilleures solutions après quelques essais.\n",
    "\n"
   ]
  },
  {
   "cell_type": "code",
   "execution_count": null,
   "metadata": {
    "collapsed": false
   },
   "outputs": [],
   "source": [
    "# In[8]:\n",
    "\n",
    "\n",
    "ordre = list(range(len(x)))\n",
    "print(\"longueur initiale\", longueur(x, y, ordre))\n",
    "\n",
    "\n",
    "def permutation_rnd(x, y, ordre):\n",
    "    d = longueur(x, y, ordre)\n",
    "    d0 = d + 1\n",
    "    it = 1\n",
    "    while d < d0:\n",
    "        it += 1\n",
    "        print(\"iteration\", it, \"d=\", d, \"ordre[0]\", ordre[0])\n",
    "        d0 = d\n",
    "        for i in range(1, len(ordre) - 1):\n",
    "            for j in range(i + 2, len(ordre) + 1):\n",
    "                ik = random.randint(1, len(ordre) - 1)\n",
    "                il = random.randint(ik + 1, len(ordre))\n",
    "                r = ordre[ik:il].copy()\n",
    "                r.reverse()\n",
    "                ordre2 = ordre[:ik] + r + ordre[il:]\n",
    "                t = longueur(x, y, ordre2)\n",
    "                if t < d:\n",
    "                    d = t\n",
    "                    ordre = ordre2\n",
    "    return ordre\n",
    "\n",
    "\n",
    "ordre = permutation_rnd(x, y, list(range(len(x))))\n",
    "print(\"longueur min\", longueur(x, y, ordre))\n",
    "xo = [x[o] for o in ordre + [ordre[0]]]\n",
    "yo = [y[o] for o in ordre + [ordre[0]]]\n",
    "plt.plot(xo, yo, \"o-\")\n",
    "plt.text(xo[0], yo[0], \"0\", color=\"r\", weight=\"bold\", size=\"x-large\")\n",
    "plt.text(xo[-2], yo[-2], \"N-1\", color=\"r\", weight=\"bold\", size=\"x-large\")"
   ]
  },
  {
   "cell_type": "markdown",
   "metadata": {},
   "source": [
    "Ca a l'air de marcher un peu mieux mais quelques aberrations car\n",
    "l'aléatoire n'est pas un parcours systématique de toutes les pairs.\n",
    "Par conséquent, il peut rester des croisements :\n",
    "\n"
   ]
  },
  {
   "cell_type": "code",
   "execution_count": null,
   "metadata": {
    "collapsed": false
   },
   "outputs": [],
   "source": [
    "ordre = permutation_rnd(x, y, list(range(len(x))))\n",
    "print(\"longueur min\", longueur(x, y, ordre))\n",
    "xo = [x[o] for o in ordre + [ordre[0]]]\n",
    "yo = [y[o] for o in ordre + [ordre[0]]]\n",
    "plt.plot(xo, yo, \"o-\")\n",
    "plt.text(xo[0], yo[0], \"0\", color=\"r\", weight=\"bold\", size=\"x-large\")\n",
    "plt.text(xo[-2], yo[-2], \"N-1\", color=\"r\", weight=\"bold\", size=\"x-large\")"
   ]
  },
  {
   "cell_type": "markdown",
   "metadata": {},
   "source": [
    "Pour éviter cela, on peut imposer un nombre d'itérations minimum\n",
    "et recommencer plusieurs à partir d'ordre initiaux aléatoires :\n",
    "\n"
   ]
  },
  {
   "cell_type": "code",
   "execution_count": null,
   "metadata": {
    "collapsed": false
   },
   "outputs": [],
   "source": [
    "def permutation_rnd(x, y, ordre, miniter):\n",
    "    d = longueur(x, y, ordre)\n",
    "    d0 = d + 1\n",
    "    it = 1\n",
    "    while d < d0 or it < miniter:\n",
    "        it += 1\n",
    "        d0 = d\n",
    "        for i in range(1, len(ordre) - 1):\n",
    "            for j in range(i + 2, len(ordre) + 1):\n",
    "                ik = random.randint(1, len(ordre) - 1)\n",
    "                il = random.randint(ik + 1, len(ordre))\n",
    "                r = ordre[ik:il].copy()\n",
    "                r.reverse()\n",
    "                ordre2 = ordre[:ik] + r + ordre[il:]\n",
    "                t = longueur(x, y, ordre2)\n",
    "                if t < d:\n",
    "                    d = t\n",
    "                    ordre = ordre2\n",
    "    return ordre\n",
    "\n",
    "\n",
    "def n_permutation(x, y, miniter):\n",
    "    ordre = list(range(len(x)))\n",
    "    bordre = ordre.copy()\n",
    "    d0 = longueur(x, y, ordre)\n",
    "    for i in range(0, 20):\n",
    "        print(\"iteration\", i, \"d=\", d0)\n",
    "        random.shuffle(ordre)\n",
    "        ordre = permutation_rnd(x, y, ordre, 20)\n",
    "        d = longueur(x, y, ordre)\n",
    "        if d < d0:\n",
    "            d0 = d\n",
    "            bordre = ordre.copy()\n",
    "    return bordre"
   ]
  },
  {
   "cell_type": "markdown",
   "metadata": {},
   "source": [
    "La distance initiale.\n",
    "\n"
   ]
  },
  {
   "cell_type": "code",
   "execution_count": null,
   "metadata": {
    "collapsed": false
   },
   "outputs": [],
   "source": [
    "ordre = list(range(len(x)))\n",
    "print(\"longueur initiale\", longueur(x, y, ordre))"
   ]
  },
  {
   "cell_type": "markdown",
   "metadata": {},
   "source": [
    "La longueur obtenue.\n",
    "\n"
   ]
  },
  {
   "cell_type": "code",
   "execution_count": null,
   "metadata": {
    "collapsed": false
   },
   "outputs": [],
   "source": [
    "ordre = n_permutation(x, y, 20)\n",
    "print(\"longueur min\", longueur(x, y, ordre))\n",
    "xo = [x[o] for o in ordre + [ordre[0]]]\n",
    "yo = [y[o] for o in ordre + [ordre[0]]]\n",
    "plt.plot(xo, yo, \"o-\")\n",
    "plt.text(xo[0], yo[0], \"0\", color=\"r\", weight=\"bold\", size=\"x-large\")\n",
    "plt.text(xo[-2], yo[-2], \"N-1\", color=\"r\", weight=\"bold\", size=\"x-large\")\n",
    "\n",
    "\n",
    "# C'est mieux."
   ]
  }
 ],
 "metadata": {
  "kernelspec": {
   "display_name": "Python 3",
   "language": "python",
   "name": "python3"
  },
  "language_info": {
   "codemirror_mode": {
    "name": "ipython",
    "version": 3
   },
   "file_extension": ".py",
   "mimetype": "text/x-python",
   "name": "python",
   "nbconvert_exporter": "python",
   "pygments_lexer": "ipython3",
   "version": "3.10.6"
  }
 },
 "nbformat": 4,
 "nbformat_minor": 0
}
