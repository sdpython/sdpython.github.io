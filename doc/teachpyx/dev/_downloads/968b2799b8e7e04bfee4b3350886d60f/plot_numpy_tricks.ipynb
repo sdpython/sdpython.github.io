{
  "cells": [
    {
      "cell_type": "markdown",
      "metadata": {},
      "source": [
        "\n# Points d'impl\u00e9mentation avec numpy\n\nQuelques \u00e9critures efficaces et non efficaces avec :epkg:`numpy`.\n\n## acc\u00e9der \u00e0 un \u00e9l\u00e9ment en particulier\n"
      ]
    },
    {
      "cell_type": "code",
      "execution_count": null,
      "metadata": {
        "collapsed": false
      },
      "outputs": [],
      "source": [
        "import timeit\n\nimport numpy\n\nmat = numpy.zeros((5, 5))\nfor i in range(mat.shape[0]):\n    for j in range(mat.shape[1]):\n        mat[i, j] = i * 10 + j\nmat"
      ]
    },
    {
      "cell_type": "code",
      "execution_count": null,
      "metadata": {
        "collapsed": false
      },
      "outputs": [],
      "source": [
        "mat[2, 3], mat[2][3]"
      ]
    },
    {
      "cell_type": "code",
      "execution_count": null,
      "metadata": {
        "collapsed": false
      },
      "outputs": [],
      "source": [
        "timeit.timeit(\"mat[2, 3]\", globals=globals(), number=100)"
      ]
    },
    {
      "cell_type": "code",
      "execution_count": null,
      "metadata": {
        "collapsed": false
      },
      "outputs": [],
      "source": [
        "timeit.timeit(\"mat[2][3]\", globals=globals(), number=100)"
      ]
    },
    {
      "cell_type": "markdown",
      "metadata": {},
      "source": [
        "Les deux \u00e9critures ont l'air identique puisqu'elle retourne le m\u00eame r\u00e9sultat.\nN\u00e9anmoins, ``mat[2][3]`` cr\u00e9e un tableau temporaire puis extrait un \u00e9l\u00e9ment.\nLes \u00e9l\u00e9ments ne sont pas recopi\u00e9s mais un objet interm\u00e9diaire est cr\u00e9\u00e9.\n\n"
      ]
    },
    {
      "cell_type": "code",
      "execution_count": null,
      "metadata": {
        "collapsed": false
      },
      "outputs": [],
      "source": [
        "mat[2]"
      ]
    }
  ],
  "metadata": {
    "kernelspec": {
      "display_name": "Python 3",
      "language": "python",
      "name": "python3"
    },
    "language_info": {
      "codemirror_mode": {
        "name": "ipython",
        "version": 3
      },
      "file_extension": ".py",
      "mimetype": "text/x-python",
      "name": "python",
      "nbconvert_exporter": "python",
      "pygments_lexer": "ipython3",
      "version": "3.12.3"
    }
  },
  "nbformat": 4,
  "nbformat_minor": 0
}