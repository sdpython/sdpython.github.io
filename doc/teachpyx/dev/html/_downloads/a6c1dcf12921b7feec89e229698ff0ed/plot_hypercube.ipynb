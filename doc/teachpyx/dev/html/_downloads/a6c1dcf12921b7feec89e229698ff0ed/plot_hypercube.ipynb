{
 "cells": [
  {
   "cell_type": "markdown",
   "metadata": {},
   "source": [
    "\n",
    "\n",
    "# Hypercube et autres exercices\n",
    "\n",
    "Exercices autour de tableaux en plusieurs dimensions et autres exercices.\n",
    "\n",
    "## Q1 - triple récursivité\n",
    " \n",
    "Réécrire la fonction ``u`` de façon à ce qu'elle ne soit plus récurrente.\n"
   ]
  },
  {
   "cell_type": "code",
   "execution_count": null,
   "metadata": {
    "collapsed": false
   },
   "outputs": [],
   "source": [
    "def u(n):\n",
    "    if n <= 2:\n",
    "        return 1\n",
    "    else:\n",
    "        return u(n - 1) + u(n - 2) + u(n - 3)\n",
    "\n",
    "\n",
    "u(5)"
   ]
  },
  {
   "cell_type": "markdown",
   "metadata": {},
   "source": [
    "Le problème de cette écriture est que la fonction est triplement\n",
    "récursive et que son coût est aussi grand que la fonction elle-même. Vérifions.\n",
    "\n"
   ]
  },
  {
   "cell_type": "code",
   "execution_count": null,
   "metadata": {
    "collapsed": false
   },
   "outputs": [],
   "source": [
    "compteur = []\n",
    "\n",
    "\n",
    "def u_st(n):\n",
    "    global compteur\n",
    "    compteur.append(n)\n",
    "    if n <= 2:\n",
    "        return 1\n",
    "    else:\n",
    "        return u_st(n - 1) + u_st(n - 2) + u_st(n - 3)\n",
    "\n",
    "\n",
    "u_st(5), compteur"
   ]
  },
  {
   "cell_type": "markdown",
   "metadata": {},
   "source": [
    "La seconde liste retourne tous les *n* pour lesquels la fonction\n",
    "``u_st`` a été appelée.\n",
    "\n"
   ]
  },
  {
   "cell_type": "code",
   "execution_count": null,
   "metadata": {
    "collapsed": false
   },
   "outputs": [],
   "source": [
    "def u_non_recursif(n):\n",
    "    if n <= 2:\n",
    "        return 1\n",
    "    u0 = 1\n",
    "    u1 = 1\n",
    "    u2 = 1\n",
    "    i = 3\n",
    "    while i <= n:\n",
    "        u = u0 + u1 + u2\n",
    "        u0 = u1\n",
    "        u1 = u2\n",
    "        u2 = u\n",
    "        i += 1\n",
    "    return u\n",
    "\n",
    "\n",
    "u_non_recursif(5)"
   ]
  },
  {
   "cell_type": "markdown",
   "metadata": {},
   "source": [
    "## Q2 - comparaison de listes\n",
    "\n",
    "On considère deux listes d'entiers. La première est inférieure à la seconde\n",
    "si l'une des deux conditions suivantes est vérifiée :\n",
    "\n",
    "* les *n* premiers nombres sont égaux mais la première liste ne contient que\n",
    "  *n* éléments tandis que la seconde est plus longue,\n",
    "* les *n* premiers nombres sont égaux mais que le $n+1^{\\text{ème}}$ de la\n",
    "  première liste est inférieur au $n+1^{\\text{ème}}$ de la seconde liste\n",
    "\n",
    "Par conséquent, si *l* est la longueur de la liste la plus courte,\n",
    "comparer ces deux listes d'entiers revient à parcourir tous les indices\n",
    "depuis 0 jusqu'à *l* exclu et à s'arrêter sur la première différence qui\n",
    "détermine le résultat. S'il n'y pas de différence, alors la liste la\n",
    "plus courte est la première. Il faut écrire une fonction\n",
    "``compare_liste(p,q)`` qui implémente cet algorithme.\n",
    "\n"
   ]
  },
  {
   "cell_type": "code",
   "execution_count": null,
   "metadata": {
    "collapsed": false
   },
   "outputs": [],
   "source": [
    "def compare_liste(p, q):\n",
    "    i = 0\n",
    "    while i < len(p) and i < len(q):\n",
    "        if p[i] < q[i]:\n",
    "            return -1  # on peut décider\n",
    "        elif p[i] > q[i]:\n",
    "            return 1  # on peut décider\n",
    "        i += 1  # on ne peut pas décider\n",
    "    # fin de la boucle, il faut décider à partir des longueurs des listes\n",
    "    if len(p) < len(q):\n",
    "        return -1\n",
    "    elif len(p) > len(q):\n",
    "        return 1\n",
    "    else:\n",
    "        return 0\n",
    "\n",
    "\n",
    "compare_liste([0, 1], [0, 1, 2])"
   ]
  },
  {
   "cell_type": "code",
   "execution_count": null,
   "metadata": {
    "collapsed": false
   },
   "outputs": [],
   "source": [
    "compare_liste([0, 1, 3], [0, 1, 2])"
   ]
  },
  {
   "cell_type": "code",
   "execution_count": null,
   "metadata": {
    "collapsed": false
   },
   "outputs": [],
   "source": [
    "compare_liste([0, 1, 2], [0, 1, 2])"
   ]
  },
  {
   "cell_type": "code",
   "execution_count": null,
   "metadata": {
    "collapsed": false
   },
   "outputs": [],
   "source": [
    "compare_liste([0, 1, 2, 4], [0, 1, 2])"
   ]
  },
  {
   "cell_type": "markdown",
   "metadata": {},
   "source": [
    "## Q3 - précision des calculs\n",
    "\n",
    "On cherche à calculer la somme des termes d'une suite géométriques\n",
    "de raison $\\frac{1}{2}$. On définit $r=\\frac{1}{2}$, on cherche donc\n",
    "à calculer $\\sum_{i=0}^{\\infty} r^i$ qui une somme convergente mais infinie.\n",
    "Le programme suivant permet d'en calculer une valeur approchée.\n",
    "Il retourne, outre le résultat, le nombre d'itérations\n",
    "qui ont permis d'estimer le résultat.\n",
    "\n"
   ]
  },
  {
   "cell_type": "code",
   "execution_count": null,
   "metadata": {
    "collapsed": false
   },
   "outputs": [],
   "source": [
    "def suite_geometrique_1(r):\n",
    "    x = 1.0\n",
    "    y = 0.0\n",
    "    n = 0\n",
    "    while x > 0:\n",
    "        y += x\n",
    "        x *= r\n",
    "        n += 1\n",
    "    return y, n\n",
    "\n",
    "\n",
    "print(suite_geometrique_1(0.5))"
   ]
  },
  {
   "cell_type": "markdown",
   "metadata": {},
   "source": [
    "Un informaticien plus expérimenté a écrit le programme suivant qui\n",
    "retourne le même résultat mais avec un nombre d'itérations beaucoup plus petit.\n",
    "\n"
   ]
  },
  {
   "cell_type": "code",
   "execution_count": null,
   "metadata": {
    "collapsed": false
   },
   "outputs": [],
   "source": [
    "def suite_geometrique_2(r):\n",
    "    x = 1.0\n",
    "    y = 0.0\n",
    "    n = 0\n",
    "    yold = y + 1\n",
    "    while abs(yold - y) > 0:\n",
    "        yold = y\n",
    "        y += x\n",
    "        x *= r\n",
    "        n += 1\n",
    "    return y, n\n",
    "\n",
    "\n",
    "print(suite_geometrique_2(0.5))"
   ]
  },
  {
   "cell_type": "markdown",
   "metadata": {},
   "source": [
    "Expliquez pourquoi le second programme est plus rapide tout en\n",
    "retournant le même résultat. Repère numérique : $2^{-55} \\sim 2,8.10^{-17}$.\n",
    "\n",
    "Tout d'abord le second programme est plus rapide car il effectue moins\n",
    "d'itérations, 55 au lieu de 1075. Maintenant, il s'agit de savoir pourquoi\n",
    "le second programme retourne le même résultat que le premier mais plus\n",
    "rapidement. L'ordinateur ne peut pas calculer numériquement une somme infinie,\n",
    "il s'agit toujours d'une valeur approchée. L'approximation dépend de la\n",
    "précision des calculs, environ 14 chiffres pour *python*. Dans le premier programme,\n",
    "on s'arrête lorsque $r^n$ devient nul, autrement dit, on\n",
    "s'arrête lorsque *x* est si petit que *python* ne peut plus le\n",
    "représenter autrement que par 0,\n",
    "c'est-à-dire qu'il n'est pas possible de représenter un nombre dans l'intervalle\n",
    "$[0,2^{-1055}]$.\n",
    "\n",
    "Toutefois, il n'est pas indispensable d'aller aussi loin car\n",
    "l'ordinateur n'est de toute façon pas capable d'ajouter un nombre\n",
    "aussi petit à un nombre plus grand que 1. Par exemple,\n",
    "$1 + 10^{17} = 1,000\\, 000\\, 000\\, 000\\, 000\\, 01$.\n",
    "Comme la précision des calculs n'est que de 15 chiffres,\n",
    "pour *python*, $1 + 10^{17} = 1$.\n",
    "Le second programme s'inspire de cette remarque : le calcul s'arrête\n",
    "lorsque le résultat de la somme n'évolue plus car il additionne des\n",
    "nombres trop petits à un nombre trop grand. L'idée est donc de comparer\n",
    "la somme d'une itération à l'autre et de s'arrêter lorsqu'elle n'évolue plus.\n",
    "\n",
    "Ce raisonnement n'est pas toujours applicable. Il est valide dans ce cas\n",
    "car la série $s_n = \\sum_{i=0}^{n} r^i$ est croissante et positive.\n",
    "Il est valide pour une série convergente de la forme $s_n = \\sum_{i=0}^{n} u_i$\n",
    "et une suite $u_n$ de module décroissant.\n",
    "\n",
    "## Q4 - hypercube\n",
    "\n",
    "Un chercheur cherche à vérifier qu'une suite de 0 et de 1 est aléatoire.\n",
    "Pour cela, il souhaite compter le nombre de séquences de *n* nombres successifs.\n",
    "Par exemple, pour la suite 01100111 et $n=3$, les triplets sont\n",
    "011, 110, 100, 001, 011, 111. Le triplet 011 apparaît deux fois,\n",
    "les autres une fois. Si la suite est aléatoire, les occurrences de chaque\n",
    "triplet sont en nombres équivalents.\n",
    "\n"
   ]
  },
  {
   "cell_type": "code",
   "execution_count": null,
   "metadata": {
    "collapsed": false
   },
   "outputs": [],
   "source": [
    "def hyper_cube_liste(n, m=None):\n",
    "    if m is None:\n",
    "        m = [0, 0]\n",
    "    if n > 1:\n",
    "        m[0] = [0, 0]\n",
    "        m[1] = [0, 0]\n",
    "        m[0] = hyper_cube_liste(n - 1, m[0])\n",
    "        m[1] = hyper_cube_liste(n - 1, m[1])\n",
    "    return m\n",
    "\n",
    "\n",
    "hyper_cube_liste(3)"
   ]
  },
  {
   "cell_type": "markdown",
   "metadata": {},
   "source": [
    "La seconde à base de dictionnaire (plus facile à manipuler) :\n",
    "\n"
   ]
  },
  {
   "cell_type": "code",
   "execution_count": null,
   "metadata": {
    "collapsed": false
   },
   "outputs": [],
   "source": [
    "def hyper_cube_dico(n):\n",
    "    r = {}\n",
    "    ind = [0 for i in range(0, n)]\n",
    "    while ind[0] <= 1:\n",
    "        cle = tuple(ind)  # conversion d'une liste en tuple\n",
    "        r[cle] = 0\n",
    "        ind[-1] += 1\n",
    "        k = len(ind) - 1\n",
    "        while ind[k] == 2 and k > 0:\n",
    "            ind[k] = 0\n",
    "            ind[k - 1] += 1\n",
    "            k -= 1\n",
    "    return r\n",
    "\n",
    "\n",
    "hyper_cube_dico(3)"
   ]
  },
  {
   "cell_type": "markdown",
   "metadata": {},
   "source": [
    "Le chercheur a commencé à écrire son programme :\n",
    "\n"
   ]
  },
  {
   "cell_type": "code",
   "execution_count": null,
   "metadata": {
    "collapsed": false
   },
   "outputs": [],
   "source": [
    "def occurrence(li, n):\n",
    "    # d = ....... # choix d'un hyper_cube (n)\n",
    "    # .....\n",
    "    # return d\n",
    "    pass\n",
    "\n",
    "\n",
    "suite = [0, 1, 0, 1, 1, 0, 1, 0, 0, 0, 1, 1, 0, 1, 1, 1, 0, 0, 1, 1]\n",
    "h = occurrence(suite, 3)\n",
    "h"
   ]
  },
  {
   "cell_type": "markdown",
   "metadata": {},
   "source": [
    "Sur quelle structure se porte votre choix (a priori celle avec dictionnaire),\n",
    "compléter la fonction ``occurrence``.\n",
    "\n"
   ]
  },
  {
   "cell_type": "code",
   "execution_count": null,
   "metadata": {
    "collapsed": false
   },
   "outputs": [],
   "source": [
    "def occurrence(tu, n):\n",
    "    d = hyper_cube_dico(n)\n",
    "    for i in range(0, len(tu) - n):\n",
    "        cle = tu[i : i + n]\n",
    "        d[cle] += 1\n",
    "    return d\n",
    "\n",
    "\n",
    "occurrence((1, 0, 1, 1, 0, 1, 0), 3)"
   ]
  },
  {
   "cell_type": "markdown",
   "metadata": {},
   "source": [
    "Il est même possible de se passer de la fonction ``hyper_cube_dico`` :\n",
    "\n"
   ]
  },
  {
   "cell_type": "code",
   "execution_count": null,
   "metadata": {
    "collapsed": false
   },
   "outputs": [],
   "source": [
    "def occurrence2(tu, n):\n",
    "    d = {}\n",
    "    for i in range(0, len(tu) - n):\n",
    "        cle = tu[i : i + n]\n",
    "        if cle not in d:\n",
    "            d[cle] = 0\n",
    "        d[cle] += 1\n",
    "    return d\n",
    "\n",
    "\n",
    "occurrence2((1, 0, 1, 1, 0, 1, 0), 3)"
   ]
  },
  {
   "cell_type": "markdown",
   "metadata": {},
   "source": [
    "La seule différence apparaît lorsqu'un n-uplet n'apparaît pas dans\n",
    "la liste. Avec la fonction ``hyper_cube_dico``, ce n-uplet recevra la\n",
    "fréquence 0, sans cette fonction, ce n-uplet ne sera pas présent\n",
    "dans le dictionnaire ``d``. Le même programme avec la structure matricielle\n",
    "est plus une curiosité qu'un cas utile.\n",
    "\n"
   ]
  },
  {
   "cell_type": "code",
   "execution_count": null,
   "metadata": {
    "collapsed": false
   },
   "outputs": [],
   "source": [
    "def occurrence3(li, n):\n",
    "    d = hyper_cube_liste(n)\n",
    "    for i in range(0, len(li) - n):\n",
    "        cle = li[i : i + n]\n",
    "        t = d  #\n",
    "        for k in range(0, n - 1):  # point clé de la fonction :\n",
    "            t = t[cle[k]]  #                accès à un élément\n",
    "        t[cle[n - 1]] += 1\n",
    "    return d\n",
    "\n",
    "\n",
    "occurrence3((1, 0, 1, 1, 0, 1, 0), 3)"
   ]
  },
  {
   "cell_type": "markdown",
   "metadata": {},
   "source": [
    "Une autre écriture...\n",
    "\n"
   ]
  },
  {
   "cell_type": "code",
   "execution_count": null,
   "metadata": {
    "collapsed": false
   },
   "outputs": [],
   "source": [
    "def hyper_cube_liste2(n, m=[0, 0], m2=[0, 0]):\n",
    "    if n > 1:\n",
    "        m[0] = list(m2)\n",
    "        m[1] = list(m2)\n",
    "        m[0] = hyper_cube_liste2(n - 1, m[0])\n",
    "        m[1] = hyper_cube_liste2(n - 1, m[1])\n",
    "    return m\n",
    "\n",
    "\n",
    "def occurrence4(li, n):\n",
    "    d = hyper_cube_liste2(n)  # * remarque voir plus bas\n",
    "    for i in range(0, len(li) - n):\n",
    "        cle = li[i : i + n]\n",
    "        t = d  #\n",
    "        for k in range(0, n - 1):  # point clé de la fonction :\n",
    "            t = t[cle[k]]  #                accès à un élément\n",
    "        t[cle[n - 1]] += 1\n",
    "    return d\n",
    "\n",
    "\n",
    "occurrence4((1, 0, 1, 1, 0, 1, 0), 3)"
   ]
  },
  {
   "cell_type": "markdown",
   "metadata": {},
   "source": [
    "Et si on remplace ``list(m2)`` par ``m2``.\n",
    "\n"
   ]
  },
  {
   "cell_type": "code",
   "execution_count": null,
   "metadata": {
    "collapsed": false
   },
   "outputs": [],
   "source": [
    "def hyper_cube_liste3(n, m=[0, 0], m2=[0, 0]):\n",
    "    if n > 1:\n",
    "        m[0] = m2\n",
    "        m[1] = m2\n",
    "        m[0] = hyper_cube_liste3(n - 1, m[0])\n",
    "        m[1] = hyper_cube_liste3(n - 1, m[1])\n",
    "    return m\n",
    "\n",
    "\n",
    "def occurrence5(li, n):\n",
    "    d = hyper_cube_liste3(n)  # * remarque voir plus bas\n",
    "    for i in range(0, len(li) - n):\n",
    "        cle = li[i : i + n]\n",
    "        t = d  #\n",
    "        for k in range(0, n - 1):  # point clé de la fonction :\n",
    "            t = t[cle[k]]  #                accès à un élément\n",
    "        t[cle[n - 1]] += 1\n",
    "    return d\n",
    "\n",
    "\n",
    "try:\n",
    "    occurrence5((1, 0, 1, 1, 0, 1, 0), 3)\n",
    "except Exception as e:\n",
    "    print(e)"
   ]
  },
  {
   "cell_type": "markdown",
   "metadata": {},
   "source": [
    "Intéressant...\n",
    "\n"
   ]
  }
 ],
 "metadata": {
  "kernelspec": {
   "display_name": "Python 3",
   "language": "python",
   "name": "python3"
  },
  "language_info": {
   "codemirror_mode": {
    "name": "ipython",
    "version": 3
   },
   "file_extension": ".py",
   "mimetype": "text/x-python",
   "name": "python",
   "nbconvert_exporter": "python",
   "pygments_lexer": "ipython3",
   "version": "3.10.6"
  }
 },
 "nbformat": 4,
 "nbformat_minor": 0
}
