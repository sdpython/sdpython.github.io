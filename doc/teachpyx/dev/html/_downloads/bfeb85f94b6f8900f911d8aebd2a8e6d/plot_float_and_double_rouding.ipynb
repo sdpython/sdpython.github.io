{
 "cells": [
  {
   "cell_type": "markdown",
   "metadata": {},
   "source": [
    "\n",
    "# Float Conversion\n",
    " \n",
    "I came up with the following question \n",
    "$(float64)x < (float64)y \\Longrightarrow (float32) x < (float32)y$?\n",
    "What is the probability this holds?\n",
    "\n",
    "## Probability (float64)x == (float32)x\n",
    "\n",
    "Let's evaluate how many time we draw a random double \n",
    "number equal to its float conversion.\n"
   ]
  },
  {
   "cell_type": "code",
   "execution_count": null,
   "metadata": {
    "collapsed": false
   },
   "outputs": [],
   "source": [
    "import random\n",
    "import numpy\n",
    "import pandas\n",
    "import matplotlib.pyplot as plt\n",
    "\n",
    "\n",
    "rnd = numpy.random.random(100000000)\n",
    "rnd.shape, rnd.dtype"
   ]
  },
  {
   "cell_type": "code",
   "execution_count": null,
   "metadata": {
    "collapsed": false
   },
   "outputs": [],
   "source": [
    "rnd32 = rnd.astype(numpy.float32).astype(numpy.float64)\n",
    "equal = (rnd == rnd32).sum()\n",
    "equal"
   ]
  },
  {
   "cell_type": "markdown",
   "metadata": {},
   "source": [
    "It is very low. Let's check the reverse is true.\n",
    "\n"
   ]
  },
  {
   "cell_type": "code",
   "execution_count": null,
   "metadata": {
    "collapsed": false
   },
   "outputs": [],
   "source": [
    "rnd32b = rnd32.astype(numpy.float64).astype(numpy.float32)\n",
    "equal = (rnd32b == rnd32).sum()\n",
    "equal"
   ]
  },
  {
   "cell_type": "markdown",
   "metadata": {},
   "source": [
    "Let's study the distribution of the difference.\n",
    "\n"
   ]
  },
  {
   "cell_type": "code",
   "execution_count": null,
   "metadata": {
    "collapsed": false
   },
   "outputs": [],
   "source": [
    "delta = rnd - rnd32\n",
    "numpy.min(delta), numpy.max(delta)"
   ]
  },
  {
   "cell_type": "code",
   "execution_count": null,
   "metadata": {
    "collapsed": false
   },
   "outputs": [],
   "source": [
    "numpy.min(rnd), numpy.max(rnd)"
   ]
  },
  {
   "cell_type": "code",
   "execution_count": null,
   "metadata": {
    "collapsed": false
   },
   "outputs": [],
   "source": [
    "plt.hist(delta, bins=1000)"
   ]
  },
  {
   "cell_type": "markdown",
   "metadata": {},
   "source": [
    "We finally check that double operations between float numpers remain floats.\n",
    "\n"
   ]
  },
  {
   "cell_type": "code",
   "execution_count": null,
   "metadata": {
    "collapsed": false
   },
   "outputs": [],
   "source": [
    "for i in range(0, 100000):\n",
    "    i, j = random.randint(0, len(rnd32) - 1), random.randint(0, len(rnd32) - 1)\n",
    "    d32 = numpy.float64(rnd32[i] * rnd32[j])\n",
    "    d64 = numpy.float64(rnd32[i]) * numpy.float64(rnd32[j])\n",
    "    if d32 != d64:\n",
    "        raise Exception(\n",
    "            \"Issue with somme={0} = {1} + {2}\".format(\n",
    "                rnd32[i] + rnd32[j], rnd32[i], rnd32[j]\n",
    "            )\n",
    "        )"
   ]
  },
  {
   "cell_type": "markdown",
   "metadata": {},
   "source": [
    "## Interval length distribution\n",
    "\n",
    "Let's imagine now we want to define an intervalle in which a\n",
    "double is converted to the same float. Let's find out about it length.\n",
    "\n"
   ]
  },
  {
   "cell_type": "code",
   "execution_count": null,
   "metadata": {
    "collapsed": false
   },
   "outputs": [],
   "source": [
    "def find_interval(x):\n",
    "    dx = numpy.abs(x - numpy.float32(x))  # usually not zero\n",
    "    dx /= 100\n",
    "    f = numpy.float32(x)\n",
    "    x1 = x\n",
    "    while numpy.float32(x1) == f:\n",
    "        x1 -= dx\n",
    "    x2 = x\n",
    "    while numpy.float32(x2) == f:\n",
    "        x2 += dx\n",
    "    return x1 + dx, x2 - dx\n",
    "\n",
    "\n",
    "length = numpy.zeros((2000,))\n",
    "for i in range(length.shape[0]):\n",
    "    x = rnd[i]\n",
    "    x1, x2 = find_interval(x)\n",
    "    length[i] = x2 - x1\n",
    "\n",
    "min(length), max(length)"
   ]
  },
  {
   "cell_type": "code",
   "execution_count": null,
   "metadata": {
    "collapsed": false
   },
   "outputs": [],
   "source": [
    "plt.hist(length, bins=50)"
   ]
  },
  {
   "cell_type": "markdown",
   "metadata": {},
   "source": [
    "So we can approximate this interval by something like this:\n",
    "\n"
   ]
  },
  {
   "cell_type": "code",
   "execution_count": null,
   "metadata": {
    "collapsed": false
   },
   "outputs": [],
   "source": [
    "ql = numpy.sort(length)[int(length.shape[0] * 0.8)]\n",
    "ql"
   ]
  },
  {
   "cell_type": "markdown",
   "metadata": {},
   "source": [
    "## An answer to the initial question\n",
    "\n",
    "Let's estimate\n",
    "$\\mathbb{P}\\left(x_{64} < y_{64} \\Longrightarrow x_{32}\n",
    "< y_{32} \\; | \\; |x-y| \\leqslant d\\right)$ ?\n",
    "\n"
   ]
  },
  {
   "cell_type": "code",
   "execution_count": null,
   "metadata": {
    "collapsed": false
   },
   "outputs": [],
   "source": [
    "def inf_strict(x, y):\n",
    "    f1 = x < y\n",
    "    f2 = numpy.float32(x) < numpy.float32(y)\n",
    "    return f1, f2\n",
    "\n",
    "\n",
    "def count_events(fct):\n",
    "    rows = []\n",
    "    for di in range(1, 1001):\n",
    "        d = di * ql / 100\n",
    "        total = 0\n",
    "        ok = 0\n",
    "        rnd = numpy.random.random((2000 * 3,))\n",
    "        for i in range(0, rnd.shape[0], 3):\n",
    "            s = -1 if rnd[i + 2] < 0.5 else 1\n",
    "            x, y = rnd[i], rnd[i] + rnd[i + 1] * d * s\n",
    "            f1, f2 = fct(x, y)\n",
    "            if f1:\n",
    "                total += 1\n",
    "                if f2:\n",
    "                    ok += 1\n",
    "        if (di + 10) % 100 == 0:\n",
    "            print(di, d, \":\", ok, total)\n",
    "        rows.append(dict(d=d, ratio=ok * 1.0 / total, total=total))\n",
    "\n",
    "    return pandas.DataFrame(rows)\n",
    "\n",
    "\n",
    "df = count_events(inf_strict)\n",
    "df.head()"
   ]
  },
  {
   "cell_type": "code",
   "execution_count": null,
   "metadata": {
    "collapsed": false
   },
   "outputs": [],
   "source": [
    "df.plot(x=\"d\", y=\"ratio\")"
   ]
  },
  {
   "cell_type": "code",
   "execution_count": null,
   "metadata": {
    "collapsed": false
   },
   "outputs": [],
   "source": [
    "df.plot(x=\"d\", y=\"ratio\", logx=True)"
   ]
  },
  {
   "cell_type": "markdown",
   "metadata": {},
   "source": [
    "## An answer to a similar question: what about not strict comparison?\n",
    "\n",
    "Let's estimate\n",
    "$\\mathbb{P}\\left(x_{64} \\leqslant y_{64} \\Longrightarrow x_{32}\n",
    "\\leqslant y_{32} \\; | \\; |x-y| \\leqslant d\\right)$ ?\n",
    "\n"
   ]
  },
  {
   "cell_type": "code",
   "execution_count": null,
   "metadata": {
    "collapsed": false
   },
   "outputs": [],
   "source": [
    "def inf_equal(x, y):\n",
    "    f1 = x <= y\n",
    "    f2 = numpy.float32(x) <= numpy.float32(y)\n",
    "    return f1, f2\n",
    "\n",
    "\n",
    "df2 = count_events(inf_equal)\n",
    "df2.head()"
   ]
  },
  {
   "cell_type": "code",
   "execution_count": null,
   "metadata": {
    "collapsed": false
   },
   "outputs": [],
   "source": [
    "ax = df.plot(x=\"d\", y=\"ratio\", logx=True, label=\"<\")\n",
    "df2.plot(x=\"d\", y=\"ratio\", logx=True, label=\"<=\", ax=ax)"
   ]
  },
  {
   "cell_type": "code",
   "execution_count": null,
   "metadata": {
    "collapsed": false
   },
   "outputs": [],
   "source": [
    "def sup_strict(x, y):\n",
    "    f1 = x > y\n",
    "    f2 = numpy.float32(x) > numpy.float32(y)\n",
    "    return f1, f2\n",
    "\n",
    "\n",
    "df3 = count_events(sup_strict)\n",
    "df3.head()"
   ]
  },
  {
   "cell_type": "code",
   "execution_count": null,
   "metadata": {
    "collapsed": false
   },
   "outputs": [],
   "source": [
    "ax = df.plot(x=\"d\", y=\"ratio\", logx=True, label=\"<\")\n",
    "df2.plot(x=\"d\", y=\"ratio\", logx=True, label=\"<=\", ax=ax)\n",
    "df3.plot(x=\"d\", y=\"ratio\", logx=True, label=\">\", ax=ax)"
   ]
  },
  {
   "cell_type": "code",
   "execution_count": null,
   "metadata": {
    "collapsed": false
   },
   "outputs": [],
   "source": [
    "def sup_equal(x, y):\n",
    "    f1 = x >= y\n",
    "    f2 = numpy.float32(x) >= numpy.float32(y)\n",
    "    return f1, f2\n",
    "\n",
    "\n",
    "df4 = count_events(sup_equal)\n",
    "df4.head()"
   ]
  },
  {
   "cell_type": "code",
   "execution_count": null,
   "metadata": {
    "collapsed": false
   },
   "outputs": [],
   "source": [
    "ax = df.plot(x=\"d\", y=\"ratio\", logx=True, label=\"<\")\n",
    "df2.plot(x=\"d\", y=\"ratio\", logx=True, label=\"<=\", ax=ax)\n",
    "df3.plot(x=\"d\", y=\"ratio\", logx=True, label=\">\", ax=ax)\n",
    "df4.plot(x=\"d\", y=\"ratio\", logx=True, label=\">=\", ax=ax)"
   ]
  },
  {
   "cell_type": "code",
   "execution_count": null,
   "metadata": {
    "collapsed": false
   },
   "outputs": [],
   "source": [
    "def inf_strict_neg(x, y):\n",
    "    f1 = (-x) >= (-y)\n",
    "    f2 = (-numpy.float32(x)) >= (-numpy.float32(y))\n",
    "    return f1, f2\n",
    "\n",
    "\n",
    "dfn = count_events(inf_strict_neg)\n",
    "dfn.head()"
   ]
  },
  {
   "cell_type": "code",
   "execution_count": null,
   "metadata": {
    "collapsed": false
   },
   "outputs": [],
   "source": [
    "ax = df.plot(x=\"d\", y=\"ratio\", logx=True, label=\"<\")\n",
    "dfn.plot(x=\"d\", y=\"ratio\", logx=True, label=\"-1 x >=\", ax=ax)"
   ]
  },
  {
   "cell_type": "markdown",
   "metadata": {},
   "source": [
    "## Conclusion\n",
    "\n",
    "The result is expected. As soon as two float are rounded to the same value,\n",
    "the strict inequality no longer holds. However, if you need to write a\n",
    "code which has to handle double and float (in a template for example),\n",
    "you should use not strict inequalities. It is easier to compare the results\n",
    "but you should read some article like [Is]( faster than <=?\n",
    "<https://stackoverflow.com/questions/12135518/is-faster-than).\n",
    "According to\n",
    "[Processing costs of non-strict versus strict comparison](http://www.crcummins.com/CRCProcessing.pdf), ``<`` is 5-10% faster than ``<=``.\n",
    "\n"
   ]
  }
 ],
 "metadata": {
  "kernelspec": {
   "display_name": "Python 3",
   "language": "python",
   "name": "python3"
  },
  "language_info": {
   "codemirror_mode": {
    "name": "ipython",
    "version": 3
   },
   "file_extension": ".py",
   "mimetype": "text/x-python",
   "name": "python",
   "nbconvert_exporter": "python",
   "pygments_lexer": "ipython3",
   "version": "3.10.6"
  }
 },
 "nbformat": 4,
 "nbformat_minor": 0
}
