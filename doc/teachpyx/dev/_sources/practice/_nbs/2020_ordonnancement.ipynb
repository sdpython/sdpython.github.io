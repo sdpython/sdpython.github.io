{
 "cells": [
  {
   "cell_type": "markdown",
   "metadata": {},
   "source": [
    "# Algo - Problème d'ordonnancement\n",
    "\n",
    "Un [problème d'ordonnancement](https://fr.wikipedia.org/wiki/Th%C3%A9orie_de_l%27ordonnancement) est un problème dans lequel il faut déterminer le meilleur moment de démarrer un travail, une tâche alors que celles-ci ont des durées bien précises et dépendent les unes des autres."
   ]
  },
  {
   "cell_type": "code",
   "execution_count": 1,
   "metadata": {},
   "outputs": [
    {
     "data": {
      "text/html": [
       "<div id=\"my_id_menu_nb\">run previous cell, wait for 2 seconds</div>\n",
       "<script>\n",
       "function repeat_indent_string(n){\n",
       "    var a = \"\" ;\n",
       "    for ( ; n > 0 ; --n)\n",
       "        a += \"    \";\n",
       "    return a;\n",
       "}\n",
       "// look up into all sections and builds an automated menu //\n",
       "var update_menu_string = function(begin, lfirst, llast, sformat, send, keep_item, begin_format, end_format) {\n",
       "    var anchors = document.getElementsByClassName(\"section\");\n",
       "    if (anchors.length == 0) {\n",
       "        anchors = document.getElementsByClassName(\"text_cell_render rendered_html\");\n",
       "    }\n",
       "    var i,t;\n",
       "    var text_menu = begin;\n",
       "    var text_memo = \"<pre>\\nlength:\" + anchors.length + \"\\n\";\n",
       "    var ind = \"\";\n",
       "    var memo_level = 1;\n",
       "    var href;\n",
       "    var tags = [];\n",
       "    var main_item = 0;\n",
       "    var format_open = 0;\n",
       "    for (i = 0; i <= llast; i++)\n",
       "        tags.push(\"h\" + i);\n",
       "\n",
       "    for (i = 0; i < anchors.length; i++) {\n",
       "        text_memo += \"**\" + anchors[i].id + \"--\\n\";\n",
       "\n",
       "        var child = null;\n",
       "        for(t = 0; t < tags.length; t++) {\n",
       "            var r = anchors[i].getElementsByTagName(tags[t]);\n",
       "            if (r.length > 0) {\n",
       "child = r[0];\n",
       "break;\n",
       "            }\n",
       "        }\n",
       "        if (child == null) {\n",
       "            text_memo += \"null\\n\";\n",
       "            continue;\n",
       "        }\n",
       "        if (anchors[i].hasAttribute(\"id\")) {\n",
       "            // when converted in RST\n",
       "            href = anchors[i].id;\n",
       "            text_memo += \"#1-\" + href;\n",
       "            // passer à child suivant (le chercher)\n",
       "        }\n",
       "        else if (child.hasAttribute(\"id\")) {\n",
       "            // in a notebook\n",
       "            href = child.id;\n",
       "            text_memo += \"#2-\" + href;\n",
       "        }\n",
       "        else {\n",
       "            text_memo += \"#3-\" + \"*\" + \"\\n\";\n",
       "            continue;\n",
       "        }\n",
       "        var title = child.textContent;\n",
       "        var level = parseInt(child.tagName.substring(1,2));\n",
       "\n",
       "        text_memo += \"--\" + level + \"?\" + lfirst + \"--\" + title + \"\\n\";\n",
       "\n",
       "        if ((level < lfirst) || (level > llast)) {\n",
       "            continue ;\n",
       "        }\n",
       "        if (title.endsWith('¶')) {\n",
       "            title = title.substring(0,title.length-1).replace(\"<\", \"&lt;\")\n",
       "         .replace(\">\", \"&gt;\").replace(\"&\", \"&amp;\");\n",
       "        }\n",
       "        if (title.length == 0) {\n",
       "            continue;\n",
       "        }\n",
       "\n",
       "        while (level < memo_level) {\n",
       "            text_menu += end_format + \"</ul>\\n\";\n",
       "            format_open -= 1;\n",
       "            memo_level -= 1;\n",
       "        }\n",
       "        if (level == lfirst) {\n",
       "            main_item += 1;\n",
       "        }\n",
       "        if (keep_item != -1 && main_item != keep_item + 1) {\n",
       "            // alert(main_item + \" - \" + level + \" - \" + keep_item);\n",
       "            continue;\n",
       "        }\n",
       "        while (level > memo_level) {\n",
       "            text_menu += \"<ul>\\n\";\n",
       "            memo_level += 1;\n",
       "        }\n",
       "        text_menu += repeat_indent_string(level-2);\n",
       "        text_menu += begin_format + sformat.replace(\"__HREF__\", href).replace(\"__TITLE__\", title);\n",
       "        format_open += 1;\n",
       "    }\n",
       "    while (1 < memo_level) {\n",
       "        text_menu += end_format + \"</ul>\\n\";\n",
       "        memo_level -= 1;\n",
       "        format_open -= 1;\n",
       "    }\n",
       "    text_menu += send;\n",
       "    //text_menu += \"\\n\" + text_memo;\n",
       "\n",
       "    while (format_open > 0) {\n",
       "        text_menu += end_format;\n",
       "        format_open -= 1;\n",
       "    }\n",
       "    return text_menu;\n",
       "};\n",
       "var update_menu = function() {\n",
       "    var sbegin = \"\";\n",
       "    var sformat = '<a href=\"#__HREF__\">__TITLE__</a>';\n",
       "    var send = \"\";\n",
       "    var begin_format = '<li>';\n",
       "    var end_format = '</li>';\n",
       "    var keep_item = -1;\n",
       "    var text_menu = update_menu_string(sbegin, 2, 4, sformat, send, keep_item,\n",
       "       begin_format, end_format);\n",
       "    var menu = document.getElementById(\"my_id_menu_nb\");\n",
       "    menu.innerHTML=text_menu;\n",
       "};\n",
       "window.setTimeout(update_menu,2000);\n",
       "            </script>"
      ],
      "text/plain": [
       "<IPython.core.display.HTML object>"
      ]
     },
     "execution_count": 2,
     "metadata": {},
     "output_type": "execute_result"
    }
   ],
   "source": [
    "from jyquickhelper import add_notebook_menu\n",
    "\n",
    "add_notebook_menu()"
   ]
  },
  {
   "cell_type": "code",
   "execution_count": 2,
   "metadata": {},
   "outputs": [],
   "source": [
    "%matplotlib inline"
   ]
  },
  {
   "cell_type": "markdown",
   "metadata": {},
   "source": [
    "## Enoncé\n",
    "\n",
    "On définit un problème d'ordonnancement un peu plus simple dans lequel toutes les tâches ont la même durée qu'on représente par une matrice d'adjacence non symétrique."
   ]
  },
  {
   "cell_type": "code",
   "execution_count": 3,
   "metadata": {},
   "outputs": [
    {
     "data": {
      "text/html": [
       "<div id=\"M12baf769060046d7b95890a7452472f5-cont\"><div id=\"M12baf769060046d7b95890a7452472f5\" style=\"width:100%;height:100%;\"></div></div>\n",
       "<script>\n",
       "\n",
       "require(['http://www.xavierdupre.fr/js/vizjs/viz.js'], function() { var svgGraph = Viz(\"digraph{ \\n  rankdir=\\\"LR\\\";\\n  size=\\\"4,4\\\";\\n  0;\\n  1;\\n  2;\\n  3;\\n  4;\\n  0 -> 1;\\n  0 -> 2;\\n  0 -> 3;\\n  1 -> 2;\\n  1 -> 4;\\n  2 -> 4;\\n  3 -> 4;\\n}\");\n",
       "document.getElementById('M12baf769060046d7b95890a7452472f5').innerHTML = svgGraph; });\n",
       "\n",
       "</script>"
      ],
      "text/plain": [
       "<jyquickhelper.jspy.render_nb_js_dot.RenderJsDot at 0x1f9ccf96e80>"
      ]
     },
     "execution_count": 4,
     "metadata": {},
     "output_type": "execute_result"
    }
   ],
   "source": [
    "import numpy\n",
    "import matplotlib.pyplot as plt\n",
    "from jyquickhelper import RenderJsDot\n",
    "\n",
    "\n",
    "def plot_network(mat):\n",
    "    # Dessine un graph à l'aide du language DOT\n",
    "    # https://graphviz.org/doc/info/lang.html\n",
    "    rows = [\"digraph{ \", '  rankdir=\"LR\";', '  size=\"4,4\";']\n",
    "    for i in range(max(mat.shape)):\n",
    "        rows.append(\"  %d;\" % i)\n",
    "    for i in range(mat.shape[0]):\n",
    "        for j in range(mat.shape[1]):\n",
    "            if mat[i, j] > 0:\n",
    "                rows.append(\"  %d -> %d;\" % (i, j))\n",
    "    rows.append(\"}\")\n",
    "    dot = \"\\n\".join(rows)\n",
    "    # print(dot)  # décommenter cette ligne pour voir le résultat\n",
    "    return RenderJsDot(dot)\n",
    "\n",
    "\n",
    "mat = numpy.array(\n",
    "    [\n",
    "        [0, 1, 1, 1, 0],\n",
    "        [0, 0, 1, 0, 1],\n",
    "        [0, 0, 0, 0, 1],\n",
    "        [0, 0, 0, 0, 1],\n",
    "        [0, 0, 0, 0, 0],\n",
    "    ]\n",
    ")\n",
    "plot_network(mat)"
   ]
  },
  {
   "cell_type": "markdown",
   "metadata": {},
   "source": [
    "Le graphe se lit comme suit : *pour faire la tâche 2, il faut faire la tâche 0 et 1 d'abord.*"
   ]
  },
  {
   "cell_type": "markdown",
   "metadata": {},
   "source": [
    "### Q1 : écrire un algorithme qui détermine dans quel ordre on peut exécuter les tâches.\n",
    "\n",
    "Il peut y avoir plusieurs tâches en parallèle. Quelle forme pourrait prendre le résultat ?"
   ]
  },
  {
   "cell_type": "code",
   "execution_count": 4,
   "metadata": {},
   "outputs": [],
   "source": []
  },
  {
   "cell_type": "markdown",
   "metadata": {},
   "source": [
    "### Q2 : Et si les tâches n'ont plus la même durée ?\n",
    "\n",
    "Ne pourrait-on pas réutiliser ce qu'on a fait avec une petite astuce..."
   ]
  },
  {
   "cell_type": "markdown",
   "metadata": {},
   "source": [
    "## Réponses"
   ]
  },
  {
   "cell_type": "markdown",
   "metadata": {},
   "source": [
    "### Q1\n",
    "\n",
    "Comment représenter le résultat ? Une idée consiste à créer un tableau fin $F_{i}$ où *i* est la tâche. $F_{i}=t$ signifie qu'au temps *t*, la tâche *i* est finie."
   ]
  },
  {
   "cell_type": "code",
   "execution_count": 5,
   "metadata": {},
   "outputs": [
    {
     "data": {
      "text/plain": [
       "[0, 1, 2, 1, 3]"
      ]
     },
     "execution_count": 6,
     "metadata": {},
     "output_type": "execute_result"
    }
   ],
   "source": [
    "def order_same_weight(mat):\n",
    "    # matrice la fin de chaque tâche\n",
    "    # au début, on suppose qu'elles se terminent toutes à l'origine des temps\n",
    "    fin = [-1 for i in range(mat.shape[0])]\n",
    "\n",
    "    for j in range(mat.shape[1]):\n",
    "        if mat[:, j].sum() == 0:\n",
    "            # si la tâche j ne dépend d'aucune autre tâche\n",
    "            # alors on peut commencer en 0\n",
    "            fin[j] = 0\n",
    "\n",
    "    update = True\n",
    "    while update:\n",
    "        update = False\n",
    "        for i in range(mat.shape[0]):\n",
    "            for j in range(mat.shape[1]):\n",
    "                if mat[i, j] == 0 or fin[i] == -1:\n",
    "                    continue\n",
    "                # indique la j dépend de la tâche i\n",
    "                if fin[j] < fin[i] + 1:\n",
    "                    update = True\n",
    "                    fin[j] = fin[i] + 1\n",
    "                    # fin[j] = max(fin[j], fin[i] + 1)\n",
    "\n",
    "    return fin\n",
    "\n",
    "\n",
    "order_same_weight(mat)"
   ]
  },
  {
   "cell_type": "markdown",
   "metadata": {},
   "source": [
    "On vérifie sur un graphe plus compliqué."
   ]
  },
  {
   "cell_type": "code",
   "execution_count": 6,
   "metadata": {},
   "outputs": [
    {
     "data": {
      "text/html": [
       "<div id=\"Mcda392631ad048068d2157a0b70dfa3b-cont\"><div id=\"Mcda392631ad048068d2157a0b70dfa3b\" style=\"width:100%;height:100%;\"></div></div>\n",
       "<script>\n",
       "\n",
       "require(['http://www.xavierdupre.fr/js/vizjs/viz.js'], function() { var svgGraph = Viz(\"digraph{ \\n  rankdir=\\\"LR\\\";\\n  size=\\\"4,4\\\";\\n  0;\\n  1;\\n  2;\\n  3;\\n  4;\\n  5;\\n  0 -> 1;\\n  0 -> 2;\\n  0 -> 3;\\n  1 -> 2;\\n  1 -> 4;\\n  2 -> 4;\\n  3 -> 4;\\n  5 -> 0;\\n}\");\n",
       "document.getElementById('Mcda392631ad048068d2157a0b70dfa3b').innerHTML = svgGraph; });\n",
       "\n",
       "</script>"
      ],
      "text/plain": [
       "<jyquickhelper.jspy.render_nb_js_dot.RenderJsDot at 0x1f9cbf5dba8>"
      ]
     },
     "execution_count": 7,
     "metadata": {},
     "output_type": "execute_result"
    }
   ],
   "source": [
    "mat2 = numpy.array(\n",
    "    [\n",
    "        [0, 1, 1, 1, 0, 0],\n",
    "        [0, 0, 1, 0, 1, 0],\n",
    "        [0, 0, 0, 0, 1, 0],\n",
    "        [0, 0, 0, 0, 1, 0],\n",
    "        [0, 0, 0, 0, 0, 0],\n",
    "        [1, 0, 0, 0, 0, 0],\n",
    "    ]\n",
    ")\n",
    "plot_network(mat2)"
   ]
  },
  {
   "cell_type": "code",
   "execution_count": 7,
   "metadata": {},
   "outputs": [
    {
     "data": {
      "text/plain": [
       "[1, 2, 3, 2, 4, 0]"
      ]
     },
     "execution_count": 8,
     "metadata": {},
     "output_type": "execute_result"
    }
   ],
   "source": [
    "order_same_weight(mat2)"
   ]
  },
  {
   "cell_type": "code",
   "execution_count": 8,
   "metadata": {},
   "outputs": [],
   "source": []
  },
  {
   "cell_type": "markdown",
   "metadata": {},
   "source": [
    "### Q2 \n",
    "\n",
    "Une astuce... Une tâche deux fois plus longue, c'est comme si on avait deux tâches, la seconde dépend uniquement de la première ou alors simple tenir compte de la durée lorsqu'on calcule le maximum. Voir la ligne ``########### ligne changée``."
   ]
  },
  {
   "cell_type": "code",
   "execution_count": 9,
   "metadata": {},
   "outputs": [
    {
     "data": {
      "text/plain": [
       "[0, 1, 2, 1, 3]"
      ]
     },
     "execution_count": 10,
     "metadata": {},
     "output_type": "execute_result"
    }
   ],
   "source": [
    "def order_any_weight(mat, durations):\n",
    "    # mat est la matrice précédente\n",
    "    # duractions est la durée de chaque tâche (les durées sont entières)\n",
    "    # matrice la fin de chaque tâche\n",
    "    # au début, on suppose qu'elles se terminent toutes à l'origine des temps\n",
    "    fin = [-1 for i in range(mat.shape[0])]\n",
    "\n",
    "    for j in range(mat.shape[1]):\n",
    "        if mat[:, j].sum() == 0:\n",
    "            # si la tâche j ne dépend d'aucune autre tâche\n",
    "            # alors on peut commencer en 0\n",
    "            fin[j] = 0\n",
    "\n",
    "    update = True\n",
    "    while update:\n",
    "        update = False\n",
    "        for i in range(mat.shape[0]):\n",
    "            for j in range(mat.shape[1]):\n",
    "                if mat[i, j] == 0 or fin[i] == -1:\n",
    "                    continue\n",
    "                # indique la j dépend de la tâche i\n",
    "                new_end = fin[i] + durations[i]  ########### ligne changée\n",
    "                if fin[j] < new_end:\n",
    "                    update = True\n",
    "                    fin[j] = new_end\n",
    "                    # fin[j] = max(fin[j], fin[i] + 1)\n",
    "\n",
    "    return fin\n",
    "\n",
    "\n",
    "order_any_weight(mat, durations=[1, 1, 1, 1, 1])"
   ]
  },
  {
   "cell_type": "code",
   "execution_count": 10,
   "metadata": {},
   "outputs": [
    {
     "data": {
      "text/plain": [
       "[0, 1, 3, 1, 4]"
      ]
     },
     "execution_count": 11,
     "metadata": {},
     "output_type": "execute_result"
    }
   ],
   "source": [
    "order_any_weight(mat, durations=[1, 2, 1, 1, 1])"
   ]
  },
  {
   "cell_type": "code",
   "execution_count": 11,
   "metadata": {},
   "outputs": [],
   "source": []
  }
 ],
 "metadata": {
  "kernelspec": {
   "display_name": "Python 3",
   "language": "python",
   "name": "python3"
  },
  "language_info": {
   "codemirror_mode": {
    "name": "ipython",
    "version": 3
   },
   "file_extension": ".py",
   "mimetype": "text/x-python",
   "name": "python",
   "nbconvert_exporter": "python",
   "pygments_lexer": "ipython3",
   "version": "3.7.2"
  }
 },
 "nbformat": 4,
 "nbformat_minor": 2
}