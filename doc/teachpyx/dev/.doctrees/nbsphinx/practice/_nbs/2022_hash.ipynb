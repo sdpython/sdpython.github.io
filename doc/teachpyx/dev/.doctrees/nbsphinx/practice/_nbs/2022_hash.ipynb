{
 "cells": [
  {
   "cell_type": "markdown",
   "id": "61151cb3",
   "metadata": {},
   "source": [
    "# Répartition, table de hashage\n",
    "\n",
    "Il est facile de répartir des élèves en quatre groupe après les avoir triés par ordre croissant, les élèves dont les noms de famille commencent par *A* dans le premier groupe et ainsi de suite... Cette répartition peut poser un problème éthique parfois. \n",
    "On souhaite écrire une fonction de répartition qui affecte les étudiants dans un groupe parmi quatre :\n",
    "\n",
    "* Cette fonction prend comme entrée le nom et le prénom.\n",
    "* Le résultat ne dépend pas des autres noms présents dans la classe.\n",
    "* Les groupes sont à peu près de taille identique."
   ]
  },
  {
   "cell_type": "code",
   "execution_count": 1,
   "id": "524109c6",
   "metadata": {},
   "outputs": [
    {
     "data": {
      "text/html": [
       "<div id=\"my_id_menu_nb\">run previous cell, wait for 2 seconds</div>\n",
       "<script>\n",
       "function repeat_indent_string(n){\n",
       "    var a = \"\" ;\n",
       "    for ( ; n > 0 ; --n)\n",
       "        a += \"    \";\n",
       "    return a;\n",
       "}\n",
       "// look up into all sections and builds an automated menu //\n",
       "var update_menu_string = function(begin, lfirst, llast, sformat, send, keep_item, begin_format, end_format) {\n",
       "    var anchors = document.getElementsByClassName(\"section\");\n",
       "    if (anchors.length == 0) {\n",
       "        anchors = document.getElementsByClassName(\"text_cell_render rendered_html\");\n",
       "    }\n",
       "    var i,t;\n",
       "    var text_menu = begin;\n",
       "    var text_memo = \"<pre>\\nlength:\" + anchors.length + \"\\n\";\n",
       "    var ind = \"\";\n",
       "    var memo_level = 1;\n",
       "    var href;\n",
       "    var tags = [];\n",
       "    var main_item = 0;\n",
       "    var format_open = 0;\n",
       "    for (i = 0; i <= llast; i++)\n",
       "        tags.push(\"h\" + i);\n",
       "\n",
       "    for (i = 0; i < anchors.length; i++) {\n",
       "        text_memo += \"**\" + anchors[i].id + \"--\\n\";\n",
       "\n",
       "        var child = null;\n",
       "        for(t = 0; t < tags.length; t++) {\n",
       "            var r = anchors[i].getElementsByTagName(tags[t]);\n",
       "            if (r.length > 0) {\n",
       "child = r[0];\n",
       "break;\n",
       "            }\n",
       "        }\n",
       "        if (child == null) {\n",
       "            text_memo += \"null\\n\";\n",
       "            continue;\n",
       "        }\n",
       "        if (anchors[i].hasAttribute(\"id\")) {\n",
       "            // when converted in RST\n",
       "            href = anchors[i].id;\n",
       "            text_memo += \"#1-\" + href;\n",
       "            // passer à child suivant (le chercher)\n",
       "        }\n",
       "        else if (child.hasAttribute(\"id\")) {\n",
       "            // in a notebook\n",
       "            href = child.id;\n",
       "            text_memo += \"#2-\" + href;\n",
       "        }\n",
       "        else {\n",
       "            text_memo += \"#3-\" + \"*\" + \"\\n\";\n",
       "            continue;\n",
       "        }\n",
       "        var title = child.textContent;\n",
       "        var level = parseInt(child.tagName.substring(1,2));\n",
       "\n",
       "        text_memo += \"--\" + level + \"?\" + lfirst + \"--\" + title + \"\\n\";\n",
       "\n",
       "        if ((level < lfirst) || (level > llast)) {\n",
       "            continue ;\n",
       "        }\n",
       "        if (title.endsWith('¶')) {\n",
       "            title = title.substring(0,title.length-1).replace(\"<\", \"&lt;\")\n",
       "         .replace(\">\", \"&gt;\").replace(\"&\", \"&amp;\");\n",
       "        }\n",
       "        if (title.length == 0) {\n",
       "            continue;\n",
       "        }\n",
       "\n",
       "        while (level < memo_level) {\n",
       "            text_menu += end_format + \"</ul>\\n\";\n",
       "            format_open -= 1;\n",
       "            memo_level -= 1;\n",
       "        }\n",
       "        if (level == lfirst) {\n",
       "            main_item += 1;\n",
       "        }\n",
       "        if (keep_item != -1 && main_item != keep_item + 1) {\n",
       "            // alert(main_item + \" - \" + level + \" - \" + keep_item);\n",
       "            continue;\n",
       "        }\n",
       "        while (level > memo_level) {\n",
       "            text_menu += \"<ul>\\n\";\n",
       "            memo_level += 1;\n",
       "        }\n",
       "        text_menu += repeat_indent_string(level-2);\n",
       "        text_menu += begin_format + sformat.replace(\"__HREF__\", href).replace(\"__TITLE__\", title);\n",
       "        format_open += 1;\n",
       "    }\n",
       "    while (1 < memo_level) {\n",
       "        text_menu += end_format + \"</ul>\\n\";\n",
       "        memo_level -= 1;\n",
       "        format_open -= 1;\n",
       "    }\n",
       "    text_menu += send;\n",
       "    //text_menu += \"\\n\" + text_memo;\n",
       "\n",
       "    while (format_open > 0) {\n",
       "        text_menu += end_format;\n",
       "        format_open -= 1;\n",
       "    }\n",
       "    return text_menu;\n",
       "};\n",
       "var update_menu = function() {\n",
       "    var sbegin = \"\";\n",
       "    var sformat = '<a href=\"#__HREF__\">__TITLE__</a>';\n",
       "    var send = \"\";\n",
       "    var begin_format = '<li>';\n",
       "    var end_format = '</li>';\n",
       "    var keep_item = -1;\n",
       "    var text_menu = update_menu_string(sbegin, 2, 4, sformat, send, keep_item,\n",
       "       begin_format, end_format);\n",
       "    var menu = document.getElementById(\"my_id_menu_nb\");\n",
       "    menu.innerHTML=text_menu;\n",
       "};\n",
       "window.setTimeout(update_menu,2000);\n",
       "            </script>"
      ],
      "text/plain": [
       "<IPython.core.display.HTML object>"
      ]
     },
     "execution_count": 2,
     "metadata": {},
     "output_type": "execute_result"
    }
   ],
   "source": [
    "from jyquickhelper import add_notebook_menu\n",
    "\n",
    "add_notebook_menu()"
   ]
  },
  {
   "cell_type": "code",
   "execution_count": 2,
   "id": "8a7f337b",
   "metadata": {},
   "outputs": [],
   "source": [
    "%matplotlib inline"
   ]
  },
  {
   "cell_type": "markdown",
   "id": "de82ac75",
   "metadata": {},
   "source": [
    "## Q1 - première lettre\n",
    "\n",
    "Ecrire une fonction qui retourne la distribution la première lettre de chaque personnage. Est-ce une distribution uniforme ?"
   ]
  },
  {
   "cell_type": "code",
   "execution_count": 3,
   "id": "57c7c276",
   "metadata": {},
   "outputs": [],
   "source": [
    "personnages = \"\"\"\n",
    "Jean Valjean\n",
    "Cosette\n",
    "Fantine\n",
    "Marius Pontmercy\n",
    "Gavroche Thénardier\n",
    "Antagonistes\n",
    "Javert\n",
    "Monsieur Thénardier\n",
    "Madame Thénardier\n",
    "Babet\n",
    "Claquesous\n",
    "Montparnasse\n",
    "Gueulemer\n",
    "Brujon\n",
    "Bamatabois\n",
    "Madame Victurnien\n",
    "Les Amis de l'ABC\n",
    "Enjolras\n",
    "Combeferre\n",
    "Courfeyrac\n",
    "Jean Prouvaire\n",
    "Feuilly\n",
    "Bahorel\n",
    "Lesgle\n",
    "Joly\n",
    "Grantaire\n",
    "Marius Pontmercy\n",
    "Personnages secondaires\n",
    "Amies de Fantine\n",
    "Favourite\n",
    "Dahlia\n",
    "Zéphine\n",
    "Amis de Félix Tholomyès\n",
    "Listolier\n",
    "Fameuil\n",
    "Blachevelle\n",
    "Autres\n",
    "Fauchelevent\n",
    "Mr Mabeuf\n",
    "Azelma Thénardier\n",
    "Toussaint\n",
    "Luc-Esprit Gillenormand\n",
    "Georges Pontmercy\n",
    "Évêque Myriel\n",
    "Baptistine Myriel\n",
    "Mme Magloire\n",
    "Petit-Gervais\n",
    "\"\"\""
   ]
  },
  {
   "cell_type": "markdown",
   "id": "b82c6e09",
   "metadata": {},
   "source": [
    "## Q2 - somme\n",
    "\n",
    "On écrit une fonction qui fait la somme des lettres (avec la fonction [ord](https://docs.python.org/3/library/functions.html?highlight=ord#ord) par exemple). On calcule ensuite la distribution du résultat modulo 26. Est-ce uniforme ?"
   ]
  },
  {
   "cell_type": "code",
   "execution_count": 4,
   "id": "d5de2740",
   "metadata": {},
   "outputs": [],
   "source": []
  },
  {
   "cell_type": "markdown",
   "id": "efceff56",
   "metadata": {},
   "source": [
    "## Q3 - pseudo générateur\n",
    "\n",
    "On s'inspire d'un [générateur congruentiel linéaire](https://fr.wikipedia.org/wiki/G%C3%A9n%C3%A9rateur_congruentiel_lin%C3%A9aire).\n",
    "\n",
    "$X_{n+1} = (22695477 X_n + 1) \\mod 2^{32}$ qu'on transforme en $X_{n+1} = (22695477 (X_n + c_n) + 1) \\mod 2^{32}$ où $c_n$ est la n-énième lettre du nom du personnage.\n",
    "\n",
    "On prendra comme résultat le dernier nombre de la série $X_n >> 16$, le tout module 26. On calcule de nouveau la distribution."
   ]
  },
  {
   "cell_type": "code",
   "execution_count": 5,
   "id": "a27e2e08",
   "metadata": {},
   "outputs": [],
   "source": []
  },
  {
   "cell_type": "markdown",
   "id": "0d09fd46",
   "metadata": {},
   "source": [
    "## Q4 - hash\n",
    "\n",
    "On utilise un algorithme hashage implémenté par la librairie [hashlib](https://docs.python.org/3/library/hashlib.html). On transforme chaque nom des personnages et on calcule la distribution de la première lettre du *hash* obtenu."
   ]
  },
  {
   "cell_type": "code",
   "execution_count": 6,
   "id": "f5a37c91",
   "metadata": {},
   "outputs": [],
   "source": []
  },
  {
   "cell_type": "markdown",
   "id": "dab17b45",
   "metadata": {},
   "source": [
    "## Q5 - light hash\n",
    "\n",
    "On s'inspire de la page [Hash Functions](http://www.cse.yorku.ca/~oz/hash.html).\n",
    "\n",
    "```c\n",
    "    unsigned long\n",
    "    hash(unsigned char *str)\n",
    "    {\n",
    "        unsigned long hash = 5381;\n",
    "        int c;\n",
    "\n",
    "        while (c = *str++)\n",
    "            hash = ((hash << 5) + hash) + c; /* hash * 33 + c */\n",
    "\n",
    "        return hash;\n",
    "    }\n",
    "```\n",
    "\n",
    "De nouveau calculer la distribution du hash obtenu."
   ]
  },
  {
   "cell_type": "code",
   "execution_count": 7,
   "id": "0d30cd10",
   "metadata": {},
   "outputs": [],
   "source": []
  },
  {
   "cell_type": "markdown",
   "id": "8ce85c58",
   "metadata": {},
   "source": [
    "## Q6 - répartition\n",
    "\n",
    "Imagine une façon de répartir des élèves en 4 groupes."
   ]
  },
  {
   "cell_type": "code",
   "execution_count": 8,
   "id": "1ae07b3f",
   "metadata": {},
   "outputs": [],
   "source": []
  },
  {
   "cell_type": "markdown",
   "id": "8f780015",
   "metadata": {},
   "source": [
    "## Q7 - dictionnaire\n",
    "\n",
    "Les dictionnaires en python s'appuient sur une table de hashage et non sur un arbre de recherche dichotomique (voir aussi son code : [taille de hash](https://github.com/python/cpython/blob/main/Objects/dictobject.c#L38)). Quelle expérience pourrait-on mener pour s'assurer ? Le module [timeit](https://docs.python.org/3/library/timeit.html) pourrait vous mettre sur la voie."
   ]
  },
  {
   "cell_type": "code",
   "execution_count": 9,
   "id": "5e20ff30",
   "metadata": {},
   "outputs": [],
   "source": []
  },
  {
   "cell_type": "markdown",
   "id": "ea06a6e1",
   "metadata": {},
   "source": [
    "## Quelques éléments de réponses"
   ]
  },
  {
   "cell_type": "markdown",
   "id": "90ed3f2a",
   "metadata": {},
   "source": [
    "### Première lettre"
   ]
  },
  {
   "cell_type": "code",
   "execution_count": 10,
   "id": "6ea0c84e",
   "metadata": {},
   "outputs": [
    {
     "data": {
      "text/plain": [
       "{'J': 4,\n",
       " 'C': 4,\n",
       " 'F': 5,\n",
       " 'M': 8,\n",
       " 'G': 4,\n",
       " 'A': 5,\n",
       " 'B': 6,\n",
       " 'L': 4,\n",
       " 'E': 1,\n",
       " 'P': 2,\n",
       " 'D': 1,\n",
       " 'Z': 1,\n",
       " 'T': 1,\n",
       " 'É': 1}"
      ]
     },
     "execution_count": 11,
     "metadata": {},
     "output_type": "execute_result"
    }
   ],
   "source": [
    "d = {}\n",
    "for m in personnages.split(\"\\n\"):\n",
    "    if len(m) == 0:\n",
    "        continue\n",
    "    if m[0] in d:\n",
    "        d[m[0]] += 1\n",
    "    else:\n",
    "        d[m[0]] = 1\n",
    "d"
   ]
  },
  {
   "cell_type": "code",
   "execution_count": 11,
   "id": "ff417ac6",
   "metadata": {},
   "outputs": [
    {
     "data": {
      "image/png": "[encoded data removed]",
      "text/plain": [
       "<Figure size 576x144 with 1 Axes>"
      ]
     },
     "metadata": {
      "needs_background": "light"
     },
     "output_type": "display_data"
    }
   ],
   "source": [
    "import matplotlib.pyplot as plt\n",
    "import pandas\n",
    "\n",
    "\n",
    "def draw(*ds_legends):\n",
    "    fig, ax = plt.subplots(len(ds_legends) // 2, 1, figsize=(8, len(ds_legends)))\n",
    "    i = 0\n",
    "    while i < len(ds_legends):\n",
    "        d = ds_legends[i].copy()\n",
    "        for a in \"abcdefghijklmnopqrstuvwxyz\".upper():\n",
    "            if a not in d:\n",
    "                d[a] = 0\n",
    "        legend = ds_legends[i + 1]\n",
    "        df = (\n",
    "            pandas.DataFrame(d.items(), columns=[\"L\", legend])\n",
    "            .sort_values(\"L\")\n",
    "            .set_index(\"L\")\n",
    "        )\n",
    "        df.plot.bar(ax=ax[i // 2] if len(ds_legends) > 2 else ax)\n",
    "        i += 2\n",
    "    return ax\n",
    "\n",
    "\n",
    "draw(d, \"lettre 1\");"
   ]
  },
  {
   "cell_type": "markdown",
   "id": "8d730fd8",
   "metadata": {},
   "source": [
    "### Somme"
   ]
  },
  {
   "cell_type": "code",
   "execution_count": 12,
   "id": "bef8a69c",
   "metadata": {},
   "outputs": [
    {
     "data": {
      "image/png": "[encoded data removed]",
      "text/plain": [
       "<Figure size 576x288 with 2 Axes>"
      ]
     },
     "metadata": {
      "needs_background": "light"
     },
     "output_type": "display_data"
    }
   ],
   "source": [
    "def somme(mot):\n",
    "    s = 0\n",
    "    for c in mot.lower():\n",
    "        s += ord(c) - ord(\"a\")\n",
    "    return chr(s % 26 + ord(\"A\"))\n",
    "\n",
    "\n",
    "def repartition(fct):\n",
    "    d = {}\n",
    "    for m in personnages.split(\"\\n\"):\n",
    "        if len(m) == 0:\n",
    "            continue\n",
    "        key = fct(m)\n",
    "        if key in d:\n",
    "            d[key] += 1\n",
    "        else:\n",
    "            d[key] = 1\n",
    "    return d\n",
    "\n",
    "\n",
    "d2 = repartition(somme)\n",
    "draw(d, \"lettre 1\", d2, \"somme\");"
   ]
  },
  {
   "cell_type": "markdown",
   "id": "80e4390b",
   "metadata": {},
   "source": [
    "### Pseudo"
   ]
  },
  {
   "cell_type": "code",
   "execution_count": 13,
   "id": "2bb73aae",
   "metadata": {},
   "outputs": [
    {
     "data": {
      "image/png": "[encoded data removed]",
      "text/plain": [
       "<Figure size 576x432 with 3 Axes>"
      ]
     },
     "metadata": {
      "needs_background": "light"
     },
     "output_type": "display_data"
    }
   ],
   "source": [
    "def pseudo(mot):\n",
    "    s = 0\n",
    "    for c in mot.lower():\n",
    "        n = ord(c) - ord(\"a\")\n",
    "        s = (22695477 * (s + n) + 1) % 2**32\n",
    "    return chr(s % 26 + ord(\"A\"))\n",
    "\n",
    "\n",
    "d3 = repartition(pseudo)\n",
    "draw(d, \"lettre 1\", d2, \"somme\", d3, \"pseudo\");"
   ]
  },
  {
   "cell_type": "markdown",
   "id": "4547e7a0",
   "metadata": {},
   "source": [
    "### Hash"
   ]
  },
  {
   "cell_type": "code",
   "execution_count": 14,
   "id": "0b447c75",
   "metadata": {},
   "outputs": [
    {
     "data": {
      "image/png": "[encoded data removed]",
      "text/plain": [
       "<Figure size 576x576 with 4 Axes>"
      ]
     },
     "metadata": {
      "needs_background": "light"
     },
     "output_type": "display_data"
    }
   ],
   "source": [
    "import hashlib\n",
    "\n",
    "\n",
    "def hash(mot):\n",
    "    m = hashlib.sha256()\n",
    "    m.update(mot.encode(\"utf-8\"))\n",
    "    h = m.digest()\n",
    "    s = h[0]\n",
    "    return chr(s % 26 + ord(\"A\"))\n",
    "\n",
    "\n",
    "d4 = repartition(hash)\n",
    "draw(d, \"lettre 1\", d2, \"somme\", d3, \"pseudo\", d4, \"hash\");"
   ]
  },
  {
   "cell_type": "markdown",
   "id": "c31db4b6",
   "metadata": {},
   "source": [
    "### Light hash"
   ]
  },
  {
   "cell_type": "code",
   "execution_count": 15,
   "id": "1589301a",
   "metadata": {},
   "outputs": [
    {
     "data": {
      "image/png": "[encoded data removed]",
      "text/plain": [
       "<Figure size 576x720 with 5 Axes>"
      ]
     },
     "metadata": {
      "needs_background": "light"
     },
     "output_type": "display_data"
    }
   ],
   "source": [
    "def light_hash(mot):\n",
    "    mot = mot.encode(\"utf-8\")\n",
    "    x = 5381\n",
    "    for c in mot:\n",
    "        x = ((x << 5) + x) + c\n",
    "    return chr(x % 26 + ord(\"A\"))\n",
    "\n",
    "\n",
    "d5 = repartition(light_hash)\n",
    "draw(d, \"lettre 1\", d2, \"somme\", d3, \"pseudo\", d4, \"hash\", d5, \"light hash\");"
   ]
  },
  {
   "cell_type": "markdown",
   "id": "c587f86f",
   "metadata": {},
   "source": [
    "### Q7\n",
    "\n",
    "Il faut mesurer l'accès à des éléments d'un dictionnaire de différentes tailles."
   ]
  },
  {
   "cell_type": "code",
   "execution_count": 16,
   "id": "770f0eae",
   "metadata": {},
   "outputs": [],
   "source": []
  }
 ],
 "metadata": {
  "kernelspec": {
   "display_name": "Python 3 (ipykernel)",
   "language": "python",
   "name": "python3"
  },
  "language_info": {
   "codemirror_mode": {
    "name": "ipython",
    "version": 3
   },
   "file_extension": ".py",
   "mimetype": "text/x-python",
   "name": "python",
   "nbconvert_exporter": "python",
   "pygments_lexer": "ipython3",
   "version": "3.10.5"
  }
 },
 "nbformat": 4,
 "nbformat_minor": 5
}
