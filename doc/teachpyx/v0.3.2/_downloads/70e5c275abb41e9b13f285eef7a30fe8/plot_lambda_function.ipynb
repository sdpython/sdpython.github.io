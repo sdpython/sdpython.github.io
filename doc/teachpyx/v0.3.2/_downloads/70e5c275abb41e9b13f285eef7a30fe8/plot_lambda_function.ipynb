{
 "cells": [
  {
   "cell_type": "markdown",
   "metadata": {},
   "source": [
    "\n",
    "# Astuces avec les lambda functions\n",
    "\n",
    "Les [lambda](https://docs.python.org/fr/3/reference/\n",
    "expressions.html?highlight=lambda#lambda)\n",
    "fonctions ont :epkg:`Python` sont assez\n",
    "plutôt esthétiques si ce n'est le mot-clé ``lambda``\n",
    "assez long à écrire. A priori l'écrire est équivalent\n",
    "à celle avec le mot-clé ``def``. On s'en sert parfois aussi\n",
    "pour réduire le nombre d'arguments d'une fonction pour\n",
    "en fixer un.\n"
   ]
  },
  {
   "cell_type": "code",
   "execution_count": null,
   "metadata": {
    "collapsed": false
   },
   "outputs": [],
   "source": [
    "def twoargs(a, b):\n",
    "    return a + b\n",
    "\n",
    "\n",
    "def oneargs(x):\n",
    "    return twoargs(x, 5)\n",
    "\n",
    "\n",
    "print(oneargs(1))\n",
    "\n",
    "################\n",
    "# Et dans une liste, cela donne ce qui suit.\n",
    "\n",
    "print([oneargs(a) for a in range(0, 3)])"
   ]
  },
  {
   "cell_type": "markdown",
   "metadata": {},
   "source": [
    "Dans le cas présent, cela revient à écrire cela\n",
    "ce qui est quand même plus simple.\n",
    "\n"
   ]
  },
  {
   "cell_type": "code",
   "execution_count": null,
   "metadata": {
    "collapsed": false
   },
   "outputs": [],
   "source": [
    "fcts = [a + 5 for a in range(0, 3)]\n",
    "print(fcts)"
   ]
  },
  {
   "cell_type": "markdown",
   "metadata": {},
   "source": [
    "Ou encore...\n",
    "\n"
   ]
  },
  {
   "cell_type": "code",
   "execution_count": null,
   "metadata": {
    "collapsed": false
   },
   "outputs": [],
   "source": [
    "fcts = [oneargs(a) for a in range(0, 3)]\n",
    "print(fcts)"
   ]
  },
  {
   "cell_type": "markdown",
   "metadata": {},
   "source": [
    "Les lambdas fonctions sont aussi utilisées pour\n",
    "retarder l'exécution d'un calcul.\n",
    "La première liste définit le calcul dans des\n",
    "lambda fonctions. La seconde les exécute.\n",
    "\n"
   ]
  },
  {
   "cell_type": "code",
   "execution_count": null,
   "metadata": {
    "collapsed": false
   },
   "outputs": [],
   "source": [
    "fcts_a = [lambda: oneargs(a) for a in range(0, 3)]\n",
    "fcts_b = [f() for f in fcts_a]\n",
    "print(fcts_b)"
   ]
  },
  {
   "cell_type": "markdown",
   "metadata": {},
   "source": [
    "Le résultat est constant ce qui n'est pas\n",
    "celui souhaité. Les valeurs sont constante.\n",
    "Les fonctions sont exécutées mais l'argument\n",
    "est le même pour tous car elles partagent les\n",
    "mêmes variables locales. Au moment de leur\n",
    "exécution, la variable a ne change plus de valeur.\n",
    "Une solution consiste à conserver chaque valeur\n",
    "distincte de a dans une valeur par défaut.\n",
    "\n"
   ]
  },
  {
   "cell_type": "code",
   "execution_count": null,
   "metadata": {
    "collapsed": false
   },
   "outputs": [],
   "source": [
    "fcts_a = [lambda a=a: oneargs(a) for a in range(0, 3)]\n",
    "fcts_b = [f() for f in fcts_a]\n",
    "print(fcts_b)"
   ]
  },
  {
   "cell_type": "markdown",
   "metadata": {},
   "source": [
    ":epkg:`pylint` fait surgir le warning suivant quand cela arrive\n",
    "``W0640: Cell variable v defined in loop``.\n",
    "\n"
   ]
  }
 ],
 "metadata": {
  "kernelspec": {
   "display_name": "Python 3",
   "language": "python",
   "name": "python3"
  },
  "language_info": {
   "codemirror_mode": {
    "name": "ipython",
    "version": 3
   },
   "file_extension": ".py",
   "mimetype": "text/x-python",
   "name": "python",
   "nbconvert_exporter": "python",
   "pygments_lexer": "ipython3",
   "version": "3.10.6"
  }
 },
 "nbformat": 4,
 "nbformat_minor": 0
}
