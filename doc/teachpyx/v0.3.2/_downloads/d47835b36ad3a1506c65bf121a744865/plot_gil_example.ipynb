{
 "cells": [
  {
   "cell_type": "markdown",
   "metadata": {},
   "source": [
    "\n",
    "\n",
    "======\n",
    "Le GIL\n",
    "====== \n",
    "\n",
    "Le GIL ou [Global Interpreter Lock](https://en.wikipedia.org/wiki/Global_interpreter_lock)\n",
    "est un verrou unique auquel l'interpréteur Python fait appel constamment \n",
    "pour protéger tous les objets qu'il manipule contre des accès concurrentiels.\n",
    "\n",
    "# Deux listes en parallel\n",
    " \n",
    "On mesure le temps nécessaire pour créer deux liste et comparer ce\n",
    "temps avec celui que cela prendrait en parallèle.\n"
   ]
  },
  {
   "cell_type": "code",
   "execution_count": null,
   "metadata": {
    "collapsed": false
   },
   "outputs": [],
   "source": [
    "import timeit\n",
    "import time\n",
    "from concurrent.futures import ThreadPoolExecutor\n",
    "\n",
    "\n",
    "def create_list(n):\n",
    "    res = []\n",
    "    for i in range(n):\n",
    "        res.append(i)\n",
    "    return res\n",
    "\n",
    "\n",
    "timeit.timeit(\"create_list(100000)\", globals=globals(), number=100)"
   ]
  },
  {
   "cell_type": "markdown",
   "metadata": {},
   "source": [
    "En parallèle avec le module [concurrent.futures](https://docs.python.org/3/library/concurrent.futures.html)\n",
    "et deux appels à la même fonction.\n",
    "\n"
   ]
  },
  {
   "cell_type": "code",
   "execution_count": null,
   "metadata": {
    "collapsed": false
   },
   "outputs": [],
   "source": [
    "def run2(nb):\n",
    "    with ThreadPoolExecutor(max_workers=2) as executor:\n",
    "        for res in executor.map(create_list, [nb, nb + 1]):\n",
    "            pass\n",
    "\n",
    "\n",
    "timeit.timeit(\"run2(100000)\", globals=globals(), number=100)"
   ]
  },
  {
   "cell_type": "markdown",
   "metadata": {},
   "source": [
    "C'est plus long que si les calculs étaient lancés les uns après les autres.\n",
    "Ce temps est perdu à synchroniser les deux threads bien que les\n",
    "deux boucles n'aient rien à échanger. Chaque thread passe son\n",
    "temps à attendre que l'autre ait terminé de mettre à jour sa\n",
    "liste et le *GIL* impose que ces mises à jour aient lieu une après l'autre.\n",
    "\n",
    "# Un autre scénario\n",
    "\n",
    "Au lieu de mettre à jour une liste, on va lancer un thread\n",
    "qui ne fait rien qu'attendre. Donc le *GIL* n'est pas impliqué.\n",
    "\n"
   ]
  },
  {
   "cell_type": "code",
   "execution_count": null,
   "metadata": {
    "collapsed": false
   },
   "outputs": [],
   "source": [
    "def attendre(t=0.009):\n",
    "    time.sleep(t)\n",
    "    return None\n",
    "\n",
    "\n",
    "timeit.timeit(\"attendre()\", globals=globals(), number=100)"
   ]
  },
  {
   "cell_type": "code",
   "execution_count": null,
   "metadata": {
    "collapsed": false
   },
   "outputs": [],
   "source": [
    "def run3(t):\n",
    "    with ThreadPoolExecutor(max_workers=2) as executor:\n",
    "        for res in executor.map(attendre, [t, t + 0.001]):\n",
    "            pass\n",
    "\n",
    "\n",
    "timeit.timeit(\"run3(0.009)\", globals=globals(), number=100)"
   ]
  },
  {
   "cell_type": "markdown",
   "metadata": {},
   "source": [
    "Les deux attentes se font en parallèle car le temps moyen est\n",
    "significativement inférieur à la somme des deux attentes.\n",
    "\n"
   ]
  }
 ],
 "metadata": {
  "kernelspec": {
   "display_name": "Python 3",
   "language": "python",
   "name": "python3"
  },
  "language_info": {
   "codemirror_mode": {
    "name": "ipython",
    "version": 3
   },
   "file_extension": ".py",
   "mimetype": "text/x-python",
   "name": "python",
   "nbconvert_exporter": "python",
   "pygments_lexer": "ipython3",
   "version": "3.10.6"
  }
 },
 "nbformat": 4,
 "nbformat_minor": 0
}
