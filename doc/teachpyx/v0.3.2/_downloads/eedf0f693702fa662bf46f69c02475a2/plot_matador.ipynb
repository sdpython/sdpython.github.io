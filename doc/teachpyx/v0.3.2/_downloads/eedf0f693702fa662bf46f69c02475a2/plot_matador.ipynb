{
 "cells": [
  {
   "cell_type": "markdown",
   "metadata": {},
   "source": [
    "\n",
    "# Mathador, énigme à 4 opérations\n",
    "\n",
    "Un petit problème de chiffre, le\n",
    "[mathador](https://maitressedelaforet.fr/le-mathador-rituel-de-calcul-mental/)\n",
    "consiste à trouver un montant à partir de 5 nombres et 4 opérations.\n",
    "\n",
    "Example : composer 28 avec 17, 12, 3, 2, 1 et les opérations `*`, `+`, `/`, `-`.\n",
    "\n",
    "Il faut tout utiliser.\n",
    "\n",
    "C'est plus simple avec un programme, non ?\n",
    "\n",
    "J'ai fait ça très vite. Il y a sans doute mieux.\n"
   ]
  },
  {
   "cell_type": "code",
   "execution_count": null,
   "metadata": {
    "collapsed": false
   },
   "outputs": [],
   "source": [
    "from itertools import permutations\n",
    "\n",
    "nombres = [17, 12, 3, 2, 1]\n",
    "ops = [\"+\", \"-\", \"/\", \"*\"]\n",
    "total = 28\n",
    "\n",
    "solution = []\n",
    "parentheses = [(i, j) for i in range(0, 3) for j in range(i + 1, 4)]\n",
    "\n",
    "# permutations sur les nombres\n",
    "for pn in permutations(nombres):\n",
    "    # permutations sur les opérations\n",
    "    for po in permutations(ops):\n",
    "        exp = []\n",
    "        for d, o in zip(pn, po):\n",
    "            exp.append(str(d))\n",
    "            exp.append(str(o))\n",
    "        exp.append(str(pn[-1]))\n",
    "\n",
    "        # 0 parenthèse\n",
    "        text = \"\".join(exp)\n",
    "        res = eval(text)\n",
    "        if res == 28:\n",
    "            print(res)\n",
    "            solution.append(res)\n",
    "\n",
    "        # 2 parenthèses\n",
    "        for i, j in parentheses:\n",
    "            exp[i * 2] = \"(\" + exp[i * 2]\n",
    "            exp[j * 2] = exp[j * 2] + \")\"\n",
    "            text = \"\".join(exp)\n",
    "            try:\n",
    "                res = eval(text)\n",
    "                if res == 28:\n",
    "                    print(res, text)\n",
    "                    solution.append(res)\n",
    "            except ZeroDivisionError:\n",
    "                pass\n",
    "            exp[i * 2] = exp[i * 2][1:]\n",
    "            exp[j * 2] = exp[j * 2][:-1]\n",
    "\n",
    "        # 4 parenthèses\n",
    "        for a, b in parentheses:\n",
    "            exp[a * 2] = \"(\" + exp[a * 2]\n",
    "            exp[b * 2] = exp[b * 2] + \")\"\n",
    "            for c, d in parentheses:\n",
    "                exp[c * 2] = \"(\" + exp[c * 2]\n",
    "                exp[d * 2] = exp[d * 2] + \")\"\n",
    "                text = \"\".join(exp)\n",
    "                try:\n",
    "                    res = eval(text)\n",
    "                    if res == 28:\n",
    "                        print(res, text)\n",
    "                        solution.append(res)\n",
    "                except ZeroDivisionError:\n",
    "                    pass\n",
    "                exp[c * 2] = exp[c * 2][1:]\n",
    "                exp[d * 2] = exp[d * 2][:-1]\n",
    "            exp[a * 2] = exp[a * 2][1:]\n",
    "            exp[b * 2] = exp[b * 2][:-1]\n",
    "\n",
    "        # 6 parenthèses..."
   ]
  }
 ],
 "metadata": {
  "kernelspec": {
   "display_name": "Python 3",
   "language": "python",
   "name": "python3"
  },
  "language_info": {
   "codemirror_mode": {
    "name": "ipython",
    "version": 3
   },
   "file_extension": ".py",
   "mimetype": "text/x-python",
   "name": "python",
   "nbconvert_exporter": "python",
   "pygments_lexer": "ipython3",
   "version": "3.10.6"
  }
 },
 "nbformat": 4,
 "nbformat_minor": 0
}
