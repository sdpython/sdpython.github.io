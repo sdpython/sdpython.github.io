{
  "cells": [
    {
      "cell_type": "markdown",
      "metadata": {},
      "source": [
        "\n\n# Export a model using a custom type as input\n\nWe will a class used in many model: :class:`transformers.cache_utils.DynamicCache`.\n\n## First try: it fails\n"
      ]
    },
    {
      "cell_type": "code",
      "execution_count": null,
      "metadata": {
        "collapsed": false
      },
      "outputs": [],
      "source": [
        "import torch\nfrom onnx_diagnostic.helpers.cache_helper import make_dynamic_cache\n\n\nclass ModelTakingDynamicCacheAsInput(torch.nn.Module):\n    def forward(self, x, dc):\n        kc = torch.cat(dc.key_cache, axis=1)\n        vc = torch.cat(dc.value_cache, axis=1)\n        y = (kc + vc).sum(axis=2, keepdim=True)\n        return x + y"
      ]
    },
    {
      "cell_type": "markdown",
      "metadata": {},
      "source": [
        "Let's check the model runs.\n\n"
      ]
    },
    {
      "cell_type": "code",
      "execution_count": null,
      "metadata": {
        "collapsed": false
      },
      "outputs": [],
      "source": [
        "x = torch.randn(3, 8, 7, 1)\ncache = make_dynamic_cache([(torch.ones((3, 8, 5, 6)), (torch.ones((3, 8, 5, 6)) * 2))])\n\nmodel = ModelTakingDynamicCacheAsInput()\nexpected = model(x, cache)\n\nprint(expected.shape)"
      ]
    },
    {
      "cell_type": "markdown",
      "metadata": {},
      "source": [
        "Let's check it works with other shapes.\n\n"
      ]
    },
    {
      "cell_type": "code",
      "execution_count": null,
      "metadata": {
        "collapsed": false
      },
      "outputs": [],
      "source": [
        "x = torch.randn(4, 8, 7, 1)\ncache = make_dynamic_cache([(torch.ones((4, 8, 11, 6)), (torch.ones((4, 8, 11, 6)) * 2))])\n\nmodel = ModelTakingDynamicCacheAsInput()\nexpected = model(x, cache)\n\nprint(expected.shape)"
      ]
    },
    {
      "cell_type": "markdown",
      "metadata": {},
      "source": [
        "Let's export.\n\n"
      ]
    },
    {
      "cell_type": "code",
      "execution_count": null,
      "metadata": {
        "collapsed": false
      },
      "outputs": [],
      "source": [
        "ep = torch.export.export(model, (x, cache))\nprint(ep.graph)"
      ]
    },
    {
      "cell_type": "markdown",
      "metadata": {},
      "source": [
        "With dynamic shapes now.\n\n"
      ]
    },
    {
      "cell_type": "code",
      "execution_count": null,
      "metadata": {
        "collapsed": false
      },
      "outputs": [],
      "source": [
        "batch = torch.export.Dim(\"batch\", min=1, max=1024)\nclength = torch.export.Dim(\"clength\", min=1, max=1024)\n\ntry:\n    ep = torch.export.export(\n        model,\n        (x, cache),\n        dynamic_shapes=({0: batch}, [[{0: batch, 2: clength}], [{0: batch, 2: clength}]]),\n    )\n    print(ep.graph)\n    failed = False\nexcept Exception as e:\n    print(\"FAILS:\", e)\n    failed = True"
      ]
    },
    {
      "cell_type": "markdown",
      "metadata": {},
      "source": [
        "If it failed, let's understand why.\n\n"
      ]
    },
    {
      "cell_type": "code",
      "execution_count": null,
      "metadata": {
        "collapsed": false
      },
      "outputs": [],
      "source": [
        "if failed:\n\n    class Model(torch.nn.Module):\n        def forward(self, dc):\n            kc = dc.key_cache[0]\n            vc = dc.value_cache[0]\n            return kc + vc\n\n    ep = torch.export.export(\n        Model(),\n        (cache,),\n        dynamic_shapes={\"dc\": [[{0: batch, 2: clength}], [{0: batch, 2: clength}]]},\n    )\n    for node in ep.graph.nodes:\n        print(f\"{node.name} -> {node.meta.get('val', '-')}\")\n        # it prints out ``dc_key_cache_0 -> FakeTensor(..., size=(4, 8, 11, 6))``\n        # but it should be ``dc_key_cache_0 -> FakeTensor(..., size=(s0, 8, s1, 6))``"
      ]
    }
  ],
  "metadata": {
    "kernelspec": {
      "display_name": "Python 3",
      "language": "python",
      "name": "python3"
    },
    "language_info": {
      "codemirror_mode": {
        "name": "ipython",
        "version": 3
      },
      "file_extension": ".py",
      "mimetype": "text/x-python",
      "name": "python",
      "nbconvert_exporter": "python",
      "pygments_lexer": "ipython3",
      "version": "3.12.9"
    }
  },
  "nbformat": 4,
  "nbformat_minor": 0
}