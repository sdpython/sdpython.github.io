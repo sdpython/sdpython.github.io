{
  "cells": [
    {
      "cell_type": "markdown",
      "metadata": {},
      "source": [
        "\n\n# 102: Examples with onnxscript\n\nThis script gathers a couple of examples based on :epkg:`onnxscript`.\n\n## Custom Opset and Local Functions\n"
      ]
    },
    {
      "cell_type": "code",
      "execution_count": null,
      "metadata": {
        "collapsed": false
      },
      "outputs": [],
      "source": [
        "import onnx\nimport onnxscript\n\nop = onnxscript.opset18\nmy_opset = onnxscript.values.Opset(\"m_opset.ml\", version=1)\n\n\n@onnxscript.script(my_opset, default_opset=op)\ndef do_this(x, y):\n    return op.Add(x, y)\n\n\n@onnxscript.script(my_opset, default_opset=op)\ndef do_that(x, y):\n    return op.Sub(x, y)\n\n\n@onnxscript.script(my_opset, default_opset=op)\ndef do_this_or_do_that(x, y, do_this_or_do_that: bool = True):\n    if do_this_or_do_that:\n        ret = my_opset.do_this(x, y)\n    else:\n        ret = my_opset.do_that(x, y)\n    return ret"
      ]
    },
    {
      "cell_type": "markdown",
      "metadata": {},
      "source": [
        "Then we export the model into ONNX.\n\n"
      ]
    },
    {
      "cell_type": "code",
      "execution_count": null,
      "metadata": {
        "collapsed": false
      },
      "outputs": [],
      "source": [
        "proto = do_this_or_do_that.to_model_proto(functions=[do_this, do_that])\nprint(onnx.printer.to_text(proto))"
      ]
    }
  ],
  "metadata": {
    "kernelspec": {
      "display_name": "Python 3",
      "language": "python",
      "name": "python3"
    },
    "language_info": {
      "codemirror_mode": {
        "name": "ipython",
        "version": 3
      },
      "file_extension": ".py",
      "mimetype": "text/x-python",
      "name": "python",
      "nbconvert_exporter": "python",
      "pygments_lexer": "ipython3",
      "version": "3.12.3"
    }
  },
  "nbformat": 4,
  "nbformat_minor": 0
}