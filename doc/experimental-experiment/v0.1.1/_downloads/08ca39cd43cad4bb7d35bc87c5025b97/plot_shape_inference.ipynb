{
  "cells": [
    {
      "cell_type": "markdown",
      "metadata": {},
      "source": [
        "\n\n# 201: Better shape inference\n\n\n## A simple model\n"
      ]
    },
    {
      "cell_type": "code",
      "execution_count": null,
      "metadata": {
        "collapsed": false
      },
      "outputs": [],
      "source": [
        "import numpy as np\nimport onnx\nimport onnx.helper as oh\nimport onnx.shape_inference as osh\nfrom onnx.reference import ReferenceEvaluator\nfrom experimental_experiment.xshape.shape_builder_impl import BasicShapeBuilder\n\nmodel = oh.make_model(\n    oh.make_graph(\n        [\n            oh.make_node(\"Concat\", [\"X\", \"Y\"], [\"xy\"], axis=1),\n            oh.make_node(\"Split\", [\"xy\"], [\"S1\", \"S2\"], axis=1, num_outputs=2),\n            oh.make_node(\"Concat\", [\"S2\", \"S1\"], [\"zs\"], axis=1),\n            oh.make_node(\"Relu\", [\"zs\"], [\"Z\"]),\n        ],\n        \"dummy\",\n        [\n            oh.make_tensor_value_info(\"X\", onnx.TensorProto.FLOAT, [\"a\", \"b\"]),\n            oh.make_tensor_value_info(\"Y\", onnx.TensorProto.FLOAT, [\"a\", \"c\"]),\n        ],\n        [oh.make_tensor_value_info(\"Z\", onnx.TensorProto.FLOAT, [\"a\", \"e\"])],\n    ),\n    opset_imports=[oh.make_opsetid(\"\", 18)],\n    ir_version=9,\n)\n\nfeeds = dict(X=np.random.rand(3, 4).astype(np.float32), Y=np.random.rand(3, 6).astype(np.float32))\nref = ReferenceEvaluator(model)\nexpected = ref.run(None, feeds)"
      ]
    },
    {
      "cell_type": "markdown",
      "metadata": {},
      "source": [
        "## Classic Shape Inference\n\n"
      ]
    },
    {
      "cell_type": "code",
      "execution_count": null,
      "metadata": {
        "collapsed": false
      },
      "outputs": [],
      "source": [
        "model2 = osh.infer_shapes(model)\n\nfor info in model2.graph.value_info:\n    t = info.type.tensor_type\n    shape = tuple(d.dim_param or d.dim_value for d in t.shape.dim)\n    print(f\"{info.name}: {t.elem_type}:{shape}\")"
      ]
    },
    {
      "cell_type": "markdown",
      "metadata": {},
      "source": [
        "## Basic Shape Inference\n\nThe algorithm infer shapes wherever the output shape of a node does not\ndepend on the content even. The evaluation relies on :mod:`ast`.\n\n"
      ]
    },
    {
      "cell_type": "code",
      "execution_count": null,
      "metadata": {
        "collapsed": false
      },
      "outputs": [],
      "source": [
        "builder = BasicShapeBuilder()\nbuilder.run_model(model)\nbuilder.update_shapes(model)\n\nfor info in model.graph.value_info:\n    t = info.type.tensor_type\n    shape = tuple(d.dim_param or d.dim_value for d in t.shape.dim)\n    print(f\"{info.name}: {t.elem_type}:{shape}\")"
      ]
    },
    {
      "cell_type": "markdown",
      "metadata": {},
      "source": [
        "## Evaluate Expressions\n\nWe can also evaluate every expression without evaluating the model itself.\n\n"
      ]
    },
    {
      "cell_type": "code",
      "execution_count": null,
      "metadata": {
        "collapsed": false
      },
      "outputs": [],
      "source": [
        "dimensions = dict(a=3, b=4, c=6)\nfor name in [\"X\", \"Y\", \"xy\", \"S1\", \"S2\", \"zs\", \"Z\"]:\n    sh = builder.evaluate_shape(name, dimensions)\n    print(f\"shape of {name!r} is {sh}\")"
      ]
    }
  ],
  "metadata": {
    "kernelspec": {
      "display_name": "Python 3",
      "language": "python",
      "name": "python3"
    },
    "language_info": {
      "codemirror_mode": {
        "name": "ipython",
        "version": 3
      },
      "file_extension": ".py",
      "mimetype": "text/x-python",
      "name": "python",
      "nbconvert_exporter": "python",
      "pygments_lexer": "ipython3",
      "version": "3.12.9"
    }
  },
  "nbformat": 4,
  "nbformat_minor": 0
}