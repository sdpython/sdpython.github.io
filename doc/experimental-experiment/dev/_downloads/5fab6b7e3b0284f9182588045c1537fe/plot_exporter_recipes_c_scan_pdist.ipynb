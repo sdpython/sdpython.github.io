{
  "cells": [
    {
      "cell_type": "markdown",
      "metadata": {},
      "source": [
        "\n\n# to_onnx and a model with a loop (scan)\n\nControl flow cannot be exported with a change.\nThe code of the model can be changed or patched\nto introduce function :func:`torch.ops.higher_order.scan`.\n\n## Pairwise Distance\n\nWe appy loops to the pairwise distances (:class:`torch.nn.PairwiseDistance`).\n"
      ]
    },
    {
      "cell_type": "code",
      "execution_count": null,
      "metadata": {
        "collapsed": false
      },
      "outputs": [],
      "source": [
        "import scipy.spatial.distance as spd\nimport torch\nfrom onnx_array_api.plotting.graphviz_helper import plot_dot\nfrom experimental_experiment.helpers import pretty_onnx\nfrom experimental_experiment.torch_interpreter import to_onnx\n\n\nclass ModuleWithControlFlowLoop(torch.nn.Module):\n    def forward(self, x, y):\n        dist = torch.empty((x.shape[0], y.shape[0]), dtype=x.dtype)\n        for i in range(x.shape[0]):\n            sub = y - x[i : i + 1]\n            d = torch.sqrt((sub * sub).sum(axis=1))\n            dist[i, :] = d\n        return dist\n\n\nmodel = ModuleWithControlFlowLoop()\nx = torch.randn(3, 4)\ny = torch.randn(5, 4)\npwd = spd.cdist(x.numpy(), y.numpy())\nexpected = torch.from_numpy(pwd)\nprint(f\"shape={pwd.shape}, discrepancies={torch.abs(expected - model(x,y)).max()}\")"
      ]
    },
    {
      "cell_type": "markdown",
      "metadata": {},
      "source": [
        ":func:`torch.export.export` works because it unrolls the loop.\nIt works if the input size never change.\n\n"
      ]
    },
    {
      "cell_type": "code",
      "execution_count": null,
      "metadata": {
        "collapsed": false
      },
      "outputs": [],
      "source": [
        "ep = torch.export.export(model, (x, y))\nprint(ep.graph)"
      ]
    },
    {
      "cell_type": "markdown",
      "metadata": {},
      "source": [
        "However, with dynamic shapes, that's another story.\n\n"
      ]
    },
    {
      "cell_type": "code",
      "execution_count": null,
      "metadata": {
        "collapsed": false
      },
      "outputs": [],
      "source": [
        "x_rows = torch.export.Dim(\"x_rows\")\ny_rows = torch.export.Dim(\"y_rows\")\ndim = torch.export.Dim(\"dim\")\ntry:\n    ep = torch.export.export(\n        model, (x, y), dynamic_shapes={\"x\": {0: x_rows, 1: dim}, \"y\": {0: y_rows, 1: dim}}\n    )\n    print(ep.graph)\nexcept Exception as e:\n    print(e)"
      ]
    },
    {
      "cell_type": "markdown",
      "metadata": {},
      "source": [
        "## Suggested Patch\n\nWe need to rewrite the module with function\n:func:`torch.ops.higher_order.scan`.\n\n"
      ]
    },
    {
      "cell_type": "code",
      "execution_count": null,
      "metadata": {
        "collapsed": false
      },
      "outputs": [],
      "source": [
        "def dist(y: torch.Tensor, scanned_x: torch.Tensor):\n    sub = y - scanned_x.reshape((1, -1))\n    sq = sub * sub\n    rd = torch.sqrt(sq.sum(axis=1))\n    # clone --> UnsupportedAliasMutationException:\n    # Combine_fn might be aliasing the input!\n    return [y.clone(), rd]\n\n\nclass ModuleWithControlFlowLoopScan(torch.nn.Module):\n\n    def forward(self, x, y):\n        carry, out = torch.ops.higher_order.scan(\n            dist,\n            [y],\n            [x],\n            dim=0,\n            reverse=False,\n            additional_inputs=[],\n        )\n        return out\n\n\nmodel = ModuleWithControlFlowLoopScan()\nprint(f\"shape={pwd.shape}, discrepancies={torch.abs(expected - model(x,y)).max()}\")"
      ]
    },
    {
      "cell_type": "markdown",
      "metadata": {},
      "source": [
        "That works. Let's export again.\n\n"
      ]
    },
    {
      "cell_type": "code",
      "execution_count": null,
      "metadata": {
        "collapsed": false
      },
      "outputs": [],
      "source": [
        "ep = torch.export.export(\n    model, (x, y), dynamic_shapes={\"x\": {0: x_rows, 1: dim}, \"y\": {0: y_rows, 1: dim}}\n)\nprint(ep.graph)"
      ]
    },
    {
      "cell_type": "markdown",
      "metadata": {},
      "source": [
        "Let's export again with ONNX.\n\n"
      ]
    },
    {
      "cell_type": "code",
      "execution_count": null,
      "metadata": {
        "collapsed": false
      },
      "outputs": [],
      "source": [
        "onx = to_onnx(\n    model, (x, y), dynamic_shapes={\"x\": {0: x_rows, 1: dim}, \"y\": {0: y_rows, 1: dim}}\n)\nprint(pretty_onnx(onx))"
      ]
    },
    {
      "cell_type": "markdown",
      "metadata": {},
      "source": [
        "We can also inline the local function.\n\n"
      ]
    },
    {
      "cell_type": "code",
      "execution_count": null,
      "metadata": {
        "collapsed": false
      },
      "outputs": [],
      "source": [
        "onx = to_onnx(\n    model,\n    (x, y),\n    dynamic_shapes={\"x\": {0: x_rows, 1: dim}, \"y\": {0: y_rows, 1: dim}},\n    inline=True,\n)\nprint(pretty_onnx(onx))"
      ]
    },
    {
      "cell_type": "markdown",
      "metadata": {},
      "source": [
        "And visually.\n\n"
      ]
    },
    {
      "cell_type": "code",
      "execution_count": null,
      "metadata": {
        "collapsed": false
      },
      "outputs": [],
      "source": [
        "plot_dot(onx)"
      ]
    }
  ],
  "metadata": {
    "kernelspec": {
      "display_name": "Python 3",
      "language": "python",
      "name": "python3"
    },
    "language_info": {
      "codemirror_mode": {
        "name": "ipython",
        "version": 3
      },
      "file_extension": ".py",
      "mimetype": "text/x-python",
      "name": "python",
      "nbconvert_exporter": "python",
      "pygments_lexer": "ipython3",
      "version": "3.10.12"
    }
  },
  "nbformat": 4,
  "nbformat_minor": 0
}