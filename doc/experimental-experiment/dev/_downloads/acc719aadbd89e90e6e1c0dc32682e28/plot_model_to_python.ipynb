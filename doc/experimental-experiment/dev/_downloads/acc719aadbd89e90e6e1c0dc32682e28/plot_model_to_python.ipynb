{
  "cells": [
    {
      "cell_type": "markdown",
      "metadata": {},
      "source": [
        "\n\n# Playground for big optimization pattern\n\n# %%\n# Write the code producing the model\n# ==================================\n"
      ]
    },
    {
      "cell_type": "code",
      "execution_count": null,
      "metadata": {
        "collapsed": false
      },
      "outputs": [],
      "source": [
        "import numpy as np\nimport onnx\nimport onnx.helper as oh\nimport onnx.numpy_helper as onh\nfrom onnx_array_api.translate_api import translate\nfrom experimental_experiment.xbuilder.reverse_graph_builder import to_graph_pattern_matching\n\nonx = oh.make_model(\n    oh.make_graph(\n        [\n            oh.make_node(\"Cast\", [\"v0_0\"], [\"x1\"], to=onnx.TensorProto.FLOAT),\n            oh.make_node(\"Cast\", [\"v0_0\"], [\"x2\"], to=onnx.TensorProto.FLOAT),\n            oh.make_node(\"Flatten\", [\"x1\"], [\"f1\"], axis=0),\n            oh.make_node(\"Flatten\", [\"x2\"], [\"f2\"], axis=0),\n            oh.make_node(\"Concat\", [\"f1\", \"i1\"], [\"c1\"], axis=1),\n            oh.make_node(\"Concat\", [\"f2\", \"i2\"], [\"c2\"], axis=1),\n            oh.make_node(\"Reshape\", [\"c1\", \"s1\"], [\"m1\"]),\n            oh.make_node(\"Reshape\", [\"c2\", \"s2\"], [\"m2\"]),\n            oh.make_node(\"MatMul\", [\"m1\", \"m2\"], [\"mm\"]),\n            oh.make_node(\"Identity\", [\"mm\"], [\"output\"]),\n        ],\n        \"nd\",\n        [oh.make_tensor_value_info(\"v0_0\", onnx.TensorProto.DOUBLE, [5])],\n        [oh.make_tensor_value_info(\"output\", onnx.TensorProto.FLOAT, [2, 3, 3, 3])],\n        [\n            onh.from_array(np.zeros((1, 49)).astype(np.float32), name=\"i1\"),\n            onh.from_array(np.zeros((1, 4)).astype(np.float32), name=\"i2\"),\n            onh.from_array(np.array([2, 3, 3, 3], dtype=np.int64), name=\"s1\"),\n            onh.from_array(np.array([3, 3], dtype=np.int64), name=\"s2\"),\n        ],\n    ),\n    opset_imports=[oh.make_opsetid(\"\", 18)],\n    ir_version=9,\n)\nprint(translate(onx, api=\"onnx-short\"))"
      ]
    },
    {
      "cell_type": "markdown",
      "metadata": {},
      "source": [
        "## Pattern Matching\n\n"
      ]
    },
    {
      "cell_type": "code",
      "execution_count": null,
      "metadata": {
        "collapsed": false
      },
      "outputs": [],
      "source": [
        "pattern = to_graph_pattern_matching(onx)\nprint(pattern)"
      ]
    }
  ],
  "metadata": {
    "kernelspec": {
      "display_name": "Python 3",
      "language": "python",
      "name": "python3"
    },
    "language_info": {
      "codemirror_mode": {
        "name": "ipython",
        "version": 3
      },
      "file_extension": ".py",
      "mimetype": "text/x-python",
      "name": "python",
      "nbconvert_exporter": "python",
      "pygments_lexer": "ipython3",
      "version": "3.12.3"
    }
  },
  "nbformat": 4,
  "nbformat_minor": 0
}