{
  "cells": [
    {
      "cell_type": "markdown",
      "metadata": {},
      "source": [
        "\n\n# 102: First test with ExecuTorch\n\nThis script demonstrates :epkg:`ExecuTorch` on a very simple example,\nsee also :epkg:`ExecuTorch Tutorial`,\n:epkg:`ExecuTorch Runtime Python API Reference`.\n\n## Convert a Model\n"
      ]
    },
    {
      "cell_type": "code",
      "execution_count": null,
      "metadata": {
        "collapsed": false
      },
      "outputs": [],
      "source": [
        "from pathlib import Path\nimport torch\n\ntry:\n    from executorch.exir import (\n        EdgeProgramManager,\n        to_edge,\n        ExecutorchProgramManager,\n        ExecutorchBackendConfig,\n    )\n    from executorch.runtime import Verification, Runtime, Program, Method\n\n    # This line is needed when executing to_backend.\n    from executorch.exir.backend.test.backend_with_compiler_demo import (  # noqa\n        BackendWithCompilerDemo,\n    )\n\n    executorch = True\nexcept ImportError:\n    print(\"executorch is not installed.\")\n    executorch = None\n\n\nclass Neuron(torch.nn.Module):\n    def __init__(self, n_dims: int = 5, n_targets: int = 3):\n        super().__init__()\n        self.linear = torch.nn.Linear(n_dims, n_targets)\n\n    def forward(self, x):\n        z = self.linear(x)\n        return torch.sigmoid(z)\n\n\ninputs = (torch.randn(1, 5),)\nmodel = Neuron()\nexpected = model(*inputs)\nexported_program = torch.export.export(model, inputs)\nprint(exported_program.graph)"
      ]
    },
    {
      "cell_type": "markdown",
      "metadata": {},
      "source": [
        "Conversion to an `EdgeProgramManager`.\n\n"
      ]
    },
    {
      "cell_type": "code",
      "execution_count": null,
      "metadata": {
        "collapsed": false
      },
      "outputs": [],
      "source": [
        "if executorch:\n    edge_program: EdgeProgramManager = to_edge(exported_program)\n    print(f\"edge_program {edge_program!r}\")"
      ]
    },
    {
      "cell_type": "markdown",
      "metadata": {},
      "source": [
        "Serializes.\n\n"
      ]
    },
    {
      "cell_type": "code",
      "execution_count": null,
      "metadata": {
        "collapsed": false
      },
      "outputs": [],
      "source": [
        "if executorch:\n    save_path = \"plot_executorch_101.pte\"\n    executorch_program: ExecutorchProgramManager = edge_program.to_executorch(\n        ExecutorchBackendConfig(\n            passes=[],  # User-defined passes\n        )\n    )\n\n    with open(save_path, \"wb\") as file:\n        file.write(executorch_program.buffer)\n    print(f\"model saved into {save_path!r}\")"
      ]
    },
    {
      "cell_type": "markdown",
      "metadata": {},
      "source": [
        "It can be specialized for a specific backend.\n\n::\n\n      from executorch.exir.backend.backend_api import LoweredBackendModule, to_backend\n\n      lowered_module: LoweredBackendModule = to_backend(\n          \"BackendWithCompilerDemo\",\n          to_be_lowered_module,\n          [],\n      )\n      with open(save_path, \"wb\") as f:\n          f.write(lowered_module.buffer())\n\n"
      ]
    },
    {
      "cell_type": "markdown",
      "metadata": {},
      "source": [
        "## Execution\n\n"
      ]
    },
    {
      "cell_type": "code",
      "execution_count": null,
      "metadata": {
        "collapsed": false
      },
      "outputs": [],
      "source": [
        "if executorch:\n    et_runtime: Runtime = Runtime.get()\n    program: Program = et_runtime.load_program(\n        Path(\"plot_executorch_101.pte\"), verification=Verification.Minimal\n    )\n\n    print(\"Program methods:\", program.method_names)\n    forward: Method = program.load_method(\"forward\")\n\n    outputs = forward.execute(inputs)\n    print(\"forward:\", forward)\n\n###################\n# Let's compare.\n\nif executorch:\n    diff = torch.abs(outputs[0] - expected).max()\n    print(\"max discrepancies:\", diff)"
      ]
    }
  ],
  "metadata": {
    "kernelspec": {
      "display_name": "Python 3",
      "language": "python",
      "name": "python3"
    },
    "language_info": {
      "codemirror_mode": {
        "name": "ipython",
        "version": 3
      },
      "file_extension": ".py",
      "mimetype": "text/x-python",
      "name": "python",
      "nbconvert_exporter": "python",
      "pygments_lexer": "ipython3",
      "version": "3.10.12"
    }
  },
  "nbformat": 4,
  "nbformat_minor": 0
}