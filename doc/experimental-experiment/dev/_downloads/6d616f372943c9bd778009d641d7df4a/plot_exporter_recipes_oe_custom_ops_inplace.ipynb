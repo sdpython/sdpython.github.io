{
  "cells": [
    {
      "cell_type": "markdown",
      "metadata": {},
      "source": [
        "\n\n# torch.onnx.export and a custom operator inplace\n\nThis example shows how to convert a custom operator as defined\nin the tutorial [Python Custom Operators](https://pytorch.org/tutorials/advanced/python_custom_ops.html#python-custom-ops-tutorial).\n\nInplace modification are not supported by onnx.\n\n## A model with a custom ops\n"
      ]
    },
    {
      "cell_type": "code",
      "execution_count": null,
      "metadata": {
        "collapsed": false
      },
      "outputs": [],
      "source": [
        "import numpy as np\nfrom onnx.printer import to_text\nimport onnxscript\nimport torch"
      ]
    },
    {
      "cell_type": "markdown",
      "metadata": {},
      "source": [
        "We define a model with a custom operator.\n\n"
      ]
    },
    {
      "cell_type": "code",
      "execution_count": null,
      "metadata": {
        "collapsed": false
      },
      "outputs": [],
      "source": [
        "@torch.library.custom_op(\"mylib::numpy_sin\", mutates_args={\"output\"}, device_types=\"cpu\")\ndef numpy_sin(x: torch.Tensor, output: torch.Tensor) -> None:\n    assert x.device == output.device\n    assert x.device.type == \"cpu\"\n    x_np = x.numpy()\n    output_np = output.numpy()\n    np.sin(x_np, out=output_np)\n\n\nclass ModuleWithACustomOperator(torch.nn.Module):\n    def forward(self, x):\n        out = torch.zeros(x.shape)\n        numpy_sin(x, out)\n        return out\n\n\nmodel = ModuleWithACustomOperator()"
      ]
    },
    {
      "cell_type": "markdown",
      "metadata": {},
      "source": [
        "Let's check it runs.\n\n"
      ]
    },
    {
      "cell_type": "code",
      "execution_count": null,
      "metadata": {
        "collapsed": false
      },
      "outputs": [],
      "source": [
        "x = torch.randn(1, 3)\nmodel(x)"
      ]
    },
    {
      "cell_type": "markdown",
      "metadata": {},
      "source": [
        "As expected, it does not export.\n\n"
      ]
    },
    {
      "cell_type": "code",
      "execution_count": null,
      "metadata": {
        "collapsed": false
      },
      "outputs": [],
      "source": [
        "try:\n    torch.export.export(model, (x,))\n    raise AssertionError(\"This export should failed unless pytorch now supports this model.\")\nexcept Exception as e:\n    print(e)"
      ]
    },
    {
      "cell_type": "markdown",
      "metadata": {},
      "source": [
        "The exporter fails with the same eror as it expects torch.export.export to work.\n\n"
      ]
    },
    {
      "cell_type": "code",
      "execution_count": null,
      "metadata": {
        "collapsed": false
      },
      "outputs": [],
      "source": [
        "try:\n    torch.onnx.export(model, (x,), dynamo=True)\nexcept Exception as e:\n    print(e)"
      ]
    },
    {
      "cell_type": "markdown",
      "metadata": {},
      "source": [
        "## Registration\n\nThe exporter how to convert the new exporter into ONNX.\nThis must be defined. The first piece is to tell the exporter\nthat the shape of the output is the same as x.\ninput names must be the same.\n\n"
      ]
    },
    {
      "cell_type": "code",
      "execution_count": null,
      "metadata": {
        "collapsed": false
      },
      "outputs": [],
      "source": [
        "@numpy_sin.register_fake\ndef numpy_sin_shape(x, output):\n    pass"
      ]
    },
    {
      "cell_type": "markdown",
      "metadata": {},
      "source": [
        "Next is the conversion to onnx.\n\n"
      ]
    },
    {
      "cell_type": "code",
      "execution_count": null,
      "metadata": {
        "collapsed": false
      },
      "outputs": [],
      "source": [
        "T = str  # a tensor name\n\n\nop = onnxscript.opset18"
      ]
    },
    {
      "cell_type": "markdown",
      "metadata": {},
      "source": [
        "Let's convert the custom op into onnx.\n\n"
      ]
    },
    {
      "cell_type": "code",
      "execution_count": null,
      "metadata": {
        "collapsed": false
      },
      "outputs": [],
      "source": [
        "@onnxscript.script()\ndef numpy_sin_to_onnx(x):\n    return op.Sin(x)"
      ]
    },
    {
      "cell_type": "markdown",
      "metadata": {},
      "source": [
        "And we convert again.\n\n"
      ]
    },
    {
      "cell_type": "code",
      "execution_count": null,
      "metadata": {
        "collapsed": false
      },
      "outputs": [],
      "source": [
        "ep = torch.onnx.export(\n    model,\n    (x,),\n    custom_translation_table={torch.ops.mylib.numpy_sin: numpy_sin_to_onnx},\n    dynamo=True,\n)\nprint(to_text(ep.model_proto))"
      ]
    }
  ],
  "metadata": {
    "kernelspec": {
      "display_name": "Python 3",
      "language": "python",
      "name": "python3"
    },
    "language_info": {
      "codemirror_mode": {
        "name": "ipython",
        "version": 3
      },
      "file_extension": ".py",
      "mimetype": "text/x-python",
      "name": "python",
      "nbconvert_exporter": "python",
      "pygments_lexer": "ipython3",
      "version": "3.10.12"
    }
  },
  "nbformat": 4,
  "nbformat_minor": 0
}