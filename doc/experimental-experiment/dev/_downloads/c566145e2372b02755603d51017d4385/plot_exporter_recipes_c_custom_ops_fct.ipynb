{
  "cells": [
    {
      "cell_type": "markdown",
      "metadata": {},
      "source": [
        "\n\n# to_onnx and a custom operator registered with a function\n\nThis example shows how to convert a custom operator, inspired from\n[Python Custom Operators](https://pytorch.org/tutorials/advanced/python_custom_ops.html#python-custom-ops-tutorial).\n\n## A model with a custom ops\n"
      ]
    },
    {
      "cell_type": "code",
      "execution_count": null,
      "metadata": {
        "collapsed": false
      },
      "outputs": [],
      "source": [
        "from typing import Any, Dict, List\nimport numpy as np\nimport torch\nfrom onnx_array_api.plotting.graphviz_helper import plot_dot\nfrom experimental_experiment.xbuilder import GraphBuilder\nfrom experimental_experiment.helpers import pretty_onnx\nfrom experimental_experiment.torch_interpreter import to_onnx, Dispatcher"
      ]
    },
    {
      "cell_type": "markdown",
      "metadata": {},
      "source": [
        "We define a model with a custom operator.\n\n"
      ]
    },
    {
      "cell_type": "code",
      "execution_count": null,
      "metadata": {
        "collapsed": false
      },
      "outputs": [],
      "source": [
        "def numpy_sin(x: torch.Tensor) -> torch.Tensor:\n    assert x.device.type == \"cpu\"\n    x_np = x.numpy()\n    return torch.from_numpy(np.sin(x_np))\n\n\nclass ModuleWithACustomOperator(torch.nn.Module):\n    def forward(self, x):\n        return numpy_sin(x)\n\n\nmodel = ModuleWithACustomOperator()"
      ]
    },
    {
      "cell_type": "markdown",
      "metadata": {},
      "source": [
        "Let's check it runs.\n\n"
      ]
    },
    {
      "cell_type": "code",
      "execution_count": null,
      "metadata": {
        "collapsed": false
      },
      "outputs": [],
      "source": [
        "x = torch.randn(1, 3)\nmodel(x)"
      ]
    },
    {
      "cell_type": "markdown",
      "metadata": {},
      "source": [
        "As expected, it does not export.\n\n"
      ]
    },
    {
      "cell_type": "code",
      "execution_count": null,
      "metadata": {
        "collapsed": false
      },
      "outputs": [],
      "source": [
        "try:\n    torch.export.export(model, (x,))\n    raise AssertionError(\"This export should failed unless pytorch now supports this model.\")\nexcept Exception as e:\n    print(e)"
      ]
    },
    {
      "cell_type": "markdown",
      "metadata": {},
      "source": [
        "The exporter fails with the same eror as it expects torch.export.export to work.\n\n"
      ]
    },
    {
      "cell_type": "code",
      "execution_count": null,
      "metadata": {
        "collapsed": false
      },
      "outputs": [],
      "source": [
        "try:\n    to_onnx(model, (x,))\nexcept Exception as e:\n    print(e)"
      ]
    },
    {
      "cell_type": "markdown",
      "metadata": {},
      "source": [
        "## Registration\n\nThe exporter how to convert the new exporter into ONNX.\nThis must be defined. The first piece is to tell the exporter\nthat the shape of the output is the same as x.\ninput names must be the same.\n\n"
      ]
    },
    {
      "cell_type": "code",
      "execution_count": null,
      "metadata": {
        "collapsed": false
      },
      "outputs": [],
      "source": [
        "def register(fct, fct_shape, namespace, fname):\n    schema_str = torch.library.infer_schema(fct, mutates_args=())\n    custom_def = torch.library.CustomOpDef(namespace, fname, schema_str, fct)\n    custom_def.register_kernel(\"cpu\")(fct)\n    custom_def._abstract_fn = fct_shape\n\n\nregister(numpy_sin, lambda x: torch.empty_like(x), \"mylib\", \"numpy_sin\")\n\n\nclass ModuleWithACustomOperator(torch.nn.Module):\n    def forward(self, x):\n        return torch.ops.mylib.numpy_sin(x)\n\n\nmodel = ModuleWithACustomOperator()"
      ]
    },
    {
      "cell_type": "markdown",
      "metadata": {},
      "source": [
        "Let's check it runs again.\n\n"
      ]
    },
    {
      "cell_type": "code",
      "execution_count": null,
      "metadata": {
        "collapsed": false
      },
      "outputs": [],
      "source": [
        "model(x)"
      ]
    },
    {
      "cell_type": "markdown",
      "metadata": {},
      "source": [
        "Next is the conversion to onnx.\n\n"
      ]
    },
    {
      "cell_type": "code",
      "execution_count": null,
      "metadata": {
        "collapsed": false
      },
      "outputs": [],
      "source": [
        "T = str  # a tensor name\n\n\ndef numpy_sin_to_onnx(\n    g: GraphBuilder,\n    sts: Dict[str, Any],\n    outputs: List[str],\n    x: T,\n    name: str = \"mylib.numpy_sin\",\n) -> T:\n    # name= ... lets the user know when the node comes from\n    return g.op.Sin(x, name=name, outputs=outputs)"
      ]
    },
    {
      "cell_type": "markdown",
      "metadata": {},
      "source": [
        "We create a :class:`Dispatcher <experimental_experiment.torch_interpreter.Dispatcher>`.\n\n"
      ]
    },
    {
      "cell_type": "code",
      "execution_count": null,
      "metadata": {
        "collapsed": false
      },
      "outputs": [],
      "source": [
        "dispatcher = Dispatcher({\"mylib::numpy_sin\": numpy_sin_to_onnx})"
      ]
    },
    {
      "cell_type": "markdown",
      "metadata": {},
      "source": [
        "And we convert again.\n\n"
      ]
    },
    {
      "cell_type": "code",
      "execution_count": null,
      "metadata": {
        "collapsed": false
      },
      "outputs": [],
      "source": [
        "onx = to_onnx(model, (x,), dispatcher=dispatcher, optimize=False)\nprint(pretty_onnx(onx))"
      ]
    },
    {
      "cell_type": "markdown",
      "metadata": {},
      "source": [
        "And we convert again with optimization this time.\n\n"
      ]
    },
    {
      "cell_type": "code",
      "execution_count": null,
      "metadata": {
        "collapsed": false
      },
      "outputs": [],
      "source": [
        "onx = to_onnx(model, (x,), dispatcher=dispatcher, optimize=True)\nprint(pretty_onnx(onx))"
      ]
    },
    {
      "cell_type": "markdown",
      "metadata": {},
      "source": [
        "Let's make sure the node was produce was the user defined converter for numpy_sin.\nThe name should be 'mylib.numpy_sin'.\n\n"
      ]
    },
    {
      "cell_type": "code",
      "execution_count": null,
      "metadata": {
        "collapsed": false
      },
      "outputs": [],
      "source": [
        "print(onx.graph.node[0])"
      ]
    },
    {
      "cell_type": "markdown",
      "metadata": {},
      "source": [
        "And visually.\n\n"
      ]
    },
    {
      "cell_type": "code",
      "execution_count": null,
      "metadata": {
        "collapsed": false
      },
      "outputs": [],
      "source": [
        "plot_dot(onx)"
      ]
    }
  ],
  "metadata": {
    "kernelspec": {
      "display_name": "Python 3",
      "language": "python",
      "name": "python3"
    },
    "language_info": {
      "codemirror_mode": {
        "name": "ipython",
        "version": 3
      },
      "file_extension": ".py",
      "mimetype": "text/x-python",
      "name": "python",
      "nbconvert_exporter": "python",
      "pygments_lexer": "ipython3",
      "version": "3.10.12"
    }
  },
  "nbformat": 4,
  "nbformat_minor": 0
}