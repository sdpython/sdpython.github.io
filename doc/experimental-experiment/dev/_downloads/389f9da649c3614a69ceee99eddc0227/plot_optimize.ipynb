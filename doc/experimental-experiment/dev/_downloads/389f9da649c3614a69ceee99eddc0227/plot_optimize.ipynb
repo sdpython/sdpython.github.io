{
  "cells": [
    {
      "cell_type": "markdown",
      "metadata": {},
      "source": [
        "\n# Graph Optimization\n\nThis example shows how to optimize a graph using pattern optimization.\nThe graph was obtained by running a dummy llama model.\nIt is the backward graph.\n\n## A model\n"
      ]
    },
    {
      "cell_type": "code",
      "execution_count": null,
      "metadata": {
        "collapsed": false
      },
      "outputs": [],
      "source": [
        "import os\nimport onnx\nimport pandas\nfrom onnx_array_api.plotting.text_plot import onnx_simple_text_plot\nfrom onnx_array_api.plotting.graphviz_helper import plot_dot\nfrom experimental_experiment.xbuilder.graph_builder import (\n    GraphBuilder,\n    OptimizationOptions,\n)\n\nfilename = (\n    os.path.join(os.path.dirname(__file__), \"data\", \"dort-c-custom__1.onnx\")\n    if \"__file__\" in globals()\n    else \"data/dort-c-custom__1.onnx\"\n)\nproto = onnx.load(filename)\n\nprint(f\"number of nodes: {len(proto.graph.node)}\")\n\n\nprint(onnx_simple_text_plot(proto))"
      ]
    },
    {
      "cell_type": "markdown",
      "metadata": {},
      "source": [
        "And visually.\n\n"
      ]
    },
    {
      "cell_type": "code",
      "execution_count": null,
      "metadata": {
        "collapsed": false
      },
      "outputs": [],
      "source": [
        "plot_dot(proto)"
      ]
    },
    {
      "cell_type": "markdown",
      "metadata": {},
      "source": [
        "## Optimization\n\n"
      ]
    },
    {
      "cell_type": "code",
      "execution_count": null,
      "metadata": {
        "collapsed": false
      },
      "outputs": [],
      "source": [
        "gr = GraphBuilder(\n    proto,\n    infer_shapes=True,\n    optimization_options=OptimizationOptions(patterns=\"default\"),\n)\nstats = gr.optimize()\ndf = pandas.DataFrame(stats)\ndf.to_csv(\"plot_optimize.csv\")\ndf.to_excel(\"plot_optimize.xlsx\")\ndf"
      ]
    },
    {
      "cell_type": "markdown",
      "metadata": {},
      "source": [
        "Summary\n\n"
      ]
    },
    {
      "cell_type": "code",
      "execution_count": null,
      "metadata": {
        "collapsed": false
      },
      "outputs": [],
      "source": [
        "print(df[[\"pattern\", \"added\", \"removed\"]].groupby(\"pattern\").sum())"
      ]
    },
    {
      "cell_type": "markdown",
      "metadata": {},
      "source": [
        "The total is:\n\n"
      ]
    },
    {
      "cell_type": "code",
      "execution_count": null,
      "metadata": {
        "collapsed": false
      },
      "outputs": [],
      "source": [
        "diff = df[\"added\"].sum() - df[\"removed\"].sum()\n\nprint(f\"number of removed nodes: {-diff}\")"
      ]
    },
    {
      "cell_type": "markdown",
      "metadata": {},
      "source": [
        "Conversion to onnx.\n\n"
      ]
    },
    {
      "cell_type": "code",
      "execution_count": null,
      "metadata": {
        "collapsed": false
      },
      "outputs": [],
      "source": [
        "optimized_proto = gr.to_onnx(optimize=False)\n\nprint(f\"number of new nodes: {len(optimized_proto.graph.node)}\")"
      ]
    },
    {
      "cell_type": "markdown",
      "metadata": {},
      "source": [
        "It gives the following.\n\n"
      ]
    },
    {
      "cell_type": "code",
      "execution_count": null,
      "metadata": {
        "collapsed": false
      },
      "outputs": [],
      "source": [
        "print(onnx_simple_text_plot(optimized_proto))"
      ]
    },
    {
      "cell_type": "markdown",
      "metadata": {},
      "source": [
        "And visually.\n\n"
      ]
    },
    {
      "cell_type": "code",
      "execution_count": null,
      "metadata": {
        "collapsed": false
      },
      "outputs": [],
      "source": [
        "plot_dot(optimized_proto)"
      ]
    },
    {
      "cell_type": "markdown",
      "metadata": {},
      "source": [
        "The first list of patterns optimizes the graph with only\nstandard onnx operators: `l-pattern-optimization-onnx`.\nThe second list is specific to :pekg:`onnxruntime`:\n`l-pattern-optimization-ort`.\n\n"
      ]
    }
  ],
  "metadata": {
    "kernelspec": {
      "display_name": "Python 3",
      "language": "python",
      "name": "python3"
    },
    "language_info": {
      "codemirror_mode": {
        "name": "ipython",
        "version": 3
      },
      "file_extension": ".py",
      "mimetype": "text/x-python",
      "name": "python",
      "nbconvert_exporter": "python",
      "pygments_lexer": "ipython3",
      "version": "3.10.12"
    }
  },
  "nbformat": 4,
  "nbformat_minor": 0
}