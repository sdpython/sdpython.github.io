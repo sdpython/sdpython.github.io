{
  "cells": [
    {
      "cell_type": "markdown",
      "metadata": {},
      "source": [
        "\n\n# Measures the exporter success on many test cases\n\nAll test cases can be found in module\n:mod:`experimental_experiment.torch_interpreter.eval.model_cases`.\nPage `l-exported-program-cases` shows the exported\nprogram for many of those cases.\n"
      ]
    },
    {
      "cell_type": "code",
      "execution_count": null,
      "metadata": {
        "collapsed": false
      },
      "outputs": [],
      "source": [
        "from experimental_experiment.args import get_parsed_args\n\nscript_args = get_parsed_args(\n    \"plot_exporter_coverage\",\n    description=__doc__,\n    exporter=(\"all\", \"an exporter to rerun\"),\n    dynamic=(\"all\", \"use dyanmic shapes\"),\n    case=(\"all\", \"model cases\"),\n    quiet=(\"1\", \"0 or 1\"),\n    verbose=(\"1\", \"verbosity\"),\n    expose=\"exporter,dyanmic,case,quiet,verbose\",\n)\n\nexporters = (\n    (\n        \"export-strict\",\n        \"export-strict-dec\",\n        \"export-nostrict\",\n        \"export-nostrict-dec\",\n        \"export-jit\",\n        \"export-tracing\",\n        \"custom-strict\",\n        \"custom-nostrict\",\n        \"custom-strict-dec\",\n        \"custom-nostrict-dec\",\n        \"custom-tracing\",\n        \"dynamo\",\n        \"dynamo-ir\",\n        \"script\",\n    )\n    if script_args.exporter == \"all\"\n    else script_args.exporter.split(\",\")\n)\ndynamic = (0, 1) if script_args.dynamic == \"all\" else (int(script_args.dynamic),)\ncases = None if script_args.case == \"all\" else script_args.case.split(\",\")\nquiet = bool(int(script_args.quiet))\nverbose = int(script_args.verbose)\n\nimport pandas\nfrom experimental_experiment.torch_interpreter.eval import evaluation\n\nobs = evaluation(\n    exporters=exporters, dynamic=dynamic, cases=cases, quiet=quiet, verbose=verbose\n)"
      ]
    },
    {
      "cell_type": "markdown",
      "metadata": {},
      "source": [
        "The results\n\n"
      ]
    },
    {
      "cell_type": "code",
      "execution_count": null,
      "metadata": {
        "collapsed": false
      },
      "outputs": [],
      "source": [
        "df = pandas.DataFrame(obs).sort_values([\"dynamic\", \"name\", \"exporter\"]).reset_index(drop=True)\ndf.to_csv(\"plot-exporter-coverage.csv\", index=False)\ndf.to_excel(\"plot-exporter-coverage.xlsx\")\nfor c in [\"error\", \"error_step\"]:\n    if c in df.columns:\n        df[c] = df[c].fillna(\"\")\nprint(df)"
      ]
    },
    {
      "cell_type": "markdown",
      "metadata": {},
      "source": [
        "Errors if any or all successes.\n\n"
      ]
    },
    {
      "cell_type": "code",
      "execution_count": null,
      "metadata": {
        "collapsed": false
      },
      "outputs": [],
      "source": [
        "piv = df.pivot(\n    index=[\"dynamic\", \"name\"],\n    columns=[\"exporter\"],\n    values=\"error_step\" if \"error_step\" in df.columns else \"success\",\n)\n\npiv.to_excel(\"plot-exporter-coverage-summary.xlsx\")\nprint(piv)"
      ]
    }
  ],
  "metadata": {
    "kernelspec": {
      "display_name": "Python 3",
      "language": "python",
      "name": "python3"
    },
    "language_info": {
      "codemirror_mode": {
        "name": "ipython",
        "version": 3
      },
      "file_extension": ".py",
      "mimetype": "text/x-python",
      "name": "python",
      "nbconvert_exporter": "python",
      "pygments_lexer": "ipython3",
      "version": "3.10.12"
    }
  },
  "nbformat": 4,
  "nbformat_minor": 0
}