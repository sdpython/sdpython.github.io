{
  "cells": [
    {
      "cell_type": "markdown",
      "metadata": {},
      "source": [
        "\n\n# Use DYNAMIC or AUTO when dynamic shapes has constraints\n\nSettings the dynamic shapes is not always easy.\nHere are a few tricks to make it work.\n\n## dx + dy not allowed?\n"
      ]
    },
    {
      "cell_type": "code",
      "execution_count": null,
      "metadata": {
        "collapsed": false
      },
      "outputs": [],
      "source": [
        "import torch\n\n\nclass Model(torch.nn.Module):\n    def forward(self, x, y, z):\n        return torch.cat((x, y), axis=1) + z[:, ::2]\n\n\nmodel = Model()\nx = torch.randn(2, 3)\ny = torch.randn(2, 5)\nz = torch.randn(2, 16)\nmodel(x, y, z)\n\n\nprint(torch.export.export(model, (x, y, z)).graph)"
      ]
    },
    {
      "cell_type": "markdown",
      "metadata": {},
      "source": [
        "Everything is fine so far. With dynamic shapes now.\ndx + dy is not allowed...\n\n"
      ]
    },
    {
      "cell_type": "code",
      "execution_count": null,
      "metadata": {
        "collapsed": false
      },
      "outputs": [],
      "source": [
        "batch = torch.export.Dim(\"batch\")\ndx = torch.export.Dim(\"dx\")\ndy = torch.export.Dim(\"dy\")\n\ntry:\n    dz = dx + dy\n    raise AssertionError(\"able to add dynamic dimensions, please update the tutorial\")\nexcept NotImplementedError as e:\n    print(f\"unable to add dynamic dimensions because {type(e)}, {e}\")"
      ]
    },
    {
      "cell_type": "markdown",
      "metadata": {},
      "source": [
        "Then we could make it a different one.\n\n"
      ]
    },
    {
      "cell_type": "code",
      "execution_count": null,
      "metadata": {
        "collapsed": false
      },
      "outputs": [],
      "source": [
        "dz = torch.export.Dim(\"dz\")\ntry:\n    ep = torch.export.export(\n        model,\n        (x, y, z),\n        dynamic_shapes={\n            \"x\": {0: batch, 1: dx},\n            \"y\": {0: batch, 1: dy},\n            \"z\": {0: batch, 1: dz},\n        },\n    )\n    print(ep)\n    raise AssertionError(\"able to export this moel, please update the tutorial\")\nexcept torch._dynamo.exc.UserError as e:\n    print(f\"unable to use Dim('dz') because {type(e)}, {e}\")"
      ]
    },
    {
      "cell_type": "markdown",
      "metadata": {},
      "source": [
        "That works. We could also use\n``torch.export.Dim.DYNAMIC`` or ``torch.export.Dim.AUTO``\nfor the dimension we cannot set.\n\n"
      ]
    },
    {
      "cell_type": "code",
      "execution_count": null,
      "metadata": {
        "collapsed": false
      },
      "outputs": [],
      "source": [
        "DYNAMIC = torch.export.Dim.DYNAMIC\nep = torch.export.export(\n    model,\n    (x, y, z),\n    dynamic_shapes={\n        \"x\": {0: DYNAMIC, 1: dx},\n        \"y\": {0: DYNAMIC, 1: dy},\n        \"z\": {0: DYNAMIC, 1: DYNAMIC},\n    },\n)\n\nprint(ep)"
      ]
    },
    {
      "cell_type": "markdown",
      "metadata": {},
      "source": [
        "The same result can be obtained with ``torch.export.Dim.AUTO``.\n\n"
      ]
    },
    {
      "cell_type": "code",
      "execution_count": null,
      "metadata": {
        "collapsed": false
      },
      "outputs": [],
      "source": [
        "AUTO = torch.export.Dim.AUTO\nprint(\n    torch.export.export(\n        model,\n        (x, y, z),\n        dynamic_shapes=({0: AUTO, 1: AUTO}, {0: AUTO, 1: AUTO}, {0: AUTO, 1: AUTO}),\n    )\n)"
      ]
    }
  ],
  "metadata": {
    "kernelspec": {
      "display_name": "Python 3",
      "language": "python",
      "name": "python3"
    },
    "language_info": {
      "codemirror_mode": {
        "name": "ipython",
        "version": 3
      },
      "file_extension": ".py",
      "mimetype": "text/x-python",
      "name": "python",
      "nbconvert_exporter": "python",
      "pygments_lexer": "ipython3",
      "version": "3.12.8"
    }
  },
  "nbformat": 4,
  "nbformat_minor": 0
}