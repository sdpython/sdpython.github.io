{
  "cells": [
    {
      "cell_type": "markdown",
      "metadata": {},
      "source": [
        "\n# To ignore\n"
      ]
    },
    {
      "cell_type": "code",
      "execution_count": null,
      "metadata": {
        "collapsed": false
      },
      "outputs": [],
      "source": [
        "import torch\nimport torch._dynamo\nfrom torch import nn\nimport torch.nn.functional as F\n\n\nclass MyModelClass(nn.Module):\n    def __init__(self):\n        super(MyModelClass, self).__init__()\n        self.large = False\n        self.conv1 = nn.Conv2d(1, 16, 5)\n        self.conv2 = nn.Conv2d(16, 16, 5)\n        self.fc1 = nn.Linear(16, 512)\n        self.fc2 = nn.Linear(512, 128)\n        self.fc3 = nn.Linear(128, 10)\n\n    def forward(self, x):\n        x = F.max_pool2d(F.relu(self.conv1(x)), (2, 2))\n        x = F.max_pool2d(F.relu(self.conv2(x)), 2)\n        x = torch.flatten(x, 1)\n        x = F.relu(self.fc1(x))\n        x = F.relu(self.fc2(x))\n        x = self.fc3(x)\n        return x\n\n\ndef create_model_and_input():\n    shape = [1, 1, 16, 16]\n    input_tensor = torch.rand(*shape).to(torch.float32)\n    model = MyModelClass()\n    assert model(input_tensor) is not None\n    return model, input_tensor\n\n\ndef get_torch_dort(model, *args):\n    optimized_mod = torch.compile(model, backend=\"onnxrt\", fullgraph=True)\n    # fails: FAIL : Type Error: Type (tensor(int64)) of output arg (max_pool2d_with_indices_1) of node (_aten_max_pool_with_indices_onnx_16) does not match expected type (tensor(float)).\n    optimized_mod(*args)\n    return optimized_mod\n\n\nmodel, input_tensor = create_model_and_input()\nget_torch_dort(model, input_tensor)"
      ]
    }
  ],
  "metadata": {
    "kernelspec": {
      "display_name": "Python 3",
      "language": "python",
      "name": "python3"
    },
    "language_info": {
      "codemirror_mode": {
        "name": "ipython",
        "version": 3
      },
      "file_extension": ".py",
      "mimetype": "text/x-python",
      "name": "python",
      "nbconvert_exporter": "python",
      "pygments_lexer": "ipython3",
      "version": "3.10.12"
    }
  },
  "nbformat": 4,
  "nbformat_minor": 0
}