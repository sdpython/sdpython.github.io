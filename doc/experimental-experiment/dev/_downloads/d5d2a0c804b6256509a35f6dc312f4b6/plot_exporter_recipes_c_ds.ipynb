{
  "cells": [
    {
      "cell_type": "markdown",
      "metadata": {},
      "source": [
        "\n\n# to_onnx and infer dynamic shapes\n\nWe try to make it easier to export with dynamic shapes.\nTo do that, we run the model at least twice with a different\nset of inputs and we try to guess the dynamic shapes found\nalong the way.\n\n\n## Infer dynamic shapes\n"
      ]
    },
    {
      "cell_type": "code",
      "execution_count": null,
      "metadata": {
        "collapsed": false
      },
      "outputs": [],
      "source": [
        "import onnx\nfrom onnx_array_api.plotting.graphviz_helper import plot_dot\nimport torch\nfrom experimental_experiment.torch_interpreter import to_onnx\nfrom experimental_experiment.torch_interpreter.piece_by_piece import (\n    trace_execution_piece_by_piece,\n)\n\n\nclass MA(torch.nn.Module):\n    def forward(self, x, y):\n        return x + y\n\n\nclass MM(torch.nn.Module):\n    def forward(self, x, y):\n        return x * y\n\n\nclass MASMM(torch.nn.Module):\n    def __init__(self):\n        super().__init__()\n        self.ma = MA()\n        self.mm = MM()\n\n    def forward(self, x, y, z):\n        return self.ma(x, y) - self.mm(y, z)\n\n\nclass Model(torch.nn.Module):\n    def __init__(self):\n        super().__init__()\n        self.ma = MA()\n        self.masmm = MASMM()\n\n    def forward(self, x):\n        return self.ma(x, self.masmm(x, x, x))"
      ]
    },
    {
      "cell_type": "markdown",
      "metadata": {},
      "source": [
        "The model.\n\n"
      ]
    },
    {
      "cell_type": "code",
      "execution_count": null,
      "metadata": {
        "collapsed": false
      },
      "outputs": [],
      "source": [
        "model = Model()"
      ]
    },
    {
      "cell_type": "markdown",
      "metadata": {},
      "source": [
        "Two sets of inputs.\n\n"
      ]
    },
    {
      "cell_type": "code",
      "execution_count": null,
      "metadata": {
        "collapsed": false
      },
      "outputs": [],
      "source": [
        "inputs = [\n    ((torch.randn((5, 6)),), {}),\n    ((torch.randn((6, 6)),), {}),\n]"
      ]
    },
    {
      "cell_type": "markdown",
      "metadata": {},
      "source": [
        "Then we run the model, stores intermediates inputs and outputs,\nto finally guess the dynamic shapes.\n\n"
      ]
    },
    {
      "cell_type": "code",
      "execution_count": null,
      "metadata": {
        "collapsed": false
      },
      "outputs": [],
      "source": [
        "diag = trace_execution_piece_by_piece(model, inputs, verbose=0)\npretty = diag.pretty_text(with_dynamic_shape=True)\nprint(pretty)"
      ]
    },
    {
      "cell_type": "markdown",
      "metadata": {},
      "source": [
        "The dynamic shapes are obtained with:\n\n"
      ]
    },
    {
      "cell_type": "code",
      "execution_count": null,
      "metadata": {
        "collapsed": false
      },
      "outputs": [],
      "source": [
        "ds = diag.guess_dynamic_shapes()\nprint(ds)"
      ]
    },
    {
      "cell_type": "markdown",
      "metadata": {},
      "source": [
        "## Export\n\nWe use these dynamic shapes to export.\n\n"
      ]
    },
    {
      "cell_type": "code",
      "execution_count": null,
      "metadata": {
        "collapsed": false
      },
      "outputs": [],
      "source": [
        "onx, builder = to_onnx(\n    model, inputs[0][0], kwargs=inputs[0][1], dynamic_shapes=ds[0], return_builder=True\n)\nonnx.save(onx, \"plot_exporter_recipes_c_ds.onnx\")\nprint(builder.pretty_text())"
      ]
    },
    {
      "cell_type": "markdown",
      "metadata": {},
      "source": [
        "And visually.\n\n"
      ]
    },
    {
      "cell_type": "code",
      "execution_count": null,
      "metadata": {
        "collapsed": false
      },
      "outputs": [],
      "source": [
        "plot_dot(onx)"
      ]
    }
  ],
  "metadata": {
    "kernelspec": {
      "display_name": "Python 3",
      "language": "python",
      "name": "python3"
    },
    "language_info": {
      "codemirror_mode": {
        "name": "ipython",
        "version": 3
      },
      "file_extension": ".py",
      "mimetype": "text/x-python",
      "name": "python",
      "nbconvert_exporter": "python",
      "pygments_lexer": "ipython3",
      "version": "3.12.8"
    }
  },
  "nbformat": 4,
  "nbformat_minor": 0
}