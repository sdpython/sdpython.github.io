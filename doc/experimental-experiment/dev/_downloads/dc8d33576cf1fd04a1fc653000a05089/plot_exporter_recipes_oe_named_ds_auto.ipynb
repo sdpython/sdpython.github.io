{
  "cells": [
    {
      "cell_type": "markdown",
      "metadata": {},
      "source": [
        "\n\n# torch.onnx.export: Rename Dynamic Shapes\n\nExample given in `l-plot-exporter-dynamic_shapes` can only be exported\nwith dynamic shapes using ``torch.export.Dim.AUTO``. As a result, the exported\nonnx models have dynamic dimensions with unpredictable names.\n\n## Model with unpredictable names for dynamic shapes\n"
      ]
    },
    {
      "cell_type": "code",
      "execution_count": null,
      "metadata": {
        "collapsed": false
      },
      "outputs": [],
      "source": [
        "import torch\nfrom experimental_experiment.helpers import pretty_onnx\n\n\nclass Model(torch.nn.Module):\n    def forward(self, x, y, z):\n        return torch.cat((x, y), axis=1) + z[:, ::2]\n\n\nmodel = Model()\nx = torch.randn(2, 3)\ny = torch.randn(2, 5)\nz = torch.randn(2, 16)\nmodel(x, y, z)"
      ]
    },
    {
      "cell_type": "markdown",
      "metadata": {},
      "source": [
        "Let's export it.\n\n"
      ]
    },
    {
      "cell_type": "code",
      "execution_count": null,
      "metadata": {
        "collapsed": false
      },
      "outputs": [],
      "source": [
        "AUTO = torch.export.Dim.AUTO\nep = torch.export.export(\n    model,\n    (x, y, z),\n    dynamic_shapes=({0: AUTO, 1: AUTO}, {0: AUTO, 1: AUTO}, {0: AUTO, 1: AUTO}),\n)"
      ]
    },
    {
      "cell_type": "markdown",
      "metadata": {},
      "source": [
        "Let's convert it into ONNX.\n\n"
      ]
    },
    {
      "cell_type": "code",
      "execution_count": null,
      "metadata": {
        "collapsed": false
      },
      "outputs": [],
      "source": [
        "onx = torch.onnx.export(ep).model_proto\n\nfor inp in onx.graph.input:\n    print(f\" input: {pretty_onnx(inp)}\")\nfor out in onx.graph.output:\n    print(f\"output: {pretty_onnx(out)}\")"
      ]
    },
    {
      "cell_type": "markdown",
      "metadata": {},
      "source": [
        "## Rename the dynamic shapes\n\nWe just need to give the onnx exporter the same information\n:func:`torch.export.export` was given but we replace ``AUTO``\nby the name this dimension should have.\n\n"
      ]
    },
    {
      "cell_type": "code",
      "execution_count": null,
      "metadata": {
        "collapsed": false
      },
      "outputs": [],
      "source": [
        "onx = torch.onnx.export(\n    ep,\n    dynamic_shapes=(\n        {0: \"batch\", 1: \"dx\"},\n        {0: \"batch\", 1: \"dy\"},\n        {0: \"batch\", 1: \"dx+dy\"},\n    ),\n).model_proto\n\nfor inp in onx.graph.input:\n    print(f\" input: {pretty_onnx(inp)}\")\nfor out in onx.graph.output:\n    print(f\"output: {pretty_onnx(out)}\")"
      ]
    },
    {
      "cell_type": "markdown",
      "metadata": {},
      "source": [
        "## A model with an unknown output shape\n\n"
      ]
    },
    {
      "cell_type": "code",
      "execution_count": null,
      "metadata": {
        "collapsed": false
      },
      "outputs": [],
      "source": [
        "class UnknownOutputModel(torch.nn.Module):\n    def forward(self, x):\n        return torch.nonzero(x)\n\n\nmodel = UnknownOutputModel()\nx = torch.randint(0, 2, (10, 2))\nmodel(x)"
      ]
    },
    {
      "cell_type": "markdown",
      "metadata": {},
      "source": [
        "Let's export it.\n\n"
      ]
    },
    {
      "cell_type": "code",
      "execution_count": null,
      "metadata": {
        "collapsed": false
      },
      "outputs": [],
      "source": [
        "ep = torch.export.export(\n    model,\n    (x,),\n    dynamic_shapes=({0: torch.export.Dim(\"batch\"), 1: AUTO},),\n)\nprint(ep)"
      ]
    },
    {
      "cell_type": "markdown",
      "metadata": {},
      "source": [
        "Let's export it into ONNX.\n\n"
      ]
    },
    {
      "cell_type": "code",
      "execution_count": null,
      "metadata": {
        "collapsed": false
      },
      "outputs": [],
      "source": [
        "onx = torch.onnx.export(ep, dynamic_shapes=({0: \"batch\", 1: \"dx\"},), dynamo=True).model_proto\n\nfor inp in onx.graph.input:\n    print(f\" input: {pretty_onnx(inp)}\")\nfor out in onx.graph.output:\n    print(f\"output: {pretty_onnx(out)}\")"
      ]
    },
    {
      "cell_type": "markdown",
      "metadata": {},
      "source": [
        "The exporter has detected a dimension could not be infered\nfrom the input shape somewhere in the graph and introduced a\nnew dimension name.\nLet's rename it as well. Let's also change the output name\nbecause the functionality may not be implemented yet when\nthe output dynamic shapes are given as a tuple.\n\n"
      ]
    },
    {
      "cell_type": "code",
      "execution_count": null,
      "metadata": {
        "collapsed": false
      },
      "outputs": [],
      "source": [
        "try:\n    onx = torch.onnx.export(\n        ep,\n        dynamic_shapes=({0: \"batch\", 1: \"dx\"},),\n        output_dynamic_shapes={\"zeros\": {0: \"num_zeros\"}},\n        output_names=[\"zeros\"],\n        dynamo=True,\n    ).model_proto\n    raise AssertionError(\n        \"able to rename output dynamic dimensions, please update the tutorial\"\n    )\nexcept (TypeError, torch.onnx._internal.exporter._errors.ConversionError) as e:\n    print(f\"unable to rename output dynamic dimensions due to {e}\")\n    onx = None\n\nif onx is not None:\n    for inp in onx.graph.input:\n        print(f\" input: {pretty_onnx(inp)}\")\n    for out in onx.graph.output:\n        print(f\"output: {pretty_onnx(out)}\")"
      ]
    }
  ],
  "metadata": {
    "kernelspec": {
      "display_name": "Python 3",
      "language": "python",
      "name": "python3"
    },
    "language_info": {
      "codemirror_mode": {
        "name": "ipython",
        "version": 3
      },
      "file_extension": ".py",
      "mimetype": "text/x-python",
      "name": "python",
      "nbconvert_exporter": "python",
      "pygments_lexer": "ipython3",
      "version": "3.12.8"
    }
  },
  "nbformat": 4,
  "nbformat_minor": 0
}