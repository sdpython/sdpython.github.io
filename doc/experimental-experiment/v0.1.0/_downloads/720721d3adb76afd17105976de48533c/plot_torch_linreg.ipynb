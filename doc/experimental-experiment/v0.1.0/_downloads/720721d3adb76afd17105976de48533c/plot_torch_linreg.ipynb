{
  "cells": [
    {
      "cell_type": "markdown",
      "metadata": {},
      "source": [
        "\n# Linear Regression\n\n:epkg:`scikit-learn` and :epkg:`torch` to train a linear regression.\n\n## data\n"
      ]
    },
    {
      "cell_type": "code",
      "execution_count": null,
      "metadata": {
        "collapsed": false
      },
      "outputs": [],
      "source": [
        "from sklearn.datasets import make_regression\nfrom sklearn.linear_model import LinearRegression\nfrom sklearn.metrics import mean_squared_error, r2_score\nfrom sklearn.model_selection import train_test_split\nimport torch\n\nX, y = make_regression(1000, n_features=5, noise=10.0, n_informative=2)\nprint(X.shape, y.shape)\n\nX_train, X_test, y_train, y_test = train_test_split(X, y)"
      ]
    },
    {
      "cell_type": "markdown",
      "metadata": {},
      "source": [
        "## sciit-learn\n\n"
      ]
    },
    {
      "cell_type": "code",
      "execution_count": null,
      "metadata": {
        "collapsed": false
      },
      "outputs": [],
      "source": [
        "clr = LinearRegression()\nclr.fit(X_train, y_train)\n\nprint(f\"coefficients: {clr.coef_}, {clr.intercept_}\")"
      ]
    },
    {
      "cell_type": "markdown",
      "metadata": {},
      "source": [
        "## Evaluation\n\n"
      ]
    },
    {
      "cell_type": "code",
      "execution_count": null,
      "metadata": {
        "collapsed": false
      },
      "outputs": [],
      "source": [
        "y_pred = clr.predict(X_test)\nl2 = mean_squared_error(y_test, y_pred)\nr2 = r2_score(y_test, y_pred)\nprint(f\"LinearRegression: l2={l2}, r2={r2}\")"
      ]
    },
    {
      "cell_type": "markdown",
      "metadata": {},
      "source": [
        "## torch\n\n"
      ]
    },
    {
      "cell_type": "code",
      "execution_count": null,
      "metadata": {
        "collapsed": false
      },
      "outputs": [],
      "source": [
        "class TorchLinearRegression(torch.nn.Module):\n    def __init__(self, n_dims: int, n_targets: int):\n        super(TorchLinearRegression, self).__init__()\n        self.linear = torch.nn.Linear(n_dims, n_targets)\n\n    def forward(self, x):\n        return self.linear(x)\n\n\ndef train_loop(dataloader, model, loss_fn, optimizer):\n    total_loss = 0.0\n\n    # Set the model to training mode - important for batch normalization and dropout layers\n    # Unnecessary in this situation but added for best practices\n    model.train()\n    for batch, (X, y) in enumerate(dataloader):\n        # Compute prediction and loss\n        pred = model(X)\n        loss = loss_fn(pred.ravel(), y)\n\n        # Backpropagation\n        loss.backward()\n        optimizer.step()\n        optimizer.zero_grad()\n\n        # training loss\n        total_loss += loss\n\n    return total_loss\n\n\nmodel = TorchLinearRegression(X_train.shape[1], 1)\noptimizer = torch.optim.SGD(model.parameters(), lr=1e-3)\nloss_fn = torch.nn.MSELoss()\n\ndevice = \"cpu\"\nmodel = model.to(device)\ndataset = torch.utils.data.TensorDataset(\n    torch.Tensor(X_train).to(device), torch.Tensor(y_train).to(device)\n)\ndataloader = torch.utils.data.DataLoader(dataset, batch_size=1)\n\n\nfor i in range(5):\n    loss = train_loop(dataloader, model, loss_fn, optimizer)\n    print(f\"iteration {i}, loss={loss}\")"
      ]
    },
    {
      "cell_type": "markdown",
      "metadata": {},
      "source": [
        "Let's check the error\n\n"
      ]
    },
    {
      "cell_type": "code",
      "execution_count": null,
      "metadata": {
        "collapsed": false
      },
      "outputs": [],
      "source": [
        "y_pred = model(torch.Tensor(X_test)).detach().numpy()\ntl2 = mean_squared_error(y_test, y_pred)\ntr2 = r2_score(y_test, y_pred)\nprint(f\"TorchLinearRegression: tl2={tl2}, tr2={tr2}\")"
      ]
    },
    {
      "cell_type": "markdown",
      "metadata": {},
      "source": [
        "And the coefficients.\n\n"
      ]
    },
    {
      "cell_type": "code",
      "execution_count": null,
      "metadata": {
        "collapsed": false
      },
      "outputs": [],
      "source": [
        "print(\"coefficients:\")\nfor p in model.parameters():\n    print(p)"
      ]
    }
  ],
  "metadata": {
    "kernelspec": {
      "display_name": "Python 3",
      "language": "python",
      "name": "python3"
    },
    "language_info": {
      "codemirror_mode": {
        "name": "ipython",
        "version": 3
      },
      "file_extension": ".py",
      "mimetype": "text/x-python",
      "name": "python",
      "nbconvert_exporter": "python",
      "pygments_lexer": "ipython3",
      "version": "3.10.12"
    }
  },
  "nbformat": 4,
  "nbformat_minor": 0
}