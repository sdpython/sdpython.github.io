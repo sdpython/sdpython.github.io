{
  "cells": [
    {
      "cell_type": "markdown",
      "metadata": {},
      "source": [
        "\n\n# A dynamic dimension lost by torch.export.export\n\nDynamic shapes ensures a model is valid not matter what the\ndimension value is for a dynamic dimension.\n:func:`torch.export.export` is trying to keep track of that information\nfor every intermediate result the model produces.\nBut something it fails. Let's see one case.\n\n## A dynamic dimension is replaced by a constant by function pad\n\nIt could by any other function. A function is taking an integer as an argument.\nDespite the fact this value may change with different input, the exporter\nloses than information as it consider the value as an integer, therefore,\na constant.\n"
      ]
    },
    {
      "cell_type": "code",
      "execution_count": null,
      "metadata": {
        "collapsed": false
      },
      "outputs": [],
      "source": [
        "import torch\n\n\ndef dummy_function(idx, x_len):\n    # [1, 2, 3] becomes [1, 2, 3, x_len]\n    return torch.nn.functional.pad(idx, (0, 1), value=x_len)\n\n\nclass Model(torch.nn.Module):\n    def forward(self, x, y):\n        padded = dummy_function(x, y.shape[0])\n        return padded.reshape((-1, 1)) + torch.arange(padded.max()).reshape((1, -1))\n\n\nmodel = Model()\ninputs = (\n    (torch.arange(3) + 1).to(torch.int64),\n    torch.tensor([0, 5], dtype=torch.int64),\n)\nprint(model(*inputs))"
      ]
    },
    {
      "cell_type": "markdown",
      "metadata": {},
      "source": [
        "Let's export.\n\n"
      ]
    },
    {
      "cell_type": "code",
      "execution_count": null,
      "metadata": {
        "collapsed": false
      },
      "outputs": [],
      "source": [
        "AUTO = torch.export.Dim.AUTO\nep = torch.export.export(\n    model, inputs, dynamic_shapes={\"x\": {0: AUTO}, \"y\": {0: AUTO}}, strict=False\n)"
      ]
    },
    {
      "cell_type": "markdown",
      "metadata": {},
      "source": [
        "Let's check it works.\n\n"
      ]
    },
    {
      "cell_type": "code",
      "execution_count": null,
      "metadata": {
        "collapsed": false
      },
      "outputs": [],
      "source": [
        "print(ep.module()(*inputs))"
      ]
    },
    {
      "cell_type": "markdown",
      "metadata": {},
      "source": [
        "Let's print the graph.\n\n"
      ]
    },
    {
      "cell_type": "code",
      "execution_count": null,
      "metadata": {
        "collapsed": false
      },
      "outputs": [],
      "source": [
        "print(ep.graph)"
      ]
    },
    {
      "cell_type": "markdown",
      "metadata": {},
      "source": [
        "It shows the following line\n``[torch.ops.aten.pad.default](args = (%x, [0, 1], constant, 2.0)``\nwhich corresponds to ``torch.nn.functional.pad(idx, (0, 1), value=x_len)``.\nBut in this case, ``x_len`` is equal to ``y.shape[0]`` which was defined\nas a dynamic dimension. Se if we choose something like the following:\n\n"
      ]
    },
    {
      "cell_type": "code",
      "execution_count": null,
      "metadata": {
        "collapsed": false
      },
      "outputs": [],
      "source": [
        "inputs2 = (\n    (torch.arange(3) + 1).to(torch.int64),\n    torch.tensor([0, 5, 6], dtype=torch.int64),\n)"
      ]
    },
    {
      "cell_type": "markdown",
      "metadata": {},
      "source": [
        "The original model works.\n\n"
      ]
    },
    {
      "cell_type": "code",
      "execution_count": null,
      "metadata": {
        "collapsed": false
      },
      "outputs": [],
      "source": [
        "print(model(*inputs2))"
      ]
    },
    {
      "cell_type": "markdown",
      "metadata": {},
      "source": [
        "But the exported program does not.\n\n"
      ]
    },
    {
      "cell_type": "code",
      "execution_count": null,
      "metadata": {
        "collapsed": false
      },
      "outputs": [],
      "source": [
        "try:\n    print(ep.module()(*inputs2))\nexcept Exception as e:\n    print(e)"
      ]
    },
    {
      "cell_type": "markdown",
      "metadata": {},
      "source": [
        "## How to fix it?\n\nIn this particular case, function is not the only way ``pad``\nto produce the desired result.\n\n"
      ]
    },
    {
      "cell_type": "code",
      "execution_count": null,
      "metadata": {
        "collapsed": false
      },
      "outputs": [],
      "source": [
        "def dummy_function_cat(idx, x_len):\n    # [1, 2, 3] becomes [1, 2, 3, x_len]\n    return torch.cat([idx, torch.tensor([x_len], dtype=torch.int64)], dim=0)\n\n\nclass ModelCat(torch.nn.Module):\n    def forward(self, x, y):\n        padded = dummy_function_cat(x, y.shape[0])\n        return padded.reshape((-1, 1)) + torch.arange(padded.max()).reshape((1, -1))\n\n\nmodelcat = ModelCat()\nprint(modelcat(*inputs))"
      ]
    },
    {
      "cell_type": "markdown",
      "metadata": {},
      "source": [
        "Let's export.\n\n"
      ]
    },
    {
      "cell_type": "code",
      "execution_count": null,
      "metadata": {
        "collapsed": false
      },
      "outputs": [],
      "source": [
        "epcat = torch.export.export(\n    modelcat, inputs, dynamic_shapes={\"x\": {0: AUTO}, \"y\": {0: AUTO}}, strict=False\n)"
      ]
    },
    {
      "cell_type": "markdown",
      "metadata": {},
      "source": [
        "Let's check it works.\n\n"
      ]
    },
    {
      "cell_type": "code",
      "execution_count": null,
      "metadata": {
        "collapsed": false
      },
      "outputs": [],
      "source": [
        "print(epcat.module()(*inputs))"
      ]
    },
    {
      "cell_type": "markdown",
      "metadata": {},
      "source": [
        "Let's print the graph.\n\n"
      ]
    },
    {
      "cell_type": "code",
      "execution_count": null,
      "metadata": {
        "collapsed": false
      },
      "outputs": [],
      "source": [
        "print(epcat.graph)"
      ]
    },
    {
      "cell_type": "markdown",
      "metadata": {},
      "source": [
        "And the final verification.\n\n"
      ]
    },
    {
      "cell_type": "code",
      "execution_count": null,
      "metadata": {
        "collapsed": false
      },
      "outputs": [],
      "source": [
        "print(epcat.module()(*inputs2))"
      ]
    },
    {
      "cell_type": "markdown",
      "metadata": {},
      "source": [
        "It finally works.\n\n"
      ]
    }
  ],
  "metadata": {
    "kernelspec": {
      "display_name": "Python 3",
      "language": "python",
      "name": "python3"
    },
    "language_info": {
      "codemirror_mode": {
        "name": "ipython",
        "version": 3
      },
      "file_extension": ".py",
      "mimetype": "text/x-python",
      "name": "python",
      "nbconvert_exporter": "python",
      "pygments_lexer": "ipython3",
      "version": "3.12.8"
    }
  },
  "nbformat": 4,
  "nbformat_minor": 0
}