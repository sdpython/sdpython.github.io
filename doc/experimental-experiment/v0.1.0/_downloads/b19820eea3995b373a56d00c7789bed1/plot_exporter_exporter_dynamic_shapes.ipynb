{
  "cells": [
    {
      "cell_type": "markdown",
      "metadata": {},
      "source": [
        "\n\n# A few tricks about dynamic shapes\n\nSettings the dynamic shapes is not always easy.\nHere are a few tricks to make it work.\n\n## dx + dy not allowed?\n"
      ]
    },
    {
      "cell_type": "code",
      "execution_count": null,
      "metadata": {
        "collapsed": false
      },
      "outputs": [],
      "source": [
        "import torch\n\n\nclass Model(torch.nn.Module):\n    def forward(self, x, y, z):\n        return torch.cat((x, y), axis=1) + z\n\n\nmodel = Model()\nx = torch.randn(2, 3)\ny = torch.randn(2, 4)\nz = torch.randn(2, 7)\nmodel(x, y, z)\n\n\nprint(torch.export.export(model, (x, y, z)).graph)"
      ]
    },
    {
      "cell_type": "markdown",
      "metadata": {},
      "source": [
        "Everything is fine so far. With dynamic shapes now.\ndx + dy is not allowed...\n\n"
      ]
    },
    {
      "cell_type": "code",
      "execution_count": null,
      "metadata": {
        "collapsed": false
      },
      "outputs": [],
      "source": [
        "batch = torch.export.Dim(\"batch\")\ndx = torch.export.Dim(\"dz\")\ndy = torch.export.Dim(\"dy\")\n\ntry:\n    dz = dx + dy\nexcept Exception as e:\n    print(f\"unable to add dimension because {e}\")"
      ]
    },
    {
      "cell_type": "markdown",
      "metadata": {},
      "source": [
        "Then we could make it a different one.\n\n"
      ]
    },
    {
      "cell_type": "code",
      "execution_count": null,
      "metadata": {
        "collapsed": false
      },
      "outputs": [],
      "source": [
        "dz = torch.export.Dim(\"dz\")\ntry:\n    torch.export.export(\n        model,\n        (x, y, z),\n        dynamic_shapes={\n            \"x\": {0: batch, 1: dx},\n            \"y\": {0: batch, 1: dy},\n            \"z\": {0: batch, 1: dz},\n        },\n    )\nexcept Exception as e:\n    print(e)"
      ]
    },
    {
      "cell_type": "markdown",
      "metadata": {},
      "source": [
        "Still no luck but with ``torch.export.Dim.DYNAMIC``.\n\n"
      ]
    },
    {
      "cell_type": "code",
      "execution_count": null,
      "metadata": {
        "collapsed": false
      },
      "outputs": [],
      "source": [
        "ep = torch.export.export(\n    model,\n    (x, y, z),\n    dynamic_shapes={\n        \"x\": {0: batch, 1: dx},\n        \"y\": {0: batch, 1: dy},\n        \"z\": {0: batch, 1: torch.export.Dim.DYNAMIC},\n    },\n)\n\nprint(ep)"
      ]
    },
    {
      "cell_type": "markdown",
      "metadata": {},
      "source": [
        "Still no luck but with ``torch.export.Dim.AUTO``.\n\n"
      ]
    },
    {
      "cell_type": "code",
      "execution_count": null,
      "metadata": {
        "collapsed": false
      },
      "outputs": [],
      "source": [
        "print(\n    torch.export.export(\n        model,\n        (x, y, z),\n        dynamic_shapes=(\n            {0: batch, 1: torch.export.Dim.STATIC},\n            {0: batch, 1: torch.export.Dim.AUTO},\n            {0: batch, 1: torch.export.Dim.AUTO},\n        ),\n    )\n)"
      ]
    }
  ],
  "metadata": {
    "kernelspec": {
      "display_name": "Python 3",
      "language": "python",
      "name": "python3"
    },
    "language_info": {
      "codemirror_mode": {
        "name": "ipython",
        "version": 3
      },
      "file_extension": ".py",
      "mimetype": "text/x-python",
      "name": "python",
      "nbconvert_exporter": "python",
      "pygments_lexer": "ipython3",
      "version": "3.10.12"
    }
  },
  "nbformat": 4,
  "nbformat_minor": 0
}