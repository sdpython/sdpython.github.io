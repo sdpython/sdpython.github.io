{
  "cells": [
    {
      "cell_type": "markdown",
      "metadata": {},
      "source": [
        "\n\n# 101: Onnx Model Rewriting\n\nThis example shows how to rewrite a graph using a pattern.\n\n## A model\n"
      ]
    },
    {
      "cell_type": "code",
      "execution_count": null,
      "metadata": {
        "collapsed": false
      },
      "outputs": [],
      "source": [
        "from typing import List, Optional\nimport onnx.helper as oh\nfrom onnx import NodeProto, TensorProto\nfrom experimental_experiment.helpers import pretty_onnx\nfrom onnx_array_api.plotting.graphviz_helper import plot_dot\nfrom experimental_experiment.xbuilder.graph_builder import (\n    GraphBuilder,\n    OptimizationOptions,\n)\nfrom experimental_experiment.xoptim import EasyPatternOptimization\n\n\nproto = oh.make_model(\n    oh.make_graph(\n        [\n            oh.make_node(\"Sigmoid\", [\"Y\"], [\"sy\"]),\n            oh.make_node(\"Mul\", [\"Y\", \"sy\"], [\"ysy\"]),\n            oh.make_node(\"Mul\", [\"X\", \"ysy\"], [\"final\"]),\n        ],\n        \"nd\",\n        [\n            oh.make_tensor_value_info(\"X\", TensorProto.FLOAT, [1, \"b\", \"c\"]),\n            oh.make_tensor_value_info(\"Y\", TensorProto.FLOAT, [\"a\", \"b\", \"c\"]),\n        ],\n        [oh.make_tensor_value_info(\"final\", TensorProto.FLOAT, [\"a\", \"b\", \"c\"])],\n    ),\n    opset_imports=[oh.make_opsetid(\"\", 18)],\n    ir_version=9,\n)\n\n\nprint(pretty_onnx(proto))"
      ]
    },
    {
      "cell_type": "markdown",
      "metadata": {},
      "source": [
        "And visually.\n\n"
      ]
    },
    {
      "cell_type": "code",
      "execution_count": null,
      "metadata": {
        "collapsed": false
      },
      "outputs": [],
      "source": [
        "plot_dot(proto)"
      ]
    },
    {
      "cell_type": "markdown",
      "metadata": {},
      "source": [
        "## The pattern\n\n"
      ]
    },
    {
      "cell_type": "code",
      "execution_count": null,
      "metadata": {
        "collapsed": false
      },
      "outputs": [],
      "source": [
        "class MulMulSigmoidPattern(EasyPatternOptimization):\n    def match_pattern(self, g: GraphBuilder, X, Y):\n        return g.op.Mul(X, g.op.Mul(Y, g.op.Sigmoid(Y)))\n\n    def apply_pattern(self, g: GraphBuilder, X, Y):\n        return g.anyop.MulMulSigmoid(X, Y, domain=\"onnx_extended.ortops.optim.cuda\")"
      ]
    },
    {
      "cell_type": "markdown",
      "metadata": {},
      "source": [
        "## Optimization\n\n"
      ]
    },
    {
      "cell_type": "code",
      "execution_count": null,
      "metadata": {
        "collapsed": false
      },
      "outputs": [],
      "source": [
        "gr = GraphBuilder(\n    proto,\n    infer_shapes=True,\n    optimization_options=OptimizationOptions(\n        patterns=[MulMulSigmoidPattern(verbose=1)],\n        verbose=1,  # a higher value increases the verbosity when optimizations for patterns\n    ),\n)\n\nnew_proto = gr.to_onnx()\nprint(pretty_onnx(new_proto))"
      ]
    },
    {
      "cell_type": "markdown",
      "metadata": {},
      "source": [
        "And visually.\n\n"
      ]
    },
    {
      "cell_type": "code",
      "execution_count": null,
      "metadata": {
        "collapsed": false
      },
      "outputs": [],
      "source": [
        "plot_dot(new_proto)"
      ]
    },
    {
      "cell_type": "markdown",
      "metadata": {},
      "source": [
        "## Filtering\n\nLet's assume now we want to apply the pattern only when the\nshapes are identical.\n\n"
      ]
    },
    {
      "cell_type": "code",
      "execution_count": null,
      "metadata": {
        "collapsed": false
      },
      "outputs": [],
      "source": [
        "class MulMulSigmoidPattern2(EasyPatternOptimization):\n    def match_pattern(self, g: GraphBuilder, X, Y):\n        return g.op.Mul(X, g.op.Mul(Y, g.op.Sigmoid(Y)))\n\n    def apply_pattern(self, g: GraphBuilder, X, Y):\n        return g.anyop.MulMulSigmoid(X, Y, domain=\"onnx_extended.ortops.optim.cuda\")\n\n    def validate_mapping(\n        self,\n        g: GraphBuilder,\n        deleted_nodes: List[NodeProto],\n        pattern_nodes: Optional[List[NodeProto]] = None,\n    ) -> bool:\n        for node in deleted_nodes:\n            if (\n                node.op_type == \"Mul\"\n                and g.has_shape(node.input[0])\n                and g.has_shape(node.input[1])\n            ):\n                sh1 = g.get_shape(node.input[0])\n                sh2 = g.get_shape(node.input[1])\n                if sh1 != sh2:\n                    if self.verbose > 0:\n                        print(\n                            f\"[MulMulSigmoidPattern2.validate_mapping] \"\n                            f\"match not valid because shapes are different\"\n                            f\"{node.input[0]}:{sh1} != {node.input[1]}:{sh2}\"\n                        )\n                    return False\n        return True\n\n\ngr = GraphBuilder(\n    proto,\n    infer_shapes=True,\n    optimization_options=OptimizationOptions(\n        patterns=[MulMulSigmoidPattern2(verbose=1)],\n        verbose=0,\n    ),\n)\n\nnew_proto = gr.to_onnx()\nprint(pretty_onnx(new_proto))"
      ]
    }
  ],
  "metadata": {
    "kernelspec": {
      "display_name": "Python 3",
      "language": "python",
      "name": "python3"
    },
    "language_info": {
      "codemirror_mode": {
        "name": "ipython",
        "version": 3
      },
      "file_extension": ".py",
      "mimetype": "text/x-python",
      "name": "python",
      "nbconvert_exporter": "python",
      "pygments_lexer": "ipython3",
      "version": "3.10.12"
    }
  },
  "nbformat": 4,
  "nbformat_minor": 0
}