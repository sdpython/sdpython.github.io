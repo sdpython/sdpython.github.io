{
  "cells": [
    {
      "cell_type": "markdown",
      "metadata": {},
      "source": [
        "\n\n# Infer dynamic shapes before exporting\n\nDynamic shapes need to be specified to get a model able to cope\nwith different dimensions. Input rank are expected to be the same\nbut the dimension may change. The user has the ability to\nset them up or to call a function able to infer them from\ntwo sets of inputs having different values for the dynamic dimensions.\n\n## Infer dynamic shapes\n"
      ]
    },
    {
      "cell_type": "code",
      "execution_count": null,
      "metadata": {
        "collapsed": false
      },
      "outputs": [],
      "source": [
        "import onnx\nfrom onnx_array_api.plotting.graphviz_helper import plot_dot\nimport torch\nfrom experimental_experiment.torch_interpreter import to_onnx\nfrom experimental_experiment.torch_interpreter.piece_by_piece import (\n    trace_execution_piece_by_piece,\n)\n\n\nclass MA(torch.nn.Module):\n    def forward(self, x, y):\n        return x + y\n\n\nclass MM(torch.nn.Module):\n    def forward(self, x, y):\n        return x * y\n\n\nclass MASMM(torch.nn.Module):\n    def __init__(self):\n        super().__init__()\n        self.ma = MA()\n        self.mm = MM()\n\n    def forward(self, x, y, z):\n        return self.ma(x, y) - self.mm(y, z)\n\n\nclass Model(torch.nn.Module):\n    def __init__(self):\n        super().__init__()\n        self.ma = MA()\n        self.masmm = MASMM()\n\n    def forward(self, x):\n        return self.ma(x, self.masmm(x, x, x))"
      ]
    },
    {
      "cell_type": "markdown",
      "metadata": {},
      "source": [
        "The model.\n\n"
      ]
    },
    {
      "cell_type": "code",
      "execution_count": null,
      "metadata": {
        "collapsed": false
      },
      "outputs": [],
      "source": [
        "model = Model()"
      ]
    },
    {
      "cell_type": "markdown",
      "metadata": {},
      "source": [
        "Two sets of inputs.\n\n"
      ]
    },
    {
      "cell_type": "code",
      "execution_count": null,
      "metadata": {
        "collapsed": false
      },
      "outputs": [],
      "source": [
        "inputs = [\n    ((torch.randn((5, 6)),), {}),\n    ((torch.randn((6, 6)),), {}),\n]"
      ]
    },
    {
      "cell_type": "markdown",
      "metadata": {},
      "source": [
        "Then we run the model, stores intermediates inputs and outputs,\nto finally guess the dynamic shapes.\n\n"
      ]
    },
    {
      "cell_type": "code",
      "execution_count": null,
      "metadata": {
        "collapsed": false
      },
      "outputs": [],
      "source": [
        "diag = trace_execution_piece_by_piece(model, inputs, verbose=0)\npretty = diag.pretty_text(with_dynamic_shape=True)\nprint(pretty)"
      ]
    },
    {
      "cell_type": "markdown",
      "metadata": {},
      "source": [
        "The dynamic shapes are obtained with:\n\n"
      ]
    },
    {
      "cell_type": "code",
      "execution_count": null,
      "metadata": {
        "collapsed": false
      },
      "outputs": [],
      "source": [
        "ds = diag.guess_dynamic_shapes()\nprint(ds)"
      ]
    },
    {
      "cell_type": "markdown",
      "metadata": {},
      "source": [
        "## Export\n\nWe use these dynamic shapes to export.\n\n"
      ]
    },
    {
      "cell_type": "code",
      "execution_count": null,
      "metadata": {
        "collapsed": false
      },
      "outputs": [],
      "source": [
        "ep = torch.export.export(model, inputs[0][0], kwargs=inputs[0][1], dynamic_shapes=ds[0])\nprint(ep)"
      ]
    },
    {
      "cell_type": "markdown",
      "metadata": {},
      "source": [
        "We can use that graph to get the onnx model.\n\n"
      ]
    },
    {
      "cell_type": "code",
      "execution_count": null,
      "metadata": {
        "collapsed": false
      },
      "outputs": [],
      "source": [
        "onx, builder = to_onnx(ep, return_builder=True)\nonnx.save(onx, \"plot_exporter_exporter_infer_ds.onnx\")\nprint(builder.pretty_text())"
      ]
    },
    {
      "cell_type": "markdown",
      "metadata": {},
      "source": [
        "And visually.\n\n"
      ]
    },
    {
      "cell_type": "code",
      "execution_count": null,
      "metadata": {
        "collapsed": false
      },
      "outputs": [],
      "source": [
        "plot_dot(onx)"
      ]
    }
  ],
  "metadata": {
    "kernelspec": {
      "display_name": "Python 3",
      "language": "python",
      "name": "python3"
    },
    "language_info": {
      "codemirror_mode": {
        "name": "ipython",
        "version": 3
      },
      "file_extension": ".py",
      "mimetype": "text/x-python",
      "name": "python",
      "nbconvert_exporter": "python",
      "pygments_lexer": "ipython3",
      "version": "3.12.8"
    }
  },
  "nbformat": 4,
  "nbformat_minor": 0
}