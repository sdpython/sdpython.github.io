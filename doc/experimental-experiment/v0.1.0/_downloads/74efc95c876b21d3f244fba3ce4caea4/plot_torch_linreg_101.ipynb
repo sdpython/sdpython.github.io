{
  "cells": [
    {
      "cell_type": "markdown",
      "metadata": {},
      "source": [
        "\n\n# 101: Linear Regression and export to ONNX\n\n:epkg:`scikit-learn` and :epkg:`torch` to train a linear regression.\n\n## data\n"
      ]
    },
    {
      "cell_type": "code",
      "execution_count": null,
      "metadata": {
        "collapsed": false
      },
      "outputs": [],
      "source": [
        "import numpy as np\nfrom sklearn.datasets import make_regression\nfrom sklearn.linear_model import LinearRegression, SGDRegressor\nfrom sklearn.metrics import mean_squared_error, r2_score\nfrom sklearn.model_selection import train_test_split\nimport torch\nfrom onnxruntime import InferenceSession\nfrom experimental_experiment.helpers import pretty_onnx\nfrom onnx_array_api.plotting.graphviz_helper import plot_dot\nfrom experimental_experiment.torch_interpreter import to_onnx\n\n\nX, y = make_regression(1000, n_features=5, noise=10.0, n_informative=2)\nprint(X.shape, y.shape)\n\nX_train, X_test, y_train, y_test = train_test_split(X, y)"
      ]
    },
    {
      "cell_type": "markdown",
      "metadata": {},
      "source": [
        "## scikit-learn: the simple regression\n\n\\begin{align}A^* = (X'X)^{-1}X'Y\\end{align}\n\n"
      ]
    },
    {
      "cell_type": "code",
      "execution_count": null,
      "metadata": {
        "collapsed": false
      },
      "outputs": [],
      "source": [
        "clr = LinearRegression()\nclr.fit(X_train, y_train)\n\nprint(f\"coefficients: {clr.coef_}, {clr.intercept_}\")"
      ]
    },
    {
      "cell_type": "markdown",
      "metadata": {},
      "source": [
        "## Evaluation\n\n"
      ]
    },
    {
      "cell_type": "code",
      "execution_count": null,
      "metadata": {
        "collapsed": false
      },
      "outputs": [],
      "source": [
        "y_pred = clr.predict(X_test)\nl2 = mean_squared_error(y_test, y_pred)\nr2 = r2_score(y_test, y_pred)\nprint(f\"LinearRegression: l2={l2}, r2={r2}\")"
      ]
    },
    {
      "cell_type": "markdown",
      "metadata": {},
      "source": [
        "## scikit-learn: SGD algorithm\n\nSGD = Stochastic Gradient Descent\n\n"
      ]
    },
    {
      "cell_type": "code",
      "execution_count": null,
      "metadata": {
        "collapsed": false
      },
      "outputs": [],
      "source": [
        "clr = SGDRegressor(max_iter=5, verbose=1)\nclr.fit(X_train, y_train)\n\nprint(f\"coefficients: {clr.coef_}, {clr.intercept_}\")"
      ]
    },
    {
      "cell_type": "markdown",
      "metadata": {},
      "source": [
        "Evaluation\n\n"
      ]
    },
    {
      "cell_type": "code",
      "execution_count": null,
      "metadata": {
        "collapsed": false
      },
      "outputs": [],
      "source": [
        "y_pred = clr.predict(X_test)\nsl2 = mean_squared_error(y_test, y_pred)\nsr2 = r2_score(y_test, y_pred)\nprint(f\"SGDRegressor: sl2={sl2}, sr2={sr2}\")"
      ]
    },
    {
      "cell_type": "markdown",
      "metadata": {},
      "source": [
        "## Linrar Regression with pytorch\n\n"
      ]
    },
    {
      "cell_type": "code",
      "execution_count": null,
      "metadata": {
        "collapsed": false
      },
      "outputs": [],
      "source": [
        "class TorchLinearRegression(torch.nn.Module):\n    def __init__(self, n_dims: int, n_targets: int):\n        super().__init__()\n        self.linear = torch.nn.Linear(n_dims, n_targets)\n\n    def forward(self, x):\n        return self.linear(x)\n\n\ndef train_loop(dataloader, model, loss_fn, optimizer):\n    total_loss = 0.0\n\n    # Set the model to training mode - important for batch normalization and dropout layers\n    # Unnecessary in this situation but added for best practices\n    model.train()\n    for X, y in dataloader:\n        # Compute prediction and loss\n        pred = model(X)\n        loss = loss_fn(pred.ravel(), y)\n\n        # Backpropagation\n        loss.backward()\n        optimizer.step()\n        optimizer.zero_grad()\n\n        # training loss\n        total_loss += loss\n\n    return total_loss\n\n\nmodel = TorchLinearRegression(X_train.shape[1], 1)\noptimizer = torch.optim.SGD(model.parameters(), lr=1e-3)\nloss_fn = torch.nn.MSELoss()\n\ndevice = \"cpu\"\nmodel = model.to(device)\ndataset = torch.utils.data.TensorDataset(\n    torch.Tensor(X_train).to(device), torch.Tensor(y_train).to(device)\n)\ndataloader = torch.utils.data.DataLoader(dataset, batch_size=1)\n\n\nfor i in range(5):\n    loss = train_loop(dataloader, model, loss_fn, optimizer)\n    print(f\"iteration {i}, loss={loss}\")"
      ]
    },
    {
      "cell_type": "markdown",
      "metadata": {},
      "source": [
        "Let's check the error\n\n"
      ]
    },
    {
      "cell_type": "code",
      "execution_count": null,
      "metadata": {
        "collapsed": false
      },
      "outputs": [],
      "source": [
        "y_pred = model(torch.Tensor(X_test)).detach().numpy()\ntl2 = mean_squared_error(y_test, y_pred)\ntr2 = r2_score(y_test, y_pred)\nprint(f\"TorchLinearRegression: tl2={tl2}, tr2={tr2}\")"
      ]
    },
    {
      "cell_type": "markdown",
      "metadata": {},
      "source": [
        "And the coefficients.\n\n"
      ]
    },
    {
      "cell_type": "code",
      "execution_count": null,
      "metadata": {
        "collapsed": false
      },
      "outputs": [],
      "source": [
        "print(\"coefficients:\")\nfor p in model.parameters():\n    print(p)"
      ]
    },
    {
      "cell_type": "markdown",
      "metadata": {},
      "source": [
        "## Conversion to ONNX\n\nLet's convert it to ONNX.\n\n"
      ]
    },
    {
      "cell_type": "code",
      "execution_count": null,
      "metadata": {
        "collapsed": false
      },
      "outputs": [],
      "source": [
        "onx = to_onnx(model, (torch.Tensor(X_test[:2]),), input_names=[\"x\"])"
      ]
    },
    {
      "cell_type": "markdown",
      "metadata": {},
      "source": [
        "Let's check it is work.\n\n"
      ]
    },
    {
      "cell_type": "code",
      "execution_count": null,
      "metadata": {
        "collapsed": false
      },
      "outputs": [],
      "source": [
        "sess = InferenceSession(onx.SerializeToString(), providers=[\"CPUExecutionProvider\"])\nres = sess.run(None, {\"x\": X_test.astype(np.float32)[:2]})\nprint(res)"
      ]
    },
    {
      "cell_type": "markdown",
      "metadata": {},
      "source": [
        "And the model.\n\n"
      ]
    },
    {
      "cell_type": "code",
      "execution_count": null,
      "metadata": {
        "collapsed": false
      },
      "outputs": [],
      "source": [
        "plot_dot(onx)"
      ]
    },
    {
      "cell_type": "markdown",
      "metadata": {},
      "source": [
        "## With dynamic shapes\n\nThe dynamic shapes are used by :func:`torch.export.export` and must\nfollow the convention described there. The dynamic dimension allows\nany value. The model is then valid for many different shapes.\nThat's usually what users need.\n\n"
      ]
    },
    {
      "cell_type": "code",
      "execution_count": null,
      "metadata": {
        "collapsed": false
      },
      "outputs": [],
      "source": [
        "onx = to_onnx(\n    model,\n    (torch.Tensor(X_test[:2]),),\n    input_names=[\"x\"],\n    dynamic_shapes={\"x\": {0: torch.export.Dim(\"batch\")}},\n)\n\nprint(pretty_onnx(onx))"
      ]
    },
    {
      "cell_type": "markdown",
      "metadata": {},
      "source": [
        "For simplicity, it is possible to use ``torch.export.Dim.DYNAMIC``\nor ``torch.export.Dim.AUTO``.\n\n"
      ]
    },
    {
      "cell_type": "code",
      "execution_count": null,
      "metadata": {
        "collapsed": false
      },
      "outputs": [],
      "source": [
        "onx = to_onnx(\n    model,\n    (torch.Tensor(X_test[:2]),),\n    input_names=[\"x\"],\n    dynamic_shapes={\"x\": {0: torch.export.Dim.DYNAMIC}},\n)\n\nprint(pretty_onnx(onx))"
      ]
    }
  ],
  "metadata": {
    "kernelspec": {
      "display_name": "Python 3",
      "language": "python",
      "name": "python3"
    },
    "language_info": {
      "codemirror_mode": {
        "name": "ipython",
        "version": 3
      },
      "file_extension": ".py",
      "mimetype": "text/x-python",
      "name": "python",
      "nbconvert_exporter": "python",
      "pygments_lexer": "ipython3",
      "version": "3.12.8"
    }
  },
  "nbformat": 4,
  "nbformat_minor": 0
}