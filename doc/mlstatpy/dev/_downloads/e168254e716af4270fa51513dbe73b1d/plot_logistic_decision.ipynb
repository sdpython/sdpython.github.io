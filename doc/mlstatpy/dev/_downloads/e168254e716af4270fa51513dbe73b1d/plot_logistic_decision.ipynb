{
 "cells": [
  {
   "cell_type": "markdown",
   "metadata": {},
   "source": [
    "\n",
    "\n",
    "# Arbre d'indécision\n",
    "\n",
    "La construction d'un arbre de décision appliqué à une\n",
    "classification binaire suppose qu'on puisse\n",
    "déterminer un seuil qui sépare les deux classes ou tout\n",
    "du moins qui aboutisse à deux sous-ensemble dans lesquels\n",
    "une classe est majoritaire. Mais certains cas, c'est une\n",
    "chose compliquée.\n",
    "\n",
    "## Un cas simple et un cas compliqué\n",
    "\n",
    "Il faut choisir un seuil sur l'axe des abscisses qui\n",
    "permette de classer le jeu de données.\n"
   ]
  },
  {
   "cell_type": "code",
   "execution_count": null,
   "metadata": {
    "collapsed": false
   },
   "outputs": [],
   "source": [
    "import numpy\n",
    "import matplotlib.pyplot as plt\n",
    "from pandas import DataFrame\n",
    "\n",
    "\n",
    "def random_set_1d(n, kind):\n",
    "    x = numpy.random.rand(n) * 3 - 1\n",
    "    if kind:\n",
    "        y = numpy.empty(x.shape, dtype=numpy.int32)\n",
    "        y[x < 0] = 0\n",
    "        y[(x >= 0) & (x <= 1)] = 1\n",
    "        y[x > 1] = 0\n",
    "    else:\n",
    "        y = numpy.empty(x.shape, dtype=numpy.int32)\n",
    "        y[x < 0] = 0\n",
    "        y[x >= 0] = 1\n",
    "    x2 = numpy.random.rand(n)\n",
    "    return numpy.vstack([x, x2]).T, y\n",
    "\n",
    "\n",
    "def plot_ds(X, y, ax=None, title=None):\n",
    "    if ax is None:\n",
    "        ax = plt.gca()\n",
    "    ax.scatter(X[:, 0], X[:, 1], c=y, s=20, edgecolor=\"k\", lw=0.5)\n",
    "    if title is not None:\n",
    "        ax.set_title(title)\n",
    "    return ax\n",
    "\n",
    "\n",
    "X1, y1 = random_set_1d(1000, False)\n",
    "X2, y2 = random_set_1d(1000, True)\n",
    "\n",
    "fig, ax = plt.subplots(1, 2, figsize=(12, 6), sharey=True)\n",
    "plot_ds(X1, y1, ax=ax[0], title=\"easy\")\n",
    "plot_ds(X2, y2, ax=ax[1], title=\"difficult\")"
   ]
  },
  {
   "cell_type": "markdown",
   "metadata": {},
   "source": [
    "### Seuil de décision\n",
    "\n",
    "Les arbres de décision utilisent comme critère\n",
    "le critère de [Gini](https://fr.wikipedia.org/wiki/\n",
    "Arbre_de_d%C3%A9cision_(apprentissage)#Cas_des_arbres_de_classification)\n",
    "ou l'[entropie](https://fr.wikipedia.org/wiki/Entropie_de_Shannon).\n",
    "L'apprentissage d'une régression logistique\n",
    "s'appuie sur la `log-vraisemblance <l-lr-log-likelihood>`\n",
    "du jeu de données. On regarde l'évolution de ces critères\n",
    "en fonction des différents seuils possibles.\n",
    "\n"
   ]
  },
  {
   "cell_type": "code",
   "execution_count": null,
   "metadata": {
    "collapsed": false
   },
   "outputs": [],
   "source": [
    "def plog2(p):\n",
    "    if p == 0:\n",
    "        return 0\n",
    "    return p * numpy.log(p) / numpy.log(2)\n",
    "\n",
    "\n",
    "def logistic(x):\n",
    "    return 1.0 / (1.0 + numpy.exp(-x))\n",
    "\n",
    "\n",
    "def likelihood(x, y, theta=1.0, th=0.0):\n",
    "    lr = logistic((x - th) * theta)\n",
    "    return y * lr + (1.0 - y) * (1 - lr)\n",
    "\n",
    "\n",
    "def criteria(X, y):\n",
    "    res = numpy.empty((X.shape[0], 8))\n",
    "    res[:, 0] = X[:, 0]\n",
    "    res[:, 1] = y\n",
    "    order = numpy.argsort(res[:, 0])\n",
    "    res = res[order, :].copy()\n",
    "    x = res[:, 0].copy()\n",
    "    y = res[:, 1].copy()\n",
    "\n",
    "    for i in range(1, res.shape[0] - 1):\n",
    "        # gini\n",
    "        p1 = numpy.sum(y[:i]) / i\n",
    "        p2 = numpy.sum(y[i:]) / (y.shape[0] - i)\n",
    "        res[i, 2] = p1\n",
    "        res[i, 3] = p2\n",
    "        res[i, 4] = 1 - p1**2 - (1 - p1) ** 2 + 1 - p2**2 - (1 - p2) ** 2\n",
    "        res[i, 5] = -plog2(p1) - plog2(1 - p1) - plog2(p2) - plog2(1 - p2)\n",
    "        th = x[i]\n",
    "        res[i, 6] = logistic(th * 10.0)\n",
    "        res[i, 7] = numpy.sum(likelihood(x, y, 10.0, th)) / res.shape[0]\n",
    "    return DataFrame(\n",
    "        res[1:-1], columns=[\"X\", \"y\", \"p1\", \"p2\", \"Gini\", \"Gain\", \"lr\", \"LL-10\"]\n",
    "    )\n",
    "\n",
    "\n",
    "X1, y1 = random_set_1d(1000, False)\n",
    "X2, y2 = random_set_1d(1000, True)\n",
    "\n",
    "df = criteria(X1, y1)\n",
    "print(df.head())"
   ]
  },
  {
   "cell_type": "markdown",
   "metadata": {},
   "source": [
    "Et visuellement...\n",
    "\n"
   ]
  },
  {
   "cell_type": "code",
   "execution_count": null,
   "metadata": {
    "collapsed": false
   },
   "outputs": [],
   "source": [
    "def plot_ds(X, y, ax=None, title=None):\n",
    "    if ax is None:\n",
    "        ax = plt.gca()\n",
    "    ax.scatter(X[:, 0], X[:, 1], c=y, s=20, edgecolor=\"k\", lw=0.5)\n",
    "    if title is not None:\n",
    "        ax.set_title(title)\n",
    "    return ax\n",
    "\n",
    "\n",
    "df1 = criteria(X1, y1)\n",
    "df2 = criteria(X2, y2)\n",
    "\n",
    "fig, ax = plt.subplots(1, 2, figsize=(12, 6), sharey=True)\n",
    "plot_ds(X1, y1, ax=ax[0], title=\"easy\")\n",
    "plot_ds(X2, y2, ax=ax[1], title=\"difficult\")\n",
    "df1.plot(x=\"X\", y=[\"Gini\", \"Gain\", \"LL-10\", \"p1\", \"p2\"], ax=ax[0], lw=5.0)\n",
    "df2.plot(x=\"X\", y=[\"Gini\", \"Gain\", \"LL-10\", \"p1\", \"p2\"], ax=ax[1], lw=5.0)"
   ]
  },
  {
   "cell_type": "markdown",
   "metadata": {},
   "source": [
    "Le premier exemple est le cas simple et tous les\n",
    "indicateurs trouvent bien la fontière entre les deux classes\n",
    "comme un extremum sur l'intervalle considéré.\n",
    "Le second cas est linéairement non séparable.\n",
    "Aucun des indicateurs ne semble trouver une des\n",
    "deux frontières. La log-vraisemblance montre deux\n",
    "maxima. L'un est bien situé sur une frontière, le second\n",
    "est situé à une extrémité de l'intervalle, ce qui revient\n",
    "à construire un classifier qui retourné une réponse\n",
    "constante. C'est donc inutile.\n",
    "\n"
   ]
  }
 ],
 "metadata": {
  "kernelspec": {
   "display_name": "Python 3",
   "language": "python",
   "name": "python3"
  },
  "language_info": {
   "codemirror_mode": {
    "name": "ipython",
    "version": 3
   },
   "file_extension": ".py",
   "mimetype": "text/x-python",
   "name": "python",
   "nbconvert_exporter": "python",
   "pygments_lexer": "ipython3",
   "version": "3.10.6"
  }
 },
 "nbformat": 4,
 "nbformat_minor": 0
}
