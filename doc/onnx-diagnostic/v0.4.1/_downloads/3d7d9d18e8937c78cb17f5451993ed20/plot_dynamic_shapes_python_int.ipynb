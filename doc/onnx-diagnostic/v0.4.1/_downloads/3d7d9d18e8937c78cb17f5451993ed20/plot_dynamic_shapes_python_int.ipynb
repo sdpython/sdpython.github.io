{
  "cells": [
    {
      "cell_type": "markdown",
      "metadata": {},
      "source": [
        "\n# Do not use python int with dynamic shapes\n\n:func:`torch.export.export` uses :class:`torch.SymInt` to operate on shapes and\noptimizes the graph it produces. It checks if two tensors share the same dimension,\nif the shapes can be broadcast, ... To do that, python types must not be used\nor the algorithm looses information.\n\n## Wrong Model\n"
      ]
    },
    {
      "cell_type": "code",
      "execution_count": null,
      "metadata": {
        "collapsed": false
      },
      "outputs": [],
      "source": [
        "import math\nimport torch\nfrom onnx_diagnostic import doc\nfrom onnx_diagnostic.torch_export_patches import bypass_export_some_errors\n\n\nclass Model(torch.nn.Module):\n    def dim(self, i, divisor):\n        return int(math.ceil(i / divisor))  # noqa: RUF046\n\n    def forward(self, x):\n        new_shape = (self.dim(x.shape[0], 8), x.shape[1])\n        return torch.zeros(new_shape)\n\n\nmodel = Model()\nx = torch.rand((10, 15))\ny = model(x)\nprint(f\"x.shape={x.shape}, y.shape={y.shape}\")"
      ]
    },
    {
      "cell_type": "markdown",
      "metadata": {},
      "source": [
        "## Export\n\n"
      ]
    },
    {
      "cell_type": "code",
      "execution_count": null,
      "metadata": {
        "collapsed": false
      },
      "outputs": [],
      "source": [
        "DYN = torch.export.Dim.DYNAMIC\nep = torch.export.export(model, (x,), dynamic_shapes=(({0: DYN, 1: DYN}),))\nprint(ep)"
      ]
    },
    {
      "cell_type": "markdown",
      "metadata": {},
      "source": [
        "The last dimension became static. We must not use int.\n:func:`math.ceil` should be avoided as well since it is a python operation.\nThe exporter may fail to detect it is operating on shapes.\n\n## Rewrite\n\n"
      ]
    },
    {
      "cell_type": "code",
      "execution_count": null,
      "metadata": {
        "collapsed": false
      },
      "outputs": [],
      "source": [
        "class RewrittenModel(torch.nn.Module):\n    def dim(self, i, divisor):\n        return (i + divisor - 1) // divisor\n\n    def forward(self, x):\n        new_shape = (self.dim(x.shape[0], 8), x.shape[1])\n        return torch.zeros(new_shape)\n\n\nrewritten_model = RewrittenModel()\ny = rewritten_model(x)\nprint(f\"x.shape={x.shape}, y.shape={y.shape}\")"
      ]
    },
    {
      "cell_type": "markdown",
      "metadata": {},
      "source": [
        "## Export\n\n"
      ]
    },
    {
      "cell_type": "code",
      "execution_count": null,
      "metadata": {
        "collapsed": false
      },
      "outputs": [],
      "source": [
        "ep = torch.export.export(rewritten_model, (x,), dynamic_shapes=({0: DYN, 1: DYN},))\nprint(ep)"
      ]
    },
    {
      "cell_type": "markdown",
      "metadata": {},
      "source": [
        "## Find the error\n\nFunction :func:`onnx_diagnostic.torch_export_patches.bypass_export_some_errors`\nhas a parameter ``stop_if_static`` which patches torch to raise exception\nwhen something like that is happening.\n\n"
      ]
    },
    {
      "cell_type": "code",
      "execution_count": null,
      "metadata": {
        "collapsed": false
      },
      "outputs": [],
      "source": [
        "with bypass_export_some_errors(stop_if_static=True):\n    ep = torch.export.export(model, (x,), dynamic_shapes=({0: DYN, 1: DYN},))\n    print(ep)"
      ]
    },
    {
      "cell_type": "code",
      "execution_count": null,
      "metadata": {
        "collapsed": false
      },
      "outputs": [],
      "source": [
        "doc.plot_legend(\"dynamic shapes\\ndo not cast to\\npython int\", \"dynamic shapes\", \"yellow\")"
      ]
    }
  ],
  "metadata": {
    "kernelspec": {
      "display_name": "Python 3",
      "language": "python",
      "name": "python3"
    },
    "language_info": {
      "codemirror_mode": {
        "name": "ipython",
        "version": 3
      },
      "file_extension": ".py",
      "mimetype": "text/x-python",
      "name": "python",
      "nbconvert_exporter": "python",
      "pygments_lexer": "ipython3",
      "version": "3.12.9"
    }
  },
  "nbformat": 4,
  "nbformat_minor": 0
}