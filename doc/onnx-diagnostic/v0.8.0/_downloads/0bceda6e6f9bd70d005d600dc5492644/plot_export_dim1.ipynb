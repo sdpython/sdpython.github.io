{
  "cells": [
    {
      "cell_type": "markdown",
      "metadata": {},
      "source": [
        "\n\n# 0, 1, 2 for a Dynamic Dimension in the dummy example to export a model\n\n:func:`torch.export.export` does not work if a tensor given to the function\nhas 0 or 1 for dimension declared as dynamic dimension.\n\n## Simple model, no dimension with 0 or 1\n"
      ]
    },
    {
      "cell_type": "code",
      "execution_count": null,
      "metadata": {
        "collapsed": false
      },
      "outputs": [],
      "source": [
        "import torch\nfrom onnx_diagnostic import doc\nfrom onnx_diagnostic.helpers import string_type\nfrom onnx_diagnostic.torch_export_patches import torch_export_patches\n\n\nclass Model(torch.nn.Module):\n    def forward(self, x, y, z):\n        return torch.cat((x, y), axis=1) + z\n\n\nmodel = Model()\nx = torch.randn(2, 3)\ny = torch.randn(2, 5)\nz = torch.randn(2, 8)\nmodel(x, y, z)\n\nDYN = torch.export.Dim.DYNAMIC\nds = {0: DYN, 1: DYN}\n\nprint(\"-- export shape:\", string_type((x, y, z), with_shape=True))\nprint(\"-- dynamic shapes:\", string_type((ds, ds, ds)))\n\nep = torch.export.export(model, (x, y, z), dynamic_shapes=(ds, ds, ds))\nprint(ep)"
      ]
    },
    {
      "cell_type": "markdown",
      "metadata": {},
      "source": [
        "## Same model, a dynamic dimension = 1\n\n"
      ]
    },
    {
      "cell_type": "code",
      "execution_count": null,
      "metadata": {
        "collapsed": false
      },
      "outputs": [],
      "source": [
        "z = z[:1]\n\nDYN = torch.export.Dim.DYNAMIC\nds = {0: DYN, 1: DYN}\n\nprint(\"-- export shape:\", string_type((x, y, z), with_shape=True))\nprint(\"-- dynamic shapes:\", string_type((ds, ds, ds)))\n\ntry:\n    ep = torch.export.export(model, (x, y, z), dynamic_shapes=(ds, ds, ds))\n    print(ep)\nexcept Exception as e:\n    print(\"ERROR\", e)"
      ]
    },
    {
      "cell_type": "markdown",
      "metadata": {},
      "source": [
        "It failed. Let's try a little trick.\n\n"
      ]
    },
    {
      "cell_type": "markdown",
      "metadata": {},
      "source": [
        "## Same model, a dynamic dimension = 1 and backed_size_oblivious=True\n\n"
      ]
    },
    {
      "cell_type": "code",
      "execution_count": null,
      "metadata": {
        "collapsed": false
      },
      "outputs": [],
      "source": [
        "print(\"-- export shape:\", string_type((x, y, z), with_shape=True))\nprint(\"-- dynamic shapes:\", string_type((ds, ds, ds)))\n\ntry:\n    with torch.fx.experimental._config.patch(backed_size_oblivious=True):\n        ep = torch.export.export(model, (x, y, z), dynamic_shapes=(ds, ds, ds))\n        print(ep)\nexcept RuntimeError as e:\n    print(\"ERROR\", e)"
      ]
    },
    {
      "cell_type": "markdown",
      "metadata": {},
      "source": [
        "## Final try with patches...\n\n"
      ]
    },
    {
      "cell_type": "code",
      "execution_count": null,
      "metadata": {
        "collapsed": false
      },
      "outputs": [],
      "source": [
        "print(\"-- export shape:\", string_type((x, y, z), with_shape=True))\nprint(\"-- dynamic shapes:\", string_type((ds, ds, ds)))\n\nwith torch_export_patches(patch_torch=1):\n    try:\n        ep = torch.export.export(model, (x, y, z), dynamic_shapes=(ds, ds, ds))\n        print(ep)\n    except RuntimeError as e:\n        print(\"ERROR\", e)"
      ]
    },
    {
      "cell_type": "markdown",
      "metadata": {},
      "source": [
        "It is difficult to find the good option. It is possible on a simple model\nbut sometimes impossible on a bigger model mixing different shapes.\n\n"
      ]
    },
    {
      "cell_type": "code",
      "execution_count": null,
      "metadata": {
        "collapsed": false
      },
      "outputs": [],
      "source": [
        "doc.plot_legend(\"dynamic dimension\\nworking with\\n0 or 1\", \"torch.export.export\", \"green\")"
      ]
    }
  ],
  "metadata": {
    "kernelspec": {
      "display_name": "Python 3",
      "language": "python",
      "name": "python3"
    },
    "language_info": {
      "codemirror_mode": {
        "name": "ipython",
        "version": 3
      },
      "file_extension": ".py",
      "mimetype": "text/x-python",
      "name": "python",
      "nbconvert_exporter": "python",
      "pygments_lexer": "ipython3",
      "version": "3.12.3"
    }
  },
  "nbformat": 4,
  "nbformat_minor": 0
}