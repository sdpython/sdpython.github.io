{
  "cells": [
    {
      "cell_type": "markdown",
      "metadata": {},
      "source": [
        "\n\n# Intermediate results with (ONNX) ReferenceEvaluator\n\nLet's assume :epkg:`onnxruntime` crashes without telling why or where.\nThe first thing is do is to locate where. For that, we run a python runtime\nwhich is going to run until it fails.\n\n## A failing model\n\nThe issue here is a an operator ``Cast`` trying to convert a result\ninto a non-existing type.\n"
      ]
    },
    {
      "cell_type": "code",
      "execution_count": null,
      "metadata": {
        "collapsed": false
      },
      "outputs": [],
      "source": [
        "import numpy as np\nimport onnx\nimport onnx.helper as oh\nimport onnxruntime\nfrom onnx_diagnostic import doc\nfrom onnx_diagnostic.helpers import from_array_extended\nfrom onnx_diagnostic.reference import ExtendedReferenceEvaluator\n\nTFLOAT = onnx.TensorProto.FLOAT\n\nmodel = oh.make_model(\n    oh.make_graph(\n        [\n            oh.make_node(\"Mul\", [\"X\", \"Y\"], [\"xy\"], name=\"n0\"),\n            oh.make_node(\"Sigmoid\", [\"xy\"], [\"sy\"], name=\"n1\"),\n            oh.make_node(\"Add\", [\"sy\", \"one\"], [\"C\"], name=\"n2\"),\n            oh.make_node(\"Cast\", [\"C\"], [\"X999\"], to=999, name=\"failing\"),\n            oh.make_node(\"CastLike\", [\"X999\", \"Y\"], [\"Z\"], name=\"n4\"),\n        ],\n        \"-nd-\",\n        [\n            oh.make_tensor_value_info(\"X\", TFLOAT, [\"a\", \"b\", \"c\"]),\n            oh.make_tensor_value_info(\"Y\", TFLOAT, [\"a\", \"b\", \"c\"]),\n        ],\n        [oh.make_tensor_value_info(\"Z\", TFLOAT, [\"a\", \"b\", \"c\"])],\n        [from_array_extended(np.array([1], dtype=np.float32), name=\"one\")],\n    ),\n    opset_imports=[oh.make_opsetid(\"\", 18)],\n    ir_version=9,\n)"
      ]
    },
    {
      "cell_type": "markdown",
      "metadata": {},
      "source": [
        "We check it is failing.\n\n"
      ]
    },
    {
      "cell_type": "code",
      "execution_count": null,
      "metadata": {
        "collapsed": false
      },
      "outputs": [],
      "source": [
        "try:\n    onnxruntime.InferenceSession(model.SerializeToString(), providers=[\"CPUExecutionProvider\"])\nexcept onnxruntime.capi.onnxruntime_pybind11_state.Fail as e:\n    print(e)"
      ]
    },
    {
      "cell_type": "markdown",
      "metadata": {},
      "source": [
        "## ExtendedReferenceEvaluator\n\nThis class extends :class:`onnx.reference.ReferenceEvaluator`\nwith operators outside the standard but defined by :epkg:`onnxruntime`.\n`verbose=10` tells the class to print as much as possible,\n`verbose=0` prints nothing. Intermediate values for more or less verbosity.\n\n"
      ]
    },
    {
      "cell_type": "code",
      "execution_count": null,
      "metadata": {
        "collapsed": false
      },
      "outputs": [],
      "source": [
        "ref = ExtendedReferenceEvaluator(model, verbose=10)\nfeeds = dict(\n    X=np.random.rand(3, 4).astype(np.float32), Y=np.random.rand(3, 4).astype(np.float32)\n)\ntry:\n    ref.run(None, feeds)\nexcept Exception as e:\n    print(\"ERROR\", type(e), e)"
      ]
    },
    {
      "cell_type": "markdown",
      "metadata": {},
      "source": [
        "We can see it run until it reaches `Cast` and stops.\nThe error message is not always obvious to interpret.\nIt gets improved every time from time to time.\nThis runtime is useful when it fails for a numerical reason.\nIt is possible to insert prints in the python code to print\nmore information or debug if needed.\n\n"
      ]
    },
    {
      "cell_type": "code",
      "execution_count": null,
      "metadata": {
        "collapsed": false
      },
      "outputs": [],
      "source": [
        "doc.plot_legend(\"Python Runtime for ONNX\", \"ExtendedReferenceEvalutor\", \"lightgrey\")"
      ]
    }
  ],
  "metadata": {
    "kernelspec": {
      "display_name": "Python 3",
      "language": "python",
      "name": "python3"
    },
    "language_info": {
      "codemirror_mode": {
        "name": "ipython",
        "version": 3
      },
      "file_extension": ".py",
      "mimetype": "text/x-python",
      "name": "python",
      "nbconvert_exporter": "python",
      "pygments_lexer": "ipython3",
      "version": "3.12.8"
    }
  },
  "nbformat": 4,
  "nbformat_minor": 0
}