{
  "cells": [
    {
      "cell_type": "markdown",
      "metadata": {},
      "source": [
        "\n# Builds dynamic shapes from any input\n\nGetting dynamic shapes right for :func:`torch.export.export` when the inputs\nincludes a custom class such as a :class:`transformers.cache_utils.DynamicCache`.\n:func:`torch.export.export` cannot use a DynamicCache filled with dynamic shapes\nbut instead it uses a kind of unserialized serialized form of it.\n\n## Standard inputs for a LLM with a dynamic cache\n"
      ]
    },
    {
      "cell_type": "code",
      "execution_count": null,
      "metadata": {
        "collapsed": false
      },
      "outputs": [],
      "source": [
        "import pprint\nimport torch\nfrom onnx_diagnostic import doc\nfrom onnx_diagnostic.helpers import string_type\nfrom onnx_diagnostic.helpers.cache_helper import make_dynamic_cache\nfrom onnx_diagnostic.export.shape_helper import all_dynamic_shape_from_inputs\nfrom onnx_diagnostic.torch_models.hghub import get_untrained_model_with_inputs\nfrom onnx_diagnostic.torch_export_patches import torch_export_patches\n\nbsize, nheads, slen, dim = 2, 1, 30, 96\n\ninputs = dict(\n    input_ids=torch.randint(15, size=(2, 3), dtype=torch.int64),\n    attention_mask=torch.randint(1, size=(2, 33), dtype=torch.int64),\n    position_ids=torch.arange(3, dtype=torch.int64),\n    past_key_values=make_dynamic_cache(\n        [(torch.randn(bsize, nheads, slen, dim), torch.randn(bsize, nheads, slen, dim))]\n    ),\n)\n\nprint(string_type(inputs, with_shape=True))"
      ]
    },
    {
      "cell_type": "markdown",
      "metadata": {},
      "source": [
        "Function :func:`onnx_diagnostic.export.shape_helper.all_dynamic_shape_from_inputs`\nproduces the corresponding dynamic shapes assuming they are all dynamic.\n\n"
      ]
    },
    {
      "cell_type": "code",
      "execution_count": null,
      "metadata": {
        "collapsed": false
      },
      "outputs": [],
      "source": [
        "ds = all_dynamic_shape_from_inputs(inputs)\npprint.pprint(ds)"
      ]
    },
    {
      "cell_type": "markdown",
      "metadata": {},
      "source": [
        "## What about a StaticCache?\n\nWe use :func:`onnx_diagnostic.torch_models.hghub.get_untrained_model_with_inputs` to get\na consistent configuration with a static cache.\n\n"
      ]
    },
    {
      "cell_type": "code",
      "execution_count": null,
      "metadata": {
        "collapsed": false
      },
      "outputs": [],
      "source": [
        "data = get_untrained_model_with_inputs(\n    \"arnir0/Tiny-LLM\",\n    model_kwargs=dict(cache_implementation=\"static\"),\n    inputs_kwargs=dict(cls_cache=\"StaticCache\"),\n)\ninputs = data[\"inputs\"]\nprint(string_type(inputs, with_shape=True))"
      ]
    },
    {
      "cell_type": "markdown",
      "metadata": {},
      "source": [
        "And the input shapes.\n\n"
      ]
    },
    {
      "cell_type": "code",
      "execution_count": null,
      "metadata": {
        "collapsed": false
      },
      "outputs": [],
      "source": [
        "ds = all_dynamic_shape_from_inputs(inputs)\nif ds[\"past_key_values\"]:\n    print(\"transformers implemented serialization function for StaticCache.\")\nelse:\n    print(\"We need to use serialization function implemented in this package.\")\n    with torch_export_patches(patch_transformers=True):\n        ds = all_dynamic_shape_from_inputs(inputs)"
      ]
    },
    {
      "cell_type": "markdown",
      "metadata": {},
      "source": [
        "That gives.\n\n"
      ]
    },
    {
      "cell_type": "code",
      "execution_count": null,
      "metadata": {
        "collapsed": false
      },
      "outputs": [],
      "source": [
        "pprint.pprint(ds)"
      ]
    },
    {
      "cell_type": "markdown",
      "metadata": {},
      "source": [
        "We can compare with the ones returned by the function.\n\n"
      ]
    },
    {
      "cell_type": "code",
      "execution_count": null,
      "metadata": {
        "collapsed": false
      },
      "outputs": [],
      "source": [
        "pprint.pprint(data[\"dynamic_shapes\"])"
      ]
    },
    {
      "cell_type": "code",
      "execution_count": null,
      "metadata": {
        "collapsed": false
      },
      "outputs": [],
      "source": [
        "doc.plot_legend(\"dynamic shapes\\nfrom inputs\", \"dynamic shapes\", \"green\")"
      ]
    }
  ],
  "metadata": {
    "kernelspec": {
      "display_name": "Python 3",
      "language": "python",
      "name": "python3"
    },
    "language_info": {
      "codemirror_mode": {
        "name": "ipython",
        "version": 3
      },
      "file_extension": ".py",
      "mimetype": "text/x-python",
      "name": "python",
      "nbconvert_exporter": "python",
      "pygments_lexer": "ipython3",
      "version": "3.12.3"
    }
  },
  "nbformat": 4,
  "nbformat_minor": 0
}