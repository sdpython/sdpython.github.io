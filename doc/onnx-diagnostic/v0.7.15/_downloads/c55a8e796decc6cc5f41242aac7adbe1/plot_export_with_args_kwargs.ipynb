{
  "cells": [
    {
      "cell_type": "markdown",
      "metadata": {},
      "source": [
        "\n\n# Dynamic Shapes for ``*args``, ``**kwargs``\n\nQuick tour of dynamic shapes.\nWe first look at examples playing positional and names parameters\nto understand how :func:`torch.export.export` works.\n\n## args\n"
      ]
    },
    {
      "cell_type": "code",
      "execution_count": null,
      "metadata": {
        "collapsed": false
      },
      "outputs": [],
      "source": [
        "import pprint\nimport torch\nfrom onnx_diagnostic import doc\nfrom onnx_diagnostic.export import ModelInputs\n\n\nclass Model(torch.nn.Module):\n    def forward(self, x, y):\n        return x + y\n\n\nmodel = Model()\nx = torch.randn((5, 6))\ny = torch.randn((1, 6))\nmodel(x, y)  # to check it works\n\nep = torch.export.export(model, (x, y))\nprint(ep)"
      ]
    },
    {
      "cell_type": "markdown",
      "metadata": {},
      "source": [
        "As expected there is no dynamic shapes.\nWe use :class:`onnx_diagnostic.export.ModelInputs`\nto define them from two set of valid inputs.\nThese inputs must have different value for the dynamic\ndimensions.\n\n"
      ]
    },
    {
      "cell_type": "code",
      "execution_count": null,
      "metadata": {
        "collapsed": false
      },
      "outputs": [],
      "source": [
        "inputs = [(x, y), (torch.randn((7, 8)), torch.randn((1, 8)))]\nmi = ModelInputs(Model(), inputs)\nds = mi.guess_dynamic_shapes()\npprint.pprint(ds)"
      ]
    },
    {
      "cell_type": "markdown",
      "metadata": {},
      "source": [
        "The function returns a tuple with two objects.\nThe first one for the positional arguments, the other one\nfor the named arguments. There is no named arguments. We\nwe used the first result to export.\n\n"
      ]
    },
    {
      "cell_type": "code",
      "execution_count": null,
      "metadata": {
        "collapsed": false
      },
      "outputs": [],
      "source": [
        "ep = torch.export.export(model, (x, y), dynamic_shapes=ds[0])\nprint(ep)"
      ]
    },
    {
      "cell_type": "markdown",
      "metadata": {},
      "source": [
        "## kwargs\n\nWe do the same with named arguments.\n\n"
      ]
    },
    {
      "cell_type": "code",
      "execution_count": null,
      "metadata": {
        "collapsed": false
      },
      "outputs": [],
      "source": [
        "class Model(torch.nn.Module):\n    def forward(self, x, y):\n        return x + y\n\n\nmodel = Model()\nx = torch.randn((5, 6))\ny = torch.randn((1, 6))\nmodel(x=x, y=y)  # to check it works"
      ]
    },
    {
      "cell_type": "markdown",
      "metadata": {},
      "source": [
        "Two sets of valid inputs.\n\n"
      ]
    },
    {
      "cell_type": "code",
      "execution_count": null,
      "metadata": {
        "collapsed": false
      },
      "outputs": [],
      "source": [
        "inputs = [dict(x=x, y=y), dict(x=torch.randn((7, 8)), y=torch.randn((1, 8)))]\nmi = ModelInputs(Model(), inputs)\nds = mi.guess_dynamic_shapes()\npprint.pprint(ds)"
      ]
    },
    {
      "cell_type": "markdown",
      "metadata": {},
      "source": [
        "And we export.\n\n"
      ]
    },
    {
      "cell_type": "code",
      "execution_count": null,
      "metadata": {
        "collapsed": false
      },
      "outputs": [],
      "source": [
        "ep = torch.export.export(model, (), kwargs=dict(x=x, y=y), dynamic_shapes=ds[1])\nprint(ep)"
      ]
    },
    {
      "cell_type": "markdown",
      "metadata": {},
      "source": [
        "## args and kwargs\n\n:func:`torch.export.export` does not like having dynami shapes\nfor both args and kwargs. We need to define them using one mechanism.\n\n"
      ]
    },
    {
      "cell_type": "code",
      "execution_count": null,
      "metadata": {
        "collapsed": false
      },
      "outputs": [],
      "source": [
        "class Model(torch.nn.Module):\n    def forward(self, x, y):\n        return x + y\n\n\nmodel = Model()\nx = torch.randn((5, 6))\ny = torch.randn((1, 6))\nmodel(x, y=y)  # to check it works"
      ]
    },
    {
      "cell_type": "markdown",
      "metadata": {},
      "source": [
        "Two sets of valid inputs with positional and names arguments.\n\n"
      ]
    },
    {
      "cell_type": "code",
      "execution_count": null,
      "metadata": {
        "collapsed": false
      },
      "outputs": [],
      "source": [
        "inputs = [((x,), dict(y=y)), ((torch.randn((7, 8)),), dict(y=torch.randn((1, 8))))]\nmi = ModelInputs(Model(), inputs)\nds = mi.guess_dynamic_shapes()\npprint.pprint(ds)"
      ]
    },
    {
      "cell_type": "markdown",
      "metadata": {},
      "source": [
        "This does not work with :func:`torch.export.export` so\nwe use a method to move the positional dynamic shapes to\nnamed one. The method relies on the signature of the\nforward method.\n\n"
      ]
    },
    {
      "cell_type": "code",
      "execution_count": null,
      "metadata": {
        "collapsed": false
      },
      "outputs": [],
      "source": [
        "new_args, new_kwargs, new_ds = mi.move_to_kwargs(*mi.inputs[0], ds)\npprint.pprint(new_ds)"
      ]
    },
    {
      "cell_type": "markdown",
      "metadata": {},
      "source": [
        "And we export.\n\n"
      ]
    },
    {
      "cell_type": "code",
      "execution_count": null,
      "metadata": {
        "collapsed": false
      },
      "outputs": [],
      "source": [
        "ep = torch.export.export(model, new_args, kwargs=new_kwargs, dynamic_shapes=new_ds[1])\nprint(ep)"
      ]
    },
    {
      "cell_type": "code",
      "execution_count": null,
      "metadata": {
        "collapsed": false
      },
      "outputs": [],
      "source": [
        "doc.plot_legend(\"dynamic shapes\\n*args, **kwargs\", \"torch.export.export\", \"tomato\")"
      ]
    }
  ],
  "metadata": {
    "kernelspec": {
      "display_name": "Python 3",
      "language": "python",
      "name": "python3"
    },
    "language_info": {
      "codemirror_mode": {
        "name": "ipython",
        "version": 3
      },
      "file_extension": ".py",
      "mimetype": "text/x-python",
      "name": "python",
      "nbconvert_exporter": "python",
      "pygments_lexer": "ipython3",
      "version": "3.12.3"
    }
  },
  "nbformat": 4,
  "nbformat_minor": 0
}