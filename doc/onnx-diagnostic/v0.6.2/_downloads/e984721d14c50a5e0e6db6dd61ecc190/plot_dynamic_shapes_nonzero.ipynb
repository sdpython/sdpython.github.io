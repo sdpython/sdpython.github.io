{
  "cells": [
    {
      "cell_type": "markdown",
      "metadata": {},
      "source": [
        "\n# Half certain nonzero\n\n:func:`torch.nonzero` returns the indices of the first zero found\nin a tensor. The output shape is unknown in the generic case\nbut... If you have a 2D tensor with at least a nonzero value\nin every row, you can guess the dimension. But :func:`torch.export.export`\ndoes not know what you know.\n\n\n## A Model\n"
      ]
    },
    {
      "cell_type": "code",
      "execution_count": null,
      "metadata": {
        "collapsed": false
      },
      "outputs": [],
      "source": [
        "import torch\nfrom onnx_diagnostic import doc\n\n\nclass Model(torch.nn.Module):\n    def adaptive_enc_mask(self, x_len, chunk_start_idx, left_window=0, right_window=0):\n        chunk_start_idx = torch.Tensor(chunk_start_idx).long()\n        start_pad = torch.cat((torch.tensor([0], dtype=torch.int64), chunk_start_idx), dim=0)\n        end_pad = torch.cat((chunk_start_idx, torch.tensor([x_len], dtype=torch.int64)), dim=0)\n        seq_range = torch.arange(0, x_len).unsqueeze(-1)\n        idx = ((seq_range < end_pad) & (seq_range >= start_pad)).nonzero()[:, 1]\n        seq_range_expand = torch.arange(0, x_len).unsqueeze(0).expand(x_len, -1)\n        idx_left = idx - left_window\n        idx_left[idx_left < 0] = 0\n        boundary_left = start_pad[idx_left]\n        mask_left = seq_range_expand >= boundary_left.unsqueeze(-1)\n        idx_right = idx + right_window\n        idx_right[idx_right > len(chunk_start_idx)] = len(chunk_start_idx)\n        boundary_right = end_pad[idx_right]\n        mask_right = seq_range_expand < boundary_right.unsqueeze(-1)\n        return mask_left & mask_right\n\n    def forward(self, x, y):\n        return self.adaptive_enc_mask(\n            x.shape[1], torch.tensor([], dtype=torch.int64), left_window=y.shape[0]\n        )\n\n\nmodel = Model()\nx, y = torch.rand((2, 546)), torch.rand((18,))\nz = model(x, y)\nprint(f\"y.shape={x.shape}, y.shape={y.shape}, z.shape={z.shape}\")"
      ]
    },
    {
      "cell_type": "markdown",
      "metadata": {},
      "source": [
        "## Export\n\n"
      ]
    },
    {
      "cell_type": "code",
      "execution_count": null,
      "metadata": {
        "collapsed": false
      },
      "outputs": [],
      "source": [
        "DYN = torch.export.Dim.DYNAMIC\nep = torch.export.export(model, (x, y), dynamic_shapes=({0: DYN, 1: DYN}, {0: DYN}))\nprint(ep)"
      ]
    },
    {
      "cell_type": "markdown",
      "metadata": {},
      "source": [
        "We can see the following line in the exported program.\nIt tells what it cannot verify.\n``torch.ops.aten._assert_scalar.default(eq,``\n``\"Runtime assertion failed for expression Eq(s16, u0) on node 'eq'\");``\n\n"
      ]
    },
    {
      "cell_type": "code",
      "execution_count": null,
      "metadata": {
        "collapsed": false
      },
      "outputs": [],
      "source": [
        "doc.plot_legend(\"dynamic shapes\\nnonzero\", \"dynamic shapes\", \"yellow\")"
      ]
    }
  ],
  "metadata": {
    "kernelspec": {
      "display_name": "Python 3",
      "language": "python",
      "name": "python3"
    },
    "language_info": {
      "codemirror_mode": {
        "name": "ipython",
        "version": 3
      },
      "file_extension": ".py",
      "mimetype": "text/x-python",
      "name": "python",
      "nbconvert_exporter": "python",
      "pygments_lexer": "ipython3",
      "version": "3.12.9"
    }
  },
  "nbformat": 4,
  "nbformat_minor": 0
}