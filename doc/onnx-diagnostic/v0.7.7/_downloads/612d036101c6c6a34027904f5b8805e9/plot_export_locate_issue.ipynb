{
  "cells": [
    {
      "cell_type": "markdown",
      "metadata": {},
      "source": [
        "\n\n# Find and fix an export issue due to dynamic shapes\n\nLLMs must be exported with dynamic shapes and it is common that\na static dimension turns into a static ones. The error message from\n:epkg:`pytorch` tells the user to define ``TORCH_LOGS=\"+dynamic\"``\nbut it shows a very long list of messages where we need\nto find the string ``range_refined_to_singleton`` and that\ndoes not really indicates where it comes from. The example\nshows how to tweak pytorch to get that information until\nit gets better.\n\n## A model with an export issue\n\nThe following model implies the first dimension of x is equal to 1\nor equal to the number of element in the list ``ys``.\nIt is not really dynamic. It looks obvious here but\nit is difficult to find deep inside a big model.\n"
      ]
    },
    {
      "cell_type": "code",
      "execution_count": null,
      "metadata": {
        "collapsed": false
      },
      "outputs": [],
      "source": [
        "import traceback\nimport torch\nfrom onnx_diagnostic import doc\nfrom onnx_diagnostic.torch_export_patches import torch_export_patches\n\n\nclass ModelWithIssue(torch.nn.Module):\n    def forward(self, x: torch.Tensor, ys: list[torch.Tensor]):\n        caty = torch.cat([y.unsqueeze(0) for y in ys], axis=0)\n        z = x * caty\n        return z\n\n\ninputs = (torch.rand(2, 3, 1), [torch.rand(3, 4), torch.rand(3, 4)])\nmodel = ModelWithIssue()\nmodel(*inputs)"
      ]
    },
    {
      "cell_type": "markdown",
      "metadata": {},
      "source": [
        "Let's export.\n\n"
      ]
    },
    {
      "cell_type": "code",
      "execution_count": null,
      "metadata": {
        "collapsed": false
      },
      "outputs": [],
      "source": [
        "DYN = torch.export.Dim.DYNAMIC\ndyn_shapes = ({0: DYN, 1: DYN}, [{0: DYN, 1: DYN}, {0: DYN, 1: DYN}])\ntry:\n    ep = torch.export.export(model, inputs, dynamic_shapes=dyn_shapes)\n    print(ep)\nexcept Exception as e:\n    print(\"-- ERROR:\")\n    print(e)"
      ]
    },
    {
      "cell_type": "markdown",
      "metadata": {},
      "source": [
        "The error shows:\n\n```\nConstraints violated (L['args'][0][0].size()[0])!\n    For more information, run with TORCH_LOGS=\"+dynamic\".\n- Not all values of RelaxedUnspecConstraint(L['args'][0][0].size()[0])\n    are valid because L['args'][0][0].size()[0] was inferred to be a constant (2).\n```\nWhere does it happens? That's a tricky question we need to answer.\nThe message is raised from\n[torch.fx.experimental.symbolic_shapes.ShapeEnv._set_replacement](https://github.com/pytorch/pytorch/blob/main/torch/fx/experimental/symbolic_shapes.py#L6239).\nOne way to find the exact location is to retrieve a stack trace\nby inserting an assert such as the following:\n\n```\nassert msg != \"range_refined_to_singleton\", (\n    f\"A dynamic dimension becomes static! \"\n    f\"a={a!r}, tgt={tgt!r}, msg={msg!r}, tgt_bound={tgt_bound}\"\n)\n```\n## Stop when a dynamic dimension turns static\n\nWe use :func:`torch_export_patches\n<onnx_diagnostic.torch_export_patches.torch_export_patches>`\nto replace torch implementation by a new one raising the exception\nmentioned in previous section.\n\n"
      ]
    },
    {
      "cell_type": "code",
      "execution_count": null,
      "metadata": {
        "collapsed": false
      },
      "outputs": [],
      "source": [
        "with torch_export_patches(stop_if_static=1, verbose=1):\n    try:\n        torch.export.export(model, inputs, dynamic_shapes=dyn_shapes)\n    except (AssertionError, torch._dynamo.exc.TorchRuntimeError) as e:\n        print(\"-- It failed as excepted.\")\n        print(f\"-- final error is {e}\")\n        print(\"-- Stack Trace\")\n        print(traceback.format_exc())\n\n# The stack trace is quite long but the first line referring to this example\n# is the following one. It points out the line turing a dynamic dimension into\n# static.\n#\n# .. code-block::\n#\n#   File \"onnx-diagnostic/_doc/examples/plot_export_locate_issue.py\", line 25, in forward\n#       z = x * caty"
      ]
    },
    {
      "cell_type": "code",
      "execution_count": null,
      "metadata": {
        "collapsed": false
      },
      "outputs": [],
      "source": [
        "doc.plot_legend(\n    \"dynamic dimension\\nwas inferred\\nto be a constant\", \"torch.export.export\", \"tomato\"\n)"
      ]
    }
  ],
  "metadata": {
    "kernelspec": {
      "display_name": "Python 3",
      "language": "python",
      "name": "python3"
    },
    "language_info": {
      "codemirror_mode": {
        "name": "ipython",
        "version": 3
      },
      "file_extension": ".py",
      "mimetype": "text/x-python",
      "name": "python",
      "nbconvert_exporter": "python",
      "pygments_lexer": "ipython3",
      "version": "3.12.9"
    }
  },
  "nbformat": 4,
  "nbformat_minor": 0
}