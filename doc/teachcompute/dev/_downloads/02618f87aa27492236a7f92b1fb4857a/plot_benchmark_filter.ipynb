{
  "cells": [
    {
      "cell_type": "markdown",
      "metadata": {},
      "source": [
        "\n\n# Compares filtering implementations (numpy, cython)\n\nThe benchmark looks into different ways to implement\nthresholding: every value of a vector superior to *mx*\nis replaced by *mx* (:func:`numpy.clip`).\nIt compares several implementation to :epkg:`numpy`.\n\n* :func:`cfilter_dmax <teachcompute.validation.cython.experiment_cython.cfilter_dmax>`\n  [cfilter_dmax](https://github.com/sdpython/teachcompute/blob/main/\n  teachcompute/validation/cython/experiment_cython.pyx#L93)\n* :func:`cfilter_dmax2 <teachcompute.validation.cython.experiment_cython.cfilter_dmax2>`\n  [cfilter_dmax2](https://github.com/sdpython/teachcompute/blob/main/\n  teachcompute/validation/cython/experiment_cython.pyx#L107)\n* :func:`cfilter_dmax4 <teachcompute.validation.cython.experiment_cython.cfilter_dmax4>`\n  [cfilter_dmax4](https://github.com/sdpython/teachcompute/blob/main/\n  teachcompute/validation/cython/experiment_cython.pyx#L138)\n* :func:`cfilter_dmax16\n  <teachcompute.validation.cython.experiment_cython.cfilter_dmax16>`\n  [cfilter_dmax16](https://github.com/sdpython/teachcompute/blob/main/\n  teachcompute/validation/cython/experiment_cython.pyx#L122)\n* :func:`cyfilter_dmax <teachcompute.validation.cython.experiment_cython.cyfilter_dmax>`\n  [cyfilter_dmax](https://github.com/sdpython/teachcompute/blob/main/\n  teachcompute/validation/cython/experiment_cython.pyx#L72)\n* :func:`filter_dmax_cython\n  <teachcompute.validation.cython.experiment_cython.filter_dmax_cython>`\n  [filter_dmax_cython](https://github.com/sdpython/teachcompute/blob/main/\n  teachcompute/validation/cython/experiment_cython.pyx#L28)\n* :func:`filter_dmax_cython_optim\n  <teachcompute.validation.cython.experiment_cython.filter_dmax_cython_optim>`\n  [filter_dmax_cython_optim](https://github.com/sdpython/teachcompute/blob/main/\n  teachcompute/validation/cython/experiment_cython.pyx#L43)\n* :func:`pyfilter_dmax\n  <teachcompute.validation.cython.experiment_cython.pyfilter_dmax>`\n  [pyfilter_dmax](https://github.com/sdpython/teachcompute/blob/main/\n  teachcompute/validation/cython/experiment_cython.pyx#L15)\n"
      ]
    },
    {
      "cell_type": "code",
      "execution_count": null,
      "metadata": {
        "collapsed": false
      },
      "outputs": [],
      "source": [
        "import pprint\nimport numpy\nimport matplotlib.pyplot as plt\nfrom pandas import DataFrame\nfrom teachcompute.validation.cython.experiment_cython import (\n    pyfilter_dmax,\n    filter_dmax_cython,\n    filter_dmax_cython_optim,\n    cyfilter_dmax,\n    cfilter_dmax,\n    cfilter_dmax2,\n    cfilter_dmax16,\n    cfilter_dmax4,\n)\nfrom teachcompute.ext_test_case import measure_time_dim\n\n\ndef get_vectors(fct, n, h=200, dtype=numpy.float64):\n    ctxs = [\n        dict(\n            va=numpy.random.randn(n).astype(dtype),\n            fil=fct,\n            mx=numpy.float64(0),\n            x_name=n,\n        )\n        for n in range(10, n, h)\n    ]\n    return ctxs\n\n\ndef numpy_filter(va, mx):\n    va[va > mx] = mx\n\n\nall_res = []\nfor fct in [\n    numpy_filter,\n    pyfilter_dmax,\n    filter_dmax_cython,\n    filter_dmax_cython_optim,\n    cyfilter_dmax,\n    cfilter_dmax,\n    cfilter_dmax2,\n    cfilter_dmax16,\n    cfilter_dmax4,\n]:\n    print(fct)\n    ctxs = get_vectors(fct, 1000 if fct == pyfilter_dmax else 40000)\n    res = list(measure_time_dim(\"fil(va, mx)\", ctxs, verbose=1))\n    for r in res:\n        r[\"fct\"] = fct.__name__\n    all_res.extend(res)\n\npprint.pprint(all_res[:2])"
      ]
    },
    {
      "cell_type": "markdown",
      "metadata": {},
      "source": [
        "## Let's display the results\n\n"
      ]
    },
    {
      "cell_type": "code",
      "execution_count": null,
      "metadata": {
        "collapsed": false
      },
      "outputs": [],
      "source": [
        "cc = DataFrame(all_res)\ncc[\"N\"] = cc[\"x_name\"]\n\nfig, ax = plt.subplots(2, 2, figsize=(10, 10))\ncc[cc.N <= 1100].pivot(index=\"N\", columns=\"fct\", values=\"average\").plot(\n    logy=True, ax=ax[0, 0]\n)\ncc[cc.fct != \"pyfilter_dmax\"].pivot(index=\"N\", columns=\"fct\", values=\"average\").plot(\n    logy=True, ax=ax[0, 1]\n)\ncc[cc.fct != \"pyfilter_dmax\"].pivot(index=\"N\", columns=\"fct\", values=\"average\").plot(\n    logy=True, logx=True, ax=ax[1, 1]\n)\ncc[(cc.fct.str.contains(\"cfilter\") | cc.fct.str.contains(\"numpy\"))].pivot(\n    index=\"N\", columns=\"fct\", values=\"average\"\n).plot(logy=True, ax=ax[1, 0])\nax[0, 0].set_title(\"Comparison of filter implementations\")\nax[0, 1].set_title(\"Comparison of filter implementations\\nwithout pyfilter_dmax\")"
      ]
    },
    {
      "cell_type": "markdown",
      "metadata": {},
      "source": [
        "The results depends on the machine, its\nnumber of cores, the compilation settings\nof :epkg:`numpy` or this module.\n\n"
      ]
    }
  ],
  "metadata": {
    "kernelspec": {
      "display_name": "Python 3",
      "language": "python",
      "name": "python3"
    },
    "language_info": {
      "codemirror_mode": {
        "name": "ipython",
        "version": 3
      },
      "file_extension": ".py",
      "mimetype": "text/x-python",
      "name": "python",
      "nbconvert_exporter": "python",
      "pygments_lexer": "ipython3",
      "version": "3.12.9"
    }
  },
  "nbformat": 4,
  "nbformat_minor": 0
}