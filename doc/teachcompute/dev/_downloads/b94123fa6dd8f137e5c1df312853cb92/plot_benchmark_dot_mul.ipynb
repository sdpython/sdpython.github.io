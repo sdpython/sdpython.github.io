{
  "cells": [
    {
      "cell_type": "markdown",
      "metadata": {},
      "source": [
        "\n# Compares matrix multiplication implementations\n\n:epkg:`numpy` has a very fast implementation of\nmatrix multiplication. There are many ways to be slower.\n\nCompared implementations:\n\n* :func:`dmul_cython_omp\n  <teachcompute.validation.cython.mul_cython_omp.dmul_cython_omp>`\n  [code](https://github.com/sdpython/teachcompute/blob/main/\n  teachcompute/validation/cython/mul_cython_omp.pyx#L171)\n"
      ]
    },
    {
      "cell_type": "code",
      "execution_count": null,
      "metadata": {
        "collapsed": false
      },
      "outputs": [],
      "source": [
        "import pprint\nimport numpy\nfrom numpy.testing import assert_almost_equal\nimport matplotlib.pyplot as plt\nfrom pandas import DataFrame, concat\nfrom teachcompute.validation.cython.mul_cython_omp import dmul_cython_omp\nfrom teachcompute.ext_test_case import measure_time_dim, unit_test_going\n\ndfs = []\nif unit_test_going():\n    sets = [2, 4, 6]\nelse:\n    sets = list(range(2, 145, 20))"
      ]
    },
    {
      "cell_type": "markdown",
      "metadata": {},
      "source": [
        "## numpy mul\n\n\n"
      ]
    },
    {
      "cell_type": "code",
      "execution_count": null,
      "metadata": {
        "collapsed": false
      },
      "outputs": [],
      "source": [
        "ctxs = [\n    dict(\n        va=numpy.random.randn(n, n).astype(numpy.float64),\n        vb=numpy.random.randn(n, n).astype(numpy.float64),\n        mul=lambda x, y: x @ y,\n        x_name=n,\n    )\n    for n in sets\n]\n\nres = list(measure_time_dim(\"mul(va, vb)\", ctxs, verbose=1))\ndfs.append(DataFrame(res))\ndfs[-1][\"fct\"] = \"numpy\"\npprint.pprint(dfs[-1].tail(n=2))"
      ]
    },
    {
      "cell_type": "markdown",
      "metadata": {},
      "source": [
        "## Simple multiplication\n\n\n"
      ]
    },
    {
      "cell_type": "code",
      "execution_count": null,
      "metadata": {
        "collapsed": false
      },
      "outputs": [],
      "source": [
        "ctxs = [\n    dict(\n        va=numpy.random.randn(n, n).astype(numpy.float64),\n        vb=numpy.random.randn(n, n).astype(numpy.float64),\n        mul=dmul_cython_omp,\n        x_name=n,\n    )\n    for n in sets\n]\n\nres = list(measure_time_dim(\"mul(va, vb)\", ctxs, verbose=1))\npprint.pprint(res[-1])"
      ]
    },
    {
      "cell_type": "markdown",
      "metadata": {},
      "source": [
        "## Other scenarios\n\n3 differents algorithms, each of them parallelized.\nSee :func:`dmul_cython_omp\n<teachcompute.validation.cython.mul_cython_omp.dmul_cython_omp>`.\n\n"
      ]
    },
    {
      "cell_type": "code",
      "execution_count": null,
      "metadata": {
        "collapsed": false
      },
      "outputs": [],
      "source": [
        "for algo in range(2):\n    for parallel in (0, 1):\n        print(\"algo=%d parallel=%d\" % (algo, parallel))\n        ctxs = [\n            dict(\n                va=numpy.random.randn(n, n).astype(numpy.float64),\n                vb=numpy.random.randn(n, n).astype(numpy.float64),\n                mul=lambda x, y, algo=algo, parallel=parallel: dmul_cython_omp(\n                    x, y, algo=algo, parallel=parallel\n                ),\n                x_name=n,\n            )\n            for n in sets\n        ]\n\n        res = list(measure_time_dim(\"mul(va, vb)\", ctxs, verbose=1))\n        dfs.append(DataFrame(res))\n        dfs[-1][\"fct\"] = \"a=%d-p=%d\" % (algo, parallel)\n        pprint.pprint(dfs[-1].tail(n=2))"
      ]
    },
    {
      "cell_type": "markdown",
      "metadata": {},
      "source": [
        "## One left issue\n\nWill you find it in :func:`dmul_cython_omp\n<teachcompute.validation.cython.mul_cython_omp.dmul_cython_omp>`.\n\n"
      ]
    },
    {
      "cell_type": "code",
      "execution_count": null,
      "metadata": {
        "collapsed": false
      },
      "outputs": [],
      "source": [
        "va = numpy.random.randn(3, 4).astype(numpy.float64)\nvb = numpy.random.randn(4, 5).astype(numpy.float64)\nnumpy_mul = va @ vb\n\ntry:\n    for a in range(50):\n        wrong_mul = dmul_cython_omp(va, vb, algo=2, parallel=1)\n        assert_almost_equal(numpy_mul, wrong_mul)\n        print(\"Iteration %d is Ok\" % a)\n    print(\"All iterations are unexpectedly Ok. Don't push your luck.\")\nexcept AssertionError as e:\n    print(e)"
      ]
    },
    {
      "cell_type": "markdown",
      "metadata": {},
      "source": [
        "## Other scenarios but transposed\n\nSame differents algorithms but the second matrix\nis transposed first: ``b_trans=1``.\n\n"
      ]
    },
    {
      "cell_type": "code",
      "execution_count": null,
      "metadata": {
        "collapsed": false
      },
      "outputs": [],
      "source": [
        "for algo in range(2):\n    for parallel in (0, 1):\n        print(\"algo=%d parallel=%d transposed\" % (algo, parallel))\n        ctxs = [\n            dict(\n                va=numpy.random.randn(n, n).astype(numpy.float64),\n                vb=numpy.random.randn(n, n).astype(numpy.float64),\n                mul=lambda x, y, parallel=parallel, algo=algo: dmul_cython_omp(\n                    x, y, algo=algo, parallel=parallel, b_trans=1\n                ),\n                x_name=n,\n            )\n            for n in sets\n        ]\n\n        res = list(measure_time_dim(\"mul(va, vb)\", ctxs, verbose=2))\n        dfs.append(DataFrame(res))\n        dfs[-1][\"fct\"] = \"a=%d-p=%d-T\" % (algo, parallel)\n        pprint.pprint(dfs[-1].tail(n=2))"
      ]
    },
    {
      "cell_type": "markdown",
      "metadata": {},
      "source": [
        "## Let's display the results\n\n"
      ]
    },
    {
      "cell_type": "code",
      "execution_count": null,
      "metadata": {
        "collapsed": false
      },
      "outputs": [],
      "source": [
        "cc = concat(dfs)\ncc[\"N\"] = cc[\"x_name\"]\n\nfig, ax = plt.subplots(3, 2, figsize=(10, 8), sharex=True, sharey=True)\nccnp = cc.fct == \"numpy\"\ncct = cc.fct.str.contains(\"-T\")\ncca0 = cc.fct.str.contains(\"a=0\")\ncc[ccnp | (~cct & cca0)].pivot(index=\"N\", columns=\"fct\", values=\"average\").plot(\n    logy=True, logx=True, ax=ax[0, 0]\n)\ncc[ccnp | (~cct & ~cca0)].pivot(index=\"N\", columns=\"fct\", values=\"average\").plot(\n    logy=True, logx=True, ax=ax[0, 1]\n)\ncc[ccnp | (cct & cca0)].pivot(index=\"N\", columns=\"fct\", values=\"average\").plot(\n    logy=True, logx=True, ax=ax[1, 0]\n)\ncc[ccnp | (~cct & ~cca0)].pivot(index=\"N\", columns=\"fct\", values=\"average\").plot(\n    logy=True, logx=True, ax=ax[1, 1]\n)\ncc[ccnp | cca0].pivot(index=\"N\", columns=\"fct\", values=\"average\").plot(\n    logy=True, logx=True, ax=ax[2, 0]\n)\ncc[ccnp | ~cca0].pivot(index=\"N\", columns=\"fct\", values=\"average\").plot(\n    logy=True, logx=True, ax=ax[2, 1]\n)\nfig.suptitle(\"Comparison of matrix multiplication implementations\")"
      ]
    },
    {
      "cell_type": "markdown",
      "metadata": {},
      "source": [
        "The results depends on the machine, its\nnumber of cores, the compilation settings\nof :epkg:`numpy` or this module.\n\n"
      ]
    }
  ],
  "metadata": {
    "kernelspec": {
      "display_name": "Python 3",
      "language": "python",
      "name": "python3"
    },
    "language_info": {
      "codemirror_mode": {
        "name": "ipython",
        "version": 3
      },
      "file_extension": ".py",
      "mimetype": "text/x-python",
      "name": "python",
      "nbconvert_exporter": "python",
      "pygments_lexer": "ipython3",
      "version": "3.12.9"
    }
  },
  "nbformat": 4,
  "nbformat_minor": 0
}