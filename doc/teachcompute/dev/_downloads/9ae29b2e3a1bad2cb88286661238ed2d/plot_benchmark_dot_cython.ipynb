{
  "cells": [
    {
      "cell_type": "markdown",
      "metadata": {},
      "source": [
        "\n# Compares dot implementations (numpy, cython, c++, sse)\n\n:epkg:`numpy` has a very fast implementation of\nthe dot product. It is difficult to be better and very easy\nto be slower. This example looks into a couple of slower\nimplementations with cython. The tested functions are\nthe following:\n\n* :func:`dot_product <teachcompute.validation.cython.dot_cython.dot_product>`\n  [dot_product](https://github.com/sdpython/teachcompute/blob/\n  main/teachcompute/validation/cython/dot_cython.pyx#L15)\n* :func:`ddot_cython_array\n  <teachcompute.validation.cython.dot_cython.ddot_cython_array>`\n  [ddot_cython_array](https://github.com/sdpython/teachcompute/blob/\n  main/teachcompute/validation/cython/dot_cython.pyx#L29)\n* :func:`ddot_cython_array_optim\n  <teachcompute.validation.cython.dot_cython.ddot_cython_array_optim>`\n  [ddot_cython_array_optim](https://github.com/sdpython/teachcompute/blob/\n  main/teachcompute/validation/cython/dot_cython.pyx#L63)\n* :func:`ddot_array <teachcompute.validation.cython.dot_cython.ddot_array>`\n  [dot_cython](https://github.com/sdpython/teachcompute/blob/\n  main/teachcompute/validation/cython/dot_cython.pyx#L141)\n* :func:`ddot_array_16 <teachcompute.validation.cython.dot_cython.ddot_array_16>`\n  [ddot_array_16](https://github.com/sdpython/teachcompute/blob/\n  main/teachcompute/validation/cython/dot_cython.pyx#L188)\n* :func:`ddot_array_16_sse\n  <teachcompute.validation.cython.dot_cython.ddot_array_16_sse>`\n  [ddot_array_16_sse](https://github.com/sdpython/teachcompute/blob/\n  main/teachcompute/validation/cython/dot_cython.pyx#L230)\n"
      ]
    },
    {
      "cell_type": "code",
      "execution_count": null,
      "metadata": {
        "collapsed": false
      },
      "outputs": [],
      "source": [
        "import numpy\nimport matplotlib.pyplot as plt\nfrom pandas import DataFrame, concat\nfrom teachcompute.validation.cython.dot_cython import (\n    dot_product,\n    ddot_cython_array,\n    ddot_cython_array_optim,\n    ddot_array,\n    ddot_array_16,\n    ddot_array_16_sse,\n)\nfrom teachcompute.validation.cython.dot_cython import (\n    sdot_cython_array,\n    sdot_cython_array_optim,\n    sdot_array,\n    sdot_array_16,\n    sdot_array_16_sse,\n)\nfrom teachcompute.ext_test_case import measure_time_dim\n\n\ndef get_vectors(fct, n, h=100, dtype=numpy.float64):\n    ctxs = [\n        dict(\n            va=numpy.random.randn(n).astype(dtype),\n            vb=numpy.random.randn(n).astype(dtype),\n            dot=fct,\n            x_name=n,\n        )\n        for n in range(10, n, h)\n    ]\n    return ctxs"
      ]
    },
    {
      "cell_type": "markdown",
      "metadata": {},
      "source": [
        "## numpy dot\n\n\n"
      ]
    },
    {
      "cell_type": "code",
      "execution_count": null,
      "metadata": {
        "collapsed": false
      },
      "outputs": [],
      "source": [
        "ctxs = get_vectors(numpy.dot, 10000)\ndf = DataFrame(list(measure_time_dim(\"dot(va, vb)\", ctxs, verbose=1)))\ndf[\"fct\"] = \"numpy.dot\"\nprint(df.tail(n=3))\ndfs = [df]"
      ]
    },
    {
      "cell_type": "markdown",
      "metadata": {},
      "source": [
        "## Several cython dot\n\n\n"
      ]
    },
    {
      "cell_type": "code",
      "execution_count": null,
      "metadata": {
        "collapsed": false
      },
      "outputs": [],
      "source": [
        "for fct in [\n    dot_product,\n    ddot_cython_array,\n    ddot_cython_array_optim,\n    ddot_array,\n    ddot_array_16,\n    ddot_array_16_sse,\n]:\n    ctxs = get_vectors(fct, 10000 if fct.__name__ != \"dot_product\" else 1000)\n\n    df = DataFrame(list(measure_time_dim(\"dot(va, vb)\", ctxs, verbose=1)))\n    df[\"fct\"] = fct.__name__\n    dfs.append(df)\n    print(df.tail(n=3))"
      ]
    },
    {
      "cell_type": "markdown",
      "metadata": {},
      "source": [
        "## Let's display the results\n\n"
      ]
    },
    {
      "cell_type": "code",
      "execution_count": null,
      "metadata": {
        "collapsed": false
      },
      "outputs": [],
      "source": [
        "cc = concat(dfs)\ncc[\"N\"] = cc[\"x_name\"]\n\nfig, ax = plt.subplots(2, 2, figsize=(10, 10))\ncc[cc.N <= 1100].pivot(index=\"N\", columns=\"fct\", values=\"average\").plot(\n    logy=True, logx=True, ax=ax[0, 0]\n)\ncc[cc.fct != \"dot_product\"].pivot(index=\"N\", columns=\"fct\", values=\"average\").plot(\n    logy=True, ax=ax[0, 1]\n)\ncc[cc.fct != \"dot_product\"].pivot(index=\"N\", columns=\"fct\", values=\"average\").plot(\n    logy=True, logx=True, ax=ax[1, 1]\n)\nax[0, 0].set_title(\"Comparison of cython ddot implementations\")\nax[0, 1].set_title(\"Comparison of cython ddot implementations\\nwithout dot_product\")\n\n###################\n# :epkg:`numpy` is faster but we are able to catch up."
      ]
    },
    {
      "cell_type": "markdown",
      "metadata": {},
      "source": [
        "## Same for floats\n\nLet's for single floats.\n\n"
      ]
    },
    {
      "cell_type": "code",
      "execution_count": null,
      "metadata": {
        "collapsed": false
      },
      "outputs": [],
      "source": [
        "dfs = []\nfor fct in [\n    numpy.dot,\n    sdot_cython_array,\n    sdot_cython_array_optim,\n    sdot_array,\n    sdot_array_16,\n    sdot_array_16_sse,\n]:\n    ctxs = get_vectors(\n        fct, 10000 if fct.__name__ != \"dot_product\" else 1000, dtype=numpy.float32\n    )\n\n    df = DataFrame(list(measure_time_dim(\"dot(va, vb)\", ctxs, verbose=1)))\n    df[\"fct\"] = fct.__name__\n    dfs.append(df)\n    print(df.tail(n=3))\n\n\ncc = concat(dfs)\ncc[\"N\"] = cc[\"x_name\"]\n\nfig, ax = plt.subplots(1, 2, figsize=(10, 4))\ncc.pivot(index=\"N\", columns=\"fct\", values=\"average\").plot(logy=True, ax=ax[0])\ncc.pivot(index=\"N\", columns=\"fct\", values=\"average\").plot(\n    logy=True, logx=True, ax=ax[1]\n)\nax[0].set_title(\"Comparison of cython sdot implementations\")\nax[1].set_title(\"Comparison of cython sdot implementations\")"
      ]
    }
  ],
  "metadata": {
    "kernelspec": {
      "display_name": "Python 3",
      "language": "python",
      "name": "python3"
    },
    "language_info": {
      "codemirror_mode": {
        "name": "ipython",
        "version": 3
      },
      "file_extension": ".py",
      "mimetype": "text/x-python",
      "name": "python",
      "nbconvert_exporter": "python",
      "pygments_lexer": "ipython3",
      "version": "3.12.9"
    }
  },
  "nbformat": 4,
  "nbformat_minor": 0
}