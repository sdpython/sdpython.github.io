{
  "cells": [
    {
      "cell_type": "markdown",
      "metadata": {},
      "source": [
        "\n# Compares dot implementations (numpy, python, blas)\n\n:epkg:`numpy` has a very fast implementation of\nthe dot product. It is difficult to be better and very easy\nto be slower. This example looks into a couple of slower\nimplementations.\n\nCompared implementations:\n\n* :func:`pydot <teachcompute.validation.cython.dotpy.pydot>`\n* [cblas_ddot](https://github.com/sdpython/teachcompute/\n  blob/main/teachcompute/validation/cython/dot_blas_lapack.pyx#L39)\n"
      ]
    },
    {
      "cell_type": "code",
      "execution_count": null,
      "metadata": {
        "collapsed": false
      },
      "outputs": [],
      "source": [
        "import pprint\nimport numpy\nimport matplotlib.pyplot as plt\nfrom pandas import DataFrame, concat\nfrom teachcompute.validation.cython.dotpy import pydot\nfrom teachcompute.validation.cython.dot_blas_lapack import cblas_ddot\nfrom teachcompute.ext_test_case import measure_time_dim"
      ]
    },
    {
      "cell_type": "markdown",
      "metadata": {},
      "source": [
        "## python dot: pydot\n\nThe first function :func:`pydot\n<teachcompute.validation.cython.dotpy.pydot>` uses\npython to implement the dot product.\n\n"
      ]
    },
    {
      "cell_type": "code",
      "execution_count": null,
      "metadata": {
        "collapsed": false
      },
      "outputs": [],
      "source": [
        "ctxs = [\n    dict(\n        va=numpy.random.randn(n).astype(numpy.float64),\n        vb=numpy.random.randn(n).astype(numpy.float64),\n        pydot=pydot,\n        x_name=n,\n    )\n    for n in range(10, 1000, 100)\n]\n\nres_pydot = list(measure_time_dim(\"pydot(va, vb)\", ctxs, verbose=1))\n\npprint.pprint(res_pydot[:2])"
      ]
    },
    {
      "cell_type": "markdown",
      "metadata": {},
      "source": [
        "## numpy dot\n\n\n"
      ]
    },
    {
      "cell_type": "code",
      "execution_count": null,
      "metadata": {
        "collapsed": false
      },
      "outputs": [],
      "source": [
        "ctxs = [\n    dict(\n        va=numpy.random.randn(n).astype(numpy.float64),\n        vb=numpy.random.randn(n).astype(numpy.float64),\n        dot=numpy.dot,\n        x_name=n,\n    )\n    for n in range(10, 50000, 100)\n]\n\nres_dot = list(measure_time_dim(\"dot(va, vb)\", ctxs, verbose=1))\n\npprint.pprint(res_dot[:2])"
      ]
    },
    {
      "cell_type": "markdown",
      "metadata": {},
      "source": [
        "## blas dot\n\n:epkg:`numpy` implementation uses :epkg:`BLAS`.\nLet's make a direct call to it.\n\n"
      ]
    },
    {
      "cell_type": "code",
      "execution_count": null,
      "metadata": {
        "collapsed": false
      },
      "outputs": [],
      "source": [
        "for ctx in ctxs:\n    ctx[\"ddot\"] = cblas_ddot\n\nres_ddot = list(measure_time_dim(\"ddot(va, vb)\", ctxs, verbose=1))\n\npprint.pprint(res_ddot[:2])"
      ]
    },
    {
      "cell_type": "markdown",
      "metadata": {},
      "source": [
        "## Let's display the results\n\n"
      ]
    },
    {
      "cell_type": "code",
      "execution_count": null,
      "metadata": {
        "collapsed": false
      },
      "outputs": [],
      "source": [
        "df1 = DataFrame(res_pydot)\ndf1[\"fct\"] = \"pydot\"\ndf2 = DataFrame(res_dot)\ndf2[\"fct\"] = \"numpy.dot\"\ndf3 = DataFrame(res_ddot)\ndf3[\"fct\"] = \"ddot\"\n\ncc = concat([df1, df2, df3])\ncc[\"N\"] = cc[\"x_name\"]\n\nfig, ax = plt.subplots(1, 2, figsize=(10, 4))\ncc[cc.N <= 1100].pivot(index=\"N\", columns=\"fct\", values=\"average\").plot(\n    logy=True, logx=True, ax=ax[0]\n)\ncc[cc.fct != \"pydot\"].pivot(index=\"N\", columns=\"fct\", values=\"average\").plot(\n    logy=True, logx=True, ax=ax[1]\n)\nax[0].set_title(\"Comparison of dot implementations\")\nax[1].set_title(\"Comparison of dot implementations\\nwithout python\")"
      ]
    },
    {
      "cell_type": "markdown",
      "metadata": {},
      "source": [
        "The results depends on the machine, its\nnumber of cores, the compilation settings\nof :epkg:`numpy` or this module.\n\n"
      ]
    }
  ],
  "metadata": {
    "kernelspec": {
      "display_name": "Python 3",
      "language": "python",
      "name": "python3"
    },
    "language_info": {
      "codemirror_mode": {
        "name": "ipython",
        "version": 3
      },
      "file_extension": ".py",
      "mimetype": "text/x-python",
      "name": "python",
      "nbconvert_exporter": "python",
      "pygments_lexer": "ipython3",
      "version": "3.10.12"
    }
  },
  "nbformat": 4,
  "nbformat_minor": 0
}