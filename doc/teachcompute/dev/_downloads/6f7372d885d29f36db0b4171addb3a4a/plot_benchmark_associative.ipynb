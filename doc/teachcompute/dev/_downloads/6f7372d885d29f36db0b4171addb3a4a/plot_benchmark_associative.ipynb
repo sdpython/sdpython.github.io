{
  "cells": [
    {
      "cell_type": "markdown",
      "metadata": {},
      "source": [
        "\n# Associativity and matrix multiplication\n\nThe matrix multiplication `m1 @ m2 @ m3` can be done\nin two different ways: `(m1 @ m2) @ m3` or `m1 @ (m2 @ m3)`.\nAre these two orders equivalent or is there a better order?\n"
      ]
    },
    {
      "cell_type": "code",
      "execution_count": null,
      "metadata": {
        "collapsed": false
      },
      "outputs": [],
      "source": [
        "import pprint\nimport numpy\nimport matplotlib.pyplot as plt\nfrom pandas import DataFrame\nfrom tqdm import tqdm\nfrom teachcompute.ext_test_case import measure_time"
      ]
    },
    {
      "cell_type": "markdown",
      "metadata": {},
      "source": [
        "## First try\n\n\n"
      ]
    },
    {
      "cell_type": "code",
      "execution_count": null,
      "metadata": {
        "collapsed": false
      },
      "outputs": [],
      "source": [
        "m1 = numpy.random.rand(100, 100)\nm2 = numpy.random.rand(100, 10)\nm3 = numpy.random.rand(10, 100)\n\nm = m1 @ m2 @ m3\n\nprint(m.shape)\n\nmm1 = (m1 @ m2) @ m3\nmm2 = m1 @ (m2 @ m3)\n\nprint(mm1.shape, mm2.shape)\n\nt1 = measure_time(lambda: (m1 @ m2) @ m3, context={}, number=50, repeat=50)\npprint.pprint(t1)\n\nt2 = measure_time(lambda: m1 @ (m2 @ m3), context={}, number=50, repeat=50)\npprint.pprint(t2)"
      ]
    },
    {
      "cell_type": "markdown",
      "metadata": {},
      "source": [
        "## With different sizes\n\n"
      ]
    },
    {
      "cell_type": "code",
      "execution_count": null,
      "metadata": {
        "collapsed": false
      },
      "outputs": [],
      "source": [
        "obs = []\nfor i in tqdm([50, 100, 125, 150, 175, 200]):\n    m1 = numpy.random.rand(i, i)\n    m2 = numpy.random.rand(i, 10)\n    m3 = numpy.random.rand(10, i)\n\n    t1 = measure_time(lambda: (m1 @ m2) @ m3, context={}, number=50, repeat=50)\n    t1[\"formula\"] = \"(m1 @ m2) @ m3\"\n    t1[\"size\"] = i\n    obs.append(t1)\n    t2 = measure_time(lambda: m1 @ (m2 @ m3), context={}, number=50, repeat=50)\n    t2[\"formula\"] = \"m1 @ (m2 @ m3)\"\n    t2[\"size\"] = i\n    obs.append(t2)\n\ndf = DataFrame(obs)\npiv = df.pivot(index=\"size\", columns=\"formula\", values=\"average\")\npiv"
      ]
    },
    {
      "cell_type": "markdown",
      "metadata": {},
      "source": [
        "## Graph\n\n"
      ]
    },
    {
      "cell_type": "code",
      "execution_count": null,
      "metadata": {
        "collapsed": false
      },
      "outputs": [],
      "source": [
        "fig, ax = plt.subplots(1, 2, figsize=(12, 4))\npiv.plot(\n    logx=True,\n    logy=True,\n    ax=ax[0],\n    title=f\"{m1.shape!r} @ {m2.shape!r} @ \" f\"{m3.shape!r}\".replace(\"200\", \"size\"),\n)\npiv[\"ratio\"] = piv[\"m1 @ (m2 @ m3)\"] / piv[\"(m1 @ m2) @ m3\"]\npiv[[\"ratio\"]].plot(ax=ax[1])"
      ]
    }
  ],
  "metadata": {
    "kernelspec": {
      "display_name": "Python 3",
      "language": "python",
      "name": "python3"
    },
    "language_info": {
      "codemirror_mode": {
        "name": "ipython",
        "version": 3
      },
      "file_extension": ".py",
      "mimetype": "text/x-python",
      "name": "python",
      "nbconvert_exporter": "python",
      "pygments_lexer": "ipython3",
      "version": "3.11.6"
    }
  },
  "nbformat": 4,
  "nbformat_minor": 0
}