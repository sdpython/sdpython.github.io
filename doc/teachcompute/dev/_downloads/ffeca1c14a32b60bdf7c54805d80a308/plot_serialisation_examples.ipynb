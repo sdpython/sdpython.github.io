{
  "cells": [
    {
      "cell_type": "markdown",
      "metadata": {},
      "source": [
        "\n# S\u00e9rialisation\n\nLe notebook explore diff\u00e9rentes fa\u00e7ons de s\u00e9rialiser des donn\u00e9es et leurs limites.\n\n## JSON\n\nLe format :epkg:`JSON` est le format le plus utilis\u00e9 sur internet\nnotemmant via les :epkg:`API REST`.\n\n### Ecriture (json)\n"
      ]
    },
    {
      "cell_type": "code",
      "execution_count": null,
      "metadata": {
        "collapsed": false
      },
      "outputs": [],
      "source": [
        "from io import StringIO, BytesIO\nimport timeit\nimport json\nimport numpy\nimport ujson\nimport cloudpickle\nimport pickle\nimport matplotlib.pyplot as plt\nimport pandas\n\n\ndata = {\n    \"records\": [\n        {\n            \"nom\": \"Xavier\",\n            \"pr\u00e9nom\": \"Xavier\",\n            \"langages\": [{\"nom\": \"C++\", \"age\": 40}, {\"nom\": \"Python\", \"age\": 20}],\n        }\n    ]\n}"
      ]
    },
    {
      "cell_type": "code",
      "execution_count": null,
      "metadata": {
        "collapsed": false
      },
      "outputs": [],
      "source": [
        "buffer = StringIO()\nres = json.dump(data, buffer)  # 1\nseq = buffer.getvalue()\nseq"
      ]
    },
    {
      "cell_type": "markdown",
      "metadata": {},
      "source": [
        "### Lecture (json)\n\n"
      ]
    },
    {
      "cell_type": "code",
      "execution_count": null,
      "metadata": {
        "collapsed": false
      },
      "outputs": [],
      "source": [
        "buffer = StringIO(seq)\nread = json.load(buffer)\nread"
      ]
    },
    {
      "cell_type": "markdown",
      "metadata": {},
      "source": [
        "### Limite\n\nLes matrices :epkg:`numpy` ne sont pas s\u00e9rialisables facilement.\n\n"
      ]
    },
    {
      "cell_type": "code",
      "execution_count": null,
      "metadata": {
        "collapsed": false
      },
      "outputs": [],
      "source": [
        "data = {\"mat\": numpy.array([0, 1])}\n\nbuffer = StringIO()\ntry:\n    json.dump(data, buffer)\nexcept Exception as e:\n    print(e)"
      ]
    },
    {
      "cell_type": "markdown",
      "metadata": {},
      "source": [
        "Les classes ne sont pas s\u00e9rialisables non plus facilement.\n\n"
      ]
    },
    {
      "cell_type": "code",
      "execution_count": null,
      "metadata": {
        "collapsed": false
      },
      "outputs": [],
      "source": [
        "class A:\n    def __init__(self, att):\n        self.att = att\n\n\ndata = A(\"e\")\nbuffer = StringIO()\ntry:\n    json.dump(data, buffer)\nexcept Exception as e:\n    print(e)"
      ]
    },
    {
      "cell_type": "markdown",
      "metadata": {},
      "source": [
        "Pour ce faire, il faut indiquer au module :mod:`json`\ncomment convertir la classe en un ensemble de listes et dictionnaires et\nla classe :class:`json.JSONEncoder`.\n\n"
      ]
    },
    {
      "cell_type": "code",
      "execution_count": null,
      "metadata": {
        "collapsed": false
      },
      "outputs": [],
      "source": [
        "class MyEncoder(json.JSONEncoder):\n    def default(self, o):\n        return {\"classname\": o.__class__.__name__, \"data\": o.__dict__}\n\n\ndata = A(\"e\")\nbuffer = StringIO()\nres = json.dump(data, buffer, cls=MyEncoder)\nres = buffer.getvalue()\nres"
      ]
    },
    {
      "cell_type": "markdown",
      "metadata": {},
      "source": [
        "Et la relecture avec la classe :class:`json.JSONDecoder`.\n\n"
      ]
    },
    {
      "cell_type": "code",
      "execution_count": null,
      "metadata": {
        "collapsed": false
      },
      "outputs": [],
      "source": [
        "class MyDecoder(json.JSONDecoder):\n    def decode(self, o):\n        dec = json.JSONDecoder.decode(self, o)\n        if isinstance(dec, dict) and dec.get(\"classname\") == \"A\":\n            return A(dec[\"data\"][\"att\"])\n        else:\n            return dec\n\n\nbuffer = StringIO(res)\nobj = json.load(buffer, cls=MyDecoder)\nobj"
      ]
    },
    {
      "cell_type": "markdown",
      "metadata": {},
      "source": [
        "### S\u00e9rialisation rapide\n\nLe module :mod:`json` est la librairie standard de Python mais comme\nla s\u00e9rialisation au format *JSON* est un besoin tr\u00e8s fr\u00e9quent,\nil existe des alternative plus rapide comme :epkg:`ujson`.\n\n"
      ]
    },
    {
      "cell_type": "code",
      "execution_count": null,
      "metadata": {
        "collapsed": false
      },
      "outputs": [],
      "source": [
        "data = {\n    \"records\": [\n        {\n            \"nom\": \"Xavier\",\n            \"pr\u00e9nom\": \"Xavier\",\n            \"langages\": [{\"nom\": \"C++\", \"age\": 40}, {\"nom\": \"Python\", \"age\": 20}],\n        }\n    ]\n}"
      ]
    },
    {
      "cell_type": "code",
      "execution_count": null,
      "metadata": {
        "collapsed": false
      },
      "outputs": [],
      "source": [
        "data_time = []\nexpression = \"json.dump(data, StringIO())\"\nd = timeit.timeit(expression, globals=globals(), number=100)\ndata_time.append(dict(expression=expression, time=d))\nd"
      ]
    },
    {
      "cell_type": "code",
      "execution_count": null,
      "metadata": {
        "collapsed": false
      },
      "outputs": [],
      "source": [
        "expression = \"ujson.dump(data, StringIO())\"\nd = timeit.timeit(expression, globals=globals(), number=100)\ndata_time.append(dict(expression=expression, time=d))\nd"
      ]
    },
    {
      "cell_type": "markdown",
      "metadata": {},
      "source": [
        "Ces deux lignes mesures l'\u00e9criture au format JSON\nmais il faut aussi mesurer la lecture.\n\n"
      ]
    },
    {
      "cell_type": "code",
      "execution_count": null,
      "metadata": {
        "collapsed": false
      },
      "outputs": [],
      "source": [
        "buffer = StringIO()\nujson.dump(data, buffer)\nres = buffer.getvalue()\n\nexpression = \"json.load(StringIO(res))\"\nd = timeit.timeit(expression, globals=globals(), number=100)\ndata_time.append(dict(expression=expression, time=d))\nd"
      ]
    },
    {
      "cell_type": "code",
      "execution_count": null,
      "metadata": {
        "collapsed": false
      },
      "outputs": [],
      "source": [
        "expression = \"ujson.load(StringIO(res))\"\nd = timeit.timeit(expression, globals=globals(), number=100)\ndata_time.append(dict(expression=expression, time=d))\nd"
      ]
    },
    {
      "cell_type": "markdown",
      "metadata": {},
      "source": [
        "On enl\u00e8ve le temps pass\u00e9 dans la creation du buffer.\n\n"
      ]
    },
    {
      "cell_type": "code",
      "execution_count": null,
      "metadata": {
        "collapsed": false
      },
      "outputs": [],
      "source": [
        "expression = \"StringIO(res)\"\nd = timeit.timeit(expression, globals=globals(), number=100)\ndata_time.append(dict(expression=expression, time=d))\nd"
      ]
    },
    {
      "cell_type": "markdown",
      "metadata": {},
      "source": [
        "## Pickle\n\nLe module :mod:`pickle` effectue la m\u00eame chose mais au format binaire.\nCelui-ci est propre \u00e0 *Python* et ne peut \u00eatre lu d'autres langages,\nvoire parfois par d'autres versions de *Python*.\n\n### Ecriture (pickle)\n\n"
      ]
    },
    {
      "cell_type": "code",
      "execution_count": null,
      "metadata": {
        "collapsed": false
      },
      "outputs": [],
      "source": [
        "data = {\n    \"records\": [\n        {\n            \"nom\": \"Xavier\",\n            \"pr\u00e9nom\": \"Xavier\",\n            \"langages\": [{\"nom\": \"C++\", \"age\": 40}, {\"nom\": \"Python\", \"age\": 20}],\n        }\n    ]\n}"
      ]
    },
    {
      "cell_type": "code",
      "execution_count": null,
      "metadata": {
        "collapsed": false
      },
      "outputs": [],
      "source": [
        "buffer = BytesIO()\nres = pickle.dump(data, buffer)\nseq = buffer.getvalue()\nseq"
      ]
    },
    {
      "cell_type": "markdown",
      "metadata": {},
      "source": [
        "### Lecture (pickle)\n\n"
      ]
    },
    {
      "cell_type": "code",
      "execution_count": null,
      "metadata": {
        "collapsed": false
      },
      "outputs": [],
      "source": [
        "buffer = BytesIO(seq)\nread = pickle.load(buffer)\nread"
      ]
    },
    {
      "cell_type": "markdown",
      "metadata": {},
      "source": [
        "### Les classes\n\nA l'inverse du format *JSON*, les classes sont s\u00e9rialisables avec\n:mod:`pickle` parce que le langage utilise un format tr\u00e8s proche\nde ce qu'il a en m\u00e9moire. Il n'a pas besoin de conversion suppl\u00e9mentaire.\n\n"
      ]
    },
    {
      "cell_type": "code",
      "execution_count": null,
      "metadata": {
        "collapsed": false
      },
      "outputs": [],
      "source": [
        "data = A(\"r\")\nbuffer = BytesIO()\nres = pickle.dump(data, buffer)\nseq = buffer.getvalue()\nseq"
      ]
    },
    {
      "cell_type": "code",
      "execution_count": null,
      "metadata": {
        "collapsed": false
      },
      "outputs": [],
      "source": [
        "buffer = BytesIO(seq)\nread = pickle.load(buffer)\nread"
      ]
    },
    {
      "cell_type": "markdown",
      "metadata": {},
      "source": [
        "### R\u00e9duire la taille\n\nCertaines informations sont duppliqu\u00e9es et il est pr\u00e9f\u00e9rable de ne pas\nles s\u00e9rialiser deux fois surtout si elles sont voluminueuses.\n\n"
      ]
    },
    {
      "cell_type": "code",
      "execution_count": null,
      "metadata": {
        "collapsed": false
      },
      "outputs": [],
      "source": [
        "class B:\n    def __init__(self, att):\n        self.att1 = att\n        self.att2 = att"
      ]
    },
    {
      "cell_type": "code",
      "execution_count": null,
      "metadata": {
        "collapsed": false
      },
      "outputs": [],
      "source": [
        "data = B(\"r\")\nbuffer = BytesIO()\nres = pickle.dump(data, buffer)\nseq = buffer.getvalue()\nseq"
      ]
    },
    {
      "cell_type": "markdown",
      "metadata": {},
      "source": [
        "Evitons maintenant de stocker deux fois le m\u00eame attribut.\n\n"
      ]
    },
    {
      "cell_type": "code",
      "execution_count": null,
      "metadata": {
        "collapsed": false
      },
      "outputs": [],
      "source": [
        "class B:\n    def __init__(self, att):\n        self.att1 = att\n        self.att2 = att\n\n    def __getstate__(self):\n        return dict(att=self.att1)\n\n\ndata = B(\"r\")\nbuffer = BytesIO()\nres = pickle.dump(data, buffer)\nseq = buffer.getvalue()\nseq"
      ]
    },
    {
      "cell_type": "markdown",
      "metadata": {},
      "source": [
        "C'est plus court mais il faut inclure maintenant la relecture.\n\n"
      ]
    },
    {
      "cell_type": "code",
      "execution_count": null,
      "metadata": {
        "collapsed": false
      },
      "outputs": [],
      "source": [
        "class B:\n    def __init__(self, att):\n        self.att1 = att\n        self.att2 = att\n\n    def __getstate__(self):\n        return dict(att=self.att1)\n\n    def __setstate__(self, state):\n        setattr(self, \"att1\", state[\"att\"])\n        setattr(self, \"att2\", state[\"att\"])\n\n\nbuffer = BytesIO(seq)\nread = pickle.load(buffer)\nread"
      ]
    },
    {
      "cell_type": "code",
      "execution_count": null,
      "metadata": {
        "collapsed": false
      },
      "outputs": [],
      "source": [
        "read.att1, read.att2"
      ]
    },
    {
      "cell_type": "code",
      "execution_count": null,
      "metadata": {
        "collapsed": false
      },
      "outputs": [],
      "source": [
        "data = B(\"r\")\nexpression = \"pickle.dump(data, BytesIO())\"\nd = timeit.timeit(expression, globals=globals(), number=100)\ndata_time.append(dict(expression=expression, time=d))\nd"
      ]
    },
    {
      "cell_type": "code",
      "execution_count": null,
      "metadata": {
        "collapsed": false
      },
      "outputs": [],
      "source": [
        "expression = \"pickle.load(BytesIO(seq))\"\nd = timeit.timeit(expression, globals=globals(), number=100)\ndata_time.append(dict(expression=expression, time=d))\nd"
      ]
    },
    {
      "cell_type": "markdown",
      "metadata": {},
      "source": [
        "La s\u00e9rialisation binaire est habituellement plus rapide dans les langages\nbas niveau comme C++. La m\u00eame comparaison pour un langage haut niveau\ntel que Python n'est pas toujours pr\u00e9visible.\nIl est possible d'acc\u00e9l\u00e9rer un peu les choses.\n\n"
      ]
    },
    {
      "cell_type": "code",
      "execution_count": null,
      "metadata": {
        "collapsed": false
      },
      "outputs": [],
      "source": [
        "expression = \"pickle.dump(data, BytesIO(), protocol=pickle.HIGHEST_PROTOCOL)\"\nd = timeit.timeit(expression, globals=globals(), number=100)\ndata_time.append(dict(expression=expression, time=d))\nd"
      ]
    },
    {
      "cell_type": "markdown",
      "metadata": {},
      "source": [
        "## Cas des fonctions\n\nLa s\u00e9rialisation s'applique \u00e0 des donn\u00e9es et non \u00e0 du code mais le\nfait de s\u00e9rialiser des fonctions est tout de m\u00eame tentant.\nLa s\u00e9rialisation binaire fonctionne m\u00eame avec les fonctions.\n\n### Binaire\n\n"
      ]
    },
    {
      "cell_type": "code",
      "execution_count": null,
      "metadata": {
        "collapsed": false
      },
      "outputs": [],
      "source": [
        "def myfunc(x):\n    return x + 1\n\n\ndata = {\"x\": 5, \"f\": myfunc}\n\n\nbuffer = BytesIO()\nres = pickle.dump(data, buffer)\nbuffer.getvalue()"
      ]
    },
    {
      "cell_type": "code",
      "execution_count": null,
      "metadata": {
        "collapsed": false
      },
      "outputs": [],
      "source": [
        "res = pickle.load(BytesIO(buffer.getvalue()))\nres"
      ]
    },
    {
      "cell_type": "code",
      "execution_count": null,
      "metadata": {
        "collapsed": false
      },
      "outputs": [],
      "source": [
        "res[\"f\"](res[\"x\"])"
      ]
    },
    {
      "cell_type": "markdown",
      "metadata": {},
      "source": [
        "La s\u00e9rialisation ne conserve pas le code de la fonction, juste son nom.\nCela veut dire que si elle n'est pas disponible lorsqu'elle est appel\u00e9e,\nil sera impossible de s'en servir.\n\n"
      ]
    },
    {
      "cell_type": "code",
      "execution_count": null,
      "metadata": {
        "collapsed": false
      },
      "outputs": [],
      "source": [
        "del myfunc\n\n\ntry:\n    pickle.load(BytesIO(buffer.getvalue()))\nexcept Exception as e:\n    print(e)"
      ]
    },
    {
      "cell_type": "markdown",
      "metadata": {},
      "source": [
        "Il est possible de contourner l'obstacle en utilisant le module\n:epkg:`cloudpickle` qui stocke le code de la fonction.\n\n"
      ]
    },
    {
      "cell_type": "code",
      "execution_count": null,
      "metadata": {
        "collapsed": false
      },
      "outputs": [],
      "source": [
        "def myfunc(x):\n    return x + 1\n\n\ndata = {\"x\": 5, \"f\": myfunc}\n\n\nbuffer = BytesIO()\nres = cloudpickle.dump(data, buffer)\nbuffer.getvalue()"
      ]
    },
    {
      "cell_type": "code",
      "execution_count": null,
      "metadata": {
        "collapsed": false
      },
      "outputs": [],
      "source": [
        "del myfunc\n\n\nres = cloudpickle.load(BytesIO(buffer.getvalue()))\nres"
      ]
    },
    {
      "cell_type": "code",
      "execution_count": null,
      "metadata": {
        "collapsed": false
      },
      "outputs": [],
      "source": [
        "res[\"f\"](res[\"x\"])"
      ]
    },
    {
      "cell_type": "markdown",
      "metadata": {},
      "source": [
        "### Fonction et JSON\n\nLa s\u00e9rialisation d'une fonction au format JSON ne\nfonctionne pas avec le module standard.\n\n"
      ]
    },
    {
      "cell_type": "code",
      "execution_count": null,
      "metadata": {
        "collapsed": false
      },
      "outputs": [],
      "source": [
        "buffer = StringIO()\ntry:\n    json.dump(data, buffer)  # 2\nexcept Exception as e:\n    print(e)"
      ]
    },
    {
      "cell_type": "markdown",
      "metadata": {},
      "source": [
        "La s\u00e9rialisation avec :epkg:`ujson` ne fonctionne pas non plus\nm\u00eame si elle ne produit pas toujours d'erreur.\n\n"
      ]
    },
    {
      "cell_type": "code",
      "execution_count": null,
      "metadata": {
        "collapsed": false
      },
      "outputs": [],
      "source": [
        "buffer = StringIO()\ntry:\n    res = ujson.dump(data, buffer)  # 3\nexcept TypeError as e:\n    print(e)\nbuffer.getvalue()"
      ]
    },
    {
      "cell_type": "markdown",
      "metadata": {},
      "source": [
        "## Cas des it\u00e9rateurs\n\nLes it\u00e9rateurs fonctionnent avec la s\u00e9rialisation binaire mais ceci\nimplique de stocker l'ensemble que l'it\u00e9rateur parcourt.\n\n"
      ]
    },
    {
      "cell_type": "code",
      "execution_count": null,
      "metadata": {
        "collapsed": false
      },
      "outputs": [],
      "source": [
        "ens = [1, 2]\n\ndata = {\"x\": 5, \"it\": iter(ens)}\n\n\nbuffer = BytesIO()\nres = pickle.dump(data, buffer)  # 4\nbuffer.getvalue()"
      ]
    },
    {
      "cell_type": "code",
      "execution_count": null,
      "metadata": {
        "collapsed": false
      },
      "outputs": [],
      "source": [
        "del ens\n\nres = pickle.load(BytesIO(buffer.getvalue()))\nres"
      ]
    },
    {
      "cell_type": "code",
      "execution_count": null,
      "metadata": {
        "collapsed": false
      },
      "outputs": [],
      "source": [
        "list(res[\"it\"])"
      ]
    },
    {
      "cell_type": "code",
      "execution_count": null,
      "metadata": {
        "collapsed": false
      },
      "outputs": [],
      "source": [
        "list(res[\"it\"])"
      ]
    },
    {
      "cell_type": "markdown",
      "metadata": {},
      "source": [
        "## Cas des g\u00e9n\u00e9rateurs\n\nIls ne peuvent \u00eatre s\u00e9rialis\u00e9s car le langage n'a pas acc\u00e8s \u00e0 l'ensemble\ndes \u00e9l\u00e9ments que le g\u00e9n\u00e9rateur parcourt. Il n'y a aucun moyen de\ns\u00e9rialiser un g\u00e9n\u00e9rateur mais on peut s\u00e9rialiser la fonction qui cr\u00e9e le g\u00e9n\u00e9rateur.\n\n"
      ]
    },
    {
      "cell_type": "code",
      "execution_count": null,
      "metadata": {
        "collapsed": false
      },
      "outputs": [],
      "source": [
        "def ensgen():\n    yield 1\n    yield 2\n\n\ndata = {\"x\": 5, \"it\": ensgen()}\n\n\nbuffer = BytesIO()\ntry:\n    pickle.dump(data, buffer)\nexcept Exception as e:\n    print(e)"
      ]
    },
    {
      "cell_type": "markdown",
      "metadata": {},
      "source": [
        "## Summary\n\n"
      ]
    },
    {
      "cell_type": "code",
      "execution_count": null,
      "metadata": {
        "collapsed": false
      },
      "outputs": [],
      "source": [
        "df = pandas.DataFrame(data_time)\nprint(df)"
      ]
    },
    {
      "cell_type": "code",
      "execution_count": null,
      "metadata": {
        "collapsed": false
      },
      "outputs": [],
      "source": [
        "fig, ax = plt.subplots(1, 2, figsize=(10, 4), sharey=True)\ndf.set_index(\"expression\").plot.barh(ax=ax[0])\ndf.loc[0, \"time\"] = numpy.nan\ndf.set_index(\"expression\").plot.barh(ax=ax[1])\nax[0].set_title(\"Time\")\nax[1].set_title(\"Time without `json.dump`\")\nfig.tight_layout()\nfig.savefig(\"plot_serialisation_examples.png\")"
      ]
    }
  ],
  "metadata": {
    "kernelspec": {
      "display_name": "Python 3",
      "language": "python",
      "name": "python3"
    },
    "language_info": {
      "codemirror_mode": {
        "name": "ipython",
        "version": 3
      },
      "file_extension": ".py",
      "mimetype": "text/x-python",
      "name": "python",
      "nbconvert_exporter": "python",
      "pygments_lexer": "ipython3",
      "version": "3.12.9"
    }
  },
  "nbformat": 4,
  "nbformat_minor": 0
}