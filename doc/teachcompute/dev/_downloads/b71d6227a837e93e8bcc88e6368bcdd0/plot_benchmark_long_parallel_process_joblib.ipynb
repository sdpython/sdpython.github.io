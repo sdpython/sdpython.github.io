{
  "cells": [
    {
      "cell_type": "markdown",
      "metadata": {},
      "source": [
        "\n# Parallelization of a dot product with processes (joblib)\n\nUses processes to parallelize a dot product is not\na very solution because processes do not share memory,\nthey need to exchange data. This parallelisation\nis efficient if the ratio *exchanged data / computation time*\nis low. :epkg:`joblib` is used by :epkg:`scikit-learn`.\nThe cost of creating new processes is also significant.\n"
      ]
    },
    {
      "cell_type": "code",
      "execution_count": null,
      "metadata": {
        "collapsed": false
      },
      "outputs": [],
      "source": [
        "import numpy\nfrom tqdm import tqdm\nfrom pandas import DataFrame\nimport matplotlib.pyplot as plt\nfrom joblib import Parallel, delayed\nfrom teachcompute.ext_test_case import measure_time, unit_test_going\n\n\ndef parallel_dot_joblib(va, vb, max_workers=2):\n    dh = va.shape[0] // max_workers\n    k = 2\n    dhk = dh // k\n    if dh != float(va.shape[0]) / max_workers:\n        raise RuntimeError(\"size must be a multiple of max_workers.\")\n\n    r = Parallel(n_jobs=max_workers, backend=\"loky\")(\n        delayed(numpy.dot)(va[i * dhk : i * dhk + dhk], vb[i * dhk : i * dhk + dhk])\n        for i in range(max_workers * k)\n    )\n    return sum(r)"
      ]
    },
    {
      "cell_type": "markdown",
      "metadata": {},
      "source": [
        "We check that it returns the same values.\n\n"
      ]
    },
    {
      "cell_type": "code",
      "execution_count": null,
      "metadata": {
        "collapsed": false
      },
      "outputs": [],
      "source": [
        "va = numpy.random.randn(100).astype(numpy.float64)\nvb = numpy.random.randn(100).astype(numpy.float64)\nprint(parallel_dot_joblib(va, vb), numpy.dot(va, vb))"
      ]
    },
    {
      "cell_type": "markdown",
      "metadata": {},
      "source": [
        "Let's benchmark.\n\n"
      ]
    },
    {
      "cell_type": "code",
      "execution_count": null,
      "metadata": {
        "collapsed": false
      },
      "outputs": [],
      "source": [
        "if unit_test_going():\n    tries = [10, 20]\nelse:\n    tries = [1000, 2000]\n\nres = []\nfor n in tqdm(tries):\n    va = numpy.random.randn(n).astype(numpy.float64)\n    vb = numpy.random.randn(n).astype(numpy.float64)\n\n    m1 = measure_time(\n        \"dot(va, vb, 2)\", dict(va=va, vb=vb, dot=parallel_dot_joblib), repeat=1\n    )\n    m2 = measure_time(\"dot(va, vb)\", dict(va=va, vb=vb, dot=numpy.dot))\n    res.append({\"N\": n, \"numpy.dot\": m2[\"average\"], \"joblib\": m1[\"average\"]})\n\ndf = DataFrame(res).set_index(\"N\")\nprint(df)\ndf.plot(logy=True, logx=True)\nplt.title(\"Parallel / numpy dot\")"
      ]
    },
    {
      "cell_type": "markdown",
      "metadata": {},
      "source": [
        "The parallelisation is inefficient.\n\n"
      ]
    }
  ],
  "metadata": {
    "kernelspec": {
      "display_name": "Python 3",
      "language": "python",
      "name": "python3"
    },
    "language_info": {
      "codemirror_mode": {
        "name": "ipython",
        "version": 3
      },
      "file_extension": ".py",
      "mimetype": "text/x-python",
      "name": "python",
      "nbconvert_exporter": "python",
      "pygments_lexer": "ipython3",
      "version": "3.10.12"
    }
  },
  "nbformat": 4,
  "nbformat_minor": 0
}