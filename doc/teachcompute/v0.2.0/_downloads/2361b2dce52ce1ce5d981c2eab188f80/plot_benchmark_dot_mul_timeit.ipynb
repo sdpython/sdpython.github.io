{
  "cells": [
    {
      "cell_type": "markdown",
      "metadata": {},
      "source": [
        "\n# Compares matrix multiplication implementations with timeit\n\n:epkg:`numpy` has a very fast implementation of\nmatrix multiplication. There are many ways to be slower.\nThe following uses :mod:`timeit` to compare implementations.\n\nCompared implementations:\n\n* :func:`multiply_matrix <teachcompute.validation.cython.td_mul_cython.multiply_matrix>`\n  [multiply_matrix](https://github.com/sdpython/teachcompute/blob/main/\n  teachcompute/validation/cython/td_mul_cython.pyx#L14)\n* :func:`c_multiply_matrix <teachcompute.validation.cython.td_mul_cython.c_multiply_matrix>`\n  [c_multiply_matrix](https://github.com/sdpython/teachcompute/blob/main/\n  teachcompute/validation/cython/td_mul_cython.pyx#L69)\n* :func:`c_multiply_matrix_parallel\n  <teachcompute.validation.cython.td_mul_cython.c_multiply_matrix_parallel>`\n  [c_multiply_matrix_parallel](https://github.com/sdpython/teachcompute/blob/main/\n  teachcompute/validation/cython/td_mul_cython.pyx#L49)\n* :func:`c_multiply_matrix_parallel_transposed\n  <teachcompute.validation.cython.td_mul_cython.c_multiply_matrix_parallel_transposed>`\n  [c_multiply_matrix_parallel_transposed](https://github.com/sdpython/teachcompute/blob/main/\n  teachcompute/validation/cython/td_mul_cython.pyx#L106)\n\n\n## Preparation\n"
      ]
    },
    {
      "cell_type": "code",
      "execution_count": null,
      "metadata": {
        "collapsed": false
      },
      "outputs": [],
      "source": [
        "import timeit\nimport numpy\n\nfrom teachcompute.validation.cython.td_mul_cython import (\n    multiply_matrix,\n    c_multiply_matrix,\n    c_multiply_matrix_parallel,\n    c_multiply_matrix_parallel_transposed as cmulparamtr,\n)\n\n\nva = numpy.random.randn(150, 100).astype(numpy.float64)\nvb = numpy.random.randn(100, 100).astype(numpy.float64)\nctx = {\n    \"va\": va,\n    \"vb\": vb,\n    \"c_multiply_matrix\": c_multiply_matrix,\n    \"multiply_matrix\": multiply_matrix,\n    \"c_multiply_matrix_parallel\": c_multiply_matrix_parallel,\n    \"c_multiply_matrix_parallel_transposed\": cmulparamtr,\n}"
      ]
    },
    {
      "cell_type": "markdown",
      "metadata": {},
      "source": [
        "## Measures\n\nnumpy\n\n"
      ]
    },
    {
      "cell_type": "code",
      "execution_count": null,
      "metadata": {
        "collapsed": false
      },
      "outputs": [],
      "source": [
        "res0 = timeit.timeit(\"va @ vb\", number=100, globals=ctx)\nprint(\"numpy time\", res0)"
      ]
    },
    {
      "cell_type": "markdown",
      "metadata": {},
      "source": [
        "python implementation\n\n"
      ]
    },
    {
      "cell_type": "code",
      "execution_count": null,
      "metadata": {
        "collapsed": false
      },
      "outputs": [],
      "source": [
        "res1 = timeit.timeit(\"multiply_matrix(va, vb)\", number=10, globals=ctx)\nprint(\"python implementation\", res1)"
      ]
    },
    {
      "cell_type": "markdown",
      "metadata": {},
      "source": [
        "cython implementation\n\n"
      ]
    },
    {
      "cell_type": "code",
      "execution_count": null,
      "metadata": {
        "collapsed": false
      },
      "outputs": [],
      "source": [
        "res2 = timeit.timeit(\"c_multiply_matrix(va, vb)\", number=100, globals=ctx)\nprint(\"cython implementation\", res2)"
      ]
    },
    {
      "cell_type": "markdown",
      "metadata": {},
      "source": [
        "cython implementation parallelized\n\n"
      ]
    },
    {
      "cell_type": "code",
      "execution_count": null,
      "metadata": {
        "collapsed": false
      },
      "outputs": [],
      "source": [
        "res3 = timeit.timeit(\"c_multiply_matrix_parallel(va, vb)\", number=100, globals=ctx)\nprint(\"cython implementation parallelized\", res3)"
      ]
    },
    {
      "cell_type": "markdown",
      "metadata": {},
      "source": [
        "cython implementation parallelized, AVX + transposed\n\n"
      ]
    },
    {
      "cell_type": "code",
      "execution_count": null,
      "metadata": {
        "collapsed": false
      },
      "outputs": [],
      "source": [
        "res4 = timeit.timeit(\n    \"c_multiply_matrix_parallel_transposed(va, vb)\", number=100, globals=ctx\n)\nprint(\"cython implementation parallelized avx\", res4)"
      ]
    },
    {
      "cell_type": "markdown",
      "metadata": {},
      "source": [
        "Speed up...\n\n"
      ]
    },
    {
      "cell_type": "code",
      "execution_count": null,
      "metadata": {
        "collapsed": false
      },
      "outputs": [],
      "source": [
        "print(f\"numpy is {res1 / res0:f} faster than pure python.\")\nprint(f\"numpy is {res2 / res0:f} faster than cython.\")\nprint(f\"numpy is {res3 / res0:f} faster than parallelized cython.\")\nprint(f\"numpy is {res4 / res0:f} faster than avx parallelized cython.\")"
      ]
    }
  ],
  "metadata": {
    "kernelspec": {
      "display_name": "Python 3",
      "language": "python",
      "name": "python3"
    },
    "language_info": {
      "codemirror_mode": {
        "name": "ipython",
        "version": 3
      },
      "file_extension": ".py",
      "mimetype": "text/x-python",
      "name": "python",
      "nbconvert_exporter": "python",
      "pygments_lexer": "ipython3",
      "version": "3.11.6"
    }
  },
  "nbformat": 4,
  "nbformat_minor": 0
}