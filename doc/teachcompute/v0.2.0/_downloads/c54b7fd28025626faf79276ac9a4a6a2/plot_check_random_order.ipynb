{
  "cells": [
    {
      "cell_type": "markdown",
      "metadata": {},
      "source": [
        "\n# Random order for a sum\n\nParallelization usually means a summation is done with a random order.\nThat may lead to different values if the computation is made many times\neven though the result should be the same. This example compares\nsummation of random permutation of the same array of values.\n\n## Setup\n"
      ]
    },
    {
      "cell_type": "code",
      "execution_count": null,
      "metadata": {
        "collapsed": false
      },
      "outputs": [],
      "source": [
        "from tqdm import tqdm\nimport numpy as np\n\nunique_values = np.array(\n    [2.1102535724639893, 0.5986238718032837, -0.49545818567276], dtype=np.float32\n)\nrandom_index = np.random.randint(0, 3, 2000)\nassert set(random_index) == {0, 1, 2}\nvalues = unique_values[random_index]\n\ns0 = values.sum()\ns1 = np.array(0, dtype=np.float32)\nfor n in values:\n    s1 += n\n\ndelta = s1 - s0\nprint(f\"reduced sum={s0}, iterative sum={s1}, delta={delta}\")"
      ]
    },
    {
      "cell_type": "markdown",
      "metadata": {},
      "source": [
        "There are discrepancies.\n\n## Random order\n\nLet's go further and check the sum of random permutation of the same set.\nLet's compare the result with the same sum done with a higher precision (double).\n\n"
      ]
    },
    {
      "cell_type": "code",
      "execution_count": null,
      "metadata": {
        "collapsed": false
      },
      "outputs": [],
      "source": [
        "def check_orders(values, n=200, bias=0):\n    double_sums = []\n    sums = []\n    reduced_sums = []\n    for i in tqdm(range(n)):\n        permuted_values = np.random.permutation(values)\n        s = np.array(bias, dtype=np.float32)\n        sd = np.array(bias, dtype=np.float64)\n        for n in permuted_values:\n            s += n\n            sd += n\n        sums.append(s)\n        double_sums.append(sd)\n        reduced_sums.append(permuted_values.sum() + bias)\n\n    mi, ma = min(sums), max(sums)\n    print(f\"min={mi} max={ma} delta={ma-mi}\")\n    mi, ma = min(double_sums), max(double_sums)\n    print(f\"min={mi} max={ma} delta={ma-mi} (double)\")\n    mi, ma = min(reduced_sums), max(reduced_sums)\n    print(f\"min={mi} max={ma} delta={ma-mi} (reduced)\")\n\n\ncheck_orders(values)"
      ]
    },
    {
      "cell_type": "markdown",
      "metadata": {},
      "source": [
        "This example clearly shows the order has an impact.\nIt is usually unavoidable but it could reduced if the sum\nit close to zero. In that case, the sum would be of the same\norder of magnitude of the add values.\n\n## Removing the average\n\nComputing the average of the values requires to compute the sum.\nHowever if we have an estimator of this average, not necessarily\nthe exact value, we would help the summation to keep the same order\nof magnitude than the values it adds.\n\n"
      ]
    },
    {
      "cell_type": "code",
      "execution_count": null,
      "metadata": {
        "collapsed": false
      },
      "outputs": [],
      "source": [
        "mean = unique_values.mean()\nvalues -= mean\ncheck_orders(values, bias=len(values) * mean)"
      ]
    },
    {
      "cell_type": "markdown",
      "metadata": {},
      "source": [
        "The differences are clearly lower.\n\n"
      ]
    }
  ],
  "metadata": {
    "kernelspec": {
      "display_name": "Python 3",
      "language": "python",
      "name": "python3"
    },
    "language_info": {
      "codemirror_mode": {
        "name": "ipython",
        "version": 3
      },
      "file_extension": ".py",
      "mimetype": "text/x-python",
      "name": "python",
      "nbconvert_exporter": "python",
      "pygments_lexer": "ipython3",
      "version": "3.10.12"
    }
  },
  "nbformat": 4,
  "nbformat_minor": 0
}