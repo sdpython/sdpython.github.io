{
  "cells": [
    {
      "cell_type": "markdown",
      "metadata": {},
      "source": [
        "\n# Parallelization of a dot product with processes (concurrent.futures)\n\nUses processes to parallelize a dot product is not\na very solution because processes do not share memory,\nthey need to exchange data. This parallelisation\nis efficient if the ratio *exchanged data / computation time*\nis low. This example uses :epkg:`concurrent.futures`.\nThe cost of creating new processes is also significant.\n"
      ]
    },
    {
      "cell_type": "code",
      "execution_count": null,
      "metadata": {
        "collapsed": false
      },
      "outputs": [],
      "source": [
        "import numpy\nfrom tqdm import tqdm\nfrom pandas import DataFrame\nimport matplotlib.pyplot as plt\nimport concurrent.futures as cf\nfrom teachcompute.ext_test_case import measure_time\n\n\ndef parallel_numpy_dot(va, vb, max_workers=2):\n    if max_workers == 2:\n        with cf.ThreadPoolExecutor(max_workers=max_workers) as e:\n            m = va.shape[0] // 2\n            f1 = e.submit(numpy.dot, va[:m], vb[:m])\n            f2 = e.submit(numpy.dot, va[m:], vb[m:])\n            return f1.result() + f2.result()\n    elif max_workers == 3:\n        with cf.ThreadPoolExecutor(max_workers=max_workers) as e:\n            m = va.shape[0] // 3\n            m2 = va.shape[0] * 2 // 3\n            f1 = e.submit(numpy.dot, va[:m], vb[:m])\n            f2 = e.submit(numpy.dot, va[m:m2], vb[m:m2])\n            f3 = e.submit(numpy.dot, va[m2:], vb[m2:])\n            return f1.result() + f2.result() + f3.result()\n    else:\n        raise NotImplementedError()"
      ]
    },
    {
      "cell_type": "markdown",
      "metadata": {},
      "source": [
        "We check that it returns the same values.\n\n"
      ]
    },
    {
      "cell_type": "code",
      "execution_count": null,
      "metadata": {
        "collapsed": false
      },
      "outputs": [],
      "source": [
        "va = numpy.random.randn(100).astype(numpy.float64)\nvb = numpy.random.randn(100).astype(numpy.float64)\nprint(parallel_numpy_dot(va, vb), numpy.dot(va, vb))"
      ]
    },
    {
      "cell_type": "markdown",
      "metadata": {},
      "source": [
        "Let's benchmark.\n\n"
      ]
    },
    {
      "cell_type": "code",
      "execution_count": null,
      "metadata": {
        "collapsed": false
      },
      "outputs": [],
      "source": [
        "res = []\nfor n in tqdm([100000, 1000000, 10000000, 100000000]):\n    va = numpy.random.randn(n).astype(numpy.float64)\n    vb = numpy.random.randn(n).astype(numpy.float64)\n\n    m1 = measure_time(\"dot(va, vb, 2)\", dict(va=va, vb=vb, dot=parallel_numpy_dot))\n    m2 = measure_time(\"dot(va, vb)\", dict(va=va, vb=vb, dot=numpy.dot))\n    res.append({\"N\": n, \"numpy.dot\": m2[\"average\"], \"futures\": m1[\"average\"]})\n\ndf = DataFrame(res).set_index(\"N\")\nprint(df)\ndf.plot(logy=True, logx=True)\nplt.title(\"Parallel / numpy dot\")"
      ]
    },
    {
      "cell_type": "markdown",
      "metadata": {},
      "source": [
        "The parallelisation is inefficient\nunless the vectors are big.\n\n"
      ]
    }
  ],
  "metadata": {
    "kernelspec": {
      "display_name": "Python 3",
      "language": "python",
      "name": "python3"
    },
    "language_info": {
      "codemirror_mode": {
        "name": "ipython",
        "version": 3
      },
      "file_extension": ".py",
      "mimetype": "text/x-python",
      "name": "python",
      "nbconvert_exporter": "python",
      "pygments_lexer": "ipython3",
      "version": "3.11.6"
    }
  },
  "nbformat": 4,
  "nbformat_minor": 0
}