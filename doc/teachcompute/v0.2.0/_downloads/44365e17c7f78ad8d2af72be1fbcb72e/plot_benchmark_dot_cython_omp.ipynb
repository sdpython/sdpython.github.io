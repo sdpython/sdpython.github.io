{
  "cells": [
    {
      "cell_type": "markdown",
      "metadata": {},
      "source": [
        "\n# Compares dot implementations (numpy, c++, sse, openmp)\n\n:epkg:`numpy` has a very fast implementation of\nthe dot product. It is difficult to be better and very easy\nto be slower. This example looks into a couple of slower\nimplementations with cython. The tested functions are\nthe following:\n\n* :func:`ddot_array_16_sse <teachcompute.validation.cython.dot_cython.ddot_array_16_sse>`\n  [ddot_array_16_sse](https://github.com/sdpython/teachcompute/blob/main/\n  teachcompute/validation/cython/dot_cython.pyx#L230)\n* :func:`ddot_cython_array_omp\n  <teachcompute.validation.cython.dot_cython_omp.ddot_cython_array_omp>`\n  [ddot_cython_array_omp](https://github.com/sdpython/teachcompute/blob/main/\n  teachcompute/validation/cython/dot_cython_omp.pyx#L47)\n* :func:`ddot_array_openmp\n  <teachcompute.validation.cython.dot_cython_omp.ddot_array_openmp>`\n  [ddot_array_openmp](https://github.com/sdpython/teachcompute/blob/main/\n  teachcompute/validation/cython/dot_cython_omp.pyx#L88)\n* :func:`ddot_array_openmp_16\n  <teachcompute.validation.cython.dot_cython_omp.ddot_array_openmp_16>`\n  [ddot_array_openmp_16](https://github.com/sdpython/teachcompute/blob/main/\n  teachcompute/validation/cython/dot_cython_omp.pyx#L104)\n"
      ]
    },
    {
      "cell_type": "code",
      "execution_count": null,
      "metadata": {
        "collapsed": false
      },
      "outputs": [],
      "source": [
        "import numpy\nimport matplotlib.pyplot as plt\nfrom pandas import DataFrame, concat\nfrom teachcompute.validation.cython.dot_cython import ddot_array_16_sse, ddot_array\nfrom teachcompute.validation.cython.dot_cython_omp import (\n    ddot_cython_array_omp,\n    ddot_array_openmp,\n    get_omp_max_threads,\n    ddot_array_openmp_16,\n)\nfrom teachcompute.ext_test_case import measure_time_dim, unit_test_going\n\n\ndef get_vectors(fct, n, h=250, dtype=numpy.float64):\n    ctxs = [\n        dict(\n            va=numpy.random.randn(n).astype(dtype),\n            vb=numpy.random.randn(n).astype(dtype),\n            dot=fct,\n            x_name=n,\n        )\n        for n in range(10, n, h)\n    ]\n    return ctxs"
      ]
    },
    {
      "cell_type": "markdown",
      "metadata": {},
      "source": [
        "## Number of threads\n\n\n"
      ]
    },
    {
      "cell_type": "code",
      "execution_count": null,
      "metadata": {
        "collapsed": false
      },
      "outputs": [],
      "source": [
        "print(get_omp_max_threads())"
      ]
    },
    {
      "cell_type": "markdown",
      "metadata": {},
      "source": [
        "## Several cython dot\n\n\n"
      ]
    },
    {
      "cell_type": "code",
      "execution_count": null,
      "metadata": {
        "collapsed": false
      },
      "outputs": [],
      "source": [
        "def numpy_dot(va, vb):\n    return numpy.dot(va, vb)\n\n\ndef ddot_omp(va, vb):\n    return ddot_cython_array_omp(va, vb)\n\n\ndef ddot_omp_static(va, vb):\n    return ddot_cython_array_omp(va, vb, schedule=1)\n\n\ndef ddot_omp_dyn(va, vb):\n    return ddot_cython_array_omp(va, vb, schedule=2)\n\n\ndef ddot_omp_cpp(va, vb):\n    return ddot_array_openmp(va, vb)\n\n\ndef ddot_omp_cpp_16(va, vb):\n    return ddot_array_openmp_16(va, vb)\n\n\ndfs = []\nfor fct in [\n    numpy_dot,\n    ddot_array,\n    ddot_array_16_sse,\n    ddot_omp,\n    ddot_omp_static,\n    ddot_omp_dyn,\n    ddot_omp_cpp,\n    ddot_omp_cpp_16,\n]:\n    ctxs = get_vectors(fct, 400 if unit_test_going() else 40000)\n\n    print(fct.__name__)\n    df = DataFrame(list(measure_time_dim(\"dot(va, vb)\", ctxs, verbose=1)))\n    df[\"fct\"] = fct.__name__\n    dfs.append(df)\n    print(df.tail(n=3))"
      ]
    },
    {
      "cell_type": "markdown",
      "metadata": {},
      "source": [
        "## Let's display the results\n\n"
      ]
    },
    {
      "cell_type": "code",
      "execution_count": null,
      "metadata": {
        "collapsed": false
      },
      "outputs": [],
      "source": [
        "cc = concat(dfs)\ncc[\"N\"] = cc[\"x_name\"]\n\nfig, ax = plt.subplots(2, 2, figsize=(10, 10))\ncc[cc.N <= 1000].pivot(index=\"N\", columns=\"fct\", values=\"average\").plot(\n    logy=True, ax=ax[0, 0]\n)\ncc.pivot(index=\"N\", columns=\"fct\", values=\"average\").plot(logy=True, ax=ax[0, 1])\ncc.pivot(index=\"N\", columns=\"fct\", values=\"average\").plot(\n    logy=True, logx=True, ax=ax[1, 1]\n)\ncc[\n    (\n        (cc.fct.str.contains(\"omp\") | (cc.fct == \"ddot_array\"))\n        & ~cc.fct.str.contains(\"dyn\")\n    )\n].pivot(index=\"N\", columns=\"fct\", values=\"average\").plot(logy=True, ax=ax[1, 0])\nax[0, 0].set_title(\"Comparison of cython ddot implementations\")\nax[0, 1].set_title(\"Comparison of cython ddot implementations\" \"\\nwithout dot_product\")"
      ]
    }
  ],
  "metadata": {
    "kernelspec": {
      "display_name": "Python 3",
      "language": "python",
      "name": "python3"
    },
    "language_info": {
      "codemirror_mode": {
        "name": "ipython",
        "version": 3
      },
      "file_extension": ".py",
      "mimetype": "text/x-python",
      "name": "python",
      "nbconvert_exporter": "python",
      "pygments_lexer": "ipython3",
      "version": "3.10.12"
    }
  },
  "nbformat": 4,
  "nbformat_minor": 0
}