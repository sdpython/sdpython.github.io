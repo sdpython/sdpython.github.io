{
  "cells": [
    {
      "cell_type": "markdown",
      "metadata": {},
      "source": [
        "\n\n# Quantile Regression\n\n[scikit-learn](http://scikit-learn.org/stable/) does not have a\nquantile regression.\n[mlinsights](https://sdpython.github.io/doc/dev/mlinsights/index.html)\nimplements a version of it.\n\n## Simple example\n\nWe first generate some dummy data.\n"
      ]
    },
    {
      "cell_type": "code",
      "execution_count": null,
      "metadata": {
        "collapsed": false
      },
      "outputs": [],
      "source": [
        "import numpy\nimport matplotlib.pyplot as plt\nfrom pandas import DataFrame\nfrom sklearn.linear_model import LinearRegression\nfrom mlinsights.mlmodel import QuantileLinearRegression\n\nX = numpy.random.random(1000)\neps1 = (numpy.random.random(900) - 0.5) * 0.1\neps2 = (numpy.random.random(100)) * 10\neps = numpy.hstack([eps1, eps2])\nX = X.reshape((1000, 1))\nY = X.ravel() * 3.4 + 5.6 + eps"
      ]
    },
    {
      "cell_type": "code",
      "execution_count": null,
      "metadata": {
        "collapsed": false
      },
      "outputs": [],
      "source": [
        "clr = LinearRegression()\nclr.fit(X, Y)"
      ]
    },
    {
      "cell_type": "code",
      "execution_count": null,
      "metadata": {
        "collapsed": false
      },
      "outputs": [],
      "source": [
        "clq = QuantileLinearRegression()\nclq.fit(X, Y)\n\n\ndata = dict(X=X.ravel(), Y=Y, clr=clr.predict(X), clq=clq.predict(X))\ndf = DataFrame(data)\ndf.head()"
      ]
    },
    {
      "cell_type": "code",
      "execution_count": null,
      "metadata": {
        "collapsed": false
      },
      "outputs": [],
      "source": [
        "fig, ax = plt.subplots(1, 1, figsize=(10, 4))\nchoice = numpy.random.choice(X.shape[0] - 1, size=100)\nxx = X.ravel()[choice]\nyy = Y[choice]\nax.plot(xx, yy, \".\", label=\"data\")\nxx = numpy.array([[0], [1]])\ny1 = clr.predict(xx)\ny2 = clq.predict(xx)\nax.plot(xx, y1, \"--\", label=\"L2\")\nax.plot(xx, y2, \"--\", label=\"L1\")\nax.set_title(\"Quantile (L1) vs Square (L2)\")\nax.legend()"
      ]
    },
    {
      "cell_type": "markdown",
      "metadata": {},
      "source": [
        "The L1 is clearly less sensible to extremas. The optimization algorithm\nis based on [Iteratively reweighted least\nsquares](https://en.wikipedia.org/wiki/Iteratively_reweighted_least_squares).\nIt estimates a linear regression with error L2 then reweights each\noberservation with the inverse of the error L1.\n\n"
      ]
    },
    {
      "cell_type": "code",
      "execution_count": null,
      "metadata": {
        "collapsed": false
      },
      "outputs": [],
      "source": [
        "clq = QuantileLinearRegression(verbose=True, max_iter=20)\nclq.fit(X, Y)"
      ]
    },
    {
      "cell_type": "code",
      "execution_count": null,
      "metadata": {
        "collapsed": false
      },
      "outputs": [],
      "source": [
        "clq.score(X, Y)"
      ]
    },
    {
      "cell_type": "markdown",
      "metadata": {},
      "source": [
        "## Regression with various quantiles\n\n"
      ]
    },
    {
      "cell_type": "code",
      "execution_count": null,
      "metadata": {
        "collapsed": false
      },
      "outputs": [],
      "source": [
        "X = numpy.random.random(1200)\neps1 = (numpy.random.random(900) - 0.5) * 0.5\neps2 = (numpy.random.random(300)) * 2\neps = numpy.hstack([eps1, eps2])\nX = X.reshape((1200, 1))\nY = X.ravel() * 3.4 + 5.6 + eps + X.ravel() * X.ravel() * 8"
      ]
    },
    {
      "cell_type": "code",
      "execution_count": null,
      "metadata": {
        "collapsed": false
      },
      "outputs": [],
      "source": [
        "fig, ax = plt.subplots(1, 1, figsize=(10, 4))\nchoice = numpy.random.choice(X.shape[0] - 1, size=100)\nxx = X.ravel()[choice]\nyy = Y[choice]\nax.plot(xx, yy, \".\", label=\"data\")\nax.set_title(\"Almost linear dataset\")"
      ]
    },
    {
      "cell_type": "code",
      "execution_count": null,
      "metadata": {
        "collapsed": false
      },
      "outputs": [],
      "source": [
        "clqs = {}\nfor qu in [0.1, 0.25, 0.5, 0.75, 0.9]:\n    clq = QuantileLinearRegression(quantile=qu)\n    clq.fit(X, Y)\n    clqs[\"q=%1.2f\" % qu] = clq"
      ]
    },
    {
      "cell_type": "code",
      "execution_count": null,
      "metadata": {
        "collapsed": false
      },
      "outputs": [],
      "source": [
        "fig, ax = plt.subplots(1, 1, figsize=(10, 4))\nchoice = numpy.random.choice(X.shape[0] - 1, size=100)\nxx = X.ravel()[choice]\nyy = Y[choice]\nax.plot(xx, yy, \".\", label=\"data\")\nxx = numpy.array([[0], [1]])\nfor qu in sorted(clqs):\n    y = clqs[qu].predict(xx)\n    ax.plot(xx, y, \"--\", label=qu)\nax.set_title(\"Various quantiles\")\nax.legend()"
      ]
    }
  ],
  "metadata": {
    "kernelspec": {
      "display_name": "Python 3",
      "language": "python",
      "name": "python3"
    },
    "language_info": {
      "codemirror_mode": {
        "name": "ipython",
        "version": 3
      },
      "file_extension": ".py",
      "mimetype": "text/x-python",
      "name": "python",
      "nbconvert_exporter": "python",
      "pygments_lexer": "ipython3",
      "version": "3.12.9"
    }
  },
  "nbformat": 4,
  "nbformat_minor": 0
}