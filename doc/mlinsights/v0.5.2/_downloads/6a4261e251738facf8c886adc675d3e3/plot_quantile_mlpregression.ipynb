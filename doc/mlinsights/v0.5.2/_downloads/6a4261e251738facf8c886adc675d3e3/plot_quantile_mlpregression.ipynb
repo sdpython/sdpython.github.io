{
  "cells": [
    {
      "cell_type": "markdown",
      "metadata": {},
      "source": [
        "\n# Quantile MLPRegressor\n\n[scikit-learn](http://scikit-learn.org/stable/) does not have a\nquantile regression for multi-layer perceptron.\n[mlinsights](https://sdpython.github.io/doc/dev/mlinsights/)\nimplements a version of it based on the *scikit-learn* model. The\nimplementation overwrites method ``_backprop``.\n\nWe first generate some dummy data.\n"
      ]
    },
    {
      "cell_type": "code",
      "execution_count": null,
      "metadata": {
        "collapsed": false
      },
      "outputs": [],
      "source": [
        "import numpy\nfrom pandas import DataFrame\nimport matplotlib.pyplot as plt\nfrom sklearn.neural_network import MLPRegressor\nfrom mlinsights.mlmodel import QuantileMLPRegressor\n\n\nX = numpy.random.random(1000)\neps1 = (numpy.random.random(900) - 0.5) * 0.1\neps2 = (numpy.random.random(100)) * 10\neps = numpy.hstack([eps1, eps2])\nX = X.reshape((1000, 1))\nY = X.ravel() * 3.4 + 5.6 + eps"
      ]
    },
    {
      "cell_type": "code",
      "execution_count": null,
      "metadata": {
        "collapsed": false
      },
      "outputs": [],
      "source": [
        "clr = MLPRegressor(hidden_layer_sizes=(30,), activation=\"tanh\")\nclr.fit(X, Y)"
      ]
    },
    {
      "cell_type": "code",
      "execution_count": null,
      "metadata": {
        "collapsed": false
      },
      "outputs": [],
      "source": [
        "clq = QuantileMLPRegressor(hidden_layer_sizes=(30,), activation=\"tanh\")\nclq.fit(X, Y)"
      ]
    },
    {
      "cell_type": "code",
      "execution_count": null,
      "metadata": {
        "collapsed": false
      },
      "outputs": [],
      "source": [
        "data = dict(X=X.ravel(), Y=Y, clr=clr.predict(X), clq=clq.predict(X))\ndf = DataFrame(data)\ndf.head()"
      ]
    },
    {
      "cell_type": "code",
      "execution_count": null,
      "metadata": {
        "collapsed": false
      },
      "outputs": [],
      "source": [
        "fig, ax = plt.subplots(1, 1, figsize=(10, 4))\nchoice = numpy.random.choice(X.shape[0] - 1, size=100)\nxx = X.ravel()[choice]\nyy = Y[choice]\nax.plot(xx, yy, \".\", label=\"data\")\nxx = numpy.array([[0], [1]])\ny1 = clr.predict(xx)\ny2 = clq.predict(xx)\nax.plot(xx, y1, \"--\", label=\"L2\")\nax.plot(xx, y2, \"--\", label=\"L1\")\nax.set_title(\"Quantile (L1) vs Square (L2) for MLPRegressor\")\nax.legend()"
      ]
    }
  ],
  "metadata": {
    "kernelspec": {
      "display_name": "Python 3",
      "language": "python",
      "name": "python3"
    },
    "language_info": {
      "codemirror_mode": {
        "name": "ipython",
        "version": 3
      },
      "file_extension": ".py",
      "mimetype": "text/x-python",
      "name": "python",
      "nbconvert_exporter": "python",
      "pygments_lexer": "ipython3",
      "version": "3.12.9"
    }
  },
  "nbformat": 4,
  "nbformat_minor": 0
}