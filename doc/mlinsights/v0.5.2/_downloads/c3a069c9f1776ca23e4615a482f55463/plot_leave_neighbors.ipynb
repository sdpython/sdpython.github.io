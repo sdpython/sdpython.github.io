{
  "cells": [
    {
      "cell_type": "markdown",
      "metadata": {},
      "source": [
        "\n# Close leaves in a decision trees\n\nA decision tree computes a partition of the feature space.\nWe can wonder which leave is close to another one even though\nthe predict the same value (or class). Do they share a border?\n"
      ]
    },
    {
      "cell_type": "markdown",
      "metadata": {},
      "source": [
        "## A simple tree\n\n"
      ]
    },
    {
      "cell_type": "code",
      "execution_count": null,
      "metadata": {
        "collapsed": false
      },
      "outputs": [],
      "source": [
        "import matplotlib.pyplot as plt\nimport numpy\nfrom mlinsights.mltree import predict_leaves, tree_leave_index, tree_leave_neighbors\nfrom sklearn.datasets import load_iris\nfrom sklearn.tree import DecisionTreeClassifier\n\nX = numpy.array(\n    [[10, 0], [10, 1], [10, 2], [11, 0], [11, 1], [11, 2], [12, 0], [12, 1], [12, 2]]\n)\ny = list(range(X.shape[0]))\n\n\n# In[5]:\n\n\nfig, ax = plt.subplots(1, 1)\nfor i in range(X.shape[0]):\n    ax.plot([X[i, 0]], [X[i, 1]], \"o\", ms=19, label=\"y=%d\" % y[i])\nax.legend()\nax.set_title(\"Simple grid\")"
      ]
    },
    {
      "cell_type": "code",
      "execution_count": null,
      "metadata": {
        "collapsed": false
      },
      "outputs": [],
      "source": [
        "clr = DecisionTreeClassifier(max_depth=5)\nclr.fit(X, y)"
      ]
    },
    {
      "cell_type": "markdown",
      "metadata": {},
      "source": [
        "The contains the following list of leaves.\n\n"
      ]
    },
    {
      "cell_type": "code",
      "execution_count": null,
      "metadata": {
        "collapsed": false
      },
      "outputs": [],
      "source": [
        "tree_leave_index(clr)"
      ]
    },
    {
      "cell_type": "markdown",
      "metadata": {},
      "source": [
        "Let's compute the neighbors for each leave.\n\n"
      ]
    },
    {
      "cell_type": "code",
      "execution_count": null,
      "metadata": {
        "collapsed": false
      },
      "outputs": [],
      "source": [
        "neighbors = tree_leave_neighbors(clr)\nneighbors"
      ]
    },
    {
      "cell_type": "markdown",
      "metadata": {},
      "source": [
        "And let's explain the results by drawing the segments ``[x1, x2]``.\n\n"
      ]
    },
    {
      "cell_type": "code",
      "execution_count": null,
      "metadata": {
        "collapsed": false
      },
      "outputs": [],
      "source": [
        "leaves = predict_leaves(clr, X)\n\n\nfig, ax = plt.subplots(1, 2, figsize=(14, 4))\nfor i in range(X.shape[0]):\n    ax[0].plot([X[i, 0]], [X[i, 1]], \"o\", ms=19)\n    ax[1].plot([X[i, 0]], [X[i, 1]], \"o\", ms=19)\n    ax[0].text(X[i, 0] + 0.1, X[i, 1] - 0.1, \"y=%d\\nl=%d\" % (y[i], leaves[i]))\n\nfor edge, segments in neighbors.items():\n    for segment in segments:\n        # leaves l1, l2 are neighbors\n        l1, l2 = edge\n        # the common border is [x1, x2]\n        x1 = segment[1]\n        x2 = segment[2]\n        ax[1].plot([x1[0], x2[0]], [x1[1], x2[1]], \"b--\")\n        ax[1].text((x1[0] + x2[0]) / 2, (x1[1] + x2[1]) / 2, \"%d->%d\" % edge)\nax[0].set_title(\"Classes and leaves\")\nax[1].set_title(\"Segments\")"
      ]
    },
    {
      "cell_type": "markdown",
      "metadata": {},
      "source": [
        "## On Iris\n\n"
      ]
    },
    {
      "cell_type": "code",
      "execution_count": null,
      "metadata": {
        "collapsed": false
      },
      "outputs": [],
      "source": [
        "iris = load_iris()"
      ]
    },
    {
      "cell_type": "code",
      "execution_count": null,
      "metadata": {
        "collapsed": false
      },
      "outputs": [],
      "source": [
        "X = iris.data[:, :2]\ny = iris.target"
      ]
    },
    {
      "cell_type": "code",
      "execution_count": null,
      "metadata": {
        "collapsed": false
      },
      "outputs": [],
      "source": [
        "clr = DecisionTreeClassifier(max_depth=3)\nclr.fit(X, y)"
      ]
    },
    {
      "cell_type": "code",
      "execution_count": null,
      "metadata": {
        "collapsed": false
      },
      "outputs": [],
      "source": [
        "def draw_border(\n    clr, X, y, fct=None, incx=1, incy=1, figsize=None, border=True, ax=None\n):\n    # see https://sashat.me/2017/01/11/list-of-20-simple-distinct-colors/\n    # https://matplotlib.org/examples/color/colormaps_reference.html\n\n    h = 0.02  # step size in the mesh\n    # Plot the decision boundary. For that, we will assign a color to each\n    # point in the mesh [x_min, x_max]x[y_min, y_max].\n    x_min, x_max = X[:, 0].min() - incx, X[:, 0].max() + incx\n    y_min, y_max = X[:, 1].min() - incy, X[:, 1].max() + incy\n    xx, yy = numpy.meshgrid(\n        numpy.arange(x_min, x_max, h), numpy.arange(y_min, y_max, h)\n    )\n    if fct is None:\n        Z = clr.predict(numpy.c_[xx.ravel(), yy.ravel()])\n    else:\n        Z = fct(clr, numpy.c_[xx.ravel(), yy.ravel()])\n\n    # Put the result into a color plot\n    cmap = plt.cm.tab20\n    Z = Z.reshape(xx.shape)\n    if ax is None:\n        fig, ax = plt.subplots(1, 1, figsize=figsize or (4, 3))\n    ax.pcolormesh(xx, yy, Z, cmap=cmap)\n\n    # Plot also the training points\n    ax.scatter(X[:, 0], X[:, 1], c=y, edgecolors=\"k\", cmap=cmap)\n    ax.set_xlabel(\"Sepal length\")\n    ax.set_ylabel(\"Sepal width\")\n\n    ax.set_xlim(xx.min(), xx.max())\n    ax.set_ylim(yy.min(), yy.max())\n    return ax\n\n\nfig, ax = plt.subplots(1, 2, figsize=(14, 4))\ndraw_border(clr, X, y, border=False, ax=ax[0])\nax[0].set_title(\"Iris\")\ndraw_border(clr, X, y, border=False, ax=ax[1], fct=lambda m, x: predict_leaves(m, x))\nax[1].set_title(\"Leaves\")"
      ]
    },
    {
      "cell_type": "code",
      "execution_count": null,
      "metadata": {
        "collapsed": false
      },
      "outputs": [],
      "source": [
        "neighbors = tree_leave_neighbors(clr)\nlist(neighbors.items())[:2]"
      ]
    },
    {
      "cell_type": "code",
      "execution_count": null,
      "metadata": {
        "collapsed": false
      },
      "outputs": [],
      "source": [
        "fig, ax = plt.subplots(1, 1, figsize=(8, 8))\ndraw_border(\n    clr,\n    X,\n    y,\n    incx=1,\n    incy=1,\n    figsize=(6, 4),\n    border=False,\n    ax=ax,\n    fct=lambda m, x: predict_leaves(m, x),\n)\n\nfor edge, segments in neighbors.items():\n    for segment in segments:\n        # leaves l1, l2 are neighbors\n        l1, l2 = edge\n        # the common border is [x1, x2]\n        x1 = segment[1]\n        x2 = segment[2]\n        ax.plot([x1[0], x2[0]], [x1[1], x2[1]], \"b--\")\n        ax.text((x1[0] + x2[0]) / 2, (x1[1] + x2[1]) / 2, \"%d->%d\" % edge)\nax.set_title(\"Leaves and segments\")"
      ]
    }
  ],
  "metadata": {
    "kernelspec": {
      "display_name": "Python 3",
      "language": "python",
      "name": "python3"
    },
    "language_info": {
      "codemirror_mode": {
        "name": "ipython",
        "version": 3
      },
      "file_extension": ".py",
      "mimetype": "text/x-python",
      "name": "python",
      "nbconvert_exporter": "python",
      "pygments_lexer": "ipython3",
      "version": "3.12.9"
    }
  },
  "nbformat": 4,
  "nbformat_minor": 0
}