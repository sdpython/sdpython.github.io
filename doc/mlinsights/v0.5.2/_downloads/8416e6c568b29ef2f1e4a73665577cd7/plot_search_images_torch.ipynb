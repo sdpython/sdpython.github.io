{
  "cells": [
    {
      "cell_type": "markdown",
      "metadata": {},
      "source": [
        "\n\n# Search images with deep learning (torch)\n\nImages are usually very different if we compare them at pixel level but\nthat's quite different if we look at them after they were processed by a\ndeep learning model. We convert each image into a feature vector\nextracted from an intermediate layer of the network.\n\n## Get a pre-trained model\n\nWe choose the model described in paper [SqueezeNet: AlexNet-level\naccuracy with 50x fewer parameters and](0.5MB model\nsize <https://arxiv.org/abs/1602.07360).\n"
      ]
    },
    {
      "cell_type": "code",
      "execution_count": null,
      "metadata": {
        "collapsed": false
      },
      "outputs": [],
      "source": [
        "import os\nimport matplotlib.pyplot as plt\nfrom sklearn.neighbors import NearestNeighbors\nfrom torchvision import datasets, transforms, models\nfrom torch.utils.data import DataLoader, ConcatDataset\nfrom mlinsights.ext_test_case import unzip_files\nfrom mlinsights.plotting import plot_gallery_images\nfrom torchvision.models.squeezenet import SqueezeNet1_0_Weights\n\n\nmodel = models.squeezenet1_0(weights=SqueezeNet1_0_Weights.IMAGENET1K_V1)\nmodel"
      ]
    },
    {
      "cell_type": "markdown",
      "metadata": {},
      "source": [
        "The model is stored here:\n\n"
      ]
    },
    {
      "cell_type": "code",
      "execution_count": null,
      "metadata": {
        "collapsed": false
      },
      "outputs": [],
      "source": [
        "path = os.path.join(\n    os.environ.get(\"USERPROFILE\", os.environ.get(\"HOME\", \".\")),\n    \".cache\",\n    \"torch\",\n    \"checkpoints\",\n)\nif os.path.exists(path):\n    res = os.listdir(path)\nelse:\n    res = [\"not found\", path]\nres"
      ]
    },
    {
      "cell_type": "markdown",
      "metadata": {},
      "source": [
        "[pytorch](https://pytorch.org/)\\ 's design relies on two methods\n*forward* and *backward* which implement the propagation and\nbackpropagation of the gradient, the structure is not known and could\neven be dyanmic. That's why it is difficult to define a number of\nlayers.\n\n"
      ]
    },
    {
      "cell_type": "code",
      "execution_count": null,
      "metadata": {
        "collapsed": false
      },
      "outputs": [],
      "source": [
        "len(model.features), len(model.classifier)"
      ]
    },
    {
      "cell_type": "markdown",
      "metadata": {},
      "source": [
        "## Images\n\nWe collect images from [pixabay](https://pixabay.com/).\n\n### Raw images\n\n"
      ]
    },
    {
      "cell_type": "code",
      "execution_count": null,
      "metadata": {
        "collapsed": false
      },
      "outputs": [],
      "source": [
        "if not os.path.exists(\"simages/category\"):\n    os.makedirs(\"simages/category\")\n\nurl = \"https://github.com/sdpython/mlinsights/raw/ref/_doc/examples/data/dog-cat-pixabay.zip\"\nfiles = unzip_files(url, where_to=\"simages/category\")\nif not files:\n    raise FileNotFoundError(f\"No images where unzipped from {url!r}.\")\nlen(files), files[0]"
      ]
    },
    {
      "cell_type": "code",
      "execution_count": null,
      "metadata": {
        "collapsed": false
      },
      "outputs": [],
      "source": [
        "plot_gallery_images(files[:2])"
      ]
    },
    {
      "cell_type": "code",
      "execution_count": null,
      "metadata": {
        "collapsed": false
      },
      "outputs": [],
      "source": [
        "trans = transforms.Compose(\n    [\n        transforms.Resize((224, 224)),  # essayer avec 224 seulement\n        transforms.CenterCrop(224),\n        transforms.ToTensor(),\n    ]\n)\nimgs = datasets.ImageFolder(\"simages\", trans)\nimgs"
      ]
    },
    {
      "cell_type": "code",
      "execution_count": null,
      "metadata": {
        "collapsed": false
      },
      "outputs": [],
      "source": [
        "dataloader = DataLoader(imgs, batch_size=1, shuffle=False, num_workers=1)\ndataloader"
      ]
    },
    {
      "cell_type": "code",
      "execution_count": null,
      "metadata": {
        "collapsed": false
      },
      "outputs": [],
      "source": [
        "img_seq = iter(dataloader)\nimg, cl = next(img_seq)"
      ]
    },
    {
      "cell_type": "code",
      "execution_count": null,
      "metadata": {
        "collapsed": false
      },
      "outputs": [],
      "source": [
        "type(img), type(cl)"
      ]
    },
    {
      "cell_type": "code",
      "execution_count": null,
      "metadata": {
        "collapsed": false
      },
      "outputs": [],
      "source": [
        "array = img.numpy().transpose((2, 3, 1, 0))\narray.shape"
      ]
    },
    {
      "cell_type": "code",
      "execution_count": null,
      "metadata": {
        "collapsed": false
      },
      "outputs": [],
      "source": [
        "plt.imshow(array[:, :, :, 0])\nplt.axis(\"off\")"
      ]
    },
    {
      "cell_type": "code",
      "execution_count": null,
      "metadata": {
        "collapsed": false
      },
      "outputs": [],
      "source": [
        "img, cl = next(img_seq)\narray = img.numpy().transpose((2, 3, 1, 0))\nplt.imshow(array[:, :, :, 0])\nplt.axis(\"off\")"
      ]
    },
    {
      "cell_type": "markdown",
      "metadata": {},
      "source": [
        "[torch](https://pytorch.org/) implements optimized function to load\nand process images.\n\n"
      ]
    },
    {
      "cell_type": "code",
      "execution_count": null,
      "metadata": {
        "collapsed": false
      },
      "outputs": [],
      "source": [
        "trans = transforms.Compose(\n    [\n        transforms.Resize((224, 224)),  # essayer avec 224 seulement\n        transforms.RandomRotation((-10, 10), expand=True),\n        transforms.CenterCrop(224),\n        transforms.ToTensor(),\n    ]\n)\nimgs = datasets.ImageFolder(\"simages\", trans)\ndataloader = DataLoader(imgs, batch_size=1, shuffle=True, num_workers=1)\nimg_seq = iter(dataloader)\nimgs = [img[0] for i, img in zip(range(2), img_seq)]"
      ]
    },
    {
      "cell_type": "code",
      "execution_count": null,
      "metadata": {
        "collapsed": false
      },
      "outputs": [],
      "source": [
        "plot_gallery_images([img.numpy().transpose((2, 3, 1, 0))[:, :, :, 0] for img in imgs])"
      ]
    },
    {
      "cell_type": "markdown",
      "metadata": {},
      "source": [
        "We can multiply the data by implementing a custom\n[sampler](https://github.com/keras-team/keras/issues/7359) or just\nconcatenate loaders.\n\n"
      ]
    },
    {
      "cell_type": "code",
      "execution_count": null,
      "metadata": {
        "collapsed": false
      },
      "outputs": [],
      "source": [
        "trans1 = transforms.Compose(\n    [\n        transforms.Resize((224, 224)),  # essayer avec 224 seulement\n        transforms.RandomRotation((-10, 10), expand=True),\n        transforms.CenterCrop(224),\n        transforms.ToTensor(),\n    ]\n)\ntrans2 = transforms.Compose(\n    [\n        transforms.Resize((224, 224)),  # essayer avec 224 seulement\n        transforms.Grayscale(num_output_channels=3),\n        transforms.CenterCrop(224),\n        transforms.ToTensor(),\n    ]\n)\nimgs1 = datasets.ImageFolder(\"simages\", trans1)\nimgs2 = datasets.ImageFolder(\"simages\", trans2)\ndataloader = DataLoader(\n    ConcatDataset([imgs1, imgs2]), batch_size=1, shuffle=True, num_workers=1\n)\nimg_seq = iter(dataloader)\nimgs = [img[0] for i, img in zip(range(10), img_seq)]"
      ]
    },
    {
      "cell_type": "code",
      "execution_count": null,
      "metadata": {
        "collapsed": false
      },
      "outputs": [],
      "source": [
        "plot_gallery_images([img.numpy().transpose((2, 3, 1, 0))[:, :, :, 0] for img in imgs])"
      ]
    },
    {
      "cell_type": "markdown",
      "metadata": {},
      "source": [
        "Which leaves 52 images to process out of 61 = 31*2 (the folder contains\n31 images).\n\n"
      ]
    },
    {
      "cell_type": "code",
      "execution_count": null,
      "metadata": {
        "collapsed": false
      },
      "outputs": [],
      "source": [
        "len(list(img_seq))"
      ]
    },
    {
      "cell_type": "markdown",
      "metadata": {},
      "source": [
        "## Search among images\n\nWe use the class ``SearchEnginePredictionImages``.\n\n"
      ]
    },
    {
      "cell_type": "markdown",
      "metadata": {},
      "source": [
        "### The idea of the search engine\n\nThe deep network is able to classify images coming from a competition\ncalled [ImageNet](http://image-net.org/) which was trained to\nclassify different images. But still, the network has 88 layers which\nslightly transform the images into classification results. We assume the\nlast layers contains information which allows the network to classify\ninto objects: it is less related to the images than the content of it.\nIn particular, we would like that an image with a daark background does\nnot necessarily return images with a dark background.\n\n"
      ]
    },
    {
      "cell_type": "code",
      "execution_count": null,
      "metadata": {
        "collapsed": false
      },
      "outputs": [],
      "source": [
        "# We reshape an image into *(224x224)* which is the size the network\n# ingests. We propagate the inputs until the layer just before the last\n# one. Its output will be considered as the *featurized image*. We do that\n# for a specific set of images called the *neighbors*. When a new image\n# comes up, we apply the same process and find the closest images among\n# the set of neighbors.\n\n\nmodel = models.squeezenet1_0(weights=SqueezeNet1_0_Weights.IMAGENET1K_V1)"
      ]
    },
    {
      "cell_type": "markdown",
      "metadata": {},
      "source": [
        "The model outputs the probability for each class.\n\n"
      ]
    },
    {
      "cell_type": "code",
      "execution_count": null,
      "metadata": {
        "collapsed": false
      },
      "outputs": [],
      "source": [
        "res = model.forward(imgs[1])\nres.shape"
      ]
    },
    {
      "cell_type": "code",
      "execution_count": null,
      "metadata": {
        "collapsed": false
      },
      "outputs": [],
      "source": [
        "res.detach().numpy().ravel()[:10]"
      ]
    },
    {
      "cell_type": "code",
      "execution_count": null,
      "metadata": {
        "collapsed": false
      },
      "outputs": [],
      "source": [
        "fig, ax = plt.subplots(1, 2, figsize=(12, 3))\nax[0].plot(res.detach().numpy().ravel(), \".\")\nax[0].set_title(\"Output of SqueezeNet\")\nax[1].imshow(imgs[1].numpy().transpose((2, 3, 1, 0))[:, :, :, 0])\nax[1].axis(\"off\")"
      ]
    },
    {
      "cell_type": "markdown",
      "metadata": {},
      "source": [
        "We have features for one image. We build the neighbors, the output for\neach image in the training datasets.\n\n"
      ]
    },
    {
      "cell_type": "code",
      "execution_count": null,
      "metadata": {
        "collapsed": false
      },
      "outputs": [],
      "source": [
        "trans = transforms.Compose(\n    [transforms.Resize((224, 224)), transforms.CenterCrop(224), transforms.ToTensor()]\n)\nimgs = datasets.ImageFolder(\"simages\", trans)\ndataloader = DataLoader(imgs, batch_size=1, shuffle=False, num_workers=1)\nimg_seq = iter(dataloader)\nimgs = [img[0] for img in img_seq]\n\nall_outputs = [model.forward(img).detach().numpy().ravel() for img in imgs]"
      ]
    },
    {
      "cell_type": "code",
      "execution_count": null,
      "metadata": {
        "collapsed": false
      },
      "outputs": [],
      "source": [
        "knn = NearestNeighbors()\nknn.fit(all_outputs)"
      ]
    },
    {
      "cell_type": "markdown",
      "metadata": {},
      "source": [
        "We extract the neighbors for a new image.\n\n"
      ]
    },
    {
      "cell_type": "code",
      "execution_count": null,
      "metadata": {
        "collapsed": false
      },
      "outputs": [],
      "source": [
        "one_output = model.forward(imgs[5]).detach().numpy().ravel()\n\nscore, index = knn.kneighbors([one_output])\nscore, index"
      ]
    },
    {
      "cell_type": "markdown",
      "metadata": {},
      "source": [
        "We need to retrieve images for indexes stored in *index*.\n\n"
      ]
    },
    {
      "cell_type": "code",
      "execution_count": null,
      "metadata": {
        "collapsed": false
      },
      "outputs": [],
      "source": [
        "names = os.listdir(\"simages/category\")\nnames = [os.path.join(\"simages/category\", n) for n in names if \".zip\" not in n]\ndisp = [names[5]] + [names[i] for i in index.ravel()]\ndisp"
      ]
    },
    {
      "cell_type": "markdown",
      "metadata": {},
      "source": [
        "We check the first one is exactly the same as the searched image.\n\n"
      ]
    },
    {
      "cell_type": "code",
      "execution_count": null,
      "metadata": {
        "collapsed": false
      },
      "outputs": [],
      "source": [
        "plot_gallery_images(disp)"
      ]
    },
    {
      "cell_type": "markdown",
      "metadata": {},
      "source": [
        "It is possible to access intermediate layers output however it means\nrewriting the method forward to capture it: [Accessing intermediate\nlayers of a pretrained network\nforward?](https://discuss.pytorch.org/t/accessing-intermediate-layers-of-a-pretrained-network-forward/12113/2).\n\n## Going further\n\nThe original neural network has not been changed and was chosen to be\nsmall (88 layers). Other options are available for better performances.\nThe imported model can be also be trained on a classification problem if\nthere is such information to leverage. Even if the model was trained on\nmillions of images, a couple of thousands are enough to train the last\nlayers. The model can also be trained as long as there exists a way to\ncompute a gradient. We could imagine to label the result of this search\nengine and train the model on pairs of images ranked in the other.\n\nWe can use the [pairwise\ntransform](http://fa.bianp.net/blog/2012/learning-to-rank-with-scikit-learn-the-pairwise-transform/)\n(example of code:\n[ranking.py](https://gist.github.com/fabianp/2020955)). For every\npair $(X_i, X_j)$, we tell if the search engine should have\n$X_i \\prec X_j$ ($Y_{ij} = 1$) or the order order\n($Y_{ij} = 0$). $X_i$ is the features produced by the neural\nnetwork : $X_i = f(\\Omega, img_i)$. We train a classifier on the\ndatabase:\n\n\\begin{align}(f(\\Omega, img_i) - f(\\Omega, img_j), Y_{ij})_{ij}\\end{align}\n\nA training algorithm based on a gradient will have to propagate the gradient:\n\n\\begin{align}\\frac{\\partial f}{\\partial \\Omega}(img_i) -\n      \\frac{\\partial f}{\\partial \\Omega}(img_j)\\end{align}\n\n"
      ]
    }
  ],
  "metadata": {
    "kernelspec": {
      "display_name": "Python 3",
      "language": "python",
      "name": "python3"
    },
    "language_info": {
      "codemirror_mode": {
        "name": "ipython",
        "version": 3
      },
      "file_extension": ".py",
      "mimetype": "text/x-python",
      "name": "python",
      "nbconvert_exporter": "python",
      "pygments_lexer": "ipython3",
      "version": "3.12.9"
    }
  },
  "nbformat": 4,
  "nbformat_minor": 0
}