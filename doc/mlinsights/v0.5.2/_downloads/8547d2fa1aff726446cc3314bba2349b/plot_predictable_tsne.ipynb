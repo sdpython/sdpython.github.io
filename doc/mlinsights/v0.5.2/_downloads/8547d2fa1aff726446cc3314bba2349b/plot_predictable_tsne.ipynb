{
  "cells": [
    {
      "cell_type": "markdown",
      "metadata": {},
      "source": [
        "\n\n# Predictable t-SNE\n\n[t-SNE](https://scikit-learn.org/stable/modules/generated/sklearn.manifold.TSNE.html)\nis not a transformer which can produce outputs for other inputs than the\none used to train the transform. The proposed solution is train a\npredictor afterwards to try to use the results on some other inputs the\nmodel never saw.\n\n## t-SNE on MNIST\n\nLet's reuse some part of the example of [Manifold learning on\nhandwritten digits: Locally Linear Embedding,\nIsomap](https://scikit-learn.org/stable/auto_examples/manifold/plot_lle_digits.html#sphx-glr-auto-examples-manifold-plot-lle-digits-py).\n"
      ]
    },
    {
      "cell_type": "code",
      "execution_count": null,
      "metadata": {
        "collapsed": false
      },
      "outputs": [],
      "source": [
        "import numpy\nimport matplotlib.pyplot as plt\nfrom matplotlib import offsetbox\nfrom sklearn import datasets\nfrom sklearn.model_selection import train_test_split\nfrom sklearn.manifold import TSNE\nfrom sklearn.neighbors import KNeighborsRegressor\nfrom sklearn.preprocessing import StandardScaler\nfrom mlinsights.mlmodel import PredictableTSNE\n\n\ndigits = datasets.load_digits(n_class=6)\nXd = digits.data\nyd = digits.target\nimgs = digits.images\nn_samples, n_features = Xd.shape\nn_samples, n_features"
      ]
    },
    {
      "cell_type": "markdown",
      "metadata": {},
      "source": [
        "Let's split into train and test.\n\n"
      ]
    },
    {
      "cell_type": "code",
      "execution_count": null,
      "metadata": {
        "collapsed": false
      },
      "outputs": [],
      "source": [
        "X_train, X_test, y_train, y_test, imgs_train, imgs_test = train_test_split(Xd, yd, imgs)"
      ]
    },
    {
      "cell_type": "code",
      "execution_count": null,
      "metadata": {
        "collapsed": false
      },
      "outputs": [],
      "source": [
        "tsne = TSNE(n_components=2, init=\"pca\", random_state=0)\n\nX_train_tsne = tsne.fit_transform(X_train, y_train)\nX_train_tsne.shape"
      ]
    },
    {
      "cell_type": "code",
      "execution_count": null,
      "metadata": {
        "collapsed": false
      },
      "outputs": [],
      "source": [
        "def plot_embedding(Xp, y, imgs, title=None, figsize=(12, 4)):\n    x_min, x_max = numpy.min(Xp, 0), numpy.max(Xp, 0)\n    X = (Xp - x_min) / (x_max - x_min)\n\n    fig, ax = plt.subplots(1, 2, figsize=figsize)\n    for i in range(X.shape[0]):\n        ax[0].text(\n            X[i, 0],\n            X[i, 1],\n            str(y[i]),\n            color=plt.cm.Set1(y[i] / 10.0),\n            fontdict={\"weight\": \"bold\", \"size\": 9},\n        )\n\n    if hasattr(offsetbox, \"AnnotationBbox\"):\n        # only print thumbnails with matplotlib > 1.0\n        shown_images = numpy.array([[1.0, 1.0]])  # just something big\n        for i in range(X.shape[0]):\n            dist = numpy.sum((X[i] - shown_images) ** 2, 1)\n            if numpy.min(dist) < 4e-3:\n                # don't show points that are too close\n                continue\n            shown_images = numpy.r_[shown_images, [X[i]]]\n            imagebox = offsetbox.AnnotationBbox(\n                offsetbox.OffsetImage(imgs[i], cmap=plt.cm.gray_r), X[i]\n            )\n            ax[0].add_artist(imagebox)\n    ax[0].set_xticks([]), ax[0].set_yticks([])\n    ax[1].plot(Xp[:, 0], Xp[:, 1], \".\")\n    if title is not None:\n        ax[0].set_title(title)\n    return ax\n\n\nplot_embedding(X_train_tsne, y_train, imgs_train, \"t-SNE embedding of the digits\")"
      ]
    },
    {
      "cell_type": "markdown",
      "metadata": {},
      "source": [
        "## Repeatable t-SNE\n\nWe use class *PredictableTSNE* but it works for other trainable\ntransform too.\n\n"
      ]
    },
    {
      "cell_type": "code",
      "execution_count": null,
      "metadata": {
        "collapsed": false
      },
      "outputs": [],
      "source": [
        "ptsne = PredictableTSNE()\nptsne.fit(X_train, y_train)"
      ]
    },
    {
      "cell_type": "code",
      "execution_count": null,
      "metadata": {
        "collapsed": false
      },
      "outputs": [],
      "source": [
        "X_train_tsne2 = ptsne.transform(X_train)\nplot_embedding(X_train_tsne2, y_train, imgs_train, \"Predictable t-SNE of the digits\")"
      ]
    },
    {
      "cell_type": "markdown",
      "metadata": {},
      "source": [
        "The difference now is that it can be applied on new data.\n\n"
      ]
    },
    {
      "cell_type": "code",
      "execution_count": null,
      "metadata": {
        "collapsed": false
      },
      "outputs": [],
      "source": [
        "X_test_tsne2 = ptsne.transform(X_test)\nplot_embedding(\n    X_test_tsne2, y_test, imgs_test, \"Predictable t-SNE on new digits on test database\"\n)"
      ]
    },
    {
      "cell_type": "markdown",
      "metadata": {},
      "source": [
        "By default, the output data is normalized to get comparable results over\nmultiple tries such as the *loss* computed between the normalized output\nof *t-SNE* and their approximation.\n\n"
      ]
    },
    {
      "cell_type": "code",
      "execution_count": null,
      "metadata": {
        "collapsed": false
      },
      "outputs": [],
      "source": [
        "ptsne.loss_"
      ]
    },
    {
      "cell_type": "markdown",
      "metadata": {},
      "source": [
        "## Repeatable t-SNE with another predictor\n\n"
      ]
    },
    {
      "cell_type": "code",
      "execution_count": null,
      "metadata": {
        "collapsed": false
      },
      "outputs": [],
      "source": [
        "# The predictor is a\n# `MLPRegressor <https://scikit-learn.org/stable/modules/generated/sklearn.neural_network.MLPRegressor.html>`_.\n\n\nptsne.estimator_"
      ]
    },
    {
      "cell_type": "markdown",
      "metadata": {},
      "source": [
        "Let's replace it with a\n[KNeighborsRegressor](https://scikit-learn.org/stable/modules/generated/sklearn.neighbors.KNeighborsRegressor.html)\nand a normalizer\n[StandardScaler](https://scikit-learn.org/stable/modules/generated/sklearn.preprocessing.StandardScaler.html).\n\n"
      ]
    },
    {
      "cell_type": "code",
      "execution_count": null,
      "metadata": {
        "collapsed": false
      },
      "outputs": [],
      "source": [
        "ptsne_knn = PredictableTSNE(\n    normalizer=StandardScaler(), estimator=KNeighborsRegressor()\n)\nptsne_knn.fit(X_train, y_train)"
      ]
    },
    {
      "cell_type": "code",
      "execution_count": null,
      "metadata": {
        "collapsed": false
      },
      "outputs": [],
      "source": [
        "X_train_tsne2 = ptsne_knn.transform(X_train)\nplot_embedding(\n    X_train_tsne2,\n    y_train,\n    imgs_train,\n    \"Predictable t-SNE of the digits\\nStandardScaler+KNeighborsRegressor\",\n)"
      ]
    },
    {
      "cell_type": "code",
      "execution_count": null,
      "metadata": {
        "collapsed": false
      },
      "outputs": [],
      "source": [
        "X_test_tsne2 = ptsne_knn.transform(X_test)\nplot_embedding(\n    X_test_tsne2,\n    y_test,\n    imgs_test,\n    \"Predictable t-SNE on new digits\\nStandardScaler+KNeighborsRegressor\",\n)"
      ]
    },
    {
      "cell_type": "markdown",
      "metadata": {},
      "source": [
        "The model seems to work better as the loss is better but as it is\nevaluated on the training dataset, it is just a way to check it is not\ntoo big.\n\n"
      ]
    },
    {
      "cell_type": "code",
      "execution_count": null,
      "metadata": {
        "collapsed": false
      },
      "outputs": [],
      "source": [
        "ptsne_knn.loss_"
      ]
    }
  ],
  "metadata": {
    "kernelspec": {
      "display_name": "Python 3",
      "language": "python",
      "name": "python3"
    },
    "language_info": {
      "codemirror_mode": {
        "name": "ipython",
        "version": 3
      },
      "file_extension": ".py",
      "mimetype": "text/x-python",
      "name": "python",
      "nbconvert_exporter": "python",
      "pygments_lexer": "ipython3",
      "version": "3.12.9"
    }
  },
  "nbformat": 4,
  "nbformat_minor": 0
}