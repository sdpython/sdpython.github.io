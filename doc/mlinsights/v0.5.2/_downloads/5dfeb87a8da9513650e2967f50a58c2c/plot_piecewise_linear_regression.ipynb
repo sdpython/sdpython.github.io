{
  "cells": [
    {
      "cell_type": "markdown",
      "metadata": {},
      "source": [
        "\n# Piecewise linear regression with scikit-learn predictors\n\nThe notebook illustrates an implementation of a piecewise linear\nregression based on\n[scikit-learn](https://scikit-learn.org/stable/index.html). The\nbucketization can be done with a\n[DecisionTreeRegressor](https://scikit-learn.org/stable/modules/generated/sklearn.tree.DecisionTreeRegressor.html)\nor a\n[KBinsDiscretizer](https://scikit-learn.org/stable/modules/generated/sklearn.preprocessing.KBinsDiscretizer.html).\nA linear model is then fitted on each bucket.\n\n## Piecewise data\n\nLet's build a toy problem based on two linear models.\n"
      ]
    },
    {
      "cell_type": "code",
      "execution_count": null,
      "metadata": {
        "collapsed": false
      },
      "outputs": [],
      "source": [
        "import numpy\nimport numpy.random as npr\nimport matplotlib.pyplot as plt\nfrom sklearn.model_selection import train_test_split\nfrom sklearn.tree import DecisionTreeRegressor\nfrom sklearn.preprocessing import KBinsDiscretizer\nfrom sklearn.dummy import DummyRegressor\nfrom mlinsights.mlmodel import PiecewiseRegressor\n\n\nX = npr.normal(size=(1000, 4))\nalpha = [4, -2]\nt = (X[:, 0] + X[:, 3] * 0.5) > 0\nswitch = numpy.zeros(X.shape[0])\nswitch[t] = 1\ny = alpha[0] * X[:, 0] * t + alpha[1] * X[:, 0] * (1 - t) + X[:, 2]"
      ]
    },
    {
      "cell_type": "code",
      "execution_count": null,
      "metadata": {
        "collapsed": false
      },
      "outputs": [],
      "source": [
        "fig, ax = plt.subplots(1, 1)\nax.plot(X[:, 0], y, \".\")\nax.set_title(\"Piecewise examples\")"
      ]
    },
    {
      "cell_type": "markdown",
      "metadata": {},
      "source": [
        "## Piecewise Linear Regression with a decision tree\n\nThe first example is done with a decision tree.\n\n"
      ]
    },
    {
      "cell_type": "code",
      "execution_count": null,
      "metadata": {
        "collapsed": false
      },
      "outputs": [],
      "source": [
        "X_train, X_test, y_train, y_test = train_test_split(X[:, :1], y)"
      ]
    },
    {
      "cell_type": "code",
      "execution_count": null,
      "metadata": {
        "collapsed": false
      },
      "outputs": [],
      "source": [
        "model = PiecewiseRegressor(\n    verbose=True, binner=DecisionTreeRegressor(min_samples_leaf=300)\n)\nmodel.fit(X_train, y_train)"
      ]
    },
    {
      "cell_type": "code",
      "execution_count": null,
      "metadata": {
        "collapsed": false
      },
      "outputs": [],
      "source": [
        "pred = model.predict(X_test)\npred[:5]"
      ]
    },
    {
      "cell_type": "code",
      "execution_count": null,
      "metadata": {
        "collapsed": false
      },
      "outputs": [],
      "source": [
        "fig, ax = plt.subplots(1, 1)\nax.plot(X_test[:, 0], y_test, \".\", label=\"data\")\nax.plot(X_test[:, 0], pred, \".\", label=\"predictions\")\nax.set_title(\"Piecewise Linear Regression\\n2 buckets\")\nax.legend()"
      ]
    },
    {
      "cell_type": "markdown",
      "metadata": {},
      "source": [
        "The method *transform_bins* returns the bucket of each variables, the\nfinal leave from the tree.\n\n"
      ]
    },
    {
      "cell_type": "code",
      "execution_count": null,
      "metadata": {
        "collapsed": false
      },
      "outputs": [],
      "source": [
        "model.transform_bins(X_test)"
      ]
    },
    {
      "cell_type": "markdown",
      "metadata": {},
      "source": [
        "Let's try with more buckets.\n\n"
      ]
    },
    {
      "cell_type": "code",
      "execution_count": null,
      "metadata": {
        "collapsed": false
      },
      "outputs": [],
      "source": [
        "model = PiecewiseRegressor(\n    verbose=False, binner=DecisionTreeRegressor(min_samples_leaf=150)\n)\nmodel.fit(X_train, y_train)"
      ]
    },
    {
      "cell_type": "code",
      "execution_count": null,
      "metadata": {
        "collapsed": false
      },
      "outputs": [],
      "source": [
        "fig, ax = plt.subplots(1, 1)\nax.plot(X_test[:, 0], y_test, \".\", label=\"data\")\nax.plot(X_test[:, 0], model.predict(X_test), \".\", label=\"predictions\")\nax.set_title(\"Piecewise Linear Regression\\n4 buckets\")\nax.legend()"
      ]
    },
    {
      "cell_type": "markdown",
      "metadata": {},
      "source": [
        "## Piecewise Linear Regression with a KBinsDiscretizer\n\n"
      ]
    },
    {
      "cell_type": "code",
      "execution_count": null,
      "metadata": {
        "collapsed": false
      },
      "outputs": [],
      "source": [
        "model = PiecewiseRegressor(verbose=True, binner=KBinsDiscretizer(n_bins=2))\nmodel.fit(X_train, y_train)"
      ]
    },
    {
      "cell_type": "code",
      "execution_count": null,
      "metadata": {
        "collapsed": false
      },
      "outputs": [],
      "source": [
        "fig, ax = plt.subplots(1, 1)\nax.plot(X_test[:, 0], y_test, \".\", label=\"data\")\nax.plot(X_test[:, 0], model.predict(X_test), \".\", label=\"predictions\")\nax.set_title(\"Piecewise Linear Regression\\n2 buckets\")\nax.legend()"
      ]
    },
    {
      "cell_type": "code",
      "execution_count": null,
      "metadata": {
        "collapsed": false
      },
      "outputs": [],
      "source": [
        "model = PiecewiseRegressor(verbose=True, binner=KBinsDiscretizer(n_bins=4))\nmodel.fit(X_train, y_train)"
      ]
    },
    {
      "cell_type": "code",
      "execution_count": null,
      "metadata": {
        "collapsed": false
      },
      "outputs": [],
      "source": [
        "fig, ax = plt.subplots(1, 1)\nax.plot(X_test[:, 0], y_test, \".\", label=\"data\")\nax.plot(X_test[:, 0], model.predict(X_test), \".\", label=\"predictions\")\nax.set_title(\"Piecewise Linear Regression\\n4 buckets\")\nax.legend()"
      ]
    },
    {
      "cell_type": "markdown",
      "metadata": {},
      "source": [
        "The model does not enforce continuity despite the fast it looks like so.\nLet's compare with a constant on each bucket.\n\n"
      ]
    },
    {
      "cell_type": "code",
      "execution_count": null,
      "metadata": {
        "collapsed": false
      },
      "outputs": [],
      "source": [
        "model = PiecewiseRegressor(\n    verbose=\"tqdm\", binner=KBinsDiscretizer(n_bins=4), estimator=DummyRegressor()\n)\nmodel.fit(X_train, y_train)"
      ]
    },
    {
      "cell_type": "code",
      "execution_count": null,
      "metadata": {
        "collapsed": false
      },
      "outputs": [],
      "source": [
        "fig, ax = plt.subplots(1, 1)\nax.plot(X_test[:, 0], y_test, \".\", label=\"data\")\nax.plot(X_test[:, 0], model.predict(X_test), \".\", label=\"predictions\")\nax.set_title(\"Piecewise Constants\\n4 buckets\")\nax.legend()"
      ]
    },
    {
      "cell_type": "markdown",
      "metadata": {},
      "source": [
        "## Next\n\n"
      ]
    },
    {
      "cell_type": "code",
      "execution_count": null,
      "metadata": {
        "collapsed": false
      },
      "outputs": [],
      "source": [
        "# PR `Model trees (M5P and\n# co) <https://github.com/scikit-learn/scikit-learn/issues/13106>`_ and\n# issue `Model trees\n# (M5P) <https://github.com/scikit-learn/scikit-learn/pull/13732>`_\n# propose an implementation a piecewise regression with any kind of\n# regression model. It is based on `Building Model\n# Trees <https://github.com/ankonzoid/LearningX/tree/master/advanced_ML/model_tree%3E>`_.\n# It fits many models to find the best splits."
      ]
    }
  ],
  "metadata": {
    "kernelspec": {
      "display_name": "Python 3",
      "language": "python",
      "name": "python3"
    },
    "language_info": {
      "codemirror_mode": {
        "name": "ipython",
        "version": 3
      },
      "file_extension": ".py",
      "mimetype": "text/x-python",
      "name": "python",
      "nbconvert_exporter": "python",
      "pygments_lexer": "ipython3",
      "version": "3.12.9"
    }
  },
  "nbformat": 4,
  "nbformat_minor": 0
}