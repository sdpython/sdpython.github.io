{
  "cells": [
    {
      "cell_type": "markdown",
      "metadata": {},
      "source": [
        "\n\n# KMeans with norm L1\n\nThis demonstrates how results change when using norm L1 for a k-means\nalgorithm.\n"
      ]
    },
    {
      "cell_type": "code",
      "execution_count": null,
      "metadata": {
        "collapsed": false
      },
      "outputs": [],
      "source": [
        "import matplotlib.pyplot as plt\nimport numpy\nimport numpy.random as rnd\nfrom sklearn.cluster import KMeans\nfrom mlinsights.mlmodel import KMeansL1L2"
      ]
    },
    {
      "cell_type": "markdown",
      "metadata": {},
      "source": [
        "## Simple datasets\n\n"
      ]
    },
    {
      "cell_type": "code",
      "execution_count": null,
      "metadata": {
        "collapsed": false
      },
      "outputs": [],
      "source": [
        "N = 1000\nX = numpy.zeros((N * 2, 2), dtype=numpy.float64)\nX[:N] = rnd.rand(N, 2)\nX[N:] = rnd.rand(N, 2)\n# X[N:, 0] += 0.75\nX[N:, 1] += 1\nX[: N // 10, 0] -= 2\nX.shape"
      ]
    },
    {
      "cell_type": "code",
      "execution_count": null,
      "metadata": {
        "collapsed": false
      },
      "outputs": [],
      "source": [
        "fig, ax = plt.subplots(1, 1)\nax.plot(X[:, 0], X[:, 1], \".\")\nax.set_title(\"Two squares\")"
      ]
    },
    {
      "cell_type": "markdown",
      "metadata": {},
      "source": [
        "## Classic KMeans\n\nIt uses euclidean distance.\n\n"
      ]
    },
    {
      "cell_type": "code",
      "execution_count": null,
      "metadata": {
        "collapsed": false
      },
      "outputs": [],
      "source": [
        "km = KMeans(2)\nkm.fit(X)\n\nkm.cluster_centers_\n\n\ndef plot_clusters(km_, X, ax):\n    lab = km_.predict(X)\n    for i in range(km_.cluster_centers_.shape[0]):\n        sub = X[lab == i]\n        ax.plot(sub[:, 0], sub[:, 1], \".\", label=\"c=%d\" % i)\n    C = km_.cluster_centers_\n    ax.plot(C[:, 0], C[:, 1], \"o\", ms=15, label=\"centers\")\n    ax.legend()\n\n\nfig, ax = plt.subplots(1, 1)\nplot_clusters(km, X, ax)\nax.set_title(\"L2 KMeans\")"
      ]
    },
    {
      "cell_type": "markdown",
      "metadata": {},
      "source": [
        "## KMeans with L1 norm\n\n"
      ]
    },
    {
      "cell_type": "code",
      "execution_count": null,
      "metadata": {
        "collapsed": false
      },
      "outputs": [],
      "source": [
        "kml1 = KMeansL1L2(2, norm=\"L1\")\nkml1.fit(X)"
      ]
    },
    {
      "cell_type": "code",
      "execution_count": null,
      "metadata": {
        "collapsed": false
      },
      "outputs": [],
      "source": [
        "kml1.cluster_centers_"
      ]
    },
    {
      "cell_type": "code",
      "execution_count": null,
      "metadata": {
        "collapsed": false
      },
      "outputs": [],
      "source": [
        "fig, ax = plt.subplots(1, 1)\nplot_clusters(kml1, X, ax)\nax.set_title(\"L1 KMeans\")"
      ]
    },
    {
      "cell_type": "markdown",
      "metadata": {},
      "source": [
        "## When clusters are completely different\n\n"
      ]
    },
    {
      "cell_type": "code",
      "execution_count": null,
      "metadata": {
        "collapsed": false
      },
      "outputs": [],
      "source": [
        "N = 1000\nX = numpy.zeros((N * 2, 2), dtype=numpy.float64)\nX[:N] = rnd.rand(N, 2)\nX[N:] = rnd.rand(N, 2)\n# X[N:, 0] += 0.75\nX[N:, 1] += 1\nX[: N // 10, 0] -= 4\nX.shape"
      ]
    },
    {
      "cell_type": "code",
      "execution_count": null,
      "metadata": {
        "collapsed": false
      },
      "outputs": [],
      "source": [
        "km = KMeans(2)\nkm.fit(X)"
      ]
    },
    {
      "cell_type": "code",
      "execution_count": null,
      "metadata": {
        "collapsed": false
      },
      "outputs": [],
      "source": [
        "kml1 = KMeansL1L2(2, norm=\"L1\")\nkml1.fit(X)"
      ]
    },
    {
      "cell_type": "code",
      "execution_count": null,
      "metadata": {
        "collapsed": false
      },
      "outputs": [],
      "source": [
        "fig, ax = plt.subplots(1, 2, figsize=(10, 4))\nplot_clusters(km, X, ax[0])\nplot_clusters(kml1, X, ax[1])\nax[0].set_title(\"L2 KMeans\")\nax[1].set_title(\"L1 KMeans\")"
      ]
    }
  ],
  "metadata": {
    "kernelspec": {
      "display_name": "Python 3",
      "language": "python",
      "name": "python3"
    },
    "language_info": {
      "codemirror_mode": {
        "name": "ipython",
        "version": 3
      },
      "file_extension": ".py",
      "mimetype": "text/x-python",
      "name": "python",
      "nbconvert_exporter": "python",
      "pygments_lexer": "ipython3",
      "version": "3.10.12"
    }
  },
  "nbformat": 4,
  "nbformat_minor": 0
}