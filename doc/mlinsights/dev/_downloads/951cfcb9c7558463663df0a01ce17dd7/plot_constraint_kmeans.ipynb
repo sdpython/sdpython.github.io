{
  "cells": [
    {
      "cell_type": "markdown",
      "metadata": {},
      "source": [
        "\n# Constraint KMeans\n\nSimple example to show how to cluster keeping\napproximatively the same number of points in every\ncluster.\n\n## Data\n"
      ]
    },
    {
      "cell_type": "code",
      "execution_count": null,
      "metadata": {
        "collapsed": false
      },
      "outputs": [],
      "source": [
        "from collections import Counter\n\nimport matplotlib.pyplot as plt\nimport numpy\nfrom mlinsights.mlmodel import ConstraintKMeans\nfrom sklearn.cluster import KMeans\nfrom sklearn.datasets import make_blobs\n\nn_samples = 100\ndata = make_blobs(\n    n_samples=n_samples,\n    n_features=2,\n    centers=2,\n    cluster_std=1.0,\n    center_box=(-10.0, 0.0),\n    shuffle=True,\n    random_state=2,\n)\nX1 = data[0]\ndata = make_blobs(\n    n_samples=n_samples // 2,\n    n_features=2,\n    centers=2,\n    cluster_std=1.0,\n    center_box=(0.0, 10.0),\n    shuffle=True,\n    random_state=2,\n)\nX2 = data[0]\n\nX = numpy.vstack([X1, X2])\nX.shape"
      ]
    },
    {
      "cell_type": "markdown",
      "metadata": {},
      "source": [
        "Plots.\n\n"
      ]
    },
    {
      "cell_type": "code",
      "execution_count": null,
      "metadata": {
        "collapsed": false
      },
      "outputs": [],
      "source": [
        "fig, ax = plt.subplots(1, 1, figsize=(4, 4))\nax.plot(X[:, 0], X[:, 1], \".\")\nax.set_title(\"4 clusters\")"
      ]
    },
    {
      "cell_type": "markdown",
      "metadata": {},
      "source": [
        "## Standard KMeans\n\n"
      ]
    },
    {
      "cell_type": "code",
      "execution_count": null,
      "metadata": {
        "collapsed": false
      },
      "outputs": [],
      "source": [
        "km = KMeans(n_clusters=4)\nkm.fit(X)\ncl = km.predict(X)\nhist = Counter(cl)\n\ncolors = \"brgy\"\nfig, ax = plt.subplots(1, 1, figsize=(4, 4))\nfor i in range(0, max(cl) + 1):\n    ax.plot(X[cl == i, 0], X[cl == i, 1], colors[i] + \".\", label=\"cl%d\" % i)\n    x = [km.cluster_centers_[i, 0], km.cluster_centers_[i, 0]]\n    y = [km.cluster_centers_[i, 1], km.cluster_centers_[i, 1]]\n    ax.plot(x, y, colors[i] + \"+\")\nax.set_title(f\"KMeans 4 clusters\\n{hist!r}\")\nax.legend()"
      ]
    },
    {
      "cell_type": "markdown",
      "metadata": {},
      "source": [
        "## Constraint KMeans\n\n"
      ]
    },
    {
      "cell_type": "code",
      "execution_count": null,
      "metadata": {
        "collapsed": false
      },
      "outputs": [],
      "source": [
        "km1 = ConstraintKMeans(n_clusters=4, strategy=\"gain\", balanced_predictions=True)\nkm1.fit(X)\n\nkm2 = ConstraintKMeans(n_clusters=4, strategy=\"distance\", balanced_predictions=True)\nkm2.fit(X)"
      ]
    },
    {
      "cell_type": "markdown",
      "metadata": {},
      "source": [
        "This algorithm tries to exchange points\nbetween clusters.\n\n"
      ]
    },
    {
      "cell_type": "code",
      "execution_count": null,
      "metadata": {
        "collapsed": false
      },
      "outputs": [],
      "source": [
        "cl1 = km1.predict(X)\nhist1 = Counter(cl1)"
      ]
    },
    {
      "cell_type": "code",
      "execution_count": null,
      "metadata": {
        "collapsed": false
      },
      "outputs": [],
      "source": [
        "cl2 = km2.predict(X)\nhist2 = Counter(cl2)"
      ]
    },
    {
      "cell_type": "code",
      "execution_count": null,
      "metadata": {
        "collapsed": false
      },
      "outputs": [],
      "source": [
        "fig, ax = plt.subplots(1, 2, figsize=(10, 4))\nfor i in range(0, max(cl1) + 1):\n    ax[0].plot(X[cl1 == i, 0], X[cl1 == i, 1], colors[i] + \".\", label=\"cl%d\" % i)\n    ax[1].plot(X[cl2 == i, 0], X[cl2 == i, 1], colors[i] + \".\", label=\"cl%d\" % i)\n    x = [km1.cluster_centers_[i, 0], km1.cluster_centers_[i, 0]]\n    y = [km1.cluster_centers_[i, 1], km1.cluster_centers_[i, 1]]\n    ax[0].plot(x, y, colors[i] + \"+\")\n    x = [km2.cluster_centers_[i, 0], km2.cluster_centers_[i, 0]]\n    y = [km2.cluster_centers_[i, 1], km2.cluster_centers_[i, 1]]\n    ax[1].plot(x, y, colors[i] + \"+\")\nax[0].set_title(f\"ConstraintKMeans 4 clusters (gains)\\n{hist1!r}\")\nax[0].legend()\nax[1].set_title(f\"ConstraintKMeans 4 clusters (distances)\\n{hist2!r}\")\nax[1].legend()"
      ]
    },
    {
      "cell_type": "markdown",
      "metadata": {},
      "source": [
        "Another algorithm tries to extend the area of attraction of\neach cluster.\n\n"
      ]
    },
    {
      "cell_type": "code",
      "execution_count": null,
      "metadata": {
        "collapsed": false
      },
      "outputs": [],
      "source": [
        "km = ConstraintKMeans(n_clusters=4, strategy=\"weights\", max_iter=1000, history=True)\nkm.fit(X)\n\ncl = km.predict(X)\nhist = Counter(cl)"
      ]
    },
    {
      "cell_type": "markdown",
      "metadata": {},
      "source": [
        "Let's plot Delaunay edges as well.\n\n"
      ]
    },
    {
      "cell_type": "code",
      "execution_count": null,
      "metadata": {
        "collapsed": false
      },
      "outputs": [],
      "source": [
        "def plot_delaunay(ax, edges, points):\n    for a, b in edges:\n        ax.plot(points[[a, b], 0], points[[a, b], 1], \"--\", color=\"#555555\")\n\n\nedges = km.cluster_edges()\n\n\nfig, ax = plt.subplots(1, 2, figsize=(10, 4))\nfor i in range(0, max(cl) + 1):\n    ax[0].plot(X[cl == i, 0], X[cl == i, 1], colors[i] + \".\", label=\"cl%d\" % i)\n    x = [km.cluster_centers_[i, 0], km.cluster_centers_[i, 0]]\n    y = [km.cluster_centers_[i, 1], km.cluster_centers_[i, 1]]\n    ax[0].plot(x, y, colors[i] + \"+\")\nax[0].set_title(f\"ConstraintKMeans 4 clusters\\nstrategy='weights'\\n{hist!r}\")\nax[0].legend()\n\ncls = km.cluster_centers_iter_\nax[1].plot(X[:, 0], X[:, 1], \".\", label=\"X\", color=\"#AAAAAA\", ms=3)\nfor i in range(0, max(cl) + 1):\n    ms = numpy.arange(cls.shape[-1]).astype(numpy.float64) / cls.shape[-1] * 50 + 1\n    ax[1].scatter(cls[i, 0, :], cls[i, 1, :], color=colors[i], s=ms, label=\"cl%d\" % i)\n    plot_delaunay(ax[1], edges, km.cluster_centers_)\nax[1].set_title(\"Centers movement\")"
      ]
    }
  ],
  "metadata": {
    "kernelspec": {
      "display_name": "Python 3",
      "language": "python",
      "name": "python3"
    },
    "language_info": {
      "codemirror_mode": {
        "name": "ipython",
        "version": 3
      },
      "file_extension": ".py",
      "mimetype": "text/x-python",
      "name": "python",
      "nbconvert_exporter": "python",
      "pygments_lexer": "ipython3",
      "version": "3.10.12"
    }
  },
  "nbformat": 4,
  "nbformat_minor": 0
}