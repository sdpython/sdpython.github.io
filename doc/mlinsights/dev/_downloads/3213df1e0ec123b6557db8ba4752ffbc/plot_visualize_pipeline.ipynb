{
  "cells": [
    {
      "cell_type": "markdown",
      "metadata": {},
      "source": [
        "\n\n# Visualize a scikit-learn pipeline\n\nPipeline can be big with *scikit-learn*, let's dig into a visual way to\nlook a them.\n\n## Simple model\n\nLet's vizualize a simple pipeline, a single model not even trained.\n"
      ]
    },
    {
      "cell_type": "code",
      "execution_count": null,
      "metadata": {
        "collapsed": false
      },
      "outputs": [],
      "source": [
        "from numpy.random import randn\nimport pandas\nfrom PIL import Image\nfrom sphinx_runpython.runpython import run_cmd\nfrom sklearn import datasets\nfrom sklearn.compose import ColumnTransformer\nfrom sklearn.impute import SimpleImputer\nfrom sklearn.linear_model import LinearRegression, LogisticRegression\nfrom sklearn.pipeline import Pipeline, FeatureUnion\nfrom sklearn.preprocessing import (\n    OneHotEncoder,\n    StandardScaler,\n    MinMaxScaler,\n    PolynomialFeatures,\n)\nfrom mlinsights.helpers.pipeline import (\n    alter_pipeline_for_debugging,\n    enumerate_pipeline_models,\n)\nfrom mlinsights.plotting import pipeline2dot, pipeline2str\n\n\niris = datasets.load_iris()\nX = iris.data[:, :4]\ndf = pandas.DataFrame(X)\ndf.columns = [\"X1\", \"X2\", \"X3\", \"X4\"]\nclf = LogisticRegression()\nclf"
      ]
    },
    {
      "cell_type": "markdown",
      "metadata": {},
      "source": [
        "The trick consists in converting the pipeline in a graph through the\n[DOT](https://en.wikipedia.org/wiki/DOT_(graph_description_language))\nlanguage.\n\n"
      ]
    },
    {
      "cell_type": "code",
      "execution_count": null,
      "metadata": {
        "collapsed": false
      },
      "outputs": [],
      "source": [
        "dot = pipeline2dot(clf, df)\nprint(dot)"
      ]
    },
    {
      "cell_type": "markdown",
      "metadata": {},
      "source": [
        "It is lot better with an image.\n\n"
      ]
    },
    {
      "cell_type": "code",
      "execution_count": null,
      "metadata": {
        "collapsed": false
      },
      "outputs": [],
      "source": [
        "dot_file = \"graph.dot\"\nwith open(dot_file, \"w\", encoding=\"utf-8\") as f:\n    f.write(dot)"
      ]
    },
    {
      "cell_type": "code",
      "execution_count": null,
      "metadata": {
        "collapsed": false
      },
      "outputs": [],
      "source": [
        "cmd = \"dot -G=300 -Tpng {0} -o{0}.png\".format(dot_file)\nrun_cmd(cmd, wait=True)\n\n\nimg = Image.open(\"graph.dot.png\")\nimg"
      ]
    },
    {
      "cell_type": "markdown",
      "metadata": {},
      "source": [
        "## Complex pipeline\n\n*scikit-learn* instroduced a couple of transform to play with features\nin a single pipeline. The following example is taken from [Column\nTransformer with Mixed\nTypes](https://scikit-learn.org/stable/auto_examples/compose/plot_column_transformer_mixed_types.html#sphx-glr-auto-examples-compose-plot-column-transformer-mixed-types-py).\n\n"
      ]
    },
    {
      "cell_type": "code",
      "execution_count": null,
      "metadata": {
        "collapsed": false
      },
      "outputs": [],
      "source": [
        "columns = [\n    \"pclass\",\n    \"name\",\n    \"sex\",\n    \"age\",\n    \"sibsp\",\n    \"parch\",\n    \"ticket\",\n    \"fare\",\n    \"cabin\",\n    \"embarked\",\n    \"boat\",\n    \"body\",\n    \"home.dest\",\n]\n\nnumeric_features = [\"age\", \"fare\"]\nnumeric_transformer = Pipeline(\n    steps=[(\"imputer\", SimpleImputer(strategy=\"median\")), (\"scaler\", StandardScaler())]\n)\n\ncategorical_features = [\"embarked\", \"sex\", \"pclass\"]\ncategorical_transformer = Pipeline(\n    steps=[\n        (\"imputer\", SimpleImputer(strategy=\"constant\", fill_value=\"missing\")),\n        (\"onehot\", OneHotEncoder(handle_unknown=\"ignore\")),\n    ]\n)\n\npreprocessor = ColumnTransformer(\n    transformers=[\n        (\"num\", numeric_transformer, numeric_features),\n        (\"cat\", categorical_transformer, categorical_features),\n    ]\n)\n\nclf = Pipeline(\n    steps=[\n        (\"preprocessor\", preprocessor),\n        (\"classifier\", LogisticRegression(solver=\"lbfgs\")),\n    ]\n)\nclf"
      ]
    },
    {
      "cell_type": "markdown",
      "metadata": {},
      "source": [
        "Let's see it first as a simplified text.\n\n"
      ]
    },
    {
      "cell_type": "code",
      "execution_count": null,
      "metadata": {
        "collapsed": false
      },
      "outputs": [],
      "source": [
        "print(pipeline2str(clf))"
      ]
    },
    {
      "cell_type": "code",
      "execution_count": null,
      "metadata": {
        "collapsed": false
      },
      "outputs": [],
      "source": [
        "dot = pipeline2dot(clf, columns)\n\ndot_file = \"graph2.dot\"\nwith open(dot_file, \"w\", encoding=\"utf-8\") as f:\n    f.write(dot)\n\ncmd = \"dot -G=300 -Tpng {0} -o{0}.png\".format(dot_file)\nrun_cmd(cmd, wait=True)\n\nimg = Image.open(\"graph2.dot.png\")\nimg"
      ]
    },
    {
      "cell_type": "markdown",
      "metadata": {},
      "source": [
        "## Example with FeatureUnion\n\n"
      ]
    },
    {
      "cell_type": "code",
      "execution_count": null,
      "metadata": {
        "collapsed": false
      },
      "outputs": [],
      "source": [
        "model = Pipeline(\n    [\n        (\"poly\", PolynomialFeatures()),\n        (\n            \"union\",\n            FeatureUnion([(\"scaler2\", MinMaxScaler()), (\"scaler3\", StandardScaler())]),\n        ),\n    ]\n)\ndot = pipeline2dot(model, columns)\n\ndot_file = \"graph3.dot\"\nwith open(dot_file, \"w\", encoding=\"utf-8\") as f:\n    f.write(dot)\n\ncmd = \"dot -G=300 -Tpng {0} -o{0}.png\".format(dot_file)\nrun_cmd(cmd, wait=True)\n\nimg = Image.open(\"graph3.dot.png\")\nimg"
      ]
    },
    {
      "cell_type": "markdown",
      "metadata": {},
      "source": [
        "## Compute intermediate outputs\n\n"
      ]
    },
    {
      "cell_type": "code",
      "execution_count": null,
      "metadata": {
        "collapsed": false
      },
      "outputs": [],
      "source": [
        "# It is difficult to access intermediate outputs with *scikit-learn* but\n# it may be interesting to do so. The method\n# `alter_pipeline_for_debugging <find://alter_pipeline_for_debugging>`_\n# modifies the pipeline to intercept intermediate outputs.\n\n\nmodel = Pipeline(\n    [\n        (\"scaler1\", StandardScaler()),\n        (\n            \"union\",\n            FeatureUnion([(\"scaler2\", StandardScaler()), (\"scaler3\", MinMaxScaler())]),\n        ),\n        (\"lr\", LinearRegression()),\n    ]\n)\n\nX = randn(4, 5)\ny = randn(4)\nmodel.fit(X, y)"
      ]
    },
    {
      "cell_type": "code",
      "execution_count": null,
      "metadata": {
        "collapsed": false
      },
      "outputs": [],
      "source": [
        "print(pipeline2str(model))"
      ]
    },
    {
      "cell_type": "markdown",
      "metadata": {},
      "source": [
        "Let's now modify the pipeline to get the intermediate outputs.\n\n"
      ]
    },
    {
      "cell_type": "code",
      "execution_count": null,
      "metadata": {
        "collapsed": false
      },
      "outputs": [],
      "source": [
        "alter_pipeline_for_debugging(model)"
      ]
    },
    {
      "cell_type": "markdown",
      "metadata": {},
      "source": [
        "The function adds a member ``_debug`` which stores inputs and outputs in\nevery piece of the pipeline.\n\n"
      ]
    },
    {
      "cell_type": "code",
      "execution_count": null,
      "metadata": {
        "collapsed": false
      },
      "outputs": [],
      "source": [
        "model.steps[0][1]._debug"
      ]
    },
    {
      "cell_type": "code",
      "execution_count": null,
      "metadata": {
        "collapsed": false
      },
      "outputs": [],
      "source": [
        "model.predict(X)"
      ]
    },
    {
      "cell_type": "markdown",
      "metadata": {},
      "source": [
        "The member was populated with inputs and outputs.\n\n"
      ]
    },
    {
      "cell_type": "code",
      "execution_count": null,
      "metadata": {
        "collapsed": false
      },
      "outputs": [],
      "source": [
        "model.steps[0][1]._debug"
      ]
    },
    {
      "cell_type": "markdown",
      "metadata": {},
      "source": [
        "Every piece behaves the same way.\n\n"
      ]
    },
    {
      "cell_type": "code",
      "execution_count": null,
      "metadata": {
        "collapsed": false
      },
      "outputs": [],
      "source": [
        "for coor, model, vars in enumerate_pipeline_models(model):\n    print(coor)\n    print(model._debug)"
      ]
    }
  ],
  "metadata": {
    "kernelspec": {
      "display_name": "Python 3",
      "language": "python",
      "name": "python3"
    },
    "language_info": {
      "codemirror_mode": {
        "name": "ipython",
        "version": 3
      },
      "file_extension": ".py",
      "mimetype": "text/x-python",
      "name": "python",
      "nbconvert_exporter": "python",
      "pygments_lexer": "ipython3",
      "version": "3.10.12"
    }
  },
  "nbformat": 4,
  "nbformat_minor": 0
}