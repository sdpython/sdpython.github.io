{
  "cells": [
    {
      "cell_type": "markdown",
      "metadata": {},
      "source": [
        "\n# numpy.digitize as a tree\n\nFunction :func:`numpy.digitize` transforms a real variable\ninto a discrete one by returning the buckets the variable\nfalls into. This bucket can be efficiently retrieved by doing a\nbinary search over the bins. That's equivalent to decision tree.\nFunction :func:`digitize2tree\n<mlinsights.mltree.tree_digitize.digitize2tree>`.\n\n## Simple example\n"
      ]
    },
    {
      "cell_type": "code",
      "execution_count": null,
      "metadata": {
        "collapsed": false
      },
      "outputs": [],
      "source": [
        "import numpy\nimport matplotlib.pyplot as plt\nfrom onnxruntime import InferenceSession\nfrom pandas import DataFrame, pivot, pivot_table\nfrom skl2onnx import to_onnx\nfrom sklearn.tree import export_text\nfrom tqdm import tqdm\nfrom mlinsights.ext_test_case import measure_time\nfrom mlinsights.mltree import digitize2tree\n\nx = numpy.array([0.2, 6.4, 3.0, 1.6])\nbins = numpy.array([0.0, 1.0, 2.5, 4.0, 7.0])\nexpected = numpy.digitize(x, bins, right=True)\ntree = digitize2tree(bins, right=True)\npred = tree.predict(x.reshape((-1, 1)))\nprint(expected, pred)"
      ]
    },
    {
      "cell_type": "markdown",
      "metadata": {},
      "source": [
        "The tree looks like the following.\n\n"
      ]
    },
    {
      "cell_type": "code",
      "execution_count": null,
      "metadata": {
        "collapsed": false
      },
      "outputs": [],
      "source": [
        "print(export_text(tree, feature_names=[\"x\"]))"
      ]
    },
    {
      "cell_type": "markdown",
      "metadata": {},
      "source": [
        "## Benchmark\n\nLet's measure the processing time. *numpy* should be\nmuch faster than *scikit-learn* as it is adding many verification.\nHowever, the benchmark also includes a conversion of the tree into\nONNX and measure the processing time with :epkg:`onnxruntime`.\n\n"
      ]
    },
    {
      "cell_type": "code",
      "execution_count": null,
      "metadata": {
        "collapsed": false
      },
      "outputs": [],
      "source": [
        "obs = []\n\nfor shape in tqdm([1, 10, 100, 1000, 10000, 100000]):\n    x = numpy.random.random(shape).astype(numpy.float32)\n    if shape < 1000:\n        repeat = number = 100\n    else:\n        repeat = number = 10\n\n    for n_bins in [1, 10, 100]:\n        bins = (numpy.arange(n_bins) / n_bins).astype(numpy.float32)\n\n        ti = measure_time(\n            \"numpy.digitize(x, bins, right=True)\",\n            context={\"numpy\": numpy, \"x\": x, \"bins\": bins},\n            div_by_number=True,\n            repeat=repeat,\n            number=number,\n        )\n        ti[\"name\"] = \"numpy\"\n        ti[\"n_bins\"] = n_bins\n        ti[\"shape\"] = shape\n        obs.append(ti)\n\n        tree = digitize2tree(bins, right=True)\n\n        ti = measure_time(\n            \"tree.predict(x)\",\n            context={\"numpy\": numpy, \"x\": x.reshape((-1, 1)), \"tree\": tree},\n            div_by_number=True,\n            repeat=repeat,\n            number=number,\n        )\n        ti[\"name\"] = \"sklearn\"\n        ti[\"n_bins\"] = n_bins\n        ti[\"shape\"] = shape\n        obs.append(ti)\n\n        onx = to_onnx(tree, x.reshape((-1, 1)), target_opset=15)\n\n        sess = InferenceSession(\n            onx.SerializeToString(), providers=[\"CPUExecutionProvider\"]\n        )\n\n        ti = measure_time(\n            \"sess.run(None, {'X': x})\",\n            context={\"numpy\": numpy, \"x\": x.reshape((-1, 1)), \"sess\": sess},\n            div_by_number=True,\n            repeat=repeat,\n            number=number,\n        )\n        ti[\"name\"] = \"ort\"\n        ti[\"n_bins\"] = n_bins\n        ti[\"shape\"] = shape\n        obs.append(ti)\n\n\ndf = DataFrame(obs)\npiv = pivot_table(\n    data=df, index=\"shape\", columns=[\"n_bins\", \"name\"], values=[\"average\"]\n)\nprint(piv)"
      ]
    },
    {
      "cell_type": "markdown",
      "metadata": {},
      "source": [
        "## Plotting\n\n"
      ]
    },
    {
      "cell_type": "code",
      "execution_count": null,
      "metadata": {
        "collapsed": false
      },
      "outputs": [],
      "source": [
        "n_bins = list(sorted(set(df.n_bins)))\nfig, ax = plt.subplots(1, len(n_bins), figsize=(14, 4))\n\nfor i, nb in enumerate(n_bins):\n    piv = pivot(\n        data=df[df.n_bins == nb], index=\"shape\", columns=\"name\", values=\"average\"\n    )\n    piv.plot(\n        title=\"Benchmark digitize / onnxruntime\\nn_bins=%d\" % nb,\n        logx=True,\n        logy=True,\n        ax=ax[i],\n    )"
      ]
    }
  ],
  "metadata": {
    "kernelspec": {
      "display_name": "Python 3",
      "language": "python",
      "name": "python3"
    },
    "language_info": {
      "codemirror_mode": {
        "name": "ipython",
        "version": 3
      },
      "file_extension": ".py",
      "mimetype": "text/x-python",
      "name": "python",
      "nbconvert_exporter": "python",
      "pygments_lexer": "ipython3",
      "version": "3.10.12"
    }
  },
  "nbformat": 4,
  "nbformat_minor": 0
}