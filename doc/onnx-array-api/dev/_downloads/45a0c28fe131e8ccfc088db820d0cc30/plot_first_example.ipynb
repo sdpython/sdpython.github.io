{
  "cells": [
    {
      "cell_type": "code",
      "execution_count": null,
      "metadata": {
        "collapsed": false
      },
      "outputs": [],
      "source": [
        "%matplotlib inline"
      ]
    },
    {
      "cell_type": "markdown",
      "metadata": {},
      "source": [
        "\n\n# First examples with onnx-array-api\n\nThis demonstrates an easy case with :epkg:`onnx-array-api`.\nIt shows how a function can be easily converted into\nONNX.\n\n## A loss function from numpy to ONNX\n\nThe first example takes a loss function and converts it into ONNX.\n"
      ]
    },
    {
      "cell_type": "code",
      "execution_count": null,
      "metadata": {
        "collapsed": false
      },
      "outputs": [],
      "source": [
        "import numpy as np\n\nfrom onnx_array_api.npx import absolute, jit_onnx\nfrom onnx_array_api.plotting.text_plot import onnx_simple_text_plot"
      ]
    },
    {
      "cell_type": "markdown",
      "metadata": {},
      "source": [
        "The function looks like a numpy function.\n\n"
      ]
    },
    {
      "cell_type": "code",
      "execution_count": null,
      "metadata": {
        "collapsed": false
      },
      "outputs": [],
      "source": [
        "def l1_loss(x, y):\n    return absolute(x - y).sum()"
      ]
    },
    {
      "cell_type": "markdown",
      "metadata": {},
      "source": [
        "The function needs to be converted into ONNX with function jit_onnx.\njitted_l1_loss is a wrapper. It intercepts all calls to l1_loss.\nWhen it happens, it checks the input types and creates the\ncorresponding ONNX graph.\n\n"
      ]
    },
    {
      "cell_type": "code",
      "execution_count": null,
      "metadata": {
        "collapsed": false
      },
      "outputs": [],
      "source": [
        "jitted_l1_loss = jit_onnx(l1_loss)"
      ]
    },
    {
      "cell_type": "markdown",
      "metadata": {},
      "source": [
        "First execution and conversion to ONNX.\nThe wrapper caches the created onnx graph.\nIt reuses it if the input types and the number of dimension are the same.\nIt creates a new one otherwise and keep the old one.\n\n"
      ]
    },
    {
      "cell_type": "code",
      "execution_count": null,
      "metadata": {
        "collapsed": false
      },
      "outputs": [],
      "source": [
        "x = np.array([[0.1, 0.2], [0.3, 0.4]], dtype=np.float32)\ny = np.array([[0.11, 0.22], [0.33, 0.44]], dtype=np.float32)\n\nres = jitted_l1_loss(x, y)\nprint(res)"
      ]
    },
    {
      "cell_type": "markdown",
      "metadata": {},
      "source": [
        "The ONNX graph can be accessed the following way.\n\n"
      ]
    },
    {
      "cell_type": "code",
      "execution_count": null,
      "metadata": {
        "collapsed": false
      },
      "outputs": [],
      "source": [
        "print(onnx_simple_text_plot(jitted_l1_loss.get_onnx()))"
      ]
    },
    {
      "cell_type": "markdown",
      "metadata": {},
      "source": [
        "We can also define a more complex loss by computing L1 loss on\nthe first column and L2 loss on the seconde one.\n\n"
      ]
    },
    {
      "cell_type": "code",
      "execution_count": null,
      "metadata": {
        "collapsed": false
      },
      "outputs": [],
      "source": [
        "def l1_loss(x, y):\n    return absolute(x - y).sum()\n\n\ndef l2_loss(x, y):\n    return ((x - y) ** 2).sum()\n\n\ndef myloss(x, y):\n    return l1_loss(x[:, 0], y[:, 0]) + l2_loss(x[:, 1], y[:, 1])\n\n\njitted_myloss = jit_onnx(myloss)\n\nx = np.array([[0.1, 0.2], [0.3, 0.4]], dtype=np.float32)\ny = np.array([[0.11, 0.22], [0.33, 0.44]], dtype=np.float32)\n\nres = jitted_myloss(x, y)\nprint(res)\n\nprint(onnx_simple_text_plot(jitted_myloss.get_onnx()))"
      ]
    },
    {
      "cell_type": "markdown",
      "metadata": {},
      "source": [
        "## Eager mode\n\n"
      ]
    },
    {
      "cell_type": "code",
      "execution_count": null,
      "metadata": {
        "collapsed": false
      },
      "outputs": [],
      "source": [
        "import numpy as np\n\nfrom onnx_array_api.npx import absolute, eager_onnx\n\n\ndef l1_loss(x, y):\n    err = absolute(x - y).sum()\n    # err is a type inheriting from :class:`EagerTensor`.\n    # It needs to be converted to numpy first before any display.\n    print(f\"l1_loss={err.numpy()}\")\n    return err\n\n\ndef l2_loss(x, y):\n    err = ((x - y) ** 2).sum()\n    print(f\"l2_loss={err.numpy()}\")\n    return err\n\n\ndef myloss(x, y):\n    return l1_loss(x[:, 0], y[:, 0]) + l2_loss(x[:, 1], y[:, 1])"
      ]
    },
    {
      "cell_type": "markdown",
      "metadata": {},
      "source": [
        "Eager mode is enabled by function :func:`eager_onnx`.\nIt intercepts all calls to `my_loss`. On the first call,\nit replaces a numpy array by a tensor corresponding to the\nselected runtime, here numpy as well through :class:`EagerNumpyTensor`.\n\n"
      ]
    },
    {
      "cell_type": "code",
      "execution_count": null,
      "metadata": {
        "collapsed": false
      },
      "outputs": [],
      "source": [
        "eager_myloss = eager_onnx(myloss)\n\nx = np.array([[0.1, 0.2], [0.3, 0.4]], dtype=np.float32)\ny = np.array([[0.11, 0.22], [0.33, 0.44]], dtype=np.float32)"
      ]
    },
    {
      "cell_type": "markdown",
      "metadata": {},
      "source": [
        "First execution and conversion to ONNX.\nThe wrapper caches many Onnx graphs corresponding to\nsimple opeator, (`+`, `-`, `/`, `*`, ...), reduce functions,\nany other function from the API.\nIt reuses it if the input types and the number of dimension are the same.\nIt creates a new one otherwise and keep the old ones.\n\n"
      ]
    },
    {
      "cell_type": "code",
      "execution_count": null,
      "metadata": {
        "collapsed": false
      },
      "outputs": [],
      "source": [
        "res = eager_myloss(x, y)\nprint(res)"
      ]
    },
    {
      "cell_type": "markdown",
      "metadata": {},
      "source": [
        "There is no ONNX graph to show. Every operation\nis converted into small ONNX graphs.\n\n"
      ]
    }
  ],
  "metadata": {
    "kernelspec": {
      "display_name": "Python 3",
      "language": "python",
      "name": "python3"
    },
    "language_info": {
      "codemirror_mode": {
        "name": "ipython",
        "version": 3
      },
      "file_extension": ".py",
      "mimetype": "text/x-python",
      "name": "python",
      "nbconvert_exporter": "python",
      "pygments_lexer": "ipython3",
      "version": "3.10.6"
    }
  },
  "nbformat": 4,
  "nbformat_minor": 0
}