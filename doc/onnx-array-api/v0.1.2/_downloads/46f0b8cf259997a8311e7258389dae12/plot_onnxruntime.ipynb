{
  "cells": [
    {
      "cell_type": "markdown",
      "metadata": {},
      "source": [
        "\n# First examples with onnxruntime\n\nExample `l-onnx-array-first-api-example` defines a custom\nloss and then executes it with class\n:class:`onnx.reference.ReferenceEvaluator`.\nNext example replaces it with :epkg:`onnxruntime`.\n\n## Example\n"
      ]
    },
    {
      "cell_type": "code",
      "execution_count": null,
      "metadata": {
        "collapsed": false
      },
      "outputs": [],
      "source": [
        "import numpy as np\n\nfrom onnx_array_api.npx import absolute, jit_onnx\nfrom onnx_array_api.ort.ort_tensors import JitOrtTensor, OrtTensor\n\n\ndef l1_loss(x, y):\n    return absolute(x - y).sum()\n\n\ndef l2_loss(x, y):\n    return ((x - y) ** 2).sum()\n\n\ndef myloss(x, y):\n    l1 = l1_loss(x[:, 0], y[:, 0])\n    l2 = l2_loss(x[:, 1], y[:, 1])\n    return l1 + l2\n\n\nort_myloss = jit_onnx(myloss, JitOrtTensor, target_opsets={\"\": 17}, ir_version=8)\n\nx = np.array([[0.1, 0.2], [0.3, 0.4]], dtype=np.float32)\ny = np.array([[0.11, 0.22], [0.33, 0.44]], dtype=np.float32)\n\nxort = OrtTensor.from_array(x)\nyort = OrtTensor.from_array(y)\n\nres = ort_myloss(xort, yort)\nprint(res.numpy())"
      ]
    },
    {
      "cell_type": "markdown",
      "metadata": {},
      "source": [
        "## Profiling\n\n"
      ]
    },
    {
      "cell_type": "code",
      "execution_count": null,
      "metadata": {
        "collapsed": false
      },
      "outputs": [],
      "source": [
        "from onnx_array_api.profiling import profile, profile2graph\n\nx = np.random.randn(10000, 2).astype(np.float32)\ny = np.random.randn(10000, 2).astype(np.float32)\nxort = OrtTensor.from_array(x)\nyort = OrtTensor.from_array(y)\n\n\ndef loop_ort(n):\n    for _ in range(n):\n        ort_myloss(xort, yort)\n\n\ndef loop_numpy(n):\n    for _ in range(n):\n        myloss(x, y)\n\n\ndef loop(n=1000):\n    loop_numpy(n)\n    loop_ort(n)\n\n\nps = profile(loop)[0]\nroot, nodes = profile2graph(ps, clean_text=lambda x: x.split(\"/\")[-1])\ntext = root.to_text()\nprint(text)"
      ]
    },
    {
      "cell_type": "markdown",
      "metadata": {},
      "source": [
        "## Benchmark\n\n"
      ]
    },
    {
      "cell_type": "code",
      "execution_count": null,
      "metadata": {
        "collapsed": false
      },
      "outputs": [],
      "source": [
        "from pandas import DataFrame\nfrom tqdm import tqdm\n\nfrom onnx_array_api.ext_test_case import measure_time\n\ndata = []\nfor n in tqdm([1, 10, 100, 1000, 10000, 100000]):\n    x = np.random.randn(n, 2).astype(np.float32)\n    y = np.random.randn(n, 2).astype(np.float32)\n\n    obs = measure_time(lambda: myloss(x, y))\n    obs[\"name\"] = \"numpy\"\n    obs[\"n\"] = n\n    data.append(obs)\n\n    xort = OrtTensor.from_array(x)\n    yort = OrtTensor.from_array(y)\n    obs = measure_time(lambda: ort_myloss(xort, yort))\n    obs[\"name\"] = \"ort\"\n    obs[\"n\"] = n\n    data.append(obs)\n\ndf = DataFrame(data)\npiv = df.pivot(index=\"n\", columns=\"name\", values=\"average\")\npiv"
      ]
    },
    {
      "cell_type": "markdown",
      "metadata": {},
      "source": [
        "## Plots\n\n"
      ]
    },
    {
      "cell_type": "code",
      "execution_count": null,
      "metadata": {
        "collapsed": false
      },
      "outputs": [],
      "source": [
        "import matplotlib.pyplot as plt\n\nfig, ax = plt.subplots(1, 2, figsize=(12, 4))\npiv.plot(\n    title=\"Comparison between numpy and onnxruntime\", logx=True, logy=True, ax=ax[0]\n)\npiv[\"ort/numpy\"] = piv[\"ort\"] / piv[\"numpy\"]\npiv[\"ort/numpy\"].plot(title=\"Ratio ort/numpy\", logx=True, ax=ax[1])\nfig.savefig(\"plot_onnxruntime.png\")"
      ]
    }
  ],
  "metadata": {
    "kernelspec": {
      "display_name": "Python 3",
      "language": "python",
      "name": "python3"
    },
    "language_info": {
      "codemirror_mode": {
        "name": "ipython",
        "version": 3
      },
      "file_extension": ".py",
      "mimetype": "text/x-python",
      "name": "python",
      "nbconvert_exporter": "python",
      "pygments_lexer": "ipython3",
      "version": "3.10.6"
    }
  },
  "nbformat": 4,
  "nbformat_minor": 0
}