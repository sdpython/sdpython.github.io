{
  "cells": [
    {
      "cell_type": "markdown",
      "metadata": {},
      "source": [
        "\n\n# Compares the conversions of the same model with different options\n\nThe script compares two onnx models obtained with the same trained\nscikit-learn models but converted with different options.\n\n## A model\n"
      ]
    },
    {
      "cell_type": "code",
      "execution_count": null,
      "metadata": {
        "collapsed": false
      },
      "outputs": [],
      "source": [
        "from sklearn.mixture import GaussianMixture\nfrom sklearn.datasets import load_iris\nfrom sklearn.model_selection import train_test_split\nfrom skl2onnx import to_onnx\nfrom onnx_array_api.reference import compare_onnx_execution\nfrom onnx_array_api.plotting.text_plot import onnx_simple_text_plot\n\n\ndata = load_iris()\nX_train, X_test = train_test_split(data.data)\nmodel = GaussianMixture()\nmodel.fit(X_train)"
      ]
    },
    {
      "cell_type": "markdown",
      "metadata": {},
      "source": [
        "## Conversion to onnx\n\n"
      ]
    },
    {
      "cell_type": "code",
      "execution_count": null,
      "metadata": {
        "collapsed": false
      },
      "outputs": [],
      "source": [
        "onx = to_onnx(\n    model, X_train[:1], options={id(model): {\"score_samples\": True}}, target_opset=12\n)\n\nprint(onnx_simple_text_plot(onx))"
      ]
    },
    {
      "cell_type": "markdown",
      "metadata": {},
      "source": [
        "## Conversion to onnx without ReduceLogSumExp\n\n"
      ]
    },
    {
      "cell_type": "code",
      "execution_count": null,
      "metadata": {
        "collapsed": false
      },
      "outputs": [],
      "source": [
        "onx2 = to_onnx(\n    model,\n    X_train[:1],\n    options={id(model): {\"score_samples\": True}},\n    black_op={\"ReduceLogSumExp\"},\n    target_opset=12,\n)\n\nprint(onnx_simple_text_plot(onx2))"
      ]
    },
    {
      "cell_type": "markdown",
      "metadata": {},
      "source": [
        "## Differences\n\nFunction :func:`onnx_array_api.reference.compare_onnx_execution`\ncompares the intermediate results of two onnx models. Then it finds\nthe best alignmet between the two models using an edit distance.\n\n"
      ]
    },
    {
      "cell_type": "code",
      "execution_count": null,
      "metadata": {
        "collapsed": false
      },
      "outputs": [],
      "source": [
        "res1, res2, align, dc = compare_onnx_execution(onx, onx2, verbose=1)\nprint(\"------------\")\ntext = dc.to_str(res1, res2, align)\nprint(text)"
      ]
    },
    {
      "cell_type": "markdown",
      "metadata": {},
      "source": [
        "See `l-long-output-compare_onnx_execution` for a better view.\nThe display shows that ReduceSumSquare was replaced by Mul + ReduceSum,\nand ReduceLogSumExp by ReduceMax + Sub + Exp + Log + Add.\n\n"
      ]
    }
  ],
  "metadata": {
    "kernelspec": {
      "display_name": "Python 3",
      "language": "python",
      "name": "python3"
    },
    "language_info": {
      "codemirror_mode": {
        "name": "ipython",
        "version": 3
      },
      "file_extension": ".py",
      "mimetype": "text/x-python",
      "name": "python",
      "nbconvert_exporter": "python",
      "pygments_lexer": "ipython3",
      "version": "3.12.8"
    }
  },
  "nbformat": 4,
  "nbformat_minor": 0
}