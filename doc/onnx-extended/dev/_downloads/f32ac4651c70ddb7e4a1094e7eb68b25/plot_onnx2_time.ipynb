{
  "cells": [
    {
      "cell_type": "markdown",
      "metadata": {},
      "source": [
        "\n\n# Measures loading, saving time for an onnx model in python\n"
      ]
    },
    {
      "cell_type": "code",
      "execution_count": null,
      "metadata": {
        "collapsed": false
      },
      "outputs": [],
      "source": [
        "import os\nimport time\nimport numpy as np\nimport onnx\nimport onnx_extended.onnx2 as onnx2\n\n\nonnx_file = (\n    \"dump_test/microsoft_Phi-4-mini-reasoning-onnx-dynamo-ir/\"\n    \"microsoft_Phi-4-mini-reasoning-onnx-dynamo-ir.onnx\"\n)\nif not os.path.exists(onnx_file):\n    from onnx_diagnostic.torch_models.validate import validate_model\n\n    print(\"Creates the model...\")\n\n    validate_model(\n        \"microsoft/Phi-4-mini-reasoning\",\n        do_run=True,\n        verbose=2,\n        exporter=\"onnx-dynamo\",\n        do_same=True,\n        patch=True,\n        rewrite=True,\n        optimization=\"ir\",\n        dump_folder=\"dump_test\",\n    )\n\n    print(\"done.\")"
      ]
    },
    {
      "cell_type": "markdown",
      "metadata": {},
      "source": [
        "Let's load and save the model to get one unique file.\n\n"
      ]
    },
    {
      "cell_type": "code",
      "execution_count": null,
      "metadata": {
        "collapsed": false
      },
      "outputs": [],
      "source": [
        "full_name = \"dump_test/microsoft_Phi-4-mini-reasoning.onnx\"\nif not os.path.exists(full_name):\n    print(\"Loads the model and saves it as one unique file.\")\n    onx = onnx.load(onnx_file)\n    onnx.save(onx, full_name)"
      ]
    },
    {
      "cell_type": "markdown",
      "metadata": {},
      "source": [
        "Let's get the size.\n\n"
      ]
    },
    {
      "cell_type": "code",
      "execution_count": null,
      "metadata": {
        "collapsed": false
      },
      "outputs": [],
      "source": [
        "size = os.stat(full_name).st_size\nprint(f\"model size {size / 2**20:1.3f} Mb\")"
      ]
    },
    {
      "cell_type": "markdown",
      "metadata": {},
      "source": [
        "## Measures the loading time\n\n"
      ]
    },
    {
      "cell_type": "code",
      "execution_count": null,
      "metadata": {
        "collapsed": false
      },
      "outputs": [],
      "source": [
        "def measure(f, N=3):\n    times = []\n    for _ in range(N):\n        begin = time.perf_counter()\n        onx = f()\n        end = time.perf_counter()\n        times.append(end - begin)\n    return onx, {\"avg\": np.mean(times), \"times\": times}"
      ]
    },
    {
      "cell_type": "markdown",
      "metadata": {},
      "source": [
        "Let's do it with onnx2.\n\n"
      ]
    },
    {
      "cell_type": "code",
      "execution_count": null,
      "metadata": {
        "collapsed": false
      },
      "outputs": [],
      "source": [
        "print(\"Load time with onnx2.\")\nonx2, times = measure(lambda: onnx2.load(full_name))\nprint(times)"
      ]
    },
    {
      "cell_type": "markdown",
      "metadata": {},
      "source": [
        "Then with onnx.\n\n"
      ]
    },
    {
      "cell_type": "code",
      "execution_count": null,
      "metadata": {
        "collapsed": false
      },
      "outputs": [],
      "source": [
        "print(\"Load time with onnx.\")\nonx, times = measure(lambda: onnx.load(full_name))\nprint(times)"
      ]
    },
    {
      "cell_type": "markdown",
      "metadata": {},
      "source": [
        "## Measure the saving time\n\nLet's do it with onnx2.\n\n"
      ]
    },
    {
      "cell_type": "code",
      "execution_count": null,
      "metadata": {
        "collapsed": false
      },
      "outputs": [],
      "source": [
        "print(\"Save time with onnx2.\")\n_, times = measure(lambda: onnx2.save(onx2, full_name))\nprint(times)"
      ]
    },
    {
      "cell_type": "markdown",
      "metadata": {},
      "source": [
        "Then with onnx.\n\n"
      ]
    },
    {
      "cell_type": "code",
      "execution_count": null,
      "metadata": {
        "collapsed": false
      },
      "outputs": [],
      "source": [
        "print(\"Save time with onnx.\")\n_, times = measure(lambda: onnx.save(onx, full_name))\nprint(times)"
      ]
    }
  ],
  "metadata": {
    "kernelspec": {
      "display_name": "Python 3",
      "language": "python",
      "name": "python3"
    },
    "language_info": {
      "codemirror_mode": {
        "name": "ipython",
        "version": 3
      },
      "file_extension": ".py",
      "mimetype": "text/x-python",
      "name": "python",
      "nbconvert_exporter": "python",
      "pygments_lexer": "ipython3",
      "version": "3.12.9"
    }
  },
  "nbformat": 4,
  "nbformat_minor": 0
}