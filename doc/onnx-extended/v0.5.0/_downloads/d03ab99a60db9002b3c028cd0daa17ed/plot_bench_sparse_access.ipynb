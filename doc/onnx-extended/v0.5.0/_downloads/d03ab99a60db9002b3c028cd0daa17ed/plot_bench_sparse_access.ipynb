{
  "cells": [
    {
      "cell_type": "markdown",
      "metadata": {},
      "source": [
        "\n# Evaluating random access for sparse\n\nWhenever computing the prediction of a tree with a sparse tensor,\nis it faster to density first and then to compute the prediction or to\nkeep the tensor in its sparse representation and do look up?\nThe parameter *nrnd* can be seen as the depth of a tree.\n"
      ]
    },
    {
      "cell_type": "code",
      "execution_count": null,
      "metadata": {
        "collapsed": false
      },
      "outputs": [],
      "source": [
        "import itertools\nimport numpy as np\nfrom tqdm import tqdm\nimport matplotlib.pyplot as plt\nfrom pandas import DataFrame\nfrom onnx_extended.ext_test_case import unit_test_going\nfrom onnx_extended.args import get_parsed_args\nfrom onnx_extended.validation.cpu._validation import evaluate_sparse\n\n\nexpose = \"repeat,warmup,nrows,ncols,sparsity,nrnd,ntimes\"\nscript_args = get_parsed_args(\n    \"plot_bench_sparse_access\",\n    description=__doc__,\n    nrows=(10 if unit_test_going() else 100, \"number of rows\"),\n    ncols=(10 if unit_test_going() else 100000, \"number of columns\"),\n    ntimes=(\n        \"1\" if unit_test_going() else \"2,4,8\",\n        \"number of times to do nrnd random accesses per row\",\n    ),\n    sparsity=(\n        \"0.1,0.2\" if unit_test_going() else \"0.75,0.8,0.9,0.95,0.99,0.999,0.9999\",\n        \"sparsities to try\",\n    ),\n    repeat=2 if unit_test_going() else 5,\n    warmup=1 if unit_test_going() else 3,\n    nrnd=(10, \"number of random features to access\"),\n    expose=expose,\n)\n\nfor att in sorted(expose.split(\",\")):\n    print(f\"{att}={getattr(script_args, att)}\")"
      ]
    },
    {
      "cell_type": "markdown",
      "metadata": {},
      "source": [
        "## Sparse tensor\n\n"
      ]
    },
    {
      "cell_type": "code",
      "execution_count": null,
      "metadata": {
        "collapsed": false
      },
      "outputs": [],
      "source": [
        "def make_sparse_random_tensor(n_rows: int, n_cols: int, sparsity: float):\n    t = np.random.rand(n_rows, n_cols).astype(np.float32)\n    m = np.random.rand(n_rows, n_cols).astype(np.float32)\n    t[m <= sparsity] = 0\n    return t\n\n\nsparsity = list(map(float, script_args.sparsity.split(\",\")))\nntimes = list(map(int, script_args.ntimes.split(\",\")))\nt = make_sparse_random_tensor(script_args.nrows, script_args.ncols, sparsity[0])\nev = evaluate_sparse(t, script_args.nrnd, ntimes[0], script_args.repeat, 3)\nprint(f\"dense:  initialization:{ev[0][0]:1.3g}\")\nprint(f\"                access:{ev[0][1]:1.3g}\")\nprint(f\"sparse: initialization:{ev[1][0]:1.3g}\")\nprint(f\"                access:{ev[1][1]:1.3g}\")\nprint(f\"Ratio sparse/dense: {ev[1][1] / ev[0][1]}\")"
      ]
    },
    {
      "cell_type": "markdown",
      "metadata": {},
      "source": [
        "If > 1, sparse is slower.\n\n"
      ]
    },
    {
      "cell_type": "markdown",
      "metadata": {},
      "source": [
        "## Try sparsity\n\n\n"
      ]
    },
    {
      "cell_type": "code",
      "execution_count": null,
      "metadata": {
        "collapsed": false
      },
      "outputs": [],
      "source": [
        "tries = list(itertools.product(ntimes, sparsity))\n\ndata = []\nfor nt, sp in tqdm(tries):\n    t = make_sparse_random_tensor(script_args.nrows, script_args.ncols, sp)\n    ev = evaluate_sparse(t, script_args.nrnd, nt, script_args.repeat, 3)\n    obs = dict(\n        dense0=ev[0][0],\n        dense1=ev[0][1],\n        dense=ev[0][0] + ev[0][1],\n        sparse0=ev[1][0],\n        sparse1=ev[1][1],\n        sparse=ev[1][0] + ev[1][1],\n        sparsity=sp,\n        rows=t.shape[0],\n        cols=t.shape[1],\n        repeat=script_args.repeat,\n        random=script_args.nrnd,\n        ntimes=nt,\n    )\n    data.append(obs)\n\ndf = DataFrame(data)\nprint(df)"
      ]
    },
    {
      "cell_type": "markdown",
      "metadata": {},
      "source": [
        "Plots\n\n"
      ]
    },
    {
      "cell_type": "code",
      "execution_count": null,
      "metadata": {
        "collapsed": false
      },
      "outputs": [],
      "source": [
        "nts = list(sorted(set(df.ntimes)))\n\nfig, ax = plt.subplots(len(nts), 2, figsize=(3 * len(nts), 10))\nfor i, nt in enumerate(nts):\n    sub = df[df.ntimes == nt]\n    sub[[\"sparsity\", \"dense\", \"sparse\"]].set_index(\"sparsity\").plot(\n        title=f\"Dense vs Sparsity, ntimes={nt}\",\n        logy=True,\n        ax=ax[0] if len(ax.shape) == 1 else ax[i, 0],\n    )\n    sub[[\"sparsity\", \"dense1\", \"sparse1\"]].set_index(\"sparsity\").plot(\n        title=\"Dense vs Sparsity (access only)\",\n        logy=True,\n        ax=ax[1] if len(ax.shape) == 1 else ax[i, 0],\n    )\nfig.tight_layout()\nfig.savefig(\"plot_bench_sparse_access.png\")"
      ]
    }
  ],
  "metadata": {
    "kernelspec": {
      "display_name": "Python 3",
      "language": "python",
      "name": "python3"
    },
    "language_info": {
      "codemirror_mode": {
        "name": "ipython",
        "version": 3
      },
      "file_extension": ".py",
      "mimetype": "text/x-python",
      "name": "python",
      "nbconvert_exporter": "python",
      "pygments_lexer": "ipython3",
      "version": "3.12.8"
    }
  },
  "nbformat": 4,
  "nbformat_minor": 0
}