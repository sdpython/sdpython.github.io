{
  "cells": [
    {
      "cell_type": "markdown",
      "metadata": {},
      "source": [
        "\n\n# Measuring Gemm performance with different input and output types\n\nThis benchmark looks into various combinations allowed by functions\n:epkg:`cublasLtMatmul`.\n"
      ]
    },
    {
      "cell_type": "code",
      "execution_count": null,
      "metadata": {
        "collapsed": false
      },
      "outputs": [],
      "source": [
        "import pprint\nfrom itertools import product\nfrom tqdm import tqdm\nimport matplotlib.pyplot as plt\nfrom pandas import DataFrame\nfrom onnx_extended.ext_test_case import unit_test_going\n\ntry:\n    from onnx_extended.validation.cuda.cuda_example_py import (\n        gemm_benchmark_test,\n        get_device_prop,\n    )\n\n    has_cuda = True\nexcept ImportError:\n    # CUDA not available.\n    has_cuda = False"
      ]
    },
    {
      "cell_type": "markdown",
      "metadata": {},
      "source": [
        "## Device\n\n"
      ]
    },
    {
      "cell_type": "code",
      "execution_count": null,
      "metadata": {
        "collapsed": false
      },
      "outputs": [],
      "source": [
        "if has_cuda:\n    prop = get_device_prop()\n    pprint.pprint(prop)\nelse:\n    print(\"CUDA is not available\")\n    prop = dict(major=0)"
      ]
    },
    {
      "cell_type": "markdown",
      "metadata": {},
      "source": [
        "## Configurations\n\n"
      ]
    },
    {
      "cell_type": "code",
      "execution_count": null,
      "metadata": {
        "collapsed": false
      },
      "outputs": [],
      "source": [
        "if prop[\"major\"] <= 0:\n    # No CUDA.\n    tests = []\n    dims = []\nelif prop[\"major\"] < 7:\n    # No float 8.\n    tests = list(range(5))\n    dims = [16, 32, 64]\nelif prop[\"major\"] < 9:  # T100, A100\n    # No float 8.\n    tests = list(range(5))\n    dims = [16, 32, 64, 128, 256, 512, 1024, 2048, 4096, 8192]\nelse:\n    tests = list(range(15))  # H100\n    dims = [16, 32, 64, 128, 256, 512, 1024, 2048, 4096, 8192, 16384]"
      ]
    },
    {
      "cell_type": "markdown",
      "metadata": {},
      "source": [
        "## Benchmark\n\n"
      ]
    },
    {
      "cell_type": "code",
      "execution_count": null,
      "metadata": {
        "collapsed": false
      },
      "outputs": [],
      "source": [
        "def type2string(dt):\n    dtypes = {0: \"F32\", 2: \"F16\", 14: \"BF16\", 28: \"E4M3\", 29: \"E5M2\"}\n    return dtypes[int(dt)]\n\n\npbar = tqdm(list(product(tests, dims)))\nobs = []\nfor test, dim in pbar:\n    pbar.set_description(f\"test={test} dim={dim}\")\n    if test in {8, 9, 10, 12, 13}:\n        # not valid yet\n        continue\n    if dim < 128:\n        n, N = 20, 100\n    elif dim < 512:\n        n, N = 20, 50\n    elif dim < 8192:\n        n, N = 10, 25\n    else:\n        n, N = 3, 5\n\n    # warmup\n    gemm_benchmark_test(test, n, dim)\n\n    # benchmark\n    res = gemm_benchmark_test(test, N, dim)\n\n    # better rendering\n    res[\"test\"] = test\n    update = {}\n    for k, v in res.items():\n        if \"type_\" in k:\n            update[k] = type2string(v)\n        if k.startswith(\"t-\"):\n            update[k] = res[k] / res[\"N\"]\n    update[\"compute_type\"] = f\"C{int(res['compute_type'])}\"\n    update[\"N\"] = int(res[\"N\"])\n    update[\"dim\"] = int(res[\"dim\"])\n    update[\"name\"] = (\n        f\"{update['type_a']}x{update['type_b']}->\"\n        f\"{update['type_d']}{update['compute_type']}\"\n    )\n    res.update(update)\n    obs.append(res)\n    if unit_test_going() and len(obs) > 2:\n        break\n\ndf = DataFrame(obs)\ndf.to_csv(\"plot_bench_gemm_f8.csv\", index=False)\ndf.to_excel(\"plot_bench_gemm_f8.xlsx\", index=False)\nprint(df.head().T)\n\ndf.head().T"
      ]
    },
    {
      "cell_type": "markdown",
      "metadata": {},
      "source": [
        "## Test definition\n\n"
      ]
    },
    {
      "cell_type": "code",
      "execution_count": null,
      "metadata": {
        "collapsed": false
      },
      "outputs": [],
      "source": [
        "col_def = [\"name\", \"test\", \"type_a\", \"type_b\", \"type_d\", \"compute_type\"]\nif df.shape[0] > 0:\n    deft = df.copy()\n    gr = deft[col_def].groupby(col_def, as_index=False).count()\n    print(gr)"
      ]
    },
    {
      "cell_type": "markdown",
      "metadata": {},
      "source": [
        "## Total time and only gemm\n\n"
      ]
    },
    {
      "cell_type": "code",
      "execution_count": null,
      "metadata": {
        "collapsed": false
      },
      "outputs": [],
      "source": [
        "if df.shape[0] > 0:\n    dfi = df[col_def + [\"dim\", \"t-total\", \"t-gemm_sync\"]]\n    print(dfi)"
      ]
    },
    {
      "cell_type": "markdown",
      "metadata": {},
      "source": [
        "## Smaller sets\n\n"
      ]
    },
    {
      "cell_type": "code",
      "execution_count": null,
      "metadata": {
        "collapsed": false
      },
      "outputs": [],
      "source": [
        "if df.shape[0] > 0:\n    subset = {1, 3, 4, 5, 7}\n    dfis = dfi[dfi.test.isin(subset)]\n    print()\n    print(\"t-gemm_sync\")\n    pivi = dfis.pivot_table(index=\"dim\", columns=\"name\", values=\"t-gemm_sync\")\n    print(pivi)\n    print()\n    print(\"t-total\")\n    pivi = dfis.pivot_table(index=\"dim\", columns=\"name\", values=\"t-total\")\n    print(pivi)"
      ]
    },
    {
      "cell_type": "markdown",
      "metadata": {},
      "source": [
        "## Plots\n\n"
      ]
    },
    {
      "cell_type": "code",
      "execution_count": null,
      "metadata": {
        "collapsed": false
      },
      "outputs": [],
      "source": [
        "if df.shape[0] > 0:\n    piv = df.pivot_table(index=\"dim\", columns=\"name\", values=\"t-gemm_sync\")\n    piv.plot(title=\"MatMul performances\")\n\n    fig, ax = plt.subplots(1, 2, figsize=(12, 6))\n    piv.plot(ax=ax[0], title=\"Gemm performance\\nlower is better\", logx=True, logy=True)\n\n    piv = df[df.test.isin(subset)].pivot_table(\n        index=\"dim\", columns=\"name\", values=\"t-gemm_sync\"\n    )\n    piv.plot(ax=ax[1], title=\"Gemm performance\\nlower is better\", logx=True, logy=True)\n\n    fig.tight_layout()\n    fig.savefig(\"plot_bench_gemm_f8.png\")"
      ]
    }
  ],
  "metadata": {
    "kernelspec": {
      "display_name": "Python 3",
      "language": "python",
      "name": "python3"
    },
    "language_info": {
      "codemirror_mode": {
        "name": "ipython",
        "version": 3
      },
      "file_extension": ".py",
      "mimetype": "text/x-python",
      "name": "python",
      "nbconvert_exporter": "python",
      "pygments_lexer": "ipython3",
      "version": "3.10.6"
    }
  },
  "nbformat": 4,
  "nbformat_minor": 0
}